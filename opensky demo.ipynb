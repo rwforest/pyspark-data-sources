{
 "cells": [
  {
   "cell_type": "code",
   "execution_count": 0,
   "metadata": {
    "application/vnd.databricks.v1+cell": {
     "cellMetadata": {
      "byteLimit": 2048000,
      "rowLimit": 10000
     },
     "inputWidgets": {},
     "nuid": "6ebcd7b6-52d2-4baf-bef6-750bddf2b091",
     "showTitle": false,
     "tableResultSettingsMap": {},
     "title": ""
    }
   },
   "outputs": [
    {
     "output_type": "stream",
     "name": "stdout",
     "output_type": "stream",
     "text": [
      "Processing /Volumes/unitygo/telebricks/package/pyspark_data_sources-0.1.10-py3-none-any.whl\nCollecting mkdocstrings<0.29.0,>=0.28.0 (from mkdocstrings[python]<0.29.0,>=0.28.0->pyspark-data-sources==0.1.10)\n  Using cached mkdocstrings-0.28.3-py3-none-any.whl.metadata (8.4 kB)\nCollecting pyarrow>=11.0.0 (from pyspark-data-sources==0.1.10)\n  Using cached pyarrow-22.0.0-cp312-cp312-manylinux_2_28_x86_64.whl.metadata (3.2 kB)\nCollecting requests<3.0.0,>=2.31.0 (from pyspark-data-sources==0.1.10)\n  Using cached requests-2.32.5-py3-none-any.whl.metadata (4.9 kB)\nCollecting requests-oauthlib<2.0.0,>=1.3.1 (from pyspark-data-sources==0.1.10)\n  Using cached requests_oauthlib-1.3.1-py2.py3-none-any.whl.metadata (10 kB)\nCollecting Jinja2>=2.11.1 (from mkdocstrings<0.29.0,>=0.28.0->mkdocstrings[python]<0.29.0,>=0.28.0->pyspark-data-sources==0.1.10)\n  Using cached jinja2-3.1.6-py3-none-any.whl.metadata (2.9 kB)\nCollecting Markdown>=3.6 (from mkdocstrings<0.29.0,>=0.28.0->mkdocstrings[python]<0.29.0,>=0.28.0->pyspark-data-sources==0.1.10)\n  Using cached markdown-3.9-py3-none-any.whl.metadata (5.1 kB)\nCollecting MarkupSafe>=1.1 (from mkdocstrings<0.29.0,>=0.28.0->mkdocstrings[python]<0.29.0,>=0.28.0->pyspark-data-sources==0.1.10)\n  Using cached markupsafe-3.0.3-cp312-cp312-manylinux2014_x86_64.manylinux_2_17_x86_64.manylinux_2_28_x86_64.whl.metadata (2.7 kB)\nCollecting mkdocs>=1.4 (from mkdocstrings<0.29.0,>=0.28.0->mkdocstrings[python]<0.29.0,>=0.28.0->pyspark-data-sources==0.1.10)\n  Using cached mkdocs-1.6.1-py3-none-any.whl.metadata (6.0 kB)\nCollecting mkdocs-autorefs>=1.4 (from mkdocstrings<0.29.0,>=0.28.0->mkdocstrings[python]<0.29.0,>=0.28.0->pyspark-data-sources==0.1.10)\n  Using cached mkdocs_autorefs-1.4.3-py3-none-any.whl.metadata (13 kB)\nCollecting mkdocs-get-deps>=0.2 (from mkdocstrings<0.29.0,>=0.28.0->mkdocstrings[python]<0.29.0,>=0.28.0->pyspark-data-sources==0.1.10)\n  Using cached mkdocs_get_deps-0.2.0-py3-none-any.whl.metadata (4.0 kB)\nCollecting pymdown-extensions>=6.3 (from mkdocstrings<0.29.0,>=0.28.0->mkdocstrings[python]<0.29.0,>=0.28.0->pyspark-data-sources==0.1.10)\n  Using cached pymdown_extensions-10.16.1-py3-none-any.whl.metadata (3.1 kB)\nCollecting mkdocstrings-python>=1.16.2 (from mkdocstrings[python]<0.29.0,>=0.28.0->pyspark-data-sources==0.1.10)\n  Using cached mkdocstrings_python-1.18.2-py3-none-any.whl.metadata (5.6 kB)\nCollecting charset_normalizer<4,>=2 (from requests<3.0.0,>=2.31.0->pyspark-data-sources==0.1.10)\n  Using cached charset_normalizer-3.4.4-cp312-cp312-manylinux2014_x86_64.manylinux_2_17_x86_64.manylinux_2_28_x86_64.whl.metadata (37 kB)\nCollecting idna<4,>=2.5 (from requests<3.0.0,>=2.31.0->pyspark-data-sources==0.1.10)\n  Using cached idna-3.11-py3-none-any.whl.metadata (8.4 kB)\nCollecting urllib3<3,>=1.21.1 (from requests<3.0.0,>=2.31.0->pyspark-data-sources==0.1.10)\n  Using cached urllib3-2.5.0-py3-none-any.whl.metadata (6.5 kB)\nCollecting certifi>=2017.4.17 (from requests<3.0.0,>=2.31.0->pyspark-data-sources==0.1.10)\n  Using cached certifi-2025.10.5-py3-none-any.whl.metadata (2.5 kB)\nCollecting oauthlib>=3.0.0 (from requests-oauthlib<2.0.0,>=1.3.1->pyspark-data-sources==0.1.10)\n  Using cached oauthlib-3.3.1-py3-none-any.whl.metadata (7.9 kB)\nCollecting click>=7.0 (from mkdocs>=1.4->mkdocstrings<0.29.0,>=0.28.0->mkdocstrings[python]<0.29.0,>=0.28.0->pyspark-data-sources==0.1.10)\n  Using cached click-8.3.0-py3-none-any.whl.metadata (2.6 kB)\nCollecting ghp-import>=1.0 (from mkdocs>=1.4->mkdocstrings<0.29.0,>=0.28.0->mkdocstrings[python]<0.29.0,>=0.28.0->pyspark-data-sources==0.1.10)\n  Using cached ghp_import-2.1.0-py3-none-any.whl.metadata (7.2 kB)\nCollecting mergedeep>=1.3.4 (from mkdocs>=1.4->mkdocstrings<0.29.0,>=0.28.0->mkdocstrings[python]<0.29.0,>=0.28.0->pyspark-data-sources==0.1.10)\n  Using cached mergedeep-1.3.4-py3-none-any.whl.metadata (4.3 kB)\nCollecting packaging>=20.5 (from mkdocs>=1.4->mkdocstrings<0.29.0,>=0.28.0->mkdocstrings[python]<0.29.0,>=0.28.0->pyspark-data-sources==0.1.10)\n  Using cached packaging-25.0-py3-none-any.whl.metadata (3.3 kB)\nCollecting pathspec>=0.11.1 (from mkdocs>=1.4->mkdocstrings<0.29.0,>=0.28.0->mkdocstrings[python]<0.29.0,>=0.28.0->pyspark-data-sources==0.1.10)\n  Using cached pathspec-0.12.1-py3-none-any.whl.metadata (21 kB)\nCollecting pyyaml-env-tag>=0.1 (from mkdocs>=1.4->mkdocstrings<0.29.0,>=0.28.0->mkdocstrings[python]<0.29.0,>=0.28.0->pyspark-data-sources==0.1.10)\n  Using cached pyyaml_env_tag-1.1-py3-none-any.whl.metadata (5.5 kB)\nCollecting pyyaml>=5.1 (from mkdocs>=1.4->mkdocstrings<0.29.0,>=0.28.0->mkdocstrings[python]<0.29.0,>=0.28.0->pyspark-data-sources==0.1.10)\n  Using cached pyyaml-6.0.3-cp312-cp312-manylinux2014_x86_64.manylinux_2_17_x86_64.manylinux_2_28_x86_64.whl.metadata (2.4 kB)\nCollecting watchdog>=2.0 (from mkdocs>=1.4->mkdocstrings<0.29.0,>=0.28.0->mkdocstrings[python]<0.29.0,>=0.28.0->pyspark-data-sources==0.1.10)\n  Using cached watchdog-6.0.0-py3-none-manylinux2014_x86_64.whl.metadata (44 kB)\nCollecting platformdirs>=2.2.0 (from mkdocs-get-deps>=0.2->mkdocstrings<0.29.0,>=0.28.0->mkdocstrings[python]<0.29.0,>=0.28.0->pyspark-data-sources==0.1.10)\n  Using cached platformdirs-4.5.0-py3-none-any.whl.metadata (12 kB)\nINFO: pip is looking at multiple versions of mkdocstrings-python to determine which version is compatible with other requirements. This could take a while.\nCollecting mkdocstrings-python>=1.16.2 (from mkdocstrings[python]<0.29.0,>=0.28.0->pyspark-data-sources==0.1.10)\n  Using cached mkdocstrings_python-1.18.1-py3-none-any.whl.metadata (5.6 kB)\n  Using cached mkdocstrings_python-1.18.0-py3-none-any.whl.metadata (5.6 kB)\n  Using cached mkdocstrings_python-1.17.0-py3-none-any.whl.metadata (5.6 kB)\n  Using cached mkdocstrings_python-1.16.12-py3-none-any.whl.metadata (5.6 kB)\nCollecting griffe>=1.6.2 (from mkdocstrings-python>=1.16.2->mkdocstrings[python]<0.29.0,>=0.28.0->pyspark-data-sources==0.1.10)\n  Using cached griffe-1.14.0-py3-none-any.whl.metadata (5.1 kB)\nCollecting python-dateutil>=2.8.1 (from ghp-import>=1.0->mkdocs>=1.4->mkdocstrings<0.29.0,>=0.28.0->mkdocstrings[python]<0.29.0,>=0.28.0->pyspark-data-sources==0.1.10)\n  Using cached python_dateutil-2.9.0.post0-py2.py3-none-any.whl.metadata (8.4 kB)\nCollecting colorama>=0.4 (from griffe>=1.6.2->mkdocstrings-python>=1.16.2->mkdocstrings[python]<0.29.0,>=0.28.0->pyspark-data-sources==0.1.10)\n  Using cached colorama-0.4.6-py2.py3-none-any.whl.metadata (17 kB)\nCollecting six>=1.5 (from python-dateutil>=2.8.1->ghp-import>=1.0->mkdocs>=1.4->mkdocstrings<0.29.0,>=0.28.0->mkdocstrings[python]<0.29.0,>=0.28.0->pyspark-data-sources==0.1.10)\n  Using cached six-1.17.0-py2.py3-none-any.whl.metadata (1.7 kB)\nUsing cached mkdocstrings-0.28.3-py3-none-any.whl (35 kB)\nUsing cached pyarrow-22.0.0-cp312-cp312-manylinux_2_28_x86_64.whl (47.7 MB)\nUsing cached requests-2.32.5-py3-none-any.whl (64 kB)\nUsing cached requests_oauthlib-1.3.1-py2.py3-none-any.whl (23 kB)\nUsing cached certifi-2025.10.5-py3-none-any.whl (163 kB)\nUsing cached charset_normalizer-3.4.4-cp312-cp312-manylinux2014_x86_64.manylinux_2_17_x86_64.manylinux_2_28_x86_64.whl (153 kB)\nUsing cached idna-3.11-py3-none-any.whl (71 kB)\nUsing cached jinja2-3.1.6-py3-none-any.whl (134 kB)\nUsing cached markdown-3.9-py3-none-any.whl (107 kB)\nUsing cached markupsafe-3.0.3-cp312-cp312-manylinux2014_x86_64.manylinux_2_17_x86_64.manylinux_2_28_x86_64.whl (22 kB)\nUsing cached mkdocs-1.6.1-py3-none-any.whl (3.9 MB)\nUsing cached mkdocs_autorefs-1.4.3-py3-none-any.whl (25 kB)\nUsing cached mkdocs_get_deps-0.2.0-py3-none-any.whl (9.5 kB)\nUsing cached mkdocstrings_python-1.16.12-py3-none-any.whl (124 kB)\nUsing cached oauthlib-3.3.1-py3-none-any.whl (160 kB)\nUsing cached pymdown_extensions-10.16.1-py3-none-any.whl (266 kB)\nUsing cached urllib3-2.5.0-py3-none-any.whl (129 kB)\nUsing cached click-8.3.0-py3-none-any.whl (107 kB)\nUsing cached ghp_import-2.1.0-py3-none-any.whl (11 kB)\nUsing cached griffe-1.14.0-py3-none-any.whl (144 kB)\nUsing cached mergedeep-1.3.4-py3-none-any.whl (6.4 kB)\nUsing cached packaging-25.0-py3-none-any.whl (66 kB)\nUsing cached pathspec-0.12.1-py3-none-any.whl (31 kB)\nUsing cached platformdirs-4.5.0-py3-none-any.whl (18 kB)\nUsing cached pyyaml-6.0.3-cp312-cp312-manylinux2014_x86_64.manylinux_2_17_x86_64.manylinux_2_28_x86_64.whl (807 kB)\nUsing cached pyyaml_env_tag-1.1-py3-none-any.whl (4.7 kB)\nUsing cached watchdog-6.0.0-py3-none-manylinux2014_x86_64.whl (79 kB)\nUsing cached colorama-0.4.6-py2.py3-none-any.whl (25 kB)\nUsing cached python_dateutil-2.9.0.post0-py2.py3-none-any.whl (229 kB)\nUsing cached six-1.17.0-py2.py3-none-any.whl (11 kB)\nInstalling collected packages: watchdog, urllib3, six, pyyaml, pyarrow, platformdirs, pathspec, packaging, oauthlib, mergedeep, MarkupSafe, Markdown, idna, colorama, click, charset_normalizer, certifi, requests, pyyaml-env-tag, python-dateutil, pymdown-extensions, mkdocs-get-deps, Jinja2, griffe, requests-oauthlib, ghp-import, mkdocs, mkdocs-autorefs, mkdocstrings, mkdocstrings-python, pyspark-data-sources\n  Attempting uninstall: watchdog\n    Found existing installation: watchdog 6.0.0\n    Uninstalling watchdog-6.0.0:\n      Successfully uninstalled watchdog-6.0.0\n  Attempting uninstall: urllib3\n    Found existing installation: urllib3 2.5.0\n    Uninstalling urllib3-2.5.0:\n      Successfully uninstalled urllib3-2.5.0\n  Attempting uninstall: six\n    Found existing installation: six 1.17.0\n    Uninstalling six-1.17.0:\n      Successfully uninstalled six-1.17.0\n  Attempting uninstall: pyyaml\n    Found existing installation: PyYAML 6.0.3\n    Uninstalling PyYAML-6.0.3:\n      Successfully uninstalled PyYAML-6.0.3\n  Attempting uninstall: pyarrow\n    Found existing installation: pyarrow 22.0.0\n    Uninstalling pyarrow-22.0.0:\n      Successfully uninstalled pyarrow-22.0.0\n  Attempting uninstall: platformdirs\n    Found existing installation: platformdirs 4.5.0\n    Uninstalling platformdirs-4.5.0:\n      Successfully uninstalled platformdirs-4.5.0\n  Attempting uninstall: pathspec\n    Found existing installation: pathspec 0.12.1\n    Uninstalling pathspec-0.12.1:\n      Successfully uninstalled pathspec-0.12.1\n  Attempting uninstall: packaging\n    Found existing installation: packaging 25.0\n    Uninstalling packaging-25.0:\n      Successfully uninstalled packaging-25.0\n  Attempting uninstall: oauthlib\n    Found existing installation: oauthlib 3.3.1\n    Uninstalling oauthlib-3.3.1:\n      Successfully uninstalled oauthlib-3.3.1\n  Attempting uninstall: mergedeep\n    Found existing installation: mergedeep 1.3.4\n    Uninstalling mergedeep-1.3.4:\n      Successfully uninstalled mergedeep-1.3.4\n  Attempting uninstall: MarkupSafe\n    Found existing installation: MarkupSafe 3.0.3\n    Uninstalling MarkupSafe-3.0.3:\n      Successfully uninstalled MarkupSafe-3.0.3\n  Attempting uninstall: Markdown\n    Found existing installation: Markdown 3.9\n    Uninstalling Markdown-3.9:\n      Successfully uninstalled Markdown-3.9\n  Attempting uninstall: idna\n    Found existing installation: idna 3.11\n    Uninstalling idna-3.11:\n      Successfully uninstalled idna-3.11\n  Attempting uninstall: colorama\n    Found existing installation: colorama 0.4.6\n    Uninstalling colorama-0.4.6:\n      Successfully uninstalled colorama-0.4.6\n  Attempting uninstall: click\n    Found existing installation: click 8.3.0\n    Uninstalling click-8.3.0:\n      Successfully uninstalled click-8.3.0\n  Attempting uninstall: charset_normalizer\n    Found existing installation: charset-normalizer 3.4.4\n    Uninstalling charset-normalizer-3.4.4:\n      Successfully uninstalled charset-normalizer-3.4.4\n  Attempting uninstall: certifi\n    Found existing installation: certifi 2025.10.5\n    Uninstalling certifi-2025.10.5:\n      Successfully uninstalled certifi-2025.10.5\n  Attempting uninstall: requests\n    Found existing installation: requests 2.32.5\n    Uninstalling requests-2.32.5:\n      Successfully uninstalled requests-2.32.5\n  Attempting uninstall: pyyaml-env-tag\n    Found existing installation: pyyaml_env_tag 1.1\n    Uninstalling pyyaml_env_tag-1.1:\n      Successfully uninstalled pyyaml_env_tag-1.1\n  Attempting uninstall: python-dateutil\n    Found existing installation: python-dateutil 2.9.0.post0\n    Uninstalling python-dateutil-2.9.0.post0:\n      Successfully uninstalled python-dateutil-2.9.0.post0\n  Attempting uninstall: pymdown-extensions\n    Found existing installation: pymdown-extensions 10.16.1\n    Uninstalling pymdown-extensions-10.16.1:\n      Successfully uninstalled pymdown-extensions-10.16.1\n  Attempting uninstall: mkdocs-get-deps\n    Found existing installation: mkdocs-get-deps 0.2.0\n    Uninstalling mkdocs-get-deps-0.2.0:\n      Successfully uninstalled mkdocs-get-deps-0.2.0\n  Attempting uninstall: Jinja2\n    Found existing installation: Jinja2 3.1.6\n    Uninstalling Jinja2-3.1.6:\n      Successfully uninstalled Jinja2-3.1.6\n  Attempting uninstall: griffe\n    Found existing installation: griffe 1.14.0\n    Uninstalling griffe-1.14.0:\n      Successfully uninstalled griffe-1.14.0\n  Attempting uninstall: requests-oauthlib\n    Found existing installation: requests-oauthlib 1.3.1\n    Uninstalling requests-oauthlib-1.3.1:\n      Successfully uninstalled requests-oauthlib-1.3.1\n  Attempting uninstall: ghp-import\n    Found existing installation: ghp-import 2.1.0\n    Uninstalling ghp-import-2.1.0:\n      Successfully uninstalled ghp-import-2.1.0\n  Attempting uninstall: mkdocs\n    Found existing installation: mkdocs 1.6.1\n    Uninstalling mkdocs-1.6.1:\n      Successfully uninstalled mkdocs-1.6.1\n  Attempting uninstall: mkdocs-autorefs\n    Found existing installation: mkdocs-autorefs 1.4.3\n    Uninstalling mkdocs-autorefs-1.4.3:\n      Successfully uninstalled mkdocs-autorefs-1.4.3\n  Attempting uninstall: mkdocstrings\n    Found existing installation: mkdocstrings 0.28.3\n    Uninstalling mkdocstrings-0.28.3:\n      Successfully uninstalled mkdocstrings-0.28.3\n  Attempting uninstall: mkdocstrings-python\n    Found existing installation: mkdocstrings-python 1.16.12\n    Uninstalling mkdocstrings-python-1.16.12:\n      Successfully uninstalled mkdocstrings-python-1.16.12\n  Attempting uninstall: pyspark-data-sources\n    Found existing installation: pyspark-data-sources 0.1.10\n    Uninstalling pyspark-data-sources-0.1.10:\n      Successfully uninstalled pyspark-data-sources-0.1.10\n\u001B[31mERROR: pip's dependency resolver does not currently take into account all the packages that are installed. This behaviour is the source of the following dependency conflicts.\nmlflow-skinny 2.19.0 requires packaging<25, but you have packaging 25.0 which is incompatible.\u001B[0m\u001B[31m\n\u001B[0mSuccessfully installed Jinja2-3.1.6 Markdown-3.9 MarkupSafe-3.0.3 certifi-2025.10.5 charset_normalizer-3.4.4 click-8.3.0 colorama-0.4.6 ghp-import-2.1.0 griffe-1.14.0 idna-3.11 mergedeep-1.3.4 mkdocs-1.6.1 mkdocs-autorefs-1.4.3 mkdocs-get-deps-0.2.0 mkdocstrings-0.28.3 mkdocstrings-python-1.16.12 oauthlib-3.3.1 packaging-25.0 pathspec-0.12.1 platformdirs-4.5.0 pyarrow-22.0.0 pymdown-extensions-10.16.1 pyspark-data-sources-0.1.10 python-dateutil-2.9.0.post0 pyyaml-6.0.3 pyyaml-env-tag-1.1 requests-2.32.5 requests-oauthlib-1.3.1 six-1.17.0 urllib3-2.5.0 watchdog-6.0.0\n\u001B[43mNote: you may need to restart the kernel using %restart_python or dbutils.library.restartPython() to use updated packages.\u001B[0m\n"
     ]
    }
   ],
   "source": [
    "%pip install --force-reinstall /Volumes/unitygo/telebricks/package/pyspark_data_sources-0.1.10-py3-none-any.whl\n",
    "%restart_python"
   ]
  },
  {
   "cell_type": "markdown",
   "metadata": {
    "application/vnd.databricks.v1+cell": {
     "cellMetadata": {
      "byteLimit": 2048000,
      "rowLimit": 10000
     },
     "inputWidgets": {},
     "nuid": "2d7312af-0006-4184-bc4a-d2f04979f37a",
     "showTitle": false,
     "tableResultSettingsMap": {},
     "title": ""
    }
   },
   "source": [
    "# OpenSky Network - Flight Tracker\n",
    "\n",
    "Fetch real-time flight data using REST data source.\n",
    "\n",
    "**Available Regions:**\n",
    "- `EUROPE`, `NORTH_AMERICA`, `SOUTH_AMERICA`, `ASIA`, `AUSTRALIA`, `AFRICA`\n",
    "\n",
    "**Note:** Make sure to install the `pyspark-data-sources` package before running this notebook."
   ]
  },
  {
   "cell_type": "code",
   "execution_count": 0,
   "metadata": {
    "application/vnd.databricks.v1+cell": {
     "cellMetadata": {
      "byteLimit": 2048000,
      "rowLimit": 10000
     },
     "inputWidgets": {},
     "nuid": "abe4645c-4251-4b6f-a11d-1b9892ec33ba",
     "showTitle": false,
     "tableResultSettingsMap": {},
     "title": ""
    }
   },
   "outputs": [
    {
     "output_type": "stream",
     "name": "stdout",
     "output_type": "stream",
     "text": [
      "✓ Ready!\n"
     ]
    }
   ],
   "source": [
    "# Setup\n",
    "from pyspark.sql import SparkSession\n",
    "from pyspark_datasources import rest_api_call, rest_api_call_csv, parse_array_response, parse_array_response_streaming, RestDataSource\n",
    "import json\n",
    "\n",
    "# Use getOrCreate to work with Databricks cluster\n",
    "spark = SparkSession.builder.appName(\"OpenSky\").getOrCreate()\n",
    "\n",
    "# Define regions (from opensky.py)\n",
    "regions = {\n",
    "    \"EUROPE\": {\"lamin\": 35.0, \"lamax\": 72.0, \"lomin\": -25.0, \"lomax\": 45.0},\n",
    "    \"NORTH_AMERICA\": {\"lamin\": 7.0, \"lamax\": 72.0, \"lomin\": -168.0, \"lomax\": -60.0},\n",
    "    \"SOUTH_AMERICA\": {\"lamin\": -56.0, \"lamax\": 15.0, \"lomin\": -90.0, \"lomax\": -30.0},\n",
    "    \"ASIA\": {\"lamin\": -10.0, \"lamax\": 82.0, \"lomin\": 45.0, \"lomax\": 180.0},\n",
    "    \"AUSTRALIA\": {\"lamin\": -50.0, \"lamax\": -10.0, \"lomin\": 110.0, \"lomax\": 180.0},\n",
    "    \"AFRICA\": {\"lamin\": -35.0, \"lamax\": 37.0, \"lomin\": -20.0, \"lomax\": 52.0},\n",
    "}\n",
    "\n",
    "# Column names for OpenSky flight arrays\n",
    "column_names = [\n",
    "    \"icao24\", \"callsign\", \"origin_country\", \"time_position\", \"last_contact\",\n",
    "    \"longitude\", \"latitude\", \"geo_altitude\", \"on_ground\", \"velocity\",\n",
    "    \"true_track\", \"vertical_rate\", \"sensors\", \"baro_altitude\",\n",
    "    \"squawk\", \"spi\", \"category\"\n",
    "]\n",
    "\n",
    "print(\"✓ Ready!\")"
   ]
  },
  {
   "cell_type": "code",
   "execution_count": 0,
   "metadata": {
    "application/vnd.databricks.v1+cell": {
     "cellMetadata": {
      "byteLimit": 2048000,
      "rowLimit": 10000
     },
     "inputWidgets": {},
     "nuid": "8b7700b5-e4a5-4e59-b09c-b05ba2baa951",
     "showTitle": true,
     "tableResultSettingsMap": {},
     "title": "Streaming Example - Continuous Monitoring"
    }
   },
   "outputs": [
    {
     "output_type": "display_data",
     "data": {
      "text/html": [
       "<style scoped>\n",
       "  .table-result-container {\n",
       "    max-height: 300px;\n",
       "    overflow: auto;\n",
       "  }\n",
       "  table, th, td {\n",
       "    border: 1px solid black;\n",
       "    border-collapse: collapse;\n",
       "  }\n",
       "  th, td {\n",
       "    padding: 5px;\n",
       "  }\n",
       "  th {\n",
       "    text-align: left;\n",
       "  }\n",
       "</style><div class='table-result-container'><table class='table-result'><thead style='background-color: white'><tr><th>region</th><th>time</th><th>icao24</th><th>callsign</th><th>origin_country</th><th>longitude</th><th>latitude</th></tr></thead><tbody><tr><td>NORTH_AMERICA</td><td>1761449694</td><td>aae316</td><td>AAL1882 </td><td>United States</td><td>-77.2028</td><td>37.3656</td></tr><tr><td>NORTH_AMERICA</td><td>1761449694</td><td>acdfa3</td><td>ASA898  </td><td>United States</td><td>-125.431</td><td>44.9576</td></tr><tr><td>NORTH_AMERICA</td><td>1761449694</td><td>a0e250</td><td>AAL903  </td><td>United States</td><td>-77.0789</td><td>38.6237</td></tr><tr><td>NORTH_AMERICA</td><td>1761449694</td><td>ab0356</td><td>ASA9    </td><td>United States</td><td>-122.6014</td><td>45.5894</td></tr><tr><td>NORTH_AMERICA</td><td>1761449694</td><td>e8024d</td><td>ARE4280 </td><td>Chile</td><td>-81.7327</td><td>12.5712</td></tr><tr><td>NORTH_AMERICA</td><td>1761449694</td><td>a963f7</td><td>FFT1954 </td><td>United States</td><td>-80.7393</td><td>28.1796</td></tr><tr><td>NORTH_AMERICA</td><td>1761449694</td><td>ac3688</td><td>SWA2912 </td><td>United States</td><td>-117.1233</td><td>37.012</td></tr><tr><td>NORTH_AMERICA</td><td>1761449694</td><td>3455d5</td><td>IBE03HB </td><td>Spain</td><td>-80.3466</td><td>25.7847</td></tr><tr><td>NORTH_AMERICA</td><td>1761449694</td><td>a6f23d</td><td>DAL571  </td><td>United States</td><td>-117.1358</td><td>32.7205</td></tr><tr><td>NORTH_AMERICA</td><td>1761449694</td><td>0d11f9</td><td>VIV2022 </td><td>Mexico</td><td>-87.7787</td><td>20.8174</td></tr><tr><td>NORTH_AMERICA</td><td>1761449694</td><td>c0226c</td><td>WJA204  </td><td>Canada</td><td>-99.9063</td><td>49.9081</td></tr><tr><td>NORTH_AMERICA</td><td>1761449694</td><td>a5d28c</td><td>UAL2360 </td><td>United States</td><td>-121.284</td><td>37.59</td></tr><tr><td>NORTH_AMERICA</td><td>1761449694</td><td>c07bbe</td><td>WJA1449 </td><td>Canada</td><td>-114.9554</td><td>36.1962</td></tr><tr><td>NORTH_AMERICA</td><td>1761449694</td><td>a5958c</td><td>SWA2783 </td><td>United States</td><td>-96.861</td><td>32.8608</td></tr><tr><td>NORTH_AMERICA</td><td>1761449694</td><td>a247f0</td><td>SKW3729 </td><td>United States</td><td>-108.6814</td><td>37.0573</td></tr><tr><td>NORTH_AMERICA</td><td>1761449694</td><td>c03517</td><td>WJA2157 </td><td>Canada</td><td>-121.2419</td><td>46.6875</td></tr><tr><td>NORTH_AMERICA</td><td>1761449694</td><td>c0481b</td><td>ROU1611 </td><td>Canada</td><td>-73.6565</td><td>42.5792</td></tr><tr><td>NORTH_AMERICA</td><td>1761449694</td><td>a857ce</td><td>N637AS  </td><td>United States</td><td>-112.8727</td><td>39.0979</td></tr><tr><td>NORTH_AMERICA</td><td>1761449694</td><td>ab5d4a</td><td>AAL1607 </td><td>United States</td><td>-97.0353</td><td>32.9058</td></tr><tr><td>NORTH_AMERICA</td><td>1761449694</td><td>a63a40</td><td>N500DE  </td><td>United States</td><td>-82.3674</td><td>34.7312</td></tr><tr><td>NORTH_AMERICA</td><td>1761449694</td><td>a88d10</td><td>DAL8956 </td><td>United States</td><td>-97.2316</td><td>49.8925</td></tr><tr><td>NORTH_AMERICA</td><td>1761449694</td><td>a1ad5a</td><td>SKW5861 </td><td>United States</td><td>-104.7203</td><td>38.8052</td></tr><tr><td>NORTH_AMERICA</td><td>1761449694</td><td>a3b7cb</td><td>FFT3981 </td><td>United States</td><td>-107.0128</td><td>40.0355</td></tr><tr><td>NORTH_AMERICA</td><td>1761449694</td><td>ac21af</td><td>AAL6    </td><td>United States</td><td>-157.8805</td><td>21.2265</td></tr><tr><td>NORTH_AMERICA</td><td>1761449694</td><td>c04825</td><td>CGBII   </td><td>Canada</td><td>-75.8976</td><td>44.726</td></tr><tr><td>NORTH_AMERICA</td><td>1761449694</td><td>a5d1f7</td><td>SWA492  </td><td>United States</td><td>-122.597</td><td>39.136</td></tr><tr><td>NORTH_AMERICA</td><td>1761449694</td><td>a88d49</td><td>TCF650  </td><td>United States</td><td>-80.7377</td><td>28.1063</td></tr><tr><td>NORTH_AMERICA</td><td>1761449694</td><td>c020a9</td><td>CFMJO   </td><td>Canada</td><td>-123.6352</td><td>48.7758</td></tr><tr><td>NORTH_AMERICA</td><td>1761449694</td><td>a88d70</td><td>N650HG  </td><td>United States</td><td>-80.9688</td><td>32.3663</td></tr><tr><td>NORTH_AMERICA</td><td>1761449694</td><td>a88d55</td><td>EJM132  </td><td>United States</td><td>-76.5286</td><td>39.6155</td></tr><tr><td>NORTH_AMERICA</td><td>1761449694</td><td>c07e2c</td><td>ACA510  </td><td>Canada</td><td>-79.9016</td><td>43.4696</td></tr><tr><td>NORTH_AMERICA</td><td>1761449694</td><td>a46345</td><td>FFT1439 </td><td>United States</td><td>-112.0604</td><td>33.4409</td></tr><tr><td>NORTH_AMERICA</td><td>1761449694</td><td>ac2412</td><td>SWA746  </td><td>United States</td><td>-114.2983</td><td>38.6991</td></tr><tr><td>NORTH_AMERICA</td><td>1761449694</td><td>ad9db0</td><td>ASA1050 </td><td>United States</td><td>-122.8357</td><td>47.1881</td></tr><tr><td>NORTH_AMERICA</td><td>1761449694</td><td>a3a67b</td><td>UPS985  </td><td>United States</td><td>-122.312</td><td>47.5394</td></tr><tr><td>NORTH_AMERICA</td><td>1761449694</td><td>ac3751</td><td>SWA1947 </td><td>United States</td><td>-66.0415</td><td>18.4337</td></tr><tr><td>NORTH_AMERICA</td><td>1761449694</td><td>a40cd9</td><td>FFT2779 </td><td>United States</td><td>-87.7424</td><td>41.7897</td></tr><tr><td>NORTH_AMERICA</td><td>1761449694</td><td>a59689</td><td>N45941  </td><td>United States</td><td>-104.5815</td><td>38.9688</td></tr><tr><td>NORTH_AMERICA</td><td>1761449694</td><td>c07e59</td><td>WJA722  </td><td>Canada</td><td>-89.2202</td><td>45.6455</td></tr><tr><td>NORTH_AMERICA</td><td>1761449694</td><td>ad9dac</td><td>SJE97   </td><td>United States</td><td>-105.1329</td><td>38.8168</td></tr><tr><td>NORTH_AMERICA</td><td>1761449694</td><td>a46310</td><td>DAL453  </td><td>United States</td><td>-89.1993</td><td>37.2432</td></tr><tr><td>NORTH_AMERICA</td><td>1761449694</td><td>aae44c</td><td>N8000Y  </td><td>United States</td><td>-114.5049</td><td>36.5891</td></tr><tr><td>NORTH_AMERICA</td><td>1761449694</td><td>ac377b</td><td>SWA2446 </td><td>United States</td><td>-114.8779</td><td>36.0736</td></tr><tr><td>NORTH_AMERICA</td><td>1761449694</td><td>0d10e4</td><td>VOI3293 </td><td>Mexico</td><td>-116.4994</td><td>32.3926</td></tr><tr><td>NORTH_AMERICA</td><td>1761449694</td><td>a5f938</td><td>UAL465  </td><td>United States</td><td>-87.3129</td><td>38.6025</td></tr><tr><td>NORTH_AMERICA</td><td>1761449694</td><td>a45051</td><td>DAL614  </td><td>United States</td><td>-115.197</td><td>34.0854</td></tr><tr><td>NORTH_AMERICA</td><td>1761449694</td><td>0d10f8</td><td>VIV546  </td><td>Mexico</td><td>-100.1167</td><td>25.7807</td></tr><tr><td>NORTH_AMERICA</td><td>1761449694</td><td>a8dd7b</td><td>UAL940  </td><td>United States</td><td>-74.0749</td><td>40.8086</td></tr><tr><td>NORTH_AMERICA</td><td>1761449694</td><td>a85931</td><td>QXE2323 </td><td>United States</td><td>-122.2633</td><td>45.7209</td></tr><tr><td>NORTH_AMERICA</td><td>1761449694</td><td>c048b6</td><td>KEW504  </td><td>Canada</td><td>-96.7928</td><td>50.731</td></tr><tr><td>NORTH_AMERICA</td><td>1761449694</td><td>a3fffc</td><td>DAL2512 </td><td>United States</td><td>-116.5946</td><td>43.9468</td></tr><tr><td>NORTH_AMERICA</td><td>1761449694</td><td>c0104f</td><td>ACA50   </td><td>Canada</td><td>-73.8187</td><td>45.4165</td></tr><tr><td>NORTH_AMERICA</td><td>1761449694</td><td>a8dcee</td><td>NKS1480 </td><td>United States</td><td>-92.2892</td><td>42.6821</td></tr><tr><td>NORTH_AMERICA</td><td>1761449694</td><td>a45091</td><td>DAL1199 </td><td>United States</td><td>-84.7709</td><td>36.7565</td></tr><tr><td>NORTH_AMERICA</td><td>1761449694</td><td>c01040</td><td>ACA810  </td><td>Canada</td><td>-74.3941</td><td>45.1237</td></tr><tr><td>NORTH_AMERICA</td><td>1761449694</td><td>a2ce05</td><td>ASA1455 </td><td>United States</td><td>-143.0163</td><td>59.5071</td></tr><tr><td>NORTH_AMERICA</td><td>1761449694</td><td>c0103a</td><td>ACA842  </td><td>Canada</td><td>-73.5417</td><td>46.3194</td></tr><tr><td>NORTH_AMERICA</td><td>1761449694</td><td>0d10ac</td><td>VIV001  </td><td>Mexico</td><td>-100.1187</td><td>25.7817</td></tr><tr><td>NORTH_AMERICA</td><td>1761449694</td><td>a235b7</td><td>SWA1644 </td><td>United States</td><td>-116.3868</td><td>33.8625</td></tr><tr><td>NORTH_AMERICA</td><td>1761449694</td><td>0d10bd</td><td>VOI5575 </td><td>Mexico</td><td>-105.9015</td><td>28.6953</td></tr><tr><td>NORTH_AMERICA</td><td>1761449694</td><td>a3b8e1</td><td>AAL2426 </td><td>United States</td><td>-105.0857</td><td>37.6652</td></tr><tr><td>NORTH_AMERICA</td><td>1761449694</td><td>0d10e0</td><td>XBDSC   </td><td>Mexico</td><td>-98.3371</td><td>25.6805</td></tr><tr><td>NORTH_AMERICA</td><td>1761449694</td><td>4aca64</td><td>SAS6926 </td><td>Sweden</td><td>-68.6108</td><td>44.0294</td></tr><tr><td>NORTH_AMERICA</td><td>1761449694</td><td>a15e7d</td><td>ECJ88   </td><td>United States</td><td>-74.0475</td><td>40.9125</td></tr><tr><td>NORTH_AMERICA</td><td>1761449694</td><td>a6f326</td><td>JIA5309 </td><td>United States</td><td>-95.242</td><td>33.247</td></tr><tr><td>NORTH_AMERICA</td><td>1761449694</td><td>a9b62a</td><td>ASA19   </td><td>United States</td><td>-122.3417</td><td>45.4892</td></tr><tr><td>NORTH_AMERICA</td><td>1761449694</td><td>a7cfe3</td><td>NKS1359 </td><td>United States</td><td>-86.8928</td><td>28.8678</td></tr><tr><td>NORTH_AMERICA</td><td>1761449694</td><td>ab5db8</td><td>SCX8657 </td><td>United States</td><td>-92.9192</td><td>43.4445</td></tr><tr><td>NORTH_AMERICA</td><td>1761449694</td><td>a355b1</td><td>ENY3503 </td><td>United States</td><td>-98.37</td><td>30.7325</td></tr><tr><td>NORTH_AMERICA</td><td>1761449694</td><td>a368d3</td><td>LXJ319  </td><td>United States</td><td>-96.0196</td><td>33.3748</td></tr><tr><td>NORTH_AMERICA</td><td>1761449694</td><td>a02b77</td><td>N11SN   </td><td>United States</td><td>-119.5802</td><td>36.0367</td></tr><tr><td>NORTH_AMERICA</td><td>1761449694</td><td>ac7e1c</td><td>TAI590  </td><td>United States</td><td>-86.8656</td><td>21.3197</td></tr><tr><td>NORTH_AMERICA</td><td>1761449694</td><td>a8de10</td><td>DAL1162 </td><td>United States</td><td>-81.4237</td><td>28.5399</td></tr><tr><td>NORTH_AMERICA</td><td>1761449694</td><td>c0360e</td><td>WJA124  </td><td>Canada</td><td>-113.9931</td><td>51.1216</td></tr><tr><td>NORTH_AMERICA</td><td>1761449694</td><td>ab4b34</td><td>DAL2854 </td><td>United States</td><td>-120.9507</td><td>41.1868</td></tr><tr><td>NORTH_AMERICA</td><td>1761449694</td><td>8015a5</td><td>AIC179  </td><td>India</td><td>-122.3833</td><td>37.6098</td></tr><tr><td>NORTH_AMERICA</td><td>1761449694</td><td>a88e2e</td><td>QXE2116 </td><td>United States</td><td>-118.5482</td><td>34.2886</td></tr><tr><td>NORTH_AMERICA</td><td>1761449694</td><td>ac22c5</td><td>AAL3188 </td><td>United States</td><td>-84.0663</td><td>38.3102</td></tr><tr><td>NORTH_AMERICA</td><td>1761449694</td><td>ad8b20</td><td>AAL983  </td><td>United States</td><td>-77.2762</td><td>37.4575</td></tr><tr><td>NORTH_AMERICA</td><td>1761449694</td><td>a2bb89</td><td>UAL1032 </td><td>United States</td><td>-93.7328</td><td>35.9151</td></tr><tr><td>NORTH_AMERICA</td><td>1761449694</td><td>a52e54</td><td>ASA326  </td><td>United States</td><td>-114.6251</td><td>44.7231</td></tr><tr><td>NORTH_AMERICA</td><td>1761449694</td><td>a63b0a</td><td>N500MG  </td><td>United States</td><td>-117.5947</td><td>33.3924</td></tr><tr><td>NORTH_AMERICA</td><td>1761449694</td><td>a4c5d8</td><td>JBU7    </td><td>United States</td><td>-64.3851</td><td>46.9789</td></tr><tr><td>NORTH_AMERICA</td><td>1761449694</td><td>0d118c</td><td>VIV1188 </td><td>Mexico</td><td>-98.4157</td><td>17.8106</td></tr><tr><td>NORTH_AMERICA</td><td>1761449694</td><td>a99b5f</td><td>SKW5010 </td><td>United States</td><td>-93.928</td><td>40.1514</td></tr><tr><td>NORTH_AMERICA</td><td>1761449694</td><td>c021f6</td><td>WJA154  </td><td>Canada</td><td>-120.2994</td><td>49.3051</td></tr><tr><td>NORTH_AMERICA</td><td>1761449694</td><td>a0e431</td><td>AAL1207 </td><td>United States</td><td>-106.8779</td><td>32.1678</td></tr><tr><td>NORTH_AMERICA</td><td>1761449694</td><td>0d111b</td><td>VOI1814 </td><td>Mexico</td><td>-115.2809</td><td>32.3611</td></tr><tr><td>NORTH_AMERICA</td><td>1761449694</td><td>0d1138</td><td>VIV632  </td><td>Mexico</td><td>-91.0413</td><td>38.4737</td></tr><tr><td>NORTH_AMERICA</td><td>1761449694</td><td>ada64d</td><td>AAL3037 </td><td>United States</td><td>-88.4571</td><td>35.0907</td></tr><tr><td>NORTH_AMERICA</td><td>1761449694</td><td>aa92fb</td><td>UAL927  </td><td>United States</td><td>-122.3917</td><td>37.6175</td></tr><tr><td>NORTH_AMERICA</td><td>1761449694</td><td>a0f71a</td><td>N161TM  </td><td>United States</td><td>-80.7053</td><td>37.8024</td></tr><tr><td>NORTH_AMERICA</td><td>1761449694</td><td>0d1140</td><td>VOI3085 </td><td>Mexico</td><td>-98.3967</td><td>24.9955</td></tr><tr><td>NORTH_AMERICA</td><td>1761449694</td><td>ad4390</td><td>AAL1049 </td><td>United States</td><td>-80.2242</td><td>36.9098</td></tr><tr><td>NORTH_AMERICA</td><td>1761449694</td><td>0d1151</td><td>VOI1870 </td><td>Mexico</td><td>-118.8721</td><td>44.249</td></tr><tr><td>NORTH_AMERICA</td><td>1761449694</td><td>aa92f8</td><td>UAL932  </td><td>United States</td><td>-75.2968</td><td>39.8675</td></tr><tr><td>NORTH_AMERICA</td><td>1761449694</td><td>a8de56</td><td>DAL1234 </td><td>United States</td><td>-82.9872</td><td>28.5038</td></tr><tr><td>NORTH_AMERICA</td><td>1761449694</td><td>a832b6</td><td>N62707  </td><td>United States</td><td>-80.4787</td><td>37.1209</td></tr><tr><td>NORTH_AMERICA</td><td>1761449694</td><td>ac7e09</td><td>AAL3063 </td><td>United States</td><td>-108.1052</td><td>36.7492</td></tr><tr><td>NORTH_AMERICA</td><td>1761449694</td><td>a39dca</td><td>FFT1832 </td><td>United States</td><td>-82.5513</td><td>31.3552</td></tr><tr><td>NORTH_AMERICA</td><td>1761449694</td><td>ac48d3</td><td>SWA657  </td><td>United States</td><td>-91.3037</td><td>42.6668</td></tr><tr><td>NORTH_AMERICA</td><td>1761449694</td><td>aaf5a9</td><td>AAL1818 </td><td>United States</td><td>-87.9013</td><td>41.9714</td></tr><tr><td>NORTH_AMERICA</td><td>1761449694</td><td>a14ad1</td><td>UAL781  </td><td>United States</td><td>-112.4688</td><td>33.2018</td></tr><tr><td>NORTH_AMERICA</td><td>1761449694</td><td>a6bfa6</td><td>DAL9964 </td><td>United States</td><td>-86.0012</td><td>35.1571</td></tr><tr><td>NORTH_AMERICA</td><td>1761449694</td><td>c058b4</td><td>ROU1813 </td><td>Canada</td><td>-82.2332</td><td>33.2693</td></tr><tr><td>NORTH_AMERICA</td><td>1761449694</td><td>c058c0</td><td>ACA187  </td><td>Canada</td><td>-93.9067</td><td>47.1374</td></tr><tr><td>NORTH_AMERICA</td><td>1761449694</td><td>a8690a</td><td>ATN3366 </td><td>United States</td><td>-104.7596</td><td>38.3922</td></tr><tr><td>NORTH_AMERICA</td><td>1761449694</td><td>a66fbc</td><td>N51358  </td><td>United States</td><td>-78.8856</td><td>35.0431</td></tr><tr><td>NORTH_AMERICA</td><td>1761449694</td><td>a16ce9</td><td>N191LN  </td><td>United States</td><td>-84.7635</td><td>43.5224</td></tr><tr><td>NORTH_AMERICA</td><td>1761449694</td><td>c058cd</td><td>ROU1820 </td><td>Canada</td><td>-85.6061</td><td>23.6724</td></tr><tr><td>NORTH_AMERICA</td><td>1761449694</td><td>ac340a</td><td>SWA2472 </td><td>United States</td><td>-114.8225</td><td>40.8226</td></tr><tr><td>NORTH_AMERICA</td><td>1761449694</td><td>a22003</td><td>ENY3611 </td><td>United States</td><td>-98.1514</td><td>32.707</td></tr><tr><td>NORTH_AMERICA</td><td>1761449694</td><td>a4c327</td><td>KII406  </td><td>United States</td><td>-83.5367</td><td>42.2506</td></tr><tr><td>NORTH_AMERICA</td><td>1761449694</td><td>a4992f</td><td>N396BC  </td><td>United States</td><td>-95.351</td><td>36.1945</td></tr><tr><td>NORTH_AMERICA</td><td>1761449694</td><td>4bb46f</td><td>MNB1547 </td><td>Turkey</td><td>-64.1575</td><td>44.0184</td></tr><tr><td>NORTH_AMERICA</td><td>1761449694</td><td>ad5416</td><td>N958TP  </td><td>United States</td><td>-98.4081</td><td>29.5804</td></tr><tr><td>NORTH_AMERICA</td><td>1761449694</td><td>adb723</td><td>JBU923  </td><td>United States</td><td>-77.4614</td><td>40.1132</td></tr><tr><td>NORTH_AMERICA</td><td>1761449694</td><td>c0205c</td><td>SPR755  </td><td>Canada</td><td>-69.3003</td><td>46.0429</td></tr><tr><td>NORTH_AMERICA</td><td>1761449694</td><td>a04e00</td><td>DAL1304 </td><td>United States</td><td>-111.9542</td><td>40.1691</td></tr><tr><td>NORTH_AMERICA</td><td>1761449694</td><td>ac7aa9</td><td>DAL2281 </td><td>United States</td><td>-82.2539</td><td>34.8499</td></tr><tr><td>NORTH_AMERICA</td><td>1761449694</td><td>a86904</td><td>N641AT  </td><td>United States</td><td>-150.3583</td><td>61.4852</td></tr><tr><td>NORTH_AMERICA</td><td>1761449694</td><td>ac3448</td><td>AAL722  </td><td>United States</td><td>-64.0655</td><td>47.1246</td></tr><tr><td>NORTH_AMERICA</td><td>1761449694</td><td>ad6755</td><td>ASA1163 </td><td>United States</td><td>-104.6853</td><td>40.1501</td></tr><tr><td>NORTH_AMERICA</td><td>1761449694</td><td>a2dce1</td><td>ASA134  </td><td>United States</td><td>-122.8605</td><td>48.0632</td></tr><tr><td>NORTH_AMERICA</td><td>1761449694</td><td>a841f5</td><td>FDX3954 </td><td>United States</td><td>-120.7684</td><td>39.0815</td></tr><tr><td>NORTH_AMERICA</td><td>1761449694</td><td>a9fa0c</td><td>TAI570  </td><td>United States</td><td>-83.5907</td><td>28.9725</td></tr><tr><td>NORTH_AMERICA</td><td>1761449694</td><td>a84343</td><td>UPS61   </td><td>United States</td><td>-149.9826</td><td>61.1685</td></tr><tr><td>NORTH_AMERICA</td><td>1761449694</td><td>c0466c</td><td>ROU1937 </td><td>Canada</td><td>-88.3357</td><td>47.8878</td></tr><tr><td>NORTH_AMERICA</td><td>1761449694</td><td>a3539d</td><td>SKW3617 </td><td>United States</td><td>-104.6493</td><td>38.7081</td></tr><tr><td>NORTH_AMERICA</td><td>1761449694</td><td>a8697f</td><td>FFT1595 </td><td>United States</td><td>-87.3573</td><td>41.502</td></tr><tr><td>NORTH_AMERICA</td><td>1761449694</td><td>a0e086</td><td>AAL3005 </td><td>United States</td><td>-105.9974</td><td>39.5438</td></tr><tr><td>NORTH_AMERICA</td><td>1761449694</td><td>a5939c</td><td>ASA372  </td><td>United States</td><td>-107.6451</td><td>37.646</td></tr><tr><td>NORTH_AMERICA</td><td>1761449694</td><td>aa9136</td><td>HAL22   </td><td>United States</td><td>-128.8331</td><td>44.579</td></tr><tr><td>NORTH_AMERICA</td><td>1761449694</td><td>a03b67</td><td>DAL2309 </td><td>United States</td><td>-88.1936</td><td>38.8441</td></tr><tr><td>NORTH_AMERICA</td><td>1761449694</td><td>a4c34c</td><td>DAL227  </td><td>United States</td><td>-73.5698</td><td>40.1142</td></tr><tr><td>NORTH_AMERICA</td><td>1761449694</td><td>a8b920</td><td>NDU661  </td><td>United States</td><td>-111.6042</td><td>32.7184</td></tr><tr><td>NORTH_AMERICA</td><td>1761449694</td><td>a15b05</td><td>DAL991  </td><td>United States</td><td>-73.631</td><td>40.5854</td></tr><tr><td>NORTH_AMERICA</td><td>1761449694</td><td>ad9b94</td><td>SKW5454 </td><td>United States</td><td>-93.226</td><td>38.0471</td></tr><tr><td>NORTH_AMERICA</td><td>1761449694</td><td>a1be79</td><td>AAY734  </td><td>United States</td><td>-96.1239</td><td>39.5117</td></tr><tr><td>NORTH_AMERICA</td><td>1761449694</td><td>a2cb12</td><td>UAL358  </td><td>United States</td><td>-115.0475</td><td>34.9738</td></tr><tr><td>NORTH_AMERICA</td><td>1761449694</td><td>a39b19</td><td>ENY3427 </td><td>United States</td><td>-83.2601</td><td>29.5041</td></tr><tr><td>NORTH_AMERICA</td><td>1761449694</td><td>a125f9</td><td>SKW3495 </td><td>United States</td><td>-121.3133</td><td>43.6985</td></tr><tr><td>NORTH_AMERICA</td><td>1761449694</td><td>a7ce03</td><td>N6015F  </td><td>United States</td><td>-96.0648</td><td>33.1122</td></tr><tr><td>NORTH_AMERICA</td><td>1761449694</td><td>a1be3a</td><td>N211LG  </td><td>United States</td><td>-104.7197</td><td>38.8086</td></tr><tr><td>NORTH_AMERICA</td><td>1761449694</td><td>a41e29</td><td>UAL1995 </td><td>United States</td><td>-116.5308</td><td>36.698</td></tr><tr><td>NORTH_AMERICA</td><td>1761449694</td><td>89610f</td><td>UAE220  </td><td>United Arab Emirates</td><td>-71.7527</td><td>43.1796</td></tr><tr><td>NORTH_AMERICA</td><td>1761449694</td><td>abbe23</td><td>FDX9084 </td><td>United States</td><td>-101.5292</td><td>38.1484</td></tr><tr><td>NORTH_AMERICA</td><td>1761449694</td><td>a16e7d</td><td>UAL228  </td><td>United States</td><td>-77.4584</td><td>38.9344</td></tr><tr><td>NORTH_AMERICA</td><td>1761449694</td><td>ac45ac</td><td>DAL2488 </td><td>United States</td><td>-97.8832</td><td>43.6235</td></tr><tr><td>NORTH_AMERICA</td><td>1761449694</td><td>ac45d5</td><td>FDX90   </td><td>United States</td><td>-120.0684</td><td>54.4294</td></tr><tr><td>NORTH_AMERICA</td><td>1761449694</td><td>a2de7e</td><td>SKW4027 </td><td>United States</td><td>-121.5926</td><td>45.3808</td></tr><tr><td>NORTH_AMERICA</td><td>1761449694</td><td>c07a7c</td><td>JZA7958 </td><td>Canada</td><td>-73.7175</td><td>45.4778</td></tr><tr><td>NORTH_AMERICA</td><td>1761449694</td><td>a77e97</td><td>DAL763  </td><td>United States</td><td>-108.6485</td><td>35.507</td></tr><tr><td>NORTH_AMERICA</td><td>1761449694</td><td>a12735</td><td>UAL2008 </td><td>United States</td><td>-119.7376</td><td>37.7819</td></tr><tr><td>NORTH_AMERICA</td><td>1761449694</td><td>ac8cf1</td><td>AAL2176 </td><td>United States</td><td>-85.8706</td><td>39.8555</td></tr><tr><td>NORTH_AMERICA</td><td>1761449694</td><td>aa3b84</td><td>AMX664  </td><td>United States</td><td>-121.6881</td><td>36.4335</td></tr><tr><td>NORTH_AMERICA</td><td>1761449694</td><td>aca99c</td><td>DAL2839 </td><td>United States</td><td>-80.8898</td><td>40.1939</td></tr><tr><td>NORTH_AMERICA</td><td>1761449694</td><td>a12712</td><td>UAL2211 </td><td>United States</td><td>-108.8893</td><td>45.7649</td></tr><tr><td>NORTH_AMERICA</td><td>1761449694</td><td>ada336</td><td>AAL1771 </td><td>United States</td><td>-111.4688</td><td>35.4317</td></tr><tr><td>NORTH_AMERICA</td><td>1761449694</td><td>738100</td><td>ELY022  </td><td>Israel</td><td>-79.1029</td><td>26.98</td></tr><tr><td>NORTH_AMERICA</td><td>1761449694</td><td>ac335b</td><td>SWA4706 </td><td>United States</td><td>-88.3678</td><td>41.8557</td></tr><tr><td>NORTH_AMERICA</td><td>1761449694</td><td>adb656</td><td>AAL961  </td><td>United States</td><td>-80.9341</td><td>35.25</td></tr><tr><td>NORTH_AMERICA</td><td>1761449694</td><td>c031c9</td><td>WEN3264 </td><td>Canada</td><td>-105.1384</td><td>50.4061</td></tr><tr><td>NORTH_AMERICA</td><td>1761449694</td><td>a1270a</td><td>UAL498  </td><td>United States</td><td>-118.4202</td><td>45.0967</td></tr><tr><td>NORTH_AMERICA</td><td>1761449694</td><td>a89e2f</td><td>N65415  </td><td>United States</td><td>-121.1467</td><td>37.9062</td></tr><tr><td>NORTH_AMERICA</td><td>1761449694</td><td>896175</td><td>UAE256  </td><td>United Arab Emirates</td><td>-79.502</td><td>30.1461</td></tr><tr><td>NORTH_AMERICA</td><td>1761449694</td><td>a988cc</td><td>SKW6191 </td><td>United States</td><td>-94.4532</td><td>33.6686</td></tr><tr><td>NORTH_AMERICA</td><td>1761449694</td><td>a4870d</td><td>FFT1810 </td><td>United States</td><td>-77.6764</td><td>32.5822</td></tr><tr><td>NORTH_AMERICA</td><td>1761449694</td><td>a04dff</td><td>N119DT  </td><td>United States</td><td>-88.3135</td><td>35.015</td></tr><tr><td>NORTH_AMERICA</td><td>1761449694</td><td>896187</td><td>UAE8UW  </td><td>United Arab Emirates</td><td>-73.8734</td><td>40.5675</td></tr><tr><td>NORTH_AMERICA</td><td>1761449694</td><td>a9b39e</td><td>NKS2535 </td><td>United States</td><td>-85.7211</td><td>35.4058</td></tr><tr><td>NORTH_AMERICA</td><td>1761449694</td><td>a12755</td><td>UAL1104 </td><td>United States</td><td>-115.3122</td><td>32.4708</td></tr><tr><td>NORTH_AMERICA</td><td>1761449694</td><td>a12756</td><td>UAL1425 </td><td>United States</td><td>-87.5332</td><td>17.5989</td></tr><tr><td>NORTH_AMERICA</td><td>1761449694</td><td>a12758</td><td>UAL2656 </td><td>United States</td><td>-104.6943</td><td>39.8695</td></tr><tr><td>NORTH_AMERICA</td><td>1761449694</td><td>abbeb6</td><td>N856MA  </td><td>United States</td><td>-157.814</td><td>21.2556</td></tr><tr><td>NORTH_AMERICA</td><td>1761449694</td><td>a12798</td><td>UAL2633 </td><td>United States</td><td>-117.0737</td><td>32.781</td></tr><tr><td>NORTH_AMERICA</td><td>1761449694</td><td>a1277b</td><td>UAL2059 </td><td>United States</td><td>-107.7247</td><td>45.1902</td></tr><tr><td>NORTH_AMERICA</td><td>1761449694</td><td>a3b796</td><td>DAL2123 </td><td>United States</td><td>-77.5601</td><td>42.053</td></tr><tr><td>NORTH_AMERICA</td><td>1761449694</td><td>a1bdcc</td><td>N211FX  </td><td>United States</td><td>-77.3994</td><td>38.9336</td></tr><tr><td>NORTH_AMERICA</td><td>1761449694</td><td>ab6efc</td><td>DAL2132 </td><td>United States</td><td>-99.4259</td><td>29.9396</td></tr><tr><td>NORTH_AMERICA</td><td>1761449694</td><td>acded6</td><td>N9284R  </td><td>United States</td><td>-87.9134</td><td>42.9241</td></tr><tr><td>NORTH_AMERICA</td><td>1761449694</td><td>a9b2e0</td><td>SKW4234 </td><td>United States</td><td>-111.979</td><td>40.8048</td></tr><tr><td>NORTH_AMERICA</td><td>1761449694</td><td>abbedb</td><td>AAL1563 </td><td>United States</td><td>-87.965</td><td>42.9275</td></tr><tr><td>NORTH_AMERICA</td><td>1761449694</td><td>ad6884</td><td>AAL2772 </td><td>United States</td><td>-73.7739</td><td>40.6327</td></tr><tr><td>NORTH_AMERICA</td><td>1761449694</td><td>a2ddef</td><td>N284ME  </td><td>United States</td><td>-86.2198</td><td>36.0135</td></tr><tr><td>NORTH_AMERICA</td><td>1761449694</td><td>a7bb93</td><td>ERU98   </td><td>United States</td><td>-112.1463</td><td>34.7446</td></tr><tr><td>NORTH_AMERICA</td><td>1761449694</td><td>a97797</td><td>SKW6241 </td><td>United States</td><td>-95.7875</td><td>29.2696</td></tr><tr><td>NORTH_AMERICA</td><td>1761449694</td><td>a126c5</td><td>UAL1976 </td><td>United States</td><td>-87.8734</td><td>30.7572</td></tr><tr><td>NORTH_AMERICA</td><td>1761449694</td><td>ad40c7</td><td>N953LA  </td><td>United States</td><td>-118.1539</td><td>33.9005</td></tr><tr><td>NORTH_AMERICA</td><td>1761449694</td><td>a04f40</td><td>N119SP  </td><td>United States</td><td>-93.1181</td><td>44.9888</td></tr><tr><td>NORTH_AMERICA</td><td>1761449694</td><td>a126eb</td><td>UAL1112 </td><td>United States</td><td>-122.6608</td><td>37.3049</td></tr><tr><td>NORTH_AMERICA</td><td>1761449694</td><td>a126ed</td><td>UAL1534 </td><td>United States</td><td>-77.2846</td><td>37.4678</td></tr><tr><td>NORTH_AMERICA</td><td>1761449694</td><td>a61797</td><td>ASA478  </td><td>United States</td><td>-118.8395</td><td>38.881</td></tr><tr><td>NORTH_AMERICA</td><td>1761449694</td><td>a379d3</td><td>DAL928  </td><td>United States</td><td>-122.3164</td><td>47.6224</td></tr><tr><td>NORTH_AMERICA</td><td>1761449694</td><td>a1ac11</td><td>ENY4151 </td><td>United States</td><td>-90.8315</td><td>44.225</td></tr><tr><td>NORTH_AMERICA</td><td>1761449694</td><td>ab6eb9</td><td>AAL647  </td><td>United States</td><td>-83.7016</td><td>34.885</td></tr><tr><td>NORTH_AMERICA</td><td>1761449694</td><td>a4c47f</td><td>N406SD  </td><td>United States</td><td>-77.8261</td><td>37.594</td></tr><tr><td>NORTH_AMERICA</td><td>1761449694</td><td>a259ec</td><td>N2500X  </td><td>United States</td><td>-80.979</td><td>28.9468</td></tr><tr><td>NORTH_AMERICA</td><td>1761449694</td><td>a6179a</td><td>VAR492  </td><td>United States</td><td>-112.3632</td><td>33.4346</td></tr><tr><td>NORTH_AMERICA</td><td>1761449694</td><td>a4c3a0</td><td>N406HF  </td><td>United States</td><td>-107.5749</td><td>44.232</td></tr><tr><td>NORTH_AMERICA</td><td>1761449694</td><td>a8b9b3</td><td>UAL54   </td><td>United States</td><td>-70.3773</td><td>42.7819</td></tr><tr><td>NORTH_AMERICA</td><td>1761449694</td><td>ab6f3d</td><td>N836GC  </td><td>United States</td><td>-115.1489</td><td>36.1693</td></tr><tr><td>NORTH_AMERICA</td><td>1761449694</td><td>a353c8</td><td>AAL2667 </td><td>United States</td><td>-80.7405</td><td>27.0169</td></tr><tr><td>NORTH_AMERICA</td><td>1761449694</td><td>c0473b</td><td>CJT2384 </td><td>Canada</td><td>-93.4904</td><td>46.2324</td></tr><tr><td>NORTH_AMERICA</td><td>1761449694</td><td>a603b0</td><td>GTI8523 </td><td>United States</td><td>-154.9422</td><td>60.2921</td></tr><tr><td>NORTH_AMERICA</td><td>1761449694</td><td>adc9b6</td><td>JBU615  </td><td>United States</td><td>-90.9122</td><td>42.7564</td></tr><tr><td>NORTH_AMERICA</td><td>1761449694</td><td>a736c1</td><td>LCO3607 </td><td>United States</td><td>-77.2535</td><td>34.2806</td></tr><tr><td>NORTH_AMERICA</td><td>1761449694</td><td>c04738</td><td>CJT2389 </td><td>Canada</td><td>-114.0315</td><td>51.1285</td></tr><tr><td>NORTH_AMERICA</td><td>1761449694</td><td>a83174</td><td>NKS3998 </td><td>United States</td><td>-80.2078</td><td>32.4393</td></tr><tr><td>NORTH_AMERICA</td><td>1761449694</td><td>c07b8c</td><td>WJA1425 </td><td>Canada</td><td>-116.8946</td><td>43.7749</td></tr><tr><td>NORTH_AMERICA</td><td>1761449694</td><td>ab5c69</td><td>DAL1373 </td><td>United States</td><td>-111.9775</td><td>40.7933</td></tr><tr><td>NORTH_AMERICA</td><td>1761449694</td><td>7380c3</td><td>ELY026  </td><td>Israel</td><td>-74.1722</td><td>40.6927</td></tr><tr><td>NORTH_AMERICA</td><td>1761449694</td><td>7380c7</td><td>ELY008  </td><td>Israel</td><td>-73.2403</td><td>41.5411</td></tr><tr><td>NORTH_AMERICA</td><td>1761449694</td><td>ac7c52</td><td>SWA4186 </td><td>United States</td><td>-98.994</td><td>29.8084</td></tr><tr><td>NORTH_AMERICA</td><td>1761449694</td><td>ae1f60</td><td>00172081</td><td>United States</td><td>-85.5691</td><td>31.2853</td></tr><tr><td>NORTH_AMERICA</td><td>1761449694</td><td>ad9ac9</td><td>JBU607  </td><td>United States</td><td>-104.8081</td><td>35.6637</td></tr><tr><td>NORTH_AMERICA</td><td>1761449694</td><td>a36825</td><td>JBU2483 </td><td>United States</td><td>-78.8732</td><td>35.7434</td></tr><tr><td>NORTH_AMERICA</td><td>1761449694</td><td>a03baa</td><td>XAA2459 </td><td>United States</td><td>-85.7982</td><td>37.1414</td></tr><tr><td>NORTH_AMERICA</td><td>1761449694</td><td>ab1496</td><td>AAL2384 </td><td>United States</td><td>-81.6784</td><td>35.3042</td></tr><tr><td>NORTH_AMERICA</td><td>1761449694</td><td>ab5afe</td><td>SWA2535 </td><td>United States</td><td>-97.122</td><td>39.6968</td></tr><tr><td>NORTH_AMERICA</td><td>1761449694</td><td>ab148b</td><td>ASA9671 </td><td>United States</td><td>-149.9848</td><td>61.1761</td></tr><tr><td>NORTH_AMERICA</td><td>1761449694</td><td>ab148d</td><td>N813AM  </td><td>United States</td><td>-89.6524</td><td>39.7996</td></tr><tr><td>NORTH_AMERICA</td><td>1761449694</td><td>aaf47a</td><td>ASA1401 </td><td>United States</td><td>-122.1496</td><td>47.6757</td></tr><tr><td>NORTH_AMERICA</td><td>1761449694</td><td>a9d9f2</td><td>ASA462  </td><td>United States</td><td>-120.5394</td><td>47.8096</td></tr><tr><td>NORTH_AMERICA</td><td>1761449694</td><td>a0e220</td><td>SKW4727 </td><td>United States</td><td>-98.6394</td><td>36.2598</td></tr><tr><td>NORTH_AMERICA</td><td>1761449694</td><td>a8b9e8</td><td>N661WD  </td><td>United States</td><td>-96.2592</td><td>35.342</td></tr><tr><td>NORTH_AMERICA</td><td>1761449694</td><td>a0f566</td><td>AAL3001 </td><td>United States</td><td>-106.6039</td><td>41.5407</td></tr><tr><td>NORTH_AMERICA</td><td>1761449694</td><td>a7cf40</td><td>LXJ602  </td><td>United States</td><td>-120.5993</td><td>36.2542</td></tr><tr><td>NORTH_AMERICA</td><td>1761449694</td><td>c045f1</td><td>WJA2021 </td><td>Canada</td><td>-101.0074</td><td>39.9371</td></tr><tr><td>NORTH_AMERICA</td><td>1761449694</td><td>c07b42</td><td>WJA80   </td><td>Canada</td><td>-161.4566</td><td>61.1774</td></tr><tr><td>NORTH_AMERICA</td><td>1761449694</td><td>a09237</td><td>N136HN  </td><td>United States</td><td>-79.6746</td><td>39.6193</td></tr><tr><td>NORTH_AMERICA</td><td>1761449694</td><td>a736ff</td><td>JIA5288 </td><td>United States</td><td>-89.5059</td><td>35.2884</td></tr><tr><td>NORTH_AMERICA</td><td>1761449694</td><td>abe105</td><td>ASI155  </td><td>United States</td><td>-111.8158</td><td>33.0797</td></tr><tr><td>NORTH_AMERICA</td><td>1761449694</td><td>a7032e</td><td>N551AM  </td><td>United States</td><td>-111.7307</td><td>33.3017</td></tr><tr><td>NORTH_AMERICA</td><td>1761449694</td><td>a44031</td><td>DAL1508 </td><td>United States</td><td>-87.568</td><td>31.4593</td></tr><tr><td>NORTH_AMERICA</td><td>1761449694</td><td>a32056</td><td>ENY4109 </td><td>United States</td><td>-81.558</td><td>27.4054</td></tr><tr><td>NORTH_AMERICA</td><td>1761449694</td><td>ad7ab8</td><td>JBU333  </td><td>United States</td><td>-101.763</td><td>41.9996</td></tr><tr><td>NORTH_AMERICA</td><td>1761449694</td><td>a82332</td><td>UPS197  </td><td>United States</td><td>-98.9413</td><td>48.6199</td></tr><tr><td>NORTH_AMERICA</td><td>1761449694</td><td>a81005</td><td>UAL2627 </td><td>United States</td><td>-92.3803</td><td>44.864</td></tr><tr><td>NORTH_AMERICA</td><td>1761449694</td><td>ac0143</td><td>SWA2608 </td><td>United States</td><td>-114.5703</td><td>35.3585</td></tr><tr><td>NORTH_AMERICA</td><td>1761449694</td><td>a81006</td><td>UAL2132 </td><td>United States</td><td>-120.3415</td><td>39.0077</td></tr><tr><td>NORTH_AMERICA</td><td>1761449694</td><td>a70356</td><td>N551CB  </td><td>United States</td><td>-94.6623</td><td>29.4332</td></tr><tr><td>NORTH_AMERICA</td><td>1761449694</td><td>ac5ada</td><td></td><td>United States</td><td>-115.3773</td><td>38.4424</td></tr><tr><td>NORTH_AMERICA</td><td>1761449694</td><td>a2be06</td><td>AAY681  </td><td>United States</td><td>-109.1105</td><td>36.1309</td></tr><tr><td>NORTH_AMERICA</td><td>1761449694</td><td>a7bfa0</td><td>JBU539  </td><td>United States</td><td>-71.9844</td><td>38.1052</td></tr><tr><td>NORTH_AMERICA</td><td>1761449694</td><td>a5d623</td><td>UAL2332 </td><td>United States</td><td>-105.9482</td><td>35.0679</td></tr><tr><td>NORTH_AMERICA</td><td>1761449694</td><td>a5d62f</td><td>N4751G  </td><td>United States</td><td>-85.8821</td><td>39.8296</td></tr><tr><td>NORTH_AMERICA</td><td>1761449694</td><td>a5d643</td><td>UAL3789 </td><td>United States</td><td>-97.9052</td><td>34.8299</td></tr><tr><td>NORTH_AMERICA</td><td>1761449694</td><td>ab4f07</td><td>ERU828  </td><td>United States</td><td>-81.2603</td><td>29.0985</td></tr><tr><td>NORTH_AMERICA</td><td>1761449694</td><td>3c5b31</td><td>OCN691  </td><td>Germany</td><td>-70.8772</td><td>43.3184</td></tr><tr><td>NORTH_AMERICA</td><td>1761449694</td><td>896408</td><td>ETD8NY  </td><td>United Arab Emirates</td><td>-71.6714</td><td>42.6978</td></tr><tr><td>NORTH_AMERICA</td><td>1761449694</td><td>a37b0c</td><td>AAL1815 </td><td>United States</td><td>-116.4262</td><td>34.103</td></tr><tr><td>NORTH_AMERICA</td><td>1761449694</td><td>a728c1</td><td>AAL2568 </td><td>United States</td><td>-97.0377</td><td>32.9091</td></tr><tr><td>NORTH_AMERICA</td><td>1761449694</td><td>a082ac</td><td>AAL2069 </td><td>United States</td><td>-107.7801</td><td>38.4016</td></tr><tr><td>NORTH_AMERICA</td><td>1761449694</td><td>a105e8</td><td>SKW5327 </td><td>United States</td><td>-86.6675</td><td>36.1233</td></tr><tr><td>NORTH_AMERICA</td><td>1761449694</td><td>a0e5d7</td><td>SKW4672 </td><td>United States</td><td>-119.0531</td><td>35.4313</td></tr><tr><td>NORTH_AMERICA</td><td>1761449694</td><td>ac6db1</td><td>N90JX   </td><td>United States</td><td>-103.1381</td><td>33.4733</td></tr><tr><td>NORTH_AMERICA</td><td>1761449694</td><td>020121</td><td>RAM209M </td><td>Morocco</td><td>-65.9949</td><td>45.522</td></tr><tr><td>NORTH_AMERICA</td><td>1761449694</td><td>4bb1a4</td><td>THY5YR  </td><td>Turkey</td><td>-92.2572</td><td>37.1022</td></tr><tr><td>NORTH_AMERICA</td><td>1761449694</td><td>a37b1c</td><td>SKW4087 </td><td>United States</td><td>-118.4114</td><td>33.9481</td></tr><tr><td>NORTH_AMERICA</td><td>1761449694</td><td>aa8481</td><td>N777RB  </td><td>United States</td><td>-81.9172</td><td>31.545</td></tr><tr><td>NORTH_AMERICA</td><td>1761449694</td><td>a082fd</td><td>DAL869  </td><td>United States</td><td>-73.8585</td><td>40.769</td></tr><tr><td>NORTH_AMERICA</td><td>1761449694</td><td>a81045</td><td>ATN3364 </td><td>United States</td><td>-103.0486</td><td>36.7907</td></tr><tr><td>NORTH_AMERICA</td><td>1761449694</td><td>02013e</td><td>RAM7201 </td><td>Morocco</td><td>-73.2782</td><td>40.571</td></tr><tr><td>NORTH_AMERICA</td><td>1761449694</td><td>ad4744</td><td>ASA287  </td><td>United States</td><td>-95.9229</td><td>40.0234</td></tr><tr><td>NORTH_AMERICA</td><td>1761449694</td><td>a968f8</td><td>AAL1654 </td><td>United States</td><td>-109.403</td><td>32.6529</td></tr><tr><td>NORTH_AMERICA</td><td>1761449694</td><td>a62b51</td><td>N497NM  </td><td>United States</td><td>-85.2606</td><td>32.7324</td></tr><tr><td>NORTH_AMERICA</td><td>1761449694</td><td>a51e9b</td><td>N429RX  </td><td>United States</td><td>-112.3623</td><td>33.437</td></tr><tr><td>NORTH_AMERICA</td><td>1761449694</td><td>c06cc3</td><td>CGPEW   </td><td>Canada</td><td>-114.275</td><td>51.6539</td></tr><tr><td>NORTH_AMERICA</td><td>1761449694</td><td>ac12d6</td><td>SWA4743 </td><td>United States</td><td>-117.1661</td><td>32.7279</td></tr><tr><td>NORTH_AMERICA</td><td>1761449694</td><td>780a89</td><td>CPA880  </td><td>China</td><td>-121.5371</td><td>37.0736</td></tr><tr><td>NORTH_AMERICA</td><td>1761449694</td><td>aa1b39</td><td>NDU750  </td><td>United States</td><td>-111.6404</td><td>33.2957</td></tr><tr><td>NORTH_AMERICA</td><td>1761449694</td><td>a452c4</td><td>DAL2213 </td><td>United States</td><td>-84.5316</td><td>37.3408</td></tr><tr><td>NORTH_AMERICA</td><td>1761449694</td><td>a7f08e</td><td>UPS77   </td><td>United States</td><td>-150.9859</td><td>61.0061</td></tr><tr><td>NORTH_AMERICA</td><td>1761449694</td><td>a34729</td><td>DAL2276 </td><td>United States</td><td>-82.6103</td><td>31.3403</td></tr><tr><td>NORTH_AMERICA</td><td>1761449694</td><td>4bb0ed</td><td>THY9WC  </td><td>Turkey</td><td>-119.9629</td><td>39.3939</td></tr><tr><td>NORTH_AMERICA</td><td>1761449694</td><td>4bb0eb</td><td>THY1RT  </td><td>Turkey</td><td>-63.164</td><td>46.0039</td></tr><tr><td>NORTH_AMERICA</td><td>1761449694</td><td>a0e751</td><td>UAL1553 </td><td>United States</td><td>-79.6406</td><td>33.2533</td></tr><tr><td>NORTH_AMERICA</td><td>1761449694</td><td>c07fb0</td><td>WJA374  </td><td>Canada</td><td>-79.401</td><td>43.7778</td></tr><tr><td>NORTH_AMERICA</td><td>1761449694</td><td>c07fe9</td><td>WJA2065 </td><td>Canada</td><td>-117.4217</td><td>44.8962</td></tr><tr><td>NORTH_AMERICA</td><td>1761449694</td><td>aa2e0b</td><td>N755QS  </td><td>United States</td><td>-110.6999</td><td>30.2547</td></tr><tr><td>NORTH_AMERICA</td><td>1761449694</td><td>a6f5b5</td><td>ASA1131 </td><td>United States</td><td>-122.2453</td><td>45.493</td></tr><tr><td>NORTH_AMERICA</td><td>1761449694</td><td>a34764</td><td>LXJ310  </td><td>United States</td><td>-84.4228</td><td>39.0963</td></tr><tr><td>NORTH_AMERICA</td><td>1761449694</td><td>ab18ac</td><td>ERU814  </td><td>United States</td><td>-81.3672</td><td>29.3421</td></tr><tr><td>NORTH_AMERICA</td><td>1761449694</td><td>ac0094</td><td>SWA3792 </td><td>United States</td><td>-123.2938</td><td>37.5948</td></tr><tr><td>NORTH_AMERICA</td><td>1761449694</td><td>a3472f</td><td>DAL2749 </td><td>United States</td><td>-97.6754</td><td>30.1989</td></tr><tr><td>NORTH_AMERICA</td><td>1761449694</td><td>a98b76</td><td>FFT2886 </td><td>United States</td><td>-82.5044</td><td>30.5002</td></tr><tr><td>NORTH_AMERICA</td><td>1761449694</td><td>a75da2</td><td>DAL684  </td><td>United States</td><td>-121.9885</td><td>45.5172</td></tr><tr><td>NORTH_AMERICA</td><td>1761449694</td><td>ad2095</td><td>JBU211  </td><td>United States</td><td>-76.0088</td><td>42.1057</td></tr><tr><td>NORTH_AMERICA</td><td>1761449694</td><td>a2bdff</td><td>ENY4101 </td><td>United States</td><td>-96.5592</td><td>33.7365</td></tr><tr><td>NORTH_AMERICA</td><td>1761449694</td><td>abe09a</td><td>SWA2678 </td><td>United States</td><td>-79.2018</td><td>36.4948</td></tr><tr><td>NORTH_AMERICA</td><td>1761449694</td><td>a822d6</td><td>QXE2421 </td><td>United States</td><td>-119.089</td><td>36.1534</td></tr><tr><td>NORTH_AMERICA</td><td>1761449694</td><td>780a3d</td><td>CPA087  </td><td>China</td><td>-129.4465</td><td>55.1056</td></tr><tr><td>NORTH_AMERICA</td><td>1761449694</td><td>a07177</td><td>AAL711  </td><td>United States</td><td>-101.1185</td><td>33.5369</td></tr><tr><td>NORTH_AMERICA</td><td>1761449694</td><td>a44166</td><td>UAL1798 </td><td>United States</td><td>-83.3931</td><td>41.9337</td></tr><tr><td>NORTH_AMERICA</td><td>1761449694</td><td>a6946b</td><td>DAL210  </td><td>United States</td><td>-78.3547</td><td>31.984</td></tr><tr><td>NORTH_AMERICA</td><td>1761449694</td><td>a4414a</td><td>DAL1713 </td><td>United States</td><td>-104.0187</td><td>32.0717</td></tr><tr><td>NORTH_AMERICA</td><td>1761449694</td><td>c013d0</td><td>ACA1030 </td><td>Canada</td><td>-85.877</td><td>40.2073</td></tr><tr><td>NORTH_AMERICA</td><td>1761449694</td><td>4bb145</td><td>THY6    </td><td>Turkey</td><td>-78.5488</td><td>44.9838</td></tr><tr><td>NORTH_AMERICA</td><td>1761449694</td><td>4bb107</td><td>THY8JK  </td><td>Turkey</td><td>-122.1043</td><td>47.6111</td></tr><tr><td>NORTH_AMERICA</td><td>1761449694</td><td>a3a9a3</td><td>DAL1320 </td><td>United States</td><td>-83.0114</td><td>37.2825</td></tr><tr><td>NORTH_AMERICA</td><td>1761449694</td><td>a83781</td><td>UAL1453 </td><td>United States</td><td>-85.8463</td><td>40.7187</td></tr><tr><td>NORTH_AMERICA</td><td>1761449694</td><td>aa1be0</td><td>AAL2556 </td><td>United States</td><td>-86.9249</td><td>37.144</td></tr><tr><td>NORTH_AMERICA</td><td>1761449694</td><td>a5617a</td><td>LXJ446  </td><td>United States</td><td>-109.7786</td><td>33.7193</td></tr><tr><td>NORTH_AMERICA</td><td>1761449694</td><td>4bb188</td><td>THY32G  </td><td>Turkey</td><td>-81.9511</td><td>35.0198</td></tr><tr><td>NORTH_AMERICA</td><td>1761449694</td><td>4bb184</td><td>THY6936 </td><td>Turkey</td><td>-83.3008</td><td>34.2137</td></tr><tr><td>NORTH_AMERICA</td><td>1761449694</td><td>a359bc</td><td>DAL1256 </td><td>United States</td><td>-99.0088</td><td>42.2434</td></tr><tr><td>NORTH_AMERICA</td><td>1761449694</td><td>ac0296</td><td>N873MH  </td><td>United States</td><td>-115.1696</td><td>36.0814</td></tr><tr><td>NORTH_AMERICA</td><td>1761449694</td><td>a44187</td><td>UAL280  </td><td>United States</td><td>-115.6174</td><td>53.9855</td></tr><tr><td>NORTH_AMERICA</td><td>1761449694</td><td>a01c37</td><td>AAL4    </td><td>United States</td><td>-73.7907</td><td>40.6498</td></tr><tr><td>NORTH_AMERICA</td><td>1761449694</td><td>a50adc</td><td>DAL32   </td><td>United States</td><td>-62.079</td><td>47.9948</td></tr><tr><td>NORTH_AMERICA</td><td>1761449694</td><td>a4ec00</td><td>N416SF  </td><td>United States</td><td>-84.3218</td><td>33.8594</td></tr><tr><td>NORTH_AMERICA</td><td>1761449694</td><td>a4b6b6</td><td>JBU1523 </td><td>United States</td><td>-118.4137</td><td>33.9382</td></tr><tr><td>NORTH_AMERICA</td><td>1761449694</td><td>a466c7</td><td>DAL2395 </td><td>United States</td><td>-84.6468</td><td>39.0193</td></tr><tr><td>NORTH_AMERICA</td><td>1761449694</td><td>a609d4</td><td>UAL1135 </td><td>United States</td><td>-97.3466</td><td>32.5522</td></tr><tr><td>NORTH_AMERICA</td><td>1761449694</td><td>a070d7</td><td>UAL2856 </td><td>United States</td><td>-92.9204</td><td>35.8974</td></tr><tr><td>NORTH_AMERICA</td><td>1761449694</td><td>a3df4a</td><td>FFT4036 </td><td>United States</td><td>-83.1157</td><td>37.1388</td></tr><tr><td>NORTH_AMERICA</td><td>1761449694</td><td>adcc95</td><td>N989AB  </td><td>United States</td><td>-90.9384</td><td>38.1099</td></tr><tr><td>NORTH_AMERICA</td><td>1761449694</td><td>4bb196</td><td>THY3CM  </td><td>Turkey</td><td>-64.1795</td><td>48.2167</td></tr><tr><td>NORTH_AMERICA</td><td>1761449694</td><td>ac2836</td><td>SWA3196 </td><td>United States</td><td>-95.2213</td><td>35.5166</td></tr><tr><td>NORTH_AMERICA</td><td>1761449694</td><td>a63f4e</td><td>SKW6510 </td><td>United States</td><td>-122.2325</td><td>47.7927</td></tr><tr><td>NORTH_AMERICA</td><td>1761449694</td><td>a213b9</td><td>N233AV  </td><td>United States</td><td>-112.449</td><td>33.9801</td></tr><tr><td>NORTH_AMERICA</td><td>1761449694</td><td>a599a8</td><td>AAL695  </td><td>United States</td><td>-101.5976</td><td>39.4736</td></tr><tr><td>NORTH_AMERICA</td><td>1761449694</td><td>a466fc</td><td>FFT2112 </td><td>United States</td><td>-78.7866</td><td>40.464</td></tr><tr><td>NORTH_AMERICA</td><td>1761449694</td><td>ad8ed7</td><td>AAL2474 </td><td>United States</td><td>-89.675</td><td>33.1097</td></tr><tr><td>NORTH_AMERICA</td><td>1761449694</td><td>a3df1e</td><td>DAL1268 </td><td>United States</td><td>-85.5892</td><td>37.5423</td></tr><tr><td>NORTH_AMERICA</td><td>1761449694</td><td>ac5bb9</td><td>DOW896  </td><td>United States</td><td>-81.2734</td><td>37.5894</td></tr><tr><td>NORTH_AMERICA</td><td>1761449694</td><td>a9a750</td><td>AAL135  </td><td>United States</td><td>-117.7236</td><td>34.003</td></tr><tr><td>NORTH_AMERICA</td><td>1761449694</td><td>a200ba</td><td>SWA1595 </td><td>United States</td><td>-118.3539</td><td>34.1977</td></tr><tr><td>NORTH_AMERICA</td><td>1761449694</td><td>ac13d6</td><td>SWA2857 </td><td>United States</td><td>-114.7436</td><td>35.6377</td></tr><tr><td>NORTH_AMERICA</td><td>1761449694</td><td>acbf5e</td><td>N920NH  </td><td>United States</td><td>-78.5855</td><td>34.9937</td></tr><tr><td>NORTH_AMERICA</td><td>1761449694</td><td>a01ba4</td><td>N106GR  </td><td>United States</td><td>-84.1492</td><td>35.9143</td></tr><tr><td>NORTH_AMERICA</td><td>1761449694</td><td>c05aac</td><td>CGIIT   </td><td>Canada</td><td>-73.7417</td><td>45.4634</td></tr><tr><td>NORTH_AMERICA</td><td>1761449694</td><td>a8cf3a</td><td>N667LF  </td><td>United States</td><td>-117.3926</td><td>47.577</td></tr><tr><td>NORTH_AMERICA</td><td>1761449694</td><td>a9b9e3</td><td>AAL56   </td><td>United States</td><td>-79.9392</td><td>25.8699</td></tr><tr><td>NORTH_AMERICA</td><td>1761449694</td><td>89644c</td><td>UAE238  </td><td>United Arab Emirates</td><td>-69.2096</td><td>44.0768</td></tr><tr><td>NORTH_AMERICA</td><td>1761449694</td><td>896458</td><td>UAE5RQ  </td><td>United Arab Emirates</td><td>-67.7315</td><td>44.0789</td></tr><tr><td>NORTH_AMERICA</td><td>1761449694</td><td>406890</td><td>BAW120  </td><td>United Kingdom</td><td>-78.1571</td><td>43.3315</td></tr><tr><td>NORTH_AMERICA</td><td>1761449694</td><td>ac018c</td><td>SKW5124 </td><td>United States</td><td>-90.9045</td><td>44.6808</td></tr><tr><td>NORTH_AMERICA</td><td>1761449694</td><td>aa9830</td><td>CKS218  </td><td>United States</td><td>-154.6489</td><td>61.3829</td></tr><tr><td>NORTH_AMERICA</td><td>1761449694</td><td>a3484e</td><td>AAL2875 </td><td>United States</td><td>-98.3954</td><td>36.0776</td></tr><tr><td>NORTH_AMERICA</td><td>1761449694</td><td>a9dc5e</td><td>UAL2674 </td><td>United States</td><td>-106.261</td><td>32.4681</td></tr><tr><td>NORTH_AMERICA</td><td>1761449694</td><td>a5753e</td><td>N45052  </td><td>United States</td><td>-152.1062</td><td>62.0468</td></tr><tr><td>NORTH_AMERICA</td><td>1761449694</td><td>aa9800</td><td>AMX026  </td><td>United States</td><td>-80.4098</td><td>48.8829</td></tr><tr><td>NORTH_AMERICA</td><td>1761449694</td><td>addf01</td><td>AAL3271 </td><td>United States</td><td>-97.032</td><td>32.8816</td></tr><tr><td>NORTH_AMERICA</td><td>1761449694</td><td>a9a6ee</td><td>N7207W  </td><td>United States</td><td>-81.9086</td><td>28.5042</td></tr><tr><td>NORTH_AMERICA</td><td>1761449694</td><td>a20288</td><td>ATN3588 </td><td>United States</td><td>-96.5283</td><td>36.9754</td></tr><tr><td>NORTH_AMERICA</td><td>1761449694</td><td>a51ea9</td><td>N429SL  </td><td>United States</td><td>-116.447</td><td>43.872</td></tr><tr><td>NORTH_AMERICA</td><td>1761449694</td><td>a3488b</td><td>WIS700  </td><td>United States</td><td>-92.4186</td><td>44.6795</td></tr><tr><td>NORTH_AMERICA</td><td>1761449694</td><td>ac5c1f</td><td>FDX6011 </td><td>United States</td><td>-142.7936</td><td>60.4589</td></tr><tr><td>NORTH_AMERICA</td><td>1761449694</td><td>acceab</td><td>SKW382H </td><td>United States</td><td>-97.6459</td><td>38.7297</td></tr><tr><td>NORTH_AMERICA</td><td>1761449694</td><td>a71429</td><td>REH46   </td><td>United States</td><td>-157.9045</td><td>21.3207</td></tr><tr><td>NORTH_AMERICA</td><td>1761449694</td><td>ac252a</td><td>SWA1314 </td><td>United States</td><td>-112.0214</td><td>33.4322</td></tr><tr><td>NORTH_AMERICA</td><td>1761449694</td><td>a5844a</td><td>N4547E  </td><td>United States</td><td>-105.159</td><td>39.7801</td></tr><tr><td>NORTH_AMERICA</td><td>1761449694</td><td>ab1890</td><td>DAL1531 </td><td>United States</td><td>-101.4788</td><td>36.8767</td></tr><tr><td>NORTH_AMERICA</td><td>1761449694</td><td>a72764</td><td>N560EX  </td><td>United States</td><td>-91.1719</td><td>30.5072</td></tr><tr><td>NORTH_AMERICA</td><td>1761449694</td><td>e48f4e</td><td>PTMTP   </td><td>Brazil</td><td>-62.2696</td><td>12.6106</td></tr><tr><td>NORTH_AMERICA</td><td>1761449694</td><td>a9672c</td><td>ASA1031 </td><td>United States</td><td>-119.0292</td><td>47.6924</td></tr><tr><td>NORTH_AMERICA</td><td>1761449694</td><td>a76df1</td><td>UPS81   </td><td>United States</td><td>-154.817</td><td>60.4839</td></tr><tr><td>NORTH_AMERICA</td><td>1761449694</td><td>aa2bc1</td><td>UAL2610 </td><td>United States</td><td>-106.0846</td><td>39.1772</td></tr><tr><td>NORTH_AMERICA</td><td>1761449694</td><td>c023c9</td><td>ACA90   </td><td>Canada</td><td>-72.8085</td><td>39.9157</td></tr><tr><td>NORTH_AMERICA</td><td>1761449694</td><td>a75ac7</td><td>JIA5391 </td><td>United States</td><td>-85.4658</td><td>33.6521</td></tr><tr><td>NORTH_AMERICA</td><td>1761449694</td><td>846333</td><td>NCA173  </td><td>Japan</td><td>-146.3621</td><td>58.2923</td></tr><tr><td>NORTH_AMERICA</td><td>1761449694</td><td>ab4bf7</td><td>DAL266  </td><td>United States</td><td>-73.779</td><td>40.6342</td></tr><tr><td>NORTH_AMERICA</td><td>1761449694</td><td>a1f11d</td><td>AAY2260 </td><td>United States</td><td>-107.0455</td><td>38.3295</td></tr><tr><td>NORTH_AMERICA</td><td>1761449694</td><td>a0817c</td><td>UAL526  </td><td>United States</td><td>-112.5295</td><td>36.8056</td></tr><tr><td>NORTH_AMERICA</td><td>1761449694</td><td>a22482</td><td>SWA2180 </td><td>United States</td><td>-102.5949</td><td>37.1379</td></tr><tr><td>NORTH_AMERICA</td><td>1761449694</td><td>3475d3</td><td>IBE26VE </td><td>Spain</td><td>-122.3884</td><td>37.6113</td></tr><tr><td>NORTH_AMERICA</td><td>1761449694</td><td>a0817f</td><td>UAL1340 </td><td>United States</td><td>-118.8921</td><td>37.8812</td></tr><tr><td>NORTH_AMERICA</td><td>1761449694</td><td>c023ae</td><td></td><td>Canada</td><td>-67.5774</td><td>48.5115</td></tr><tr><td>NORTH_AMERICA</td><td>1761449694</td><td>aae597</td><td>AAL240  </td><td>United States</td><td>-82.4104</td><td>40.9109</td></tr><tr><td>NORTH_AMERICA</td><td>1761449694</td><td>a129dc</td><td>AAL3158 </td><td>United States</td><td>-104.2494</td><td>40.1711</td></tr><tr><td>NORTH_AMERICA</td><td>1761449694</td><td>a03f24</td><td>DAL2608 </td><td>United States</td><td>-112.1525</td><td>40.919</td></tr><tr><td>NORTH_AMERICA</td><td>1761449694</td><td>c07f39</td><td>WEN3384 </td><td>Canada</td><td>-114.0067</td><td>51.1185</td></tr><tr><td>NORTH_AMERICA</td><td>1761449694</td><td>4077d3</td><td>VIR138M </td><td>United Kingdom</td><td>-73.3741</td><td>40.9659</td></tr><tr><td>NORTH_AMERICA</td><td>1761449694</td><td>a4c754</td><td>N407HC  </td><td>United States</td><td>-82.6729</td><td>28.4699</td></tr><tr><td>NORTH_AMERICA</td><td>1761449694</td><td>781dac</td><td>CSN8031 </td><td>China</td><td>-99.2342</td><td>19.4528</td></tr><tr><td>NORTH_AMERICA</td><td>1761449694</td><td>a9b78e</td><td>EJA725  </td><td>United States</td><td>-90.6442</td><td>33.7456</td></tr><tr><td>NORTH_AMERICA</td><td>1761449694</td><td>a99afb</td><td>NKS2608 </td><td>United States</td><td>-84.2321</td><td>33.5104</td></tr><tr><td>NORTH_AMERICA</td><td>1761449694</td><td>c07f02</td><td>WJA1285 </td><td>Canada</td><td>-115.1715</td><td>48.4599</td></tr><tr><td>NORTH_AMERICA</td><td>1761449694</td><td>a369be</td><td>ENY3671 </td><td>United States</td><td>-96.4102</td><td>35.805</td></tr><tr><td>NORTH_AMERICA</td><td>1761449694</td><td>a03f84</td><td>RPA4344 </td><td>United States</td><td>-91.7774</td><td>34.3954</td></tr><tr><td>NORTH_AMERICA</td><td>1761449694</td><td>e8040f</td><td>LAN501  </td><td>Chile</td><td>-79.3684</td><td>13.9732</td></tr><tr><td>NORTH_AMERICA</td><td>1761449694</td><td>ac382e</td><td>DAL903  </td><td>United States</td><td>-98.2122</td><td>42.1529</td></tr><tr><td>NORTH_AMERICA</td><td>1761449694</td><td>e8040c</td><td>LPE2483 </td><td>Chile</td><td>-84.4329</td><td>33.6366</td></tr><tr><td>NORTH_AMERICA</td><td>1761449694</td><td>a356db</td><td>DAL374  </td><td>United States</td><td>-85.1434</td><td>34.0745</td></tr><tr><td>NORTH_AMERICA</td><td>1761449694</td><td>ac250b</td><td>SWA2708 </td><td>United States</td><td>-119.901</td><td>38.3844</td></tr><tr><td>NORTH_AMERICA</td><td>1761449694</td><td>abaeb2</td><td>SWA3467 </td><td>United States</td><td>-97.7194</td><td>32.3751</td></tr><tr><td>NORTH_AMERICA</td><td>1761449694</td><td>aaf83c</td><td>AAL416  </td><td>United States</td><td>-81.8049</td><td>30.2065</td></tr><tr><td>NORTH_AMERICA</td><td>1761449694</td><td>347691</td><td>AEA092  </td><td>Spain</td><td>-73.5511</td><td>40.5622</td></tr><tr><td>NORTH_AMERICA</td><td>1761449694</td><td>a2bc12</td><td>UAL2044 </td><td>United States</td><td>-90.8547</td><td>45.7695</td></tr><tr><td>NORTH_AMERICA</td><td>1761449694</td><td>a14c70</td><td>EDV5209 </td><td>United States</td><td>-97.3073</td><td>44.7103</td></tr><tr><td>NORTH_AMERICA</td><td>1761449694</td><td>a223ba</td><td>ENY3349 </td><td>United States</td><td>-97.1089</td><td>32.1599</td></tr><tr><td>NORTH_AMERICA</td><td>1761449694</td><td>a369ee</td><td>AAL1179 </td><td>United States</td><td>-113.8983</td><td>35.5748</td></tr><tr><td>NORTH_AMERICA</td><td>1761449694</td><td>a76f66</td><td>UAL3908 </td><td>United States</td><td>-87.7347</td><td>41.6481</td></tr><tr><td>NORTH_AMERICA</td><td>1761449694</td><td>a3dc75</td><td>EJA348  </td><td>United States</td><td>-81.6586</td><td>33.593</td></tr><tr><td>NORTH_AMERICA</td><td>1761449694</td><td>0d1083</td><td>VIV7381 </td><td>Mexico</td><td>-100.1614</td><td>25.8085</td></tr><tr><td>NORTH_AMERICA</td><td>1761449694</td><td>a87c12</td><td>FFT3261 </td><td>United States</td><td>-81.202</td><td>29.8879</td></tr><tr><td>NORTH_AMERICA</td><td>1761449694</td><td>abaf47</td><td>FDX5035 </td><td>United States</td><td>-68.9115</td><td>45.8721</td></tr><tr><td>NORTH_AMERICA</td><td>1761449694</td><td>ab5f6a</td><td>SWA661  </td><td>United States</td><td>-120.7009</td><td>39.0701</td></tr><tr><td>NORTH_AMERICA</td><td>1761449694</td><td>a8df2c</td><td>DAL1137 </td><td>United States</td><td>-83.8513</td><td>30.1456</td></tr><tr><td>NORTH_AMERICA</td><td>1761449694</td><td>ab5f87</td><td>SWA4283 </td><td>United States</td><td>-100.5024</td><td>35.4331</td></tr><tr><td>NORTH_AMERICA</td><td>1761449694</td><td>ab5f98</td><td>N8318Y  </td><td>United States</td><td>-87.9156</td><td>41.3223</td></tr><tr><td>NORTH_AMERICA</td><td>1761449694</td><td>ada6b9</td><td>SKW5034 </td><td>United States</td><td>-104.9346</td><td>41.5182</td></tr><tr><td>NORTH_AMERICA</td><td>1761449694</td><td>740826</td><td>RJA262G </td><td>Jordan</td><td>-64.1659</td><td>46.2712</td></tr><tr><td>NORTH_AMERICA</td><td>1761449694</td><td>740825</td><td>RJA264  </td><td>Jordan</td><td>-63.2999</td><td>46.6408</td></tr><tr><td>NORTH_AMERICA</td><td>1761449694</td><td>c06aa4</td><td>JZA816  </td><td>Canada</td><td>-112.8157</td><td>36.7439</td></tr><tr><td>NORTH_AMERICA</td><td>1761449694</td><td>c02432</td><td>CFNSJ   </td><td>Canada</td><td>-91.0528</td><td>63.632</td></tr><tr><td>NORTH_AMERICA</td><td>1761449694</td><td>a223fa</td><td>N237RB  </td><td>United States</td><td>-93.902</td><td>36.6172</td></tr><tr><td>NORTH_AMERICA</td><td>1761449694</td><td>89655f</td><td>UAE2VL  </td><td>United Arab Emirates</td><td>-79.6356</td><td>41.2568</td></tr><tr><td>NORTH_AMERICA</td><td>1761449694</td><td>a4c6af</td><td>AAL399  </td><td>United States</td><td>-149.9841</td><td>61.1731</td></tr><tr><td>NORTH_AMERICA</td><td>1761449694</td><td>a8df06</td><td>DAL8893 </td><td>United States</td><td>-107.1613</td><td>40.1734</td></tr><tr><td>NORTH_AMERICA</td><td>1761449694</td><td>a606c5</td><td>ERU488  </td><td>United States</td><td>-81.0352</td><td>29.1354</td></tr><tr><td>NORTH_AMERICA</td><td>1761449694</td><td>aa818d</td><td>RPA3694 </td><td>United States</td><td>-86.2485</td><td>39.6152</td></tr><tr><td>NORTH_AMERICA</td><td>1761449694</td><td>0d1078</td><td>VOI105  </td><td>Mexico</td><td>-90.2443</td><td>20.8323</td></tr><tr><td>NORTH_AMERICA</td><td>1761449694</td><td>0d1079</td><td>VOI1001 </td><td>Mexico</td><td>-116.0735</td><td>31.8226</td></tr><tr><td>NORTH_AMERICA</td><td>1761449694</td><td>4063e6</td><td>VIR12E  </td><td>United Kingdom</td><td>-71.0134</td><td>42.3632</td></tr><tr><td>NORTH_AMERICA</td><td>1761449694</td><td>ad447e</td><td>N954LA  </td><td>United States</td><td>-118.3707</td><td>33.9188</td></tr><tr><td>NORTH_AMERICA</td><td>1761449694</td><td>adeddd</td><td>AAL1372 </td><td>United States</td><td>-82.0288</td><td>35.1773</td></tr><tr><td>NORTH_AMERICA</td><td>1761449694</td><td>a60814</td><td>UAL1673 </td><td>United States</td><td>-97.0368</td><td>32.893</td></tr><tr><td>NORTH_AMERICA</td><td>1761449694</td><td>ac1190</td><td>AAL623  </td><td>United States</td><td>-102.9087</td><td>36.3741</td></tr><tr><td>NORTH_AMERICA</td><td>1761449694</td><td>addadb</td><td>JBU1524 </td><td>United States</td><td>-118.4028</td><td>33.9479</td></tr><tr><td>NORTH_AMERICA</td><td>1761449694</td><td>8964a4</td><td>UAE5WR  </td><td>United Arab Emirates</td><td>-71.8628</td><td>45.9577</td></tr><tr><td>NORTH_AMERICA</td><td>1761449694</td><td>a4c849</td><td>SKW3426 </td><td>United States</td><td>-118.8599</td><td>36.9677</td></tr><tr><td>NORTH_AMERICA</td><td>1761449694</td><td>a7ac54</td><td>ASA1194 </td><td>United States</td><td>-122.1813</td><td>46.3531</td></tr><tr><td>NORTH_AMERICA</td><td>1761449694</td><td>a2bbc6</td><td>UAL2646 </td><td>United States</td><td>-122.6063</td><td>45.5892</td></tr><tr><td>NORTH_AMERICA</td><td>1761449694</td><td>ab5f43</td><td>SWA2582 </td><td>United States</td><td>-115.7849</td><td>43.9329</td></tr><tr><td>NORTH_AMERICA</td><td>1761449694</td><td>ab03a4</td><td>DAL1582 </td><td>United States</td><td>-115.1762</td><td>40.7848</td></tr><tr><td>NORTH_AMERICA</td><td>1761449694</td><td>ac7f41</td><td>AAL1018 </td><td>United States</td><td>-76.2205</td><td>36.8731</td></tr><tr><td>NORTH_AMERICA</td><td>1761449694</td><td>ac1327</td><td>SWA935  </td><td>United States</td><td>-74.1185</td><td>42.563</td></tr><tr><td>NORTH_AMERICA</td><td>1761449694</td><td>a2bbf2</td><td>UAL1696 </td><td>United States</td><td>-92.0507</td><td>38.4901</td></tr><tr><td>NORTH_AMERICA</td><td>1761449694</td><td>a45233</td><td>HAL16   </td><td>United States</td><td>-118.3568</td><td>33.3664</td></tr><tr><td>NORTH_AMERICA</td><td>1761449694</td><td>abafff</td><td>AAL1805 </td><td>United States</td><td>-97.0338</td><td>32.8842</td></tr><tr><td>NORTH_AMERICA</td><td>1761449694</td><td>ac267c</td><td>AAL2260 </td><td>United States</td><td>-81.7476</td><td>40.596</td></tr><tr><td>NORTH_AMERICA</td><td>1761449694</td><td>a2bbcc</td><td>UAL1759 </td><td>United States</td><td>-109.1903</td><td>38.1415</td></tr><tr><td>NORTH_AMERICA</td><td>1761449694</td><td>ae5302</td><td>SCHNR22 </td><td>United States</td><td>-120.4045</td><td>38.0912</td></tr><tr><td>NORTH_AMERICA</td><td>1761449694</td><td>a33243</td><td>DAL2613 </td><td>United States</td><td>-120.0401</td><td>40.1941</td></tr><tr><td>NORTH_AMERICA</td><td>1761449694</td><td>4065de</td><td>BAW48Q  </td><td>United Kingdom</td><td>-122.3062</td><td>47.4591</td></tr><tr><td>NORTH_AMERICA</td><td>1761449694</td><td>ad8cec</td><td>AAL1176 </td><td>United States</td><td>-81.6859</td><td>27.9906</td></tr><tr><td>NORTH_AMERICA</td><td>1761449694</td><td>ac136d</td><td>SWA455  </td><td>United States</td><td>-111.881</td><td>33.354</td></tr><tr><td>NORTH_AMERICA</td><td>1761449694</td><td>abe030</td><td>SWA1527 </td><td>United States</td><td>-120.2431</td><td>36.2438</td></tr><tr><td>NORTH_AMERICA</td><td>1761449694</td><td>8965f5</td><td>ETD6HZ  </td><td>United Arab Emirates</td><td>-68.3985</td><td>45.8812</td></tr><tr><td>NORTH_AMERICA</td><td>1761449694</td><td>4078dd</td><td>BAW3GB  </td><td>United Kingdom</td><td>-111.9924</td><td>33.4384</td></tr><tr><td>NORTH_AMERICA</td><td>1761449694</td><td>a37a02</td><td>FFT3015 </td><td>United States</td><td>-115.1352</td><td>36.0832</td></tr><tr><td>NORTH_AMERICA</td><td>1761449694</td><td>a3a7be</td><td>N3345M  </td><td>United States</td><td>-98.0132</td><td>29.832</td></tr><tr><td>NORTH_AMERICA</td><td>1761449694</td><td>c81e22</td><td>ANZ23   </td><td>New Zealand</td><td>-125.7241</td><td>47.7121</td></tr><tr><td>NORTH_AMERICA</td><td>1761449694</td><td>a224f9</td><td>UAL675T </td><td>United States</td><td>-116.2129</td><td>33.9635</td></tr><tr><td>NORTH_AMERICA</td><td>1761449694</td><td>aaf960</td><td>AAL2804 </td><td>United States</td><td>-81.5315</td><td>43.0096</td></tr><tr><td>NORTH_AMERICA</td><td>1761449694</td><td>ab1971</td><td>AAL532  </td><td>United States</td><td>-75.2031</td><td>39.8791</td></tr><tr><td>NORTH_AMERICA</td><td>1761449694</td><td>a9555b</td><td>TFF910  </td><td>United States</td><td>-74.6527</td><td>40.8864</td></tr><tr><td>NORTH_AMERICA</td><td>1761449694</td><td>ab1978</td><td>AAY2691 </td><td>United States</td><td>-82.8319</td><td>27.8405</td></tr><tr><td>NORTH_AMERICA</td><td>1761449694</td><td>a224fa</td><td>UAL2131 </td><td>United States</td><td>-81.8448</td><td>41.4098</td></tr><tr><td>NORTH_AMERICA</td><td>1761449694</td><td>aaf968</td><td>DAL90   </td><td>United States</td><td>-63.7564</td><td>47.2636</td></tr><tr><td>NORTH_AMERICA</td><td>1761449694</td><td>a8ded6</td><td>DAL2386 </td><td>United States</td><td>-77.3773</td><td>36.7588</td></tr><tr><td>NORTH_AMERICA</td><td>1761449694</td><td>a081ca</td><td>UAL2328 </td><td>United States</td><td>-122.3337</td><td>37.5499</td></tr><tr><td>NORTH_AMERICA</td><td>1761449694</td><td>a37a25</td><td>N323HA  </td><td>United States</td><td>-100.2206</td><td>43.879</td></tr><tr><td>NORTH_AMERICA</td><td>1761449694</td><td>c07ee8</td><td>WJA605  </td><td>Canada</td><td>-79.5671</td><td>43.7673</td></tr><tr><td>NORTH_AMERICA</td><td>1761449694</td><td>c07ee6</td><td>WJA731  </td><td>Canada</td><td>-86.7791</td><td>45.7314</td></tr><tr><td>NORTH_AMERICA</td><td>1761449694</td><td>c07ee0</td><td>WJA2013 </td><td>Canada</td><td>-113.9722</td><td>53.4229</td></tr><tr><td>NORTH_AMERICA</td><td>1761449694</td><td>a51d7e</td><td>EMD429  </td><td>United States</td><td>-112.0165</td><td>33.4278</td></tr><tr><td>NORTH_AMERICA</td><td>1761449694</td><td>a2bd86</td><td>N276HS  </td><td>United States</td><td>-74.0544</td><td>40.8287</td></tr><tr><td>NORTH_AMERICA</td><td>1761449694</td><td>c07ef2</td><td>WJA1524 </td><td>Canada</td><td>-112.5051</td><td>39.2982</td></tr><tr><td>NORTH_AMERICA</td><td>1761449694</td><td>a50a87</td><td>N424AM  </td><td>United States</td><td>-87.2422</td><td>30.4633</td></tr><tr><td>NORTH_AMERICA</td><td>1761449694</td><td>407994</td><td>BAW28F  </td><td>United Kingdom</td><td>-111.9072</td><td>40.9769</td></tr><tr><td>NORTH_AMERICA</td><td>1761449694</td><td>ac5a4a</td><td>SWA2491 </td><td>United States</td><td>-77.4595</td><td>38.9551</td></tr><tr><td>NORTH_AMERICA</td><td>1761449694</td><td>adca15</td><td>AAL1291 </td><td>United States</td><td>-87.7772</td><td>37.1375</td></tr><tr><td>NORTH_AMERICA</td><td>1761449694</td><td>a4c7cd</td><td>N4O7MZ  </td><td>United States</td><td>-106.2968</td><td>35.8746</td></tr><tr><td>NORTH_AMERICA</td><td>1761449694</td><td>a584c3</td><td>VAR455  </td><td>United States</td><td>-114.3008</td><td>35.466</td></tr><tr><td>NORTH_AMERICA</td><td>1761449694</td><td>aa2d14</td><td>SKW4817 </td><td>United States</td><td>-105.5648</td><td>35.5093</td></tr><tr><td>NORTH_AMERICA</td><td>1761449694</td><td>a02cb5</td><td>FDX66   </td><td>United States</td><td>-90.8093</td><td>33.4189</td></tr><tr><td>NORTH_AMERICA</td><td>1761449694</td><td>a0e607</td><td>AAL2567 </td><td>United States</td><td>-72.492</td><td>42.6675</td></tr><tr><td>NORTH_AMERICA</td><td>1761449694</td><td>a0967f</td><td>N137PH  </td><td>United States</td><td>-115.1558</td><td>36.1597</td></tr><tr><td>NORTH_AMERICA</td><td>1761449694</td><td>a0d344</td><td>SKW5785 </td><td>United States</td><td>-83.3645</td><td>42.2287</td></tr><tr><td>NORTH_AMERICA</td><td>1761449694</td><td>a0d32e</td><td>N152SA  </td><td>United States</td><td>-104.9097</td><td>39.8538</td></tr><tr><td>NORTH_AMERICA</td><td>1761449694</td><td>c010f6</td><td>ACA152  </td><td>Canada</td><td>-79.6204</td><td>43.6788</td></tr><tr><td>NORTH_AMERICA</td><td>1761449694</td><td>a99d87</td><td>ASA217  </td><td>United States</td><td>-100.6854</td><td>42.7355</td></tr><tr><td>NORTH_AMERICA</td><td>1761449694</td><td>a9da1b</td><td>N734CB  </td><td>United States</td><td>-111.962</td><td>40.7918</td></tr><tr><td>NORTH_AMERICA</td><td>1761449694</td><td>a3dcc2</td><td>AAL1363 </td><td>United States</td><td>-97.0353</td><td>32.9018</td></tr><tr><td>NORTH_AMERICA</td><td>1761449694</td><td>a22642</td><td>ASA354  </td><td>United States</td><td>-121.9498</td><td>36.9416</td></tr><tr><td>NORTH_AMERICA</td><td>1761449694</td><td>a39fb1</td><td>UAL1412 </td><td>United States</td><td>-104.6856</td><td>38.9279</td></tr><tr><td>NORTH_AMERICA</td><td>1761449694</td><td>a9ed2c</td><td>N739HC  </td><td>United States</td><td>-83.1395</td><td>41.1665</td></tr><tr><td>NORTH_AMERICA</td><td>1761449694</td><td>a834f0</td><td>N628LA  </td><td>United States</td><td>-111.6677</td><td>32.8565</td></tr><tr><td>NORTH_AMERICA</td><td>1761449694</td><td>a33339</td><td>EDV5394 </td><td>United States</td><td>-75.4586</td><td>41.8008</td></tr><tr><td>NORTH_AMERICA</td><td>1761449694</td><td>a86a66</td><td>QXE2381 </td><td>United States</td><td>-116.261</td><td>43.8247</td></tr><tr><td>NORTH_AMERICA</td><td>1761449694</td><td>ac37bd</td><td>SWA824  </td><td>United States</td><td>-95.2031</td><td>29.4326</td></tr><tr><td>NORTH_AMERICA</td><td>1761449694</td><td>ab3a0c</td><td>UAL2019 </td><td>United States</td><td>-122.6945</td><td>46.519</td></tr><tr><td>NORTH_AMERICA</td><td>1761449694</td><td>a7ad84</td><td>DAL955  </td><td>United States</td><td>-101.1646</td><td>37.4448</td></tr><tr><td>NORTH_AMERICA</td><td>1761449694</td><td>ac9b6a</td><td>N911LP  </td><td>United States</td><td>-84.5183</td><td>38.0288</td></tr><tr><td>NORTH_AMERICA</td><td>1761449694</td><td>c0669e</td><td>WJA598  </td><td>Canada</td><td>-77.8477</td><td>44.0569</td></tr><tr><td>NORTH_AMERICA</td><td>1761449694</td><td>899082</td><td>EVA665  </td><td>Taiwan</td><td>-92.2235</td><td>39.4748</td></tr><tr><td>NORTH_AMERICA</td><td>1761449694</td><td>ade8fa</td><td>AAL2791 </td><td>United States</td><td>-84.3141</td><td>30.9729</td></tr><tr><td>NORTH_AMERICA</td><td>1761449694</td><td>a06cd6</td><td>N12630  </td><td>United States</td><td>-87.2025</td><td>30.4702</td></tr><tr><td>NORTH_AMERICA</td><td>1761449694</td><td>aa5b92</td><td>AAL732  </td><td>United States</td><td>-64.9687</td><td>45.2843</td></tr><tr><td>NORTH_AMERICA</td><td>1761449694</td><td>adc2a7</td><td>AAL2230 </td><td>United States</td><td>-83.0384</td><td>26.4751</td></tr><tr><td>NORTH_AMERICA</td><td>1761449694</td><td>c1e985</td><td>APT2    </td><td>Canada</td><td>-114.0258</td><td>51.1017</td></tr><tr><td>NORTH_AMERICA</td><td>1761449694</td><td>c04051</td><td>ROU1936 </td><td>Canada</td><td>-91.345</td><td>49.3427</td></tr><tr><td>NORTH_AMERICA</td><td>1761449694</td><td>a1460a</td><td>SKW3103 </td><td>United States</td><td>-120.7145</td><td>40.8897</td></tr><tr><td>NORTH_AMERICA</td><td>1761449694</td><td>c1e97a</td><td>EL31    </td><td>Canada</td><td>-113.9947</td><td>51.1167</td></tr><tr><td>NORTH_AMERICA</td><td>1761449694</td><td>a1a986</td><td>ENY3783 </td><td>United States</td><td>-98.2474</td><td>38.3602</td></tr><tr><td>NORTH_AMERICA</td><td>1761449694</td><td>a55d7b</td><td>N445D   </td><td>United States</td><td>-75.3928</td><td>39.1587</td></tr><tr><td>NORTH_AMERICA</td><td>1761449694</td><td>c07993</td><td>TSC122  </td><td>Canada</td><td>-73.5967</td><td>45.3418</td></tr><tr><td>NORTH_AMERICA</td><td>1761449694</td><td>406ec9</td><td>BAW29C  </td><td>United Kingdom</td><td>-71.4555</td><td>42.6632</td></tr><tr><td>NORTH_AMERICA</td><td>1761449694</td><td>a91a0e</td><td>N686FR  </td><td>United States</td><td>-83.0919</td><td>34.8929</td></tr><tr><td>NORTH_AMERICA</td><td>1761449694</td><td>ab4732</td><td>AAL951  </td><td>United States</td><td>-60.1621</td><td>13.5725</td></tr><tr><td>NORTH_AMERICA</td><td>1761449694</td><td>c1e92a</td><td></td><td>Canada</td><td>-79.6477</td><td>43.6728</td></tr><tr><td>NORTH_AMERICA</td><td>1761449694</td><td>c0534e</td><td>FLE665  </td><td>Canada</td><td>-94.7519</td><td>47.6516</td></tr><tr><td>NORTH_AMERICA</td><td>1761449694</td><td>a1463a</td><td>AAL2186 </td><td>United States</td><td>-83.698</td><td>30.9432</td></tr><tr><td>NORTH_AMERICA</td><td>1761449694</td><td>a1a95c</td><td>N206LW  </td><td>United States</td><td>-120.9939</td><td>37.7202</td></tr><tr><td>NORTH_AMERICA</td><td>1761449694</td><td>a32fd5</td><td>SKW3609 </td><td>United States</td><td>-104.4382</td><td>42.3923</td></tr><tr><td>NORTH_AMERICA</td><td>1761449694</td><td>89901f</td><td>CAL008  </td><td>Taiwan</td><td>-118.4034</td><td>33.952</td></tr><tr><td>NORTH_AMERICA</td><td>1761449694</td><td>a5297f</td><td>N4312M  </td><td>United States</td><td>-80.3613</td><td>26.0556</td></tr><tr><td>NORTH_AMERICA</td><td>1761449694</td><td>a8d90e</td><td>N66970  </td><td>United States</td><td>-120.4743</td><td>37.1405</td></tr><tr><td>NORTH_AMERICA</td><td>1761449694</td><td>c1e917</td><td>PU459   </td><td>Canada</td><td>-79.6347</td><td>43.68</td></tr><tr><td>NORTH_AMERICA</td><td>1761449694</td><td>c06627</td><td>CGMRU   </td><td>Canada</td><td>-114.3714</td><td>51.0973</td></tr><tr><td>NORTH_AMERICA</td><td>1761449694</td><td>a3999e</td><td>ATN3357 </td><td>United States</td><td>-117.4281</td><td>34.3394</td></tr><tr><td>NORTH_AMERICA</td><td>1761449694</td><td>a2c992</td><td>SKW3769 </td><td>United States</td><td>-113.3946</td><td>46.2426</td></tr><tr><td>NORTH_AMERICA</td><td>1761449694</td><td>a6dfe7</td><td>FRG374  </td><td>United States</td><td>-94.8984</td><td>41.5321</td></tr><tr><td>NORTH_AMERICA</td><td>1761449694</td><td>a24014</td><td>ENY3412 </td><td>United States</td><td>-99.15</td><td>29.6419</td></tr><tr><td>NORTH_AMERICA</td><td>1761449694</td><td>ab7b38</td><td>EJA839  </td><td>United States</td><td>-70.6339</td><td>43.1324</td></tr><tr><td>NORTH_AMERICA</td><td>1761449694</td><td>a5bffe</td><td>N47NS   </td><td>United States</td><td>-88.0908</td><td>36.51</td></tr><tr><td>NORTH_AMERICA</td><td>1761449694</td><td>a37389</td><td>AAL2597 </td><td>United States</td><td>-118.5613</td><td>34.1944</td></tr><tr><td>NORTH_AMERICA</td><td>1761449694</td><td>a24082</td><td>SKW4141 </td><td>United States</td><td>-122.3159</td><td>47.6861</td></tr><tr><td>NORTH_AMERICA</td><td>1761449694</td><td>a6492f</td><td>DAL411  </td><td>United States</td><td>-96.108</td><td>46.3924</td></tr><tr><td>NORTH_AMERICA</td><td>1761449694</td><td>aca2b4</td><td>N913KC  </td><td>United States</td><td>-119.031</td><td>35.312</td></tr><tr><td>NORTH_AMERICA</td><td>1761449694</td><td>aa2701</td><td>AAL2600 </td><td>United States</td><td>-84.0272</td><td>35.7867</td></tr><tr><td>NORTH_AMERICA</td><td>1761449694</td><td>a8a017</td><td>JBU369  </td><td>United States</td><td>-79.9237</td><td>26.4268</td></tr><tr><td>NORTH_AMERICA</td><td>1761449694</td><td>abdcfd</td><td>ASH6375 </td><td>United States</td><td>-96.9877</td><td>19.1786</td></tr><tr><td>NORTH_AMERICA</td><td>1761449694</td><td>ad734a</td><td>JBU580  </td><td>United States</td><td>-77.6637</td><td>32.3836</td></tr><tr><td>NORTH_AMERICA</td><td>1761449694</td><td>a97029</td><td>SKW6400 </td><td>United States</td><td>-109.3798</td><td>34.9834</td></tr><tr><td>NORTH_AMERICA</td><td>1761449694</td><td>ad1cf5</td><td>JCM944  </td><td>United States</td><td>-98.3989</td><td>29.7291</td></tr><tr><td>NORTH_AMERICA</td><td>1761449694</td><td>ac536c</td><td>SWA3629 </td><td>United States</td><td>-97.5881</td><td>29.5096</td></tr><tr><td>NORTH_AMERICA</td><td>1761449694</td><td>add66d</td><td>AAL1286 </td><td>United States</td><td>-81.3189</td><td>29.2933</td></tr><tr><td>NORTH_AMERICA</td><td>1761449694</td><td>a9e642</td><td>NKS2196 </td><td>United States</td><td>-80.1475</td><td>33.8577</td></tr><tr><td>NORTH_AMERICA</td><td>1761449694</td><td>394a14</td><td>AFR025  </td><td>France</td><td>-108.3215</td><td>46.2441</td></tr><tr><td>NORTH_AMERICA</td><td>1761449694</td><td>ab58c1</td><td>N830EC  </td><td>United States</td><td>-91.4039</td><td>30.9527</td></tr><tr><td>NORTH_AMERICA</td><td>1761449694</td><td>ac407d</td><td>AAL2682 </td><td>United States</td><td>-72.7788</td><td>42.7019</td></tr><tr><td>NORTH_AMERICA</td><td>1761449694</td><td>a18e4c</td><td>EJM187  </td><td>United States</td><td>-79.6247</td><td>43.6746</td></tr><tr><td>NORTH_AMERICA</td><td>1761449694</td><td>ab7b02</td><td>AAL2065 </td><td>United States</td><td>-75.0416</td><td>39.8753</td></tr><tr><td>NORTH_AMERICA</td><td>1761449694</td><td>ac793f</td><td>AAL431  </td><td>United States</td><td>-97.5456</td><td>32.0729</td></tr><tr><td>NORTH_AMERICA</td><td>1761449694</td><td>a7b8ad</td><td>N597P   </td><td>United States</td><td>-107.1645</td><td>35.0438</td></tr><tr><td>NORTH_AMERICA</td><td>1761449694</td><td>a42b45</td><td>DAL3074 </td><td>United States</td><td>-79.3798</td><td>33.8517</td></tr><tr><td>NORTH_AMERICA</td><td>1761449694</td><td>aa38f8</td><td>N758NL  </td><td>United States</td><td>-117.6621</td><td>33.5268</td></tr><tr><td>NORTH_AMERICA</td><td>1761449694</td><td>0d06a7</td><td>SLI866  </td><td>Mexico</td><td>-97.5374</td><td>19.299</td></tr><tr><td>NORTH_AMERICA</td><td>1761449694</td><td>78021c</td><td>CPA3283 </td><td>China</td><td>-109.6188</td><td>50.454</td></tr><tr><td>NORTH_AMERICA</td><td>1761449694</td><td>a7db08</td><td>NKS2167 </td><td>United States</td><td>-84.972</td><td>33.9764</td></tr><tr><td>NORTH_AMERICA</td><td>1761449694</td><td>a9d37b</td><td>SKQ56   </td><td>United States</td><td>-88.6404</td><td>41.5678</td></tr><tr><td>NORTH_AMERICA</td><td>1761449694</td><td>a29b62</td><td>N2670M  </td><td>United States</td><td>-76.1858</td><td>38.7473</td></tr><tr><td>NORTH_AMERICA</td><td>1761449694</td><td>a6bb22</td><td>N53264  </td><td>United States</td><td>-110.8912</td><td>32.9147</td></tr><tr><td>NORTH_AMERICA</td><td>1761449694</td><td>a42b21</td><td>MVK83   </td><td>United States</td><td>-92.8752</td><td>43.9807</td></tr><tr><td>NORTH_AMERICA</td><td>1761449694</td><td>ab5993</td><td></td><td>United States</td><td>-97.0486</td><td>32.8791</td></tr><tr><td>NORTH_AMERICA</td><td>1761449694</td><td>ac0ff9</td><td>SWA149  </td><td>United States</td><td>-89.282</td><td>37.1024</td></tr><tr><td>NORTH_AMERICA</td><td>1761449694</td><td>a528d6</td><td>SWA1519 </td><td>United States</td><td>-122.5473</td><td>45.5736</td></tr><tr><td>NORTH_AMERICA</td><td>1761449694</td><td>a06db4</td><td>AAL1426 </td><td>United States</td><td>-83.7374</td><td>38.0212</td></tr><tr><td>NORTH_AMERICA</td><td>1761449694</td><td>ab201a</td><td>ERU816  </td><td>United States</td><td>-82.6251</td><td>28.0739</td></tr><tr><td>NORTH_AMERICA</td><td>1761449694</td><td>abdce1</td><td>SWA2346 </td><td>United States</td><td>-73.1392</td><td>42.2709</td></tr><tr><td>NORTH_AMERICA</td><td>1761449694</td><td>a9969b</td><td>FFT1241 </td><td>United States</td><td>-83.1391</td><td>32.5362</td></tr><tr><td>NORTH_AMERICA</td><td>1761449694</td><td>a3c2a9</td><td>AAL2518 </td><td>United States</td><td>-85.4068</td><td>37.7416</td></tr><tr><td>NORTH_AMERICA</td><td>1761449694</td><td>a2fe8f</td><td>SKW3506 </td><td>United States</td><td>-115.0295</td><td>35.9532</td></tr><tr><td>NORTH_AMERICA</td><td>1761449694</td><td>a43e7f</td><td>UAL2197 </td><td>United States</td><td>-117.5406</td><td>44.766</td></tr><tr><td>NORTH_AMERICA</td><td>1761449694</td><td>a98386</td><td>ASA41   </td><td>United States</td><td>-97.7508</td><td>42.5291</td></tr><tr><td>NORTH_AMERICA</td><td>1761449694</td><td>a55e60</td><td>NDU445  </td><td>United States</td><td>-111.4197</td><td>32.6084</td></tr><tr><td>NORTH_AMERICA</td><td>1761449694</td><td>a0275c</td><td>AAL341  </td><td>United States</td><td>-118.4065</td><td>33.9415</td></tr><tr><td>NORTH_AMERICA</td><td>1761449694</td><td>a29abd</td><td>YEL6    </td><td>United States</td><td>-90.1091</td><td>34.9968</td></tr><tr><td>NORTH_AMERICA</td><td>1761449694</td><td>a7db0b</td><td>JIA5037 </td><td>United States</td><td>-81.0233</td><td>32.9763</td></tr><tr><td>NORTH_AMERICA</td><td>1761449694</td><td>a2b759</td><td>SWA249  </td><td>United States</td><td>-118.359</td><td>34.2115</td></tr><tr><td>NORTH_AMERICA</td><td>1761449694</td><td>a91b2b</td><td>TAI566  </td><td>United States</td><td>-79.5615</td><td>34.0836</td></tr><tr><td>NORTH_AMERICA</td><td>1761449694</td><td>0d075f</td><td>AMX840  </td><td>Mexico</td><td>-96.4172</td><td>19.8305</td></tr><tr><td>NORTH_AMERICA</td><td>1761449694</td><td>ab4866</td><td>DAL269  </td><td>United States</td><td>-82.3265</td><td>33.5662</td></tr><tr><td>NORTH_AMERICA</td><td>1761449694</td><td>a3871e</td><td>JBU1186 </td><td>United States</td><td>-77.4018</td><td>43.106</td></tr><tr><td>NORTH_AMERICA</td><td>1761449694</td><td>ab485e</td><td>AAL3216 </td><td>United States</td><td>-76.5831</td><td>39.0153</td></tr><tr><td>NORTH_AMERICA</td><td>1761449694</td><td>a2b728</td><td>UPS401  </td><td>United States</td><td>-80.4846</td><td>26.1971</td></tr><tr><td>NORTH_AMERICA</td><td>1761449694</td><td>aaac21</td><td>SKW4730 </td><td>United States</td><td>-107.5187</td><td>40.0546</td></tr><tr><td>NORTH_AMERICA</td><td>1761449694</td><td>a3b11e</td><td>AAL1758 </td><td>United States</td><td>-96.8613</td><td>33.0652</td></tr><tr><td>NORTH_AMERICA</td><td>1761449694</td><td>a79dc4</td><td>DAL916  </td><td>United States</td><td>-108.7885</td><td>37.9335</td></tr><tr><td>NORTH_AMERICA</td><td>1761449694</td><td>0d0710</td><td>AMX560  </td><td>Mexico</td><td>-95.1732</td><td>19.6848</td></tr><tr><td>NORTH_AMERICA</td><td>1761449694</td><td>c05416</td><td>WJA2001 </td><td>Canada</td><td>-112.5327</td><td>49.3903</td></tr><tr><td>NORTH_AMERICA</td><td>1761449694</td><td>a3d792</td><td>N347CS  </td><td>United States</td><td>-84.286</td><td>30.3976</td></tr><tr><td>NORTH_AMERICA</td><td>1761449694</td><td>ac53b2</td><td>SWA900  </td><td>United States</td><td>-102.6869</td><td>37.5386</td></tr><tr><td>NORTH_AMERICA</td><td>1761449694</td><td>ad73a6</td><td>NKS220  </td><td>United States</td><td>-113.1652</td><td>34.6213</td></tr><tr><td>NORTH_AMERICA</td><td>1761449694</td><td>ad73a9</td><td>AAL2491 </td><td>United States</td><td>-90.5428</td><td>38.8099</td></tr><tr><td>NORTH_AMERICA</td><td>1761449694</td><td>a12151</td><td>N172HG  </td><td>United States</td><td>-87.823</td><td>41.3363</td></tr><tr><td>NORTH_AMERICA</td><td>1761449694</td><td>ad99f9</td><td>ASA1188 </td><td>United States</td><td>-91.577</td><td>40.5293</td></tr><tr><td>NORTH_AMERICA</td><td>1761449694</td><td>ac9c50</td><td>N911VU  </td><td>United States</td><td>-84.0175</td><td>36.3595</td></tr><tr><td>NORTH_AMERICA</td><td>1761449694</td><td>06a30b</td><td>QTR8170 </td><td>Qatar</td><td>-76.4834</td><td>36.5765</td></tr><tr><td>NORTH_AMERICA</td><td>1761449694</td><td>ac53f8</td><td>SWA2759 </td><td>United States</td><td>-110.9465</td><td>32.1237</td></tr><tr><td>NORTH_AMERICA</td><td>1761449694</td><td>ac9c6d</td><td>N911WY  </td><td>United States</td><td>-114.9672</td><td>36.0524</td></tr><tr><td>NORTH_AMERICA</td><td>1761449694</td><td>ad60b7</td><td>JBU1223 </td><td>United States</td><td>-90.4821</td><td>39.7314</td></tr><tr><td>NORTH_AMERICA</td><td>1761449694</td><td>ab20e6</td><td>AAY1312 </td><td>United States</td><td>-81.7074</td><td>28.9073</td></tr><tr><td>NORTH_AMERICA</td><td>1761449694</td><td>71c046</td><td>KAL257  </td><td>Republic of Korea</td><td>-74.8425</td><td>42.3692</td></tr><tr><td>NORTH_AMERICA</td><td>1761449694</td><td>a266b9</td><td>N254DV  </td><td>United States</td><td>-82.8508</td><td>41.8121</td></tr><tr><td>NORTH_AMERICA</td><td>1761449694</td><td>a399af</td><td>N331BR  </td><td>United States</td><td>-96.6679</td><td>32.7217</td></tr><tr><td>NORTH_AMERICA</td><td>1761449694</td><td>a92dfc</td><td>UAL924  </td><td>United States</td><td>-77.4574</td><td>38.9381</td></tr><tr><td>NORTH_AMERICA</td><td>1761449694</td><td>ab8f0d</td><td>DAL2151 </td><td>United States</td><td>-118.9135</td><td>45.7055</td></tr><tr><td>NORTH_AMERICA</td><td>1761449694</td><td>a8c759</td><td>FFT3244 </td><td>United States</td><td>-96.9832</td><td>32.7572</td></tr><tr><td>NORTH_AMERICA</td><td>1761449694</td><td>a0bf90</td><td>UAL2224 </td><td>United States</td><td>-77.2434</td><td>38.2457</td></tr><tr><td>NORTH_AMERICA</td><td>1761449694</td><td>a91ab7</td><td>NKS1211 </td><td>United States</td><td>-80.247</td><td>26.1509</td></tr><tr><td>NORTH_AMERICA</td><td>1761449694</td><td>c1e8f6</td><td>TR443   </td><td>Canada</td><td>-79.6203</td><td>43.6844</td></tr><tr><td>NORTH_AMERICA</td><td>1761449694</td><td>a146f9</td><td>UAL978  </td><td>United States</td><td>-74.684</td><td>40.1597</td></tr><tr><td>NORTH_AMERICA</td><td>1761449694</td><td>c1e8c0</td><td>BLUE341 </td><td>Canada</td><td>-79.6135</td><td>43.6757</td></tr><tr><td>NORTH_AMERICA</td><td>1761449694</td><td>c1e8d3</td><td>TR442   </td><td>Canada</td><td>-79.6294</td><td>43.683</td></tr><tr><td>NORTH_AMERICA</td><td>1761449694</td><td>a17c65</td><td>SKW3427 </td><td>United States</td><td>-110.9403</td><td>32.1201</td></tr><tr><td>NORTH_AMERICA</td><td>1761449694</td><td>c052d3</td><td>WJA2947 </td><td>Canada</td><td>-73.5081</td><td>45.6037</td></tr><tr><td>NORTH_AMERICA</td><td>1761449694</td><td>aabf50</td><td>SCX3093 </td><td>United States</td><td>-103.2442</td><td>31.2134</td></tr><tr><td>NORTH_AMERICA</td><td>1761449694</td><td>a373ec</td><td>N321VK  </td><td>United States</td><td>-107.8722</td><td>38.1258</td></tr><tr><td>NORTH_AMERICA</td><td>1761449694</td><td>c1e8a8</td><td>BUS821  </td><td>Canada</td><td>-79.6346</td><td>43.68</td></tr><tr><td>NORTH_AMERICA</td><td>1761449694</td><td>a3c3e6</td><td>UAL8164 </td><td>United States</td><td>-114.2242</td><td>36.1212</td></tr><tr><td>NORTH_AMERICA</td><td>1761449694</td><td>a8fc06</td><td>UAL2157 </td><td>United States</td><td>-107.1244</td><td>37.7769</td></tr><tr><td>NORTH_AMERICA</td><td>1761449694</td><td>a2b6ff</td><td>SKW3520 </td><td>United States</td><td>-106.1357</td><td>38.4041</td></tr><tr><td>NORTH_AMERICA</td><td>1761449694</td><td>aa26c8</td><td>SKW4927 </td><td>United States</td><td>-83.9181</td><td>42.6635</td></tr><tr><td>NORTH_AMERICA</td><td>1761449694</td><td>406ecd</td><td>VIR166G </td><td>United Kingdom</td><td>-77.4969</td><td>25.6956</td></tr><tr><td>NORTH_AMERICA</td><td>1761449694</td><td>a31f7f</td><td>N300BV  </td><td>United States</td><td>-92.1275</td><td>34.5445</td></tr><tr><td>NORTH_AMERICA</td><td>1761449694</td><td>a120da</td><td>N172CN  </td><td>United States</td><td>-158.7137</td><td>21.4651</td></tr><tr><td>NORTH_AMERICA</td><td>1761449694</td><td>a480dc</td><td>O29EI1  </td><td>United States</td><td>-78.427</td><td>39.9592</td></tr><tr><td>NORTH_AMERICA</td><td>1761449694</td><td>ab7ae4</td><td>DAL52   </td><td>United States</td><td>-64.5923</td><td>46.0848</td></tr><tr><td>NORTH_AMERICA</td><td>1761449694</td><td>add734</td><td>JBU277  </td><td>United States</td><td>-105.5606</td><td>37.4069</td></tr><tr><td>NORTH_AMERICA</td><td>1761449694</td><td>405bfe</td><td>BAW22E  </td><td>United Kingdom</td><td>-63.8711</td><td>47.2127</td></tr><tr><td>NORTH_AMERICA</td><td>1761449694</td><td>405bfc</td><td>BAW2LJ  </td><td>United Kingdom</td><td>-67.2439</td><td>44.8516</td></tr><tr><td>NORTH_AMERICA</td><td>1761449694</td><td>ac9acc</td><td>N911EF  </td><td>United States</td><td>-106.8919</td><td>32.2742</td></tr><tr><td>NORTH_AMERICA</td><td>1761449694</td><td>ad6116</td><td>AAL2857 </td><td>United States</td><td>-98.3258</td><td>36.4913</td></tr><tr><td>NORTH_AMERICA</td><td>1761449694</td><td>a6cf20</td><td>LAE2524 </td><td>United States</td><td>-81.9605</td><td>12.7375</td></tr><tr><td>NORTH_AMERICA</td><td>1761449694</td><td>a8d5bd</td><td>AAL1513 </td><td>United States</td><td>-107.7006</td><td>32.6584</td></tr><tr><td>NORTH_AMERICA</td><td>1761449694</td><td>a67b76</td><td>N517AF  </td><td>United States</td><td>-111.8279</td><td>32.9249</td></tr><tr><td>NORTH_AMERICA</td><td>1761449694</td><td>a43b91</td><td>DAL819  </td><td>United States</td><td>-113.6768</td><td>32.8181</td></tr><tr><td>NORTH_AMERICA</td><td>1761449694</td><td>a92b0c</td><td>DAL635  </td><td>United States</td><td>-122.3483</td><td>37.61</td></tr><tr><td>NORTH_AMERICA</td><td>1761449694</td><td>0d09a2</td><td>VTM558  </td><td>Mexico</td><td>-91.1989</td><td>36.7894</td></tr><tr><td>NORTH_AMERICA</td><td>1761449694</td><td>a81e2a</td><td>N622FB  </td><td>United States</td><td>-112.1154</td><td>33.583</td></tr><tr><td>NORTH_AMERICA</td><td>1761449694</td><td>ac50fa</td><td>FDX97   </td><td>United States</td><td>-67.8374</td><td>46.4577</td></tr><tr><td>NORTH_AMERICA</td><td>1761449694</td><td>a8d5a4</td><td>UAL211  </td><td>United States</td><td>-99.5731</td><td>30.4286</td></tr><tr><td>NORTH_AMERICA</td><td>1761449694</td><td>a1442f</td><td>SWA1548 </td><td>United States</td><td>-91.5473</td><td>34.8221</td></tr><tr><td>NORTH_AMERICA</td><td>1761449694</td><td>a03765</td><td>AAL300  </td><td>United States</td><td>-75.0581</td><td>41.294</td></tr><tr><td>NORTH_AMERICA</td><td>1761449694</td><td>a27737</td><td>SWA4040 </td><td>United States</td><td>-117.8631</td><td>33.6848</td></tr><tr><td>NORTH_AMERICA</td><td>1761449694</td><td>a4f2d3</td><td>LNE622  </td><td>United States</td><td>-80.98</td><td>25.1448</td></tr><tr><td>NORTH_AMERICA</td><td>1761449694</td><td>c00dce</td><td>FLE651  </td><td>Canada</td><td>-68.4185</td><td>45.5763</td></tr><tr><td>NORTH_AMERICA</td><td>1761449694</td><td>a3d425</td><td>FFT2632 </td><td>United States</td><td>-104.2242</td><td>38.7098</td></tr><tr><td>NORTH_AMERICA</td><td>1761449694</td><td>ac0f26</td><td>SWA1640 </td><td>United States</td><td>-109.265</td><td>36.5794</td></tr><tr><td>NORTH_AMERICA</td><td>1761449694</td><td>abb9b2</td><td>SWA2362 </td><td>United States</td><td>-110.0468</td><td>35.5058</td></tr><tr><td>NORTH_AMERICA</td><td>1761449694</td><td>aa7ebc</td><td>UAL1535 </td><td>United States</td><td>-122.3809</td><td>37.6182</td></tr><tr><td>NORTH_AMERICA</td><td>1761449694</td><td>a2644a</td><td>SKW146A </td><td>United States</td><td>-123.1742</td><td>49.196</td></tr><tr><td>NORTH_AMERICA</td><td>1761449694</td><td>abef16</td><td>SWA937  </td><td>United States</td><td>-96.7518</td><td>44.4907</td></tr><tr><td>NORTH_AMERICA</td><td>1761449694</td><td>8991a4</td><td>CAL5234 </td><td>Taiwan</td><td>-94.4164</td><td>45.7002</td></tr><tr><td>NORTH_AMERICA</td><td>1761449694</td><td>a0cdf3</td><td>AAL1205 </td><td>United States</td><td>-108.0201</td><td>32.3118</td></tr><tr><td>NORTH_AMERICA</td><td>1761449694</td><td>a44db3</td><td>DAL931  </td><td>United States</td><td>-123.7364</td><td>48.5079</td></tr><tr><td>NORTH_AMERICA</td><td>1761449694</td><td>abb9df</td><td>SWA4059 </td><td>United States</td><td>-119.5466</td><td>39.4782</td></tr><tr><td>NORTH_AMERICA</td><td>1761449694</td><td>c00da8</td><td>FLE603  </td><td>Canada</td><td>-98.2395</td><td>48.2632</td></tr><tr><td>NORTH_AMERICA</td><td>1761449694</td><td>ab8c37</td><td>AAL944  </td><td>United States</td><td>-75.655</td><td>37.2632</td></tr><tr><td>NORTH_AMERICA</td><td>1761449694</td><td>ad1c18</td><td>TAI450  </td><td>United States</td><td>-80.3179</td><td>25.786</td></tr><tr><td>NORTH_AMERICA</td><td>1761449694</td><td>ac0f4d</td><td>SWA478  </td><td>United States</td><td>-88.7783</td><td>41.3863</td></tr><tr><td>NORTH_AMERICA</td><td>1761449694</td><td>a40797</td><td>AAL2545 </td><td>United States</td><td>-84.8858</td><td>42.8529</td></tr><tr><td>NORTH_AMERICA</td><td>1761449694</td><td>a2fad8</td><td>SKW3557 </td><td>United States</td><td>-122.9335</td><td>44.1561</td></tr><tr><td>NORTH_AMERICA</td><td>1761449694</td><td>abef54</td><td>SWA2722 </td><td>United States</td><td>-114.1449</td><td>46.9299</td></tr><tr><td>NORTH_AMERICA</td><td>1761449694</td><td>c1e5dd</td><td>SUR8910 </td><td>Canada</td><td>-73.748</td><td>45.4591</td></tr><tr><td>NORTH_AMERICA</td><td>1761449694</td><td>acc6ce</td><td>NKS3447 </td><td>United States</td><td>-102.9725</td><td>33.8866</td></tr><tr><td>NORTH_AMERICA</td><td>1761449694</td><td>ade6b0</td><td>N995RC  </td><td>United States</td><td>-117.5206</td><td>33.8206</td></tr><tr><td>NORTH_AMERICA</td><td>1761449694</td><td>aacf7f</td><td>NDU796  </td><td>United States</td><td>-116.7791</td><td>33.1293</td></tr><tr><td>NORTH_AMERICA</td><td>1761449694</td><td>c1e5e1</td><td>TOW 902 </td><td>Canada</td><td>-123.1719</td><td>49.1986</td></tr><tr><td>NORTH_AMERICA</td><td>1761449694</td><td>406d4d</td><td>VIR48WE </td><td>United Kingdom</td><td>-74.5314</td><td>46.0284</td></tr><tr><td>NORTH_AMERICA</td><td>1761449694</td><td>c1e5f9</td><td>TRU118  </td><td>Canada</td><td>-123.1925</td><td>49.1994</td></tr><tr><td>NORTH_AMERICA</td><td>1761449694</td><td>c1e5f1</td><td>WLD65   </td><td>Canada</td><td>-123.1552</td><td>49.1817</td></tr><tr><td>NORTH_AMERICA</td><td>1761449694</td><td>a8c439</td><td>PDT6013 </td><td>United States</td><td>-84.6457</td><td>37.8729</td></tr><tr><td>NORTH_AMERICA</td><td>1761449694</td><td>ad976e</td><td>NKS1662 </td><td>United States</td><td>-91.6577</td><td>41.5161</td></tr><tr><td>NORTH_AMERICA</td><td>1761449694</td><td>a7b779</td><td>ASA7    </td><td>United States</td><td>-114.2908</td><td>38.4376</td></tr><tr><td>NORTH_AMERICA</td><td>1761449694</td><td>4ba94b</td><td>THY76Y  </td><td>Turkey</td><td>-122.8618</td><td>49.2139</td></tr><tr><td>NORTH_AMERICA</td><td>1761449694</td><td>c00e6c</td><td>FLE2615 </td><td>Canada</td><td>-79.3729</td><td>43.0505</td></tr><tr><td>NORTH_AMERICA</td><td>1761449694</td><td>c062aa</td><td>CGLJL   </td><td>Canada</td><td>-114.3398</td><td>51.1552</td></tr><tr><td>NORTH_AMERICA</td><td>1761449694</td><td>a20f1a</td><td>UCA4321 </td><td>United States</td><td>-74.7195</td><td>42.4549</td></tr><tr><td>NORTH_AMERICA</td><td>1761449694</td><td>c1e5bf</td><td>WLD61   </td><td>Canada</td><td>-123.1797</td><td>49.1889</td></tr><tr><td>NORTH_AMERICA</td><td>1761449694</td><td>c1e5d1</td><td>TOW916  </td><td>Canada</td><td>-123.1838</td><td>49.1938</td></tr><tr><td>NORTH_AMERICA</td><td>1761449694</td><td>c1e5a8</td><td>WL62    </td><td>Canada</td><td>-123.1497</td><td>49.1994</td></tr><tr><td>NORTH_AMERICA</td><td>1761449694</td><td>a07f1b</td><td>N131CA  </td><td>United States</td><td>-117.5464</td><td>33.9721</td></tr><tr><td>NORTH_AMERICA</td><td>1761449694</td><td>4ba947</td><td>THY10   </td><td>Turkey</td><td>-118.406</td><td>33.9486</td></tr><tr><td>NORTH_AMERICA</td><td>1761449694</td><td>4ba945</td><td>THY8    </td><td>Turkey</td><td>-77.5042</td><td>39.0319</td></tr><tr><td>NORTH_AMERICA</td><td>1761449694</td><td>a4e119</td><td>N413UT  </td><td>United States</td><td>-83.8648</td><td>36.1231</td></tr><tr><td>NORTH_AMERICA</td><td>1761449694</td><td>a1ef41</td><td>N2235V  </td><td>United States</td><td>-118.363</td><td>33.8716</td></tr><tr><td>NORTH_AMERICA</td><td>1761449694</td><td>acb470</td><td>AAL2436 </td><td>United States</td><td>-87.7331</td><td>32.7622</td></tr><tr><td>NORTH_AMERICA</td><td>1761449694</td><td>a88737</td><td>FFT2890 </td><td>United States</td><td>-104.5148</td><td>38.8028</td></tr><tr><td>NORTH_AMERICA</td><td>1761449694</td><td>a55ada</td><td>KPO444  </td><td>United States</td><td>-77.9378</td><td>37.846</td></tr><tr><td>NORTH_AMERICA</td><td>1761449694</td><td>a79aae</td><td>HAL1615 </td><td>United States</td><td>-112.6147</td><td>37.7883</td></tr><tr><td>NORTH_AMERICA</td><td>1761449694</td><td>a67ad0</td><td>N5165R  </td><td>United States</td><td>-77.1182</td><td>40.3258</td></tr><tr><td>NORTH_AMERICA</td><td>1761449694</td><td>a49197</td><td>N3939X  </td><td>United States</td><td>-104.5226</td><td>39.7996</td></tr><tr><td>NORTH_AMERICA</td><td>1761449694</td><td>aa7f46</td><td>UAL1543 </td><td>United States</td><td>-66.043</td><td>18.4338</td></tr><tr><td>NORTH_AMERICA</td><td>1761449694</td><td>a263dc</td><td>ENY4065 </td><td>United States</td><td>-98.1018</td><td>28.9704</td></tr><tr><td>NORTH_AMERICA</td><td>1761449694</td><td>aa7f2b</td><td>UAL2426 </td><td>United States</td><td>-98.0937</td><td>29.6307</td></tr><tr><td>NORTH_AMERICA</td><td>1761449694</td><td>aa7f2a</td><td>UAL2693 </td><td>United States</td><td>-89.2921</td><td>43.3282</td></tr><tr><td>NORTH_AMERICA</td><td>1761449694</td><td>a526e2</td><td>AAL3124 </td><td>United States</td><td>-97.0338</td><td>32.8815</td></tr><tr><td>NORTH_AMERICA</td><td>1761449694</td><td>aa7f27</td><td>UAL1229 </td><td>United States</td><td>-106.6555</td><td>39.7753</td></tr><tr><td>NORTH_AMERICA</td><td>1761449694</td><td>aa7f25</td><td>UAL1326 </td><td>United States</td><td>-109.3773</td><td>36.6697</td></tr><tr><td>NORTH_AMERICA</td><td>1761449694</td><td>0d08f3</td><td>VIV583  </td><td>Mexico</td><td>-96.9908</td><td>32.6396</td></tr><tr><td>NORTH_AMERICA</td><td>1761449694</td><td>a143e2</td><td>CXK699  </td><td>United States</td><td>-104.6858</td><td>38.8129</td></tr><tr><td>NORTH_AMERICA</td><td>1761449694</td><td>a406c9</td><td>FFT4212 </td><td>United States</td><td>-84.5568</td><td>33.6318</td></tr><tr><td>NORTH_AMERICA</td><td>1761449694</td><td>c00e15</td><td>ACA1427 </td><td>Canada</td><td>-81.395</td><td>31.5803</td></tr><tr><td>NORTH_AMERICA</td><td>1761449694</td><td>a143e9</td><td></td><td>United States</td><td>-157.9432</td><td>21.3263</td></tr><tr><td>NORTH_AMERICA</td><td>1761449694</td><td>a023ff</td><td></td><td>United States</td><td>-122.7648</td><td>38.4888</td></tr><tr><td>NORTH_AMERICA</td><td>1761449694</td><td>c05056</td><td>ACA745  </td><td>Canada</td><td>-120.4794</td><td>37.6919</td></tr><tr><td>NORTH_AMERICA</td><td>1761449694</td><td>aa7f03</td><td>UAL333  </td><td>United States</td><td>-114.0934</td><td>36.1972</td></tr><tr><td>NORTH_AMERICA</td><td>1761449694</td><td>aa7f02</td><td>UAL2223 </td><td>United States</td><td>-87.9938</td><td>41.9689</td></tr><tr><td>NORTH_AMERICA</td><td>1761449694</td><td>aa7f01</td><td>UAL1972 </td><td>United States</td><td>-108.2666</td><td>37.5768</td></tr><tr><td>NORTH_AMERICA</td><td>1761449694</td><td>aa7f09</td><td>UAL737  </td><td>United States</td><td>-123.166</td><td>45.4659</td></tr><tr><td>NORTH_AMERICA</td><td>1761449694</td><td>a8c489</td><td>QXE2086 </td><td>United States</td><td>-122.2275</td><td>37.7103</td></tr><tr><td>NORTH_AMERICA</td><td>1761449694</td><td>abdaa4</td><td>GTI8559 </td><td>United States</td><td>-92.0716</td><td>44.0127</td></tr><tr><td>NORTH_AMERICA</td><td>1761449694</td><td>a383f3</td><td>JBU820  </td><td>United States</td><td>-83.3468</td><td>42.2528</td></tr><tr><td>NORTH_AMERICA</td><td>1761449694</td><td>c0506b</td><td>ACA779  </td><td>Canada</td><td>-112.9692</td><td>35.6957</td></tr><tr><td>NORTH_AMERICA</td><td>1761449694</td><td>acc757</td><td>N922TX  </td><td>United States</td><td>-81.7729</td><td>40.5531</td></tr><tr><td>NORTH_AMERICA</td><td>1761449694</td><td>c1e672</td><td>SWP98   </td><td>Canada</td><td>-123.1895</td><td>49.2012</td></tr><tr><td>NORTH_AMERICA</td><td>1761449694</td><td>ac5121</td><td>N893GT  </td><td>United States</td><td>-112.2227</td><td>33.4641</td></tr><tr><td>NORTH_AMERICA</td><td>1761449694</td><td>a9f777</td><td>NKS777  </td><td>United States</td><td>-112.4964</td><td>35.5349</td></tr><tr><td>NORTH_AMERICA</td><td>1761449694</td><td>ac6445</td><td>AAL1136 </td><td>United States</td><td>-111.0129</td><td>34.1046</td></tr><tr><td>NORTH_AMERICA</td><td>1761449694</td><td>a8d6de</td><td>NKS2043 </td><td>United States</td><td>-82.5409</td><td>40.4465</td></tr><tr><td>NORTH_AMERICA</td><td>1761449694</td><td>ab31f7</td><td>PCJ20   </td><td>United States</td><td>-116.9376</td><td>42.0744</td></tr><tr><td>NORTH_AMERICA</td><td>1761449694</td><td>a4e0ec</td><td>SKW3091 </td><td>United States</td><td>-120.3641</td><td>47.2296</td></tr><tr><td>NORTH_AMERICA</td><td>1761449694</td><td>c0656f</td><td>WJA10   </td><td>Canada</td><td>-106.1057</td><td>53.2817</td></tr><tr><td>NORTH_AMERICA</td><td>1761449694</td><td>acb4ca</td><td>N918EC  </td><td>United States</td><td>-78.2771</td><td>35.4723</td></tr><tr><td>NORTH_AMERICA</td><td>1761449694</td><td>a8c3a2</td><td>FFT2638 </td><td>United States</td><td>-112.008</td><td>33.4342</td></tr><tr><td>NORTH_AMERICA</td><td>1761449694</td><td>a80c87</td><td>ASA143  </td><td>United States</td><td>-132.761</td><td>55.6273</td></tr><tr><td>NORTH_AMERICA</td><td>1761449694</td><td>a8e9fc</td><td>GTX247  </td><td>United States</td><td>-77.1645</td><td>39.1702</td></tr><tr><td>NORTH_AMERICA</td><td>1761449694</td><td>a7a3e3</td><td>N5913D  </td><td>United States</td><td>-150.9916</td><td>60.4774</td></tr><tr><td>NORTH_AMERICA</td><td>1761449694</td><td>a43c7a</td><td>DAL2495 </td><td>United States</td><td>-88.2099</td><td>37.2699</td></tr><tr><td>NORTH_AMERICA</td><td>1761449694</td><td>aa11c1</td><td>N748RH  </td><td>United States</td><td>-157.6609</td><td>21.2919</td></tr><tr><td>NORTH_AMERICA</td><td>1761449694</td><td>c05218</td><td>ROU1905 </td><td>Canada</td><td>-107.6108</td><td>49.2309</td></tr><tr><td>NORTH_AMERICA</td><td>1761449694</td><td>ac791d</td><td>AAL2741 </td><td>United States</td><td>-81.376</td><td>32.1308</td></tr><tr><td>NORTH_AMERICA</td><td>1761449694</td><td>a1584a</td><td>EDV5264 </td><td>United States</td><td>-78.7285</td><td>42.9361</td></tr><tr><td>NORTH_AMERICA</td><td>1761449694</td><td>0c6061</td><td>BWA526  </td><td>Trinidad and Tobago</td><td>-73.7002</td><td>40.6168</td></tr><tr><td>NORTH_AMERICA</td><td>1761449694</td><td>a6cc45</td><td>AAL1022 </td><td>United States</td><td>-97.0389</td><td>32.9078</td></tr><tr><td>NORTH_AMERICA</td><td>1761449694</td><td>a44ef8</td><td>JTZ377  </td><td>United States</td><td>-96.8534</td><td>32.8455</td></tr><tr><td>NORTH_AMERICA</td><td>1761449694</td><td>a31be9</td><td>N3PD    </td><td>United States</td><td>-73.2365</td><td>40.8872</td></tr><tr><td>NORTH_AMERICA</td><td>1761449694</td><td>0d0963</td><td>VIV436  </td><td>Mexico</td><td>-84.6697</td><td>18.7143</td></tr><tr><td>NORTH_AMERICA</td><td>1761449694</td><td>a3c235</td><td>NDU341  </td><td>United States</td><td>-111.9155</td><td>32.8602</td></tr><tr><td>NORTH_AMERICA</td><td>1761449694</td><td>acc7ae</td><td>EDV5481 </td><td>United States</td><td>-73.2272</td><td>43.7802</td></tr><tr><td>NORTH_AMERICA</td><td>1761449694</td><td>a3c246</td><td>DAL2552 </td><td>United States</td><td>-74.1761</td><td>40.6833</td></tr><tr><td>NORTH_AMERICA</td><td>1761449694</td><td>a44ec6</td><td>N377L   </td><td>United States</td><td>-112.5708</td><td>33.221</td></tr><tr><td>NORTH_AMERICA</td><td>1761449694</td><td>a67bc8</td><td>DAL506  </td><td>United States</td><td>-119.4358</td><td>46.2179</td></tr><tr><td>NORTH_AMERICA</td><td>1761449694</td><td>a1dbc4</td><td>N219JL  </td><td>United States</td><td>-93.6296</td><td>35.6022</td></tr><tr><td>NORTH_AMERICA</td><td>1761449694</td><td>c00ec2</td><td>WJA2719 </td><td>Canada</td><td>-81.1228</td><td>24.608</td></tr><tr><td>NORTH_AMERICA</td><td>1761449694</td><td>aa3930</td><td>EJA758  </td><td>United States</td><td>-103.3179</td><td>39.4561</td></tr><tr><td>NORTH_AMERICA</td><td>1761449694</td><td>ab44dd</td><td>EJA825  </td><td>United States</td><td>-105.0299</td><td>34.4837</td></tr><tr><td>NORTH_AMERICA</td><td>1761449694</td><td>a037b9</td><td>DAL2954 </td><td>United States</td><td>-96.9087</td><td>45.4084</td></tr><tr><td>NORTH_AMERICA</td><td>1761449694</td><td>abdd4a</td><td>SWA1714 </td><td>United States</td><td>-117.1661</td><td>32.7278</td></tr><tr><td>NORTH_AMERICA</td><td>1761449694</td><td>a993f1</td><td>SKW6451 </td><td>United States</td><td>-111.5945</td><td>33.2011</td></tr><tr><td>NORTH_AMERICA</td><td>1761449694</td><td>0d0932</td><td>VOI1838 </td><td>Mexico</td><td>-118.5145</td><td>34.8465</td></tr><tr><td>NORTH_AMERICA</td><td>1761449694</td><td>a2b562</td><td>ASA106  </td><td>United States</td><td>-122.7258</td><td>47.9036</td></tr><tr><td>NORTH_AMERICA</td><td>1761449694</td><td>ad2efa</td><td>DAL2425 </td><td>United States</td><td>-81.6601</td><td>32.3266</td></tr><tr><td>NORTH_AMERICA</td><td>1761449694</td><td>c050c4</td><td>ACA159  </td><td>Canada</td><td>-82.29</td><td>44.4991</td></tr><tr><td>NORTH_AMERICA</td><td>1761449694</td><td>c050c5</td><td>ACA696  </td><td>Canada</td><td>-67.6133</td><td>45.8941</td></tr><tr><td>NORTH_AMERICA</td><td>1761449694</td><td>c050c0</td><td>ACA558  </td><td>Canada</td><td>-119.7051</td><td>36.4055</td></tr><tr><td>NORTH_AMERICA</td><td>1761449694</td><td>c063ce</td><td>CWA921  </td><td>Canada</td><td>-114.7398</td><td>54.4889</td></tr><tr><td>NORTH_AMERICA</td><td>1761449694</td><td>ab3282</td><td>SCX8438 </td><td>United States</td><td>-74.6878</td><td>42.1541</td></tr><tr><td>NORTH_AMERICA</td><td>1761449694</td><td>a05a01</td><td>UAL317  </td><td>United States</td><td>-74.1359</td><td>40.7258</td></tr><tr><td>NORTH_AMERICA</td><td>1761449694</td><td>0d07f0</td><td>AMX556  </td><td>Mexico</td><td>-99.0459</td><td>19.4529</td></tr><tr><td>NORTH_AMERICA</td><td>1761449694</td><td>a0aa26</td><td>N142AH  </td><td>United States</td><td>-71.7731</td><td>42.2879</td></tr><tr><td>NORTH_AMERICA</td><td>1761449694</td><td>ad7282</td><td>DAL2846 </td><td>United States</td><td>-74.2711</td><td>40.5415</td></tr><tr><td>NORTH_AMERICA</td><td>1761449694</td><td>406e0f</td><td>VIR118  </td><td>United Kingdom</td><td>-77.4293</td><td>27.9968</td></tr><tr><td>NORTH_AMERICA</td><td>1761449694</td><td>a0aa2b</td><td>AAL2714 </td><td>United States</td><td>-97.035</td><td>32.8973</td></tr><tr><td>NORTH_AMERICA</td><td>1761449694</td><td>aa253b</td><td>AAL931  </td><td>United States</td><td>-79.4565</td><td>13.7354</td></tr><tr><td>NORTH_AMERICA</td><td>1761449694</td><td>a9d0fe</td><td>RPA3538 </td><td>United States</td><td>-86.444</td><td>40.0698</td></tr><tr><td>NORTH_AMERICA</td><td>1761449694</td><td>c063c8</td><td>CWA927  </td><td>Canada</td><td>-114.0153</td><td>51.126</td></tr><tr><td>NORTH_AMERICA</td><td>1761449694</td><td>a7fed0</td><td>NKS3247 </td><td>United States</td><td>-95.2819</td><td>29.9776</td></tr><tr><td>NORTH_AMERICA</td><td>1761449694</td><td>ab4515</td><td>SCX396  </td><td>United States</td><td>-105.3514</td><td>40.3161</td></tr><tr><td>NORTH_AMERICA</td><td>1761449694</td><td>0d07b3</td><td>VOI3282 </td><td>Mexico</td><td>-112.096</td><td>31.0384</td></tr><tr><td>NORTH_AMERICA</td><td>1761449694</td><td>aa37ce</td><td>AAL134  </td><td>United States</td><td>-107.7938</td><td>43.1658</td></tr><tr><td>NORTH_AMERICA</td><td>1761449694</td><td>a55d50</td><td>N445BG  </td><td>United States</td><td>-83.9147</td><td>41.5421</td></tr><tr><td>NORTH_AMERICA</td><td>1761449694</td><td>a9d284</td><td>ASA301  </td><td>United States</td><td>-121.859</td><td>45.5012</td></tr><tr><td>NORTH_AMERICA</td><td>1761449694</td><td>a17a5a</td><td>N1947F  </td><td>United States</td><td>-80.6271</td><td>27.9598</td></tr><tr><td>NORTH_AMERICA</td><td>1761449694</td><td>a2a1a5</td><td>ENY3341 </td><td>United States</td><td>-80.8393</td><td>35.2681</td></tr><tr><td>NORTH_AMERICA</td><td>1761449694</td><td>ab5867</td><td>AAL963  </td><td>United States</td><td>-98.2284</td><td>29.3841</td></tr><tr><td>NORTH_AMERICA</td><td>1761449694</td><td>a2c7f3</td><td>LN279AH </td><td>United States</td><td>-91.5423</td><td>41.6401</td></tr><tr><td>NORTH_AMERICA</td><td>1761449694</td><td>a754b5</td><td>UAL2681 </td><td>United States</td><td>-120.7008</td><td>37.6645</td></tr><tr><td>NORTH_AMERICA</td><td>1761449694</td><td>a384d5</td><td>ENY3450 </td><td>United States</td><td>-97.8773</td><td>43.049</td></tr><tr><td>NORTH_AMERICA</td><td>1761449694</td><td>ad2ea1</td><td>ASA369  </td><td>United States</td><td>-99.8412</td><td>37.5883</td></tr><tr><td>NORTH_AMERICA</td><td>1761449694</td><td>a8b266</td><td>N66FJ   </td><td>United States</td><td>-86.4819</td><td>35.9758</td></tr><tr><td>NORTH_AMERICA</td><td>1761449694</td><td>abeeea</td><td>SWA1445 </td><td>United States</td><td>-120.7453</td><td>35.3284</td></tr><tr><td>NORTH_AMERICA</td><td>1761449694</td><td>a2b4ea</td><td>UAL2462 </td><td>United States</td><td>-111.5032</td><td>39.6273</td></tr><tr><td>NORTH_AMERICA</td><td>1761449694</td><td>781941</td><td>CSN436  </td><td>China</td><td>-91.7857</td><td>47.1199</td></tr><tr><td>NORTH_AMERICA</td><td>1761449694</td><td>a1110d</td><td>SKW5464 </td><td>United States</td><td>-84.6695</td><td>37.9791</td></tr><tr><td>NORTH_AMERICA</td><td>1761449694</td><td>a28ab5</td><td>LXJ263  </td><td>United States</td><td>-89.6989</td><td>32.127</td></tr><tr><td>NORTH_AMERICA</td><td>1761449694</td><td>a1244d</td><td>UAL404  </td><td>United States</td><td>-83.2019</td><td>34.2735</td></tr><tr><td>NORTH_AMERICA</td><td>1761449694</td><td>a9c2de</td><td>SKW6467 </td><td>United States</td><td>-106.6775</td><td>40.0345</td></tr><tr><td>NORTH_AMERICA</td><td>1761449694</td><td>a972ee</td><td>GTI3510 </td><td>United States</td><td>-119.7943</td><td>37.5648</td></tr><tr><td>NORTH_AMERICA</td><td>1761449694</td><td>a8fe5d</td><td>NKS2053 </td><td>United States</td><td>-84.427</td><td>33.6447</td></tr><tr><td>NORTH_AMERICA</td><td>1761449694</td><td>a9d5e5</td><td>UAL720  </td><td>United States</td><td>-107.3099</td><td>44.1436</td></tr><tr><td>NORTH_AMERICA</td><td>1761449694</td><td>a8fe57</td><td>NDU679  </td><td>United States</td><td>-111.6498</td><td>33.2979</td></tr><tr><td>NORTH_AMERICA</td><td>1761449694</td><td>c03160</td><td>CFSSD   </td><td>Canada</td><td>-106.6834</td><td>52.1704</td></tr><tr><td>NORTH_AMERICA</td><td>1761449694</td><td>a23138</td><td>ENY3739 </td><td>United States</td><td>-84.126</td><td>33.7261</td></tr><tr><td>NORTH_AMERICA</td><td>1761449694</td><td>a3a155</td><td>DAL2472 </td><td>United States</td><td>-77.6664</td><td>43.1322</td></tr><tr><td>NORTH_AMERICA</td><td>1761449694</td><td>a9873d</td><td>ASA1098 </td><td>United States</td><td>-117.0742</td><td>32.7052</td></tr><tr><td>NORTH_AMERICA</td><td>1761449694</td><td>a36493</td><td>SVX43   </td><td>United States</td><td>-159.5626</td><td>59.7146</td></tr><tr><td>NORTH_AMERICA</td><td>1761449694</td><td>a9741d</td><td>AAL2903 </td><td>United States</td><td>-82.3025</td><td>39.8362</td></tr><tr><td>NORTH_AMERICA</td><td>1761449694</td><td>ad63a8</td><td>TAI520  </td><td>United States</td><td>-111.7421</td><td>30.0277</td></tr><tr><td>NORTH_AMERICA</td><td>1761449694</td><td>a8540b</td><td>PDT6078 </td><td>United States</td><td>-81.2302</td><td>33.9642</td></tr><tr><td>NORTH_AMERICA</td><td>1761449694</td><td>ab10d4</td><td>ASA1224 </td><td>United States</td><td>-121.9045</td><td>46.2209</td></tr><tr><td>NORTH_AMERICA</td><td>1761449694</td><td>a97401</td><td>N708TT  </td><td>United States</td><td>-80.1849</td><td>27.3023</td></tr><tr><td>NORTH_AMERICA</td><td>1761449694</td><td>ab10cb</td><td>AAL204  </td><td>United States</td><td>-68.2754</td><td>44.9505</td></tr><tr><td>NORTH_AMERICA</td><td>1761449694</td><td>acdc5a</td><td>SKW794U </td><td>United States</td><td>-103.2603</td><td>39.7035</td></tr><tr><td>NORTH_AMERICA</td><td>1761449694</td><td>a42f04</td><td>N369PD  </td><td>United States</td><td>-84.339</td><td>33.741</td></tr><tr><td>NORTH_AMERICA</td><td>1761449694</td><td>a73410</td><td>SWA4708 </td><td>United States</td><td>-122.2137</td><td>37.7086</td></tr><tr><td>NORTH_AMERICA</td><td>1761449694</td><td>abbc75</td><td>SWA3494 </td><td>United States</td><td>-109.5982</td><td>35.1455</td></tr><tr><td>NORTH_AMERICA</td><td>1761449694</td><td>a4d42d</td><td>AAL2055 </td><td>United States</td><td>-101.6817</td><td>37.6201</td></tr><tr><td>NORTH_AMERICA</td><td>1761449694</td><td>a05f59</td><td>FDX43   </td><td>United States</td><td>-66.3558</td><td>17.4099</td></tr><tr><td>NORTH_AMERICA</td><td>1761449694</td><td>a62781</td><td>AJT1020 </td><td>United States</td><td>-166.0873</td><td>58.8637</td></tr><tr><td>NORTH_AMERICA</td><td>1761449694</td><td>ac9f15</td><td>N912LB  </td><td>United States</td><td>-111.608</td><td>33.2384</td></tr><tr><td>NORTH_AMERICA</td><td>1761449694</td><td>a506d5</td><td>ASA16   </td><td>United States</td><td>-73.7692</td><td>40.647</td></tr><tr><td>NORTH_AMERICA</td><td>1761449694</td><td>a1cf48</td><td>JBU315  </td><td>United States</td><td>-122.1021</td><td>37.5318</td></tr><tr><td>NORTH_AMERICA</td><td>1761449694</td><td>a16c3a</td><td>DAL272  </td><td>United States</td><td>-68.3131</td><td>41.5153</td></tr><tr><td>NORTH_AMERICA</td><td>1761449694</td><td>ada16f</td><td>DAL2083 </td><td>United States</td><td>-90.3583</td><td>34.4346</td></tr><tr><td>NORTH_AMERICA</td><td>1761449694</td><td>ab23b5</td><td>DAL1934 </td><td>United States</td><td>-111.9782</td><td>40.8074</td></tr><tr><td>NORTH_AMERICA</td><td>1761449694</td><td>a519b8</td><td>DAL74   </td><td>United States</td><td>-67.274</td><td>45.5792</td></tr><tr><td>NORTH_AMERICA</td><td>1761449694</td><td>a90aaa</td><td>PDT6051 </td><td>United States</td><td>-83.4166</td><td>35.0867</td></tr><tr><td>NORTH_AMERICA</td><td>1761449694</td><td>a1cf96</td><td>N2158S  </td><td>United States</td><td>-75.9865</td><td>37.2517</td></tr><tr><td>NORTH_AMERICA</td><td>1761449694</td><td>ac9f52</td><td>AAL324P </td><td>United States</td><td>-112.9885</td><td>37.9491</td></tr><tr><td>NORTH_AMERICA</td><td>1761449694</td><td>a8a43a</td><td>NKS949  </td><td>United States</td><td>-117.0107</td><td>34.6598</td></tr><tr><td>NORTH_AMERICA</td><td>1761449694</td><td>a5f3cf</td><td>ASA381  </td><td>United States</td><td>-121.4217</td><td>36.1413</td></tr><tr><td>NORTH_AMERICA</td><td>1761449694</td><td>aaf111</td><td>DAL858  </td><td>United States</td><td>-93.1328</td><td>37.5423</td></tr><tr><td>NORTH_AMERICA</td><td>1761449694</td><td>3949eb</td><td>AFR651  </td><td>France</td><td>-80.0938</td><td>34.4235</td></tr><tr><td>NORTH_AMERICA</td><td>1761449694</td><td>a7df61</td><td>SKW5864 </td><td>United States</td><td>-118.421</td><td>33.947</td></tr><tr><td>NORTH_AMERICA</td><td>1761449694</td><td>ad7760</td><td>AAL1732 </td><td>United States</td><td>-82.533</td><td>36.1678</td></tr><tr><td>NORTH_AMERICA</td><td>1761449694</td><td>a6bf5a</td><td>ASA1085 </td><td>United States</td><td>-122.611</td><td>45.3822</td></tr><tr><td>NORTH_AMERICA</td><td>1761449694</td><td>c055d6</td><td>JZA655  </td><td>Canada</td><td>-123.2786</td><td>49.214</td></tr><tr><td>NORTH_AMERICA</td><td>1761449694</td><td>a89c23</td><td>FFT1949 </td><td>United States</td><td>-121.6483</td><td>37.545</td></tr><tr><td>NORTH_AMERICA</td><td>1761449694</td><td>a01820</td><td>AMX322  </td><td>United States</td><td>-96.2337</td><td>18.6832</td></tr><tr><td>NORTH_AMERICA</td><td>1761449694</td><td>3949e9</td><td>AFR501  </td><td>France</td><td>-61.5645</td><td>12.685</td></tr><tr><td>NORTH_AMERICA</td><td>1761449694</td><td>a733e6</td><td>AAL2507 </td><td>United States</td><td>-107.2598</td><td>38.1207</td></tr><tr><td>NORTH_AMERICA</td><td>1761449694</td><td>39cf12</td><td>AFR012  </td><td>France</td><td>-73.7917</td><td>40.6428</td></tr><tr><td>NORTH_AMERICA</td><td>1761449694</td><td>39cf13</td><td>AFR93M  </td><td>France</td><td>-78.4232</td><td>27.6888</td></tr><tr><td>NORTH_AMERICA</td><td>1761449694</td><td>a1bc8f</td><td>C6015   </td><td>United States</td><td>-117.4759</td><td>32.5085</td></tr><tr><td>NORTH_AMERICA</td><td>1761449694</td><td>ab6afa</td><td>AAL258  </td><td>United States</td><td>-67.68</td><td>44.0743</td></tr><tr><td>NORTH_AMERICA</td><td>1761449694</td><td>ab2496</td><td>AAL703  </td><td>United States</td><td>-79.3126</td><td>41.3616</td></tr><tr><td>NORTH_AMERICA</td><td>1761449694</td><td>7c806e</td><td>QFA8    </td><td>Australia</td><td>-100.6062</td><td>32.2793</td></tr><tr><td>NORTH_AMERICA</td><td>1761449694</td><td>7c8066</td><td>QFA4    </td><td>Australia</td><td>-105.5579</td><td>32.6196</td></tr><tr><td>NORTH_AMERICA</td><td>1761449694</td><td>a24529</td><td>UAL212  </td><td>United States</td><td>-88.6086</td><td>42.3727</td></tr><tr><td>NORTH_AMERICA</td><td>1761449694</td><td>aa4c1a</td><td>UAL1729 </td><td>United States</td><td>-118.7083</td><td>45.6145</td></tr><tr><td>NORTH_AMERICA</td><td>1761449694</td><td>407cd1</td><td>BAW21ML </td><td>United Kingdom</td><td>-78.1748</td><td>46.3861</td></tr><tr><td>NORTH_AMERICA</td><td>1761449694</td><td>4ca15e</td><td>EIN9CX  </td><td>Ireland</td><td>-98.4101</td><td>50.7341</td></tr><tr><td>NORTH_AMERICA</td><td>1761449694</td><td>a3fc5c</td><td>N356P   </td><td>United States</td><td>-111.9175</td><td>33.487</td></tr><tr><td>NORTH_AMERICA</td><td>1761449694</td><td>a9618a</td><td>AAL1246 </td><td>United States</td><td>-79.6239</td><td>43.6832</td></tr><tr><td>NORTH_AMERICA</td><td>1761449694</td><td>a24508</td><td>UAL1967 </td><td>United States</td><td>-118.4088</td><td>33.9379</td></tr><tr><td>NORTH_AMERICA</td><td>1761449694</td><td>a1256a</td><td>N173ME  </td><td>United States</td><td>-84.5952</td><td>33.4924</td></tr><tr><td>NORTH_AMERICA</td><td>1761449694</td><td>a1388c</td><td>SKW3354 </td><td>United States</td><td>-121.1576</td><td>36.3773</td></tr><tr><td>NORTH_AMERICA</td><td>1761449694</td><td>a28bc9</td><td>SKW120W </td><td>United States</td><td>-113.5916</td><td>37.0669</td></tr><tr><td>NORTH_AMERICA</td><td>1761449694</td><td>a2454f</td><td>UAL2215 </td><td>United States</td><td>-103.9402</td><td>39.1311</td></tr><tr><td>NORTH_AMERICA</td><td>1761449694</td><td>adc913</td><td>N988CE  </td><td>United States</td><td>-92.9631</td><td>48.2415</td></tr><tr><td>NORTH_AMERICA</td><td>1761449694</td><td>a3a222</td><td>DAL2686 </td><td>United States</td><td>-105.1426</td><td>31.5298</td></tr><tr><td>NORTH_AMERICA</td><td>1761449694</td><td>a960e9</td><td>NKS2593 </td><td>United States</td><td>-116.3956</td><td>34.4807</td></tr><tr><td>NORTH_AMERICA</td><td>1761449694</td><td>a2452f</td><td>UAL787  </td><td>United States</td><td>-87.9148</td><td>41.9732</td></tr><tr><td>NORTH_AMERICA</td><td>1761449694</td><td>a35254</td><td>DAL2108 </td><td>United States</td><td>-95.8961</td><td>44.3349</td></tr><tr><td>NORTH_AMERICA</td><td>1761449694</td><td>a89c6e</td><td>N654JR  </td><td>United States</td><td>-119.0423</td><td>35.7009</td></tr><tr><td>NORTH_AMERICA</td><td>1761449694</td><td>a24591</td><td>UAL1236 </td><td>United States</td><td>-107.1661</td><td>37.0724</td></tr><tr><td>NORTH_AMERICA</td><td>1761449694</td><td>a973de</td><td>N708SH  </td><td>United States</td><td>-115.1766</td><td>36.1013</td></tr><tr><td>NORTH_AMERICA</td><td>1761449694</td><td>a47227</td><td>LXJ386  </td><td>United States</td><td>-86.4538</td><td>30.3803</td></tr><tr><td>NORTH_AMERICA</td><td>1761449694</td><td>ac9ff2</td><td>AAL2810 </td><td>United States</td><td>-99.279</td><td>33.3884</td></tr><tr><td>NORTH_AMERICA</td><td>1761449694</td><td>aca941</td><td>N915AC  </td><td>United States</td><td>-81.4341</td><td>28.4073</td></tr><tr><td>NORTH_AMERICA</td><td>1761449694</td><td>a24573</td><td>UAL2117 </td><td>United States</td><td>-106.0731</td><td>42.033</td></tr><tr><td>NORTH_AMERICA</td><td>1761449694</td><td>ab399c</td><td>N822PP  </td><td>United States</td><td>-71.0323</td><td>42.2184</td></tr><tr><td>NORTH_AMERICA</td><td>1761449694</td><td>ac8ce5</td><td>AAL3245 </td><td>United States</td><td>-111.5738</td><td>33.7918</td></tr><tr><td>NORTH_AMERICA</td><td>1761449694</td><td>aca94b</td><td>AAL1236 </td><td>United States</td><td>-76.9056</td><td>42.8076</td></tr><tr><td>NORTH_AMERICA</td><td>1761449694</td><td>a90bb9</td><td>N682MA  </td><td>United States</td><td>-75.2801</td><td>38.4079</td></tr><tr><td>NORTH_AMERICA</td><td>1761449694</td><td>ac8d5c</td><td>SKW452Z </td><td>United States</td><td>-100.2962</td><td>44.3834</td></tr><tr><td>NORTH_AMERICA</td><td>1761449694</td><td>a61592</td><td>UAL2275 </td><td>United States</td><td>-82.091</td><td>35.5147</td></tr><tr><td>NORTH_AMERICA</td><td>1761449694</td><td>a35283</td><td>FFT1727 </td><td>United States</td><td>-91.4815</td><td>34.7039</td></tr><tr><td>NORTH_AMERICA</td><td>1761449694</td><td>a3a27a</td><td>ENY4262 </td><td>United States</td><td>-93.4296</td><td>34.7618</td></tr><tr><td>NORTH_AMERICA</td><td>1761449694</td><td>a017a8</td><td>DAL896  </td><td>United States</td><td>-97.8633</td><td>37.6914</td></tr><tr><td>NORTH_AMERICA</td><td>1761449694</td><td>ac7a52</td><td>AAL844  </td><td>United States</td><td>-86.7532</td><td>31.9049</td></tr><tr><td>NORTH_AMERICA</td><td>1761449694</td><td>a9c506</td><td>ASA397  </td><td>United States</td><td>-110.5154</td><td>32.4232</td></tr><tr><td>NORTH_AMERICA</td><td>1761449694</td><td>ac7a5b</td><td>ASA529  </td><td>United States</td><td>-118.9987</td><td>35.1991</td></tr><tr><td>NORTH_AMERICA</td><td>1761449694</td><td>ac7a61</td><td>KYE4874 </td><td>United States</td><td>-127.1043</td><td>44.0977</td></tr><tr><td>NORTH_AMERICA</td><td>1761449694</td><td>c05840</td><td>ACA327  </td><td>Canada</td><td>-103.4846</td><td>50.4919</td></tr><tr><td>NORTH_AMERICA</td><td>1761449694</td><td>aa064d</td><td>NDU745  </td><td>United States</td><td>-111.6623</td><td>33.1769</td></tr><tr><td>NORTH_AMERICA</td><td>1761449694</td><td>c0583a</td><td>ACA808  </td><td>Canada</td><td>-65.754</td><td>47.497</td></tr><tr><td>NORTH_AMERICA</td><td>1761449694</td><td>adea26</td><td>AAL494  </td><td>United States</td><td>-79.0639</td><td>35.6789</td></tr><tr><td>NORTH_AMERICA</td><td>1761449694</td><td>a86861</td><td>N64056  </td><td>United States</td><td>-111.6259</td><td>33.3164</td></tr><tr><td>NORTH_AMERICA</td><td>1761449694</td><td>c03210</td><td>ASP844  </td><td>Canada</td><td>-79.6486</td><td>43.689</td></tr><tr><td>NORTH_AMERICA</td><td>1761449694</td><td>a9b0ed</td><td>RPA3585 </td><td>United States</td><td>-74.1721</td><td>40.6808</td></tr><tr><td>NORTH_AMERICA</td><td>1761449694</td><td>c030fd</td><td>ACA792  </td><td>Canada</td><td>-82.3649</td><td>42.7571</td></tr><tr><td>NORTH_AMERICA</td><td>1761449694</td><td>a39a13</td><td>FFT3311 </td><td>United States</td><td>-98.2681</td><td>36.5358</td></tr><tr><td>NORTH_AMERICA</td><td>1761449694</td><td>a3ea15</td><td>N351SA  </td><td>United States</td><td>-142.1485</td><td>59.3438</td></tr><tr><td>NORTH_AMERICA</td><td>1761449694</td><td>a3b4d6</td><td>AAL1273 </td><td>United States</td><td>-100.7204</td><td>34.0107</td></tr><tr><td>NORTH_AMERICA</td><td>1761449694</td><td>ac57d2</td><td>SWA265  </td><td>United States</td><td>-114.2096</td><td>33.7442</td></tr><tr><td>NORTH_AMERICA</td><td>1761449694</td><td>a5e295</td><td>AMX198  </td><td>United States</td><td>-110.9428</td><td>29.7121</td></tr><tr><td>NORTH_AMERICA</td><td>1761449694</td><td>acdd18</td><td>NKS797  </td><td>United States</td><td>-83.3557</td><td>42.4011</td></tr><tr><td>NORTH_AMERICA</td><td>1761449694</td><td>ab11c9</td><td>FOX1    </td><td>United States</td><td>-111.3804</td><td>33.6226</td></tr><tr><td>NORTH_AMERICA</td><td>1761449694</td><td>a5e29a</td><td>ASA141  </td><td>United States</td><td>-114.0208</td><td>42.5038</td></tr><tr><td>NORTH_AMERICA</td><td>1761449694</td><td>a1bd6a</td><td>MXY819  </td><td>United States</td><td>-81.2815</td><td>30.7589</td></tr><tr><td>NORTH_AMERICA</td><td>1761449694</td><td>a76a3a</td><td>UPS109  </td><td>United States</td><td>-86.9565</td><td>39.0624</td></tr><tr><td>NORTH_AMERICA</td><td>1761449694</td><td>a471ec</td><td>DAL2077 </td><td>United States</td><td>-83.3421</td><td>28.9575</td></tr><tr><td>NORTH_AMERICA</td><td>1761449694</td><td>abbbae</td><td>UAL1563 </td><td>United States</td><td>-111.3127</td><td>32.9529</td></tr><tr><td>NORTH_AMERICA</td><td>1761449694</td><td>a734e0</td><td>N5633R  </td><td>United States</td><td>-112.062</td><td>41.5423</td></tr><tr><td>NORTH_AMERICA</td><td>1761449694</td><td>c043b7</td><td>ACA158  </td><td>Canada</td><td>-85.3658</td><td>46.999</td></tr><tr><td>NORTH_AMERICA</td><td>1761449694</td><td>a52a99</td><td>AAL2529 </td><td>United States</td><td>-115.1357</td><td>36.08</td></tr><tr><td>NORTH_AMERICA</td><td>1761449694</td><td>a27a94</td><td>SKW3825 </td><td>United States</td><td>-96.9008</td><td>46.5999</td></tr><tr><td>NORTH_AMERICA</td><td>1761449694</td><td>c056c2</td><td>NRL819  </td><td>Canada</td><td>-74.0212</td><td>45.6708</td></tr><tr><td>NORTH_AMERICA</td><td>1761449694</td><td>acdbec</td><td>ASA331  </td><td>United States</td><td>-121.9773</td><td>37.4226</td></tr><tr><td>NORTH_AMERICA</td><td>1761449694</td><td>ad6595</td><td>SWA2122 </td><td>United States</td><td>-122.2139</td><td>37.7111</td></tr><tr><td>NORTH_AMERICA</td><td>1761449694</td><td>acdbef</td><td>AAL1427 </td><td>United States</td><td>-90.7</td><td>27.4151</td></tr><tr><td>NORTH_AMERICA</td><td>1761449694</td><td>a0afca</td><td>N143WA  </td><td>United States</td><td>-148.8398</td><td>65.2608</td></tr><tr><td>NORTH_AMERICA</td><td>1761449694</td><td>a3a1f3</td><td>N333LE  </td><td>United States</td><td>-87.3089</td><td>30.4728</td></tr><tr><td>NORTH_AMERICA</td><td>1761449694</td><td>a43ea6</td><td>UAL1928 </td><td>United States</td><td>-110.7003</td><td>39.4037</td></tr><tr><td>NORTH_AMERICA</td><td>1761449694</td><td>abba93</td><td>GTI8052 </td><td>United States</td><td>-73.3037</td><td>21.9387</td></tr><tr><td>NORTH_AMERICA</td><td>1761449694</td><td>a2551a</td><td>UAL760  </td><td>United States</td><td>-104.4019</td><td>40.1197</td></tr><tr><td>NORTH_AMERICA</td><td>1761449694</td><td>ad8901</td><td>SKW5047 </td><td>United States</td><td>-107.7859</td><td>39.0587</td></tr><tr><td>NORTH_AMERICA</td><td>1761449694</td><td>ab3628</td><td>AIP1074 </td><td>United States</td><td>-115.2723</td><td>47.7295</td></tr><tr><td>NORTH_AMERICA</td><td>1761449694</td><td>a43ee5</td><td>UAL742  </td><td>United States</td><td>-107.1374</td><td>33.6999</td></tr><tr><td>NORTH_AMERICA</td><td>1761449694</td><td>a25565</td><td>N25CP   </td><td>United States</td><td>-96.2676</td><td>33.021</td></tr><tr><td>NORTH_AMERICA</td><td>1761449694</td><td>ab8fcb</td><td>AAL98   </td><td>United States</td><td>-85.9171</td><td>42.2029</td></tr><tr><td>NORTH_AMERICA</td><td>1761449694</td><td>a9d3a9</td><td>NDU732  </td><td>United States</td><td>-111.3131</td><td>32.5611</td></tr><tr><td>NORTH_AMERICA</td><td>1761449694</td><td>ab3639</td><td>SCX506  </td><td>United States</td><td>-95.2792</td><td>40.1026</td></tr><tr><td>NORTH_AMERICA</td><td>1761449694</td><td>a8fc2e</td><td>UAL484  </td><td>United States</td><td>-104.7358</td><td>39.4109</td></tr><tr><td>NORTH_AMERICA</td><td>1761449694</td><td>a2b866</td><td>N2745G  </td><td>United States</td><td>-97.244</td><td>44.19</td></tr><tr><td>NORTH_AMERICA</td><td>1761449694</td><td>a7ef4b</td><td>FFT2996 </td><td>United States</td><td>-98.9958</td><td>31.7557</td></tr><tr><td>NORTH_AMERICA</td><td>1761449694</td><td>a3b0fe</td><td>DAL2423 </td><td>United States</td><td>-89.9834</td><td>34.3896</td></tr><tr><td>NORTH_AMERICA</td><td>1761449694</td><td>a36200</td><td>DAL1049 </td><td>United States</td><td>-118.4502</td><td>33.9439</td></tr><tr><td>NORTH_AMERICA</td><td>1761449694</td><td>a17bd2</td><td>ASI963  </td><td>United States</td><td>-111.2351</td><td>32.368</td></tr><tr><td>NORTH_AMERICA</td><td>1761449694</td><td>acffb4</td><td>ASA1421 </td><td>United States</td><td>-120.3376</td><td>45.1198</td></tr><tr><td>NORTH_AMERICA</td><td>1761449694</td><td>ac9cb1</td><td>N911ZR  </td><td>United States</td><td>-87.6709</td><td>41.7852</td></tr><tr><td>NORTH_AMERICA</td><td>1761449694</td><td>71c560</td><td>TWB532  </td><td>Republic of Korea</td><td>-154.6469</td><td>59.006</td></tr><tr><td>NORTH_AMERICA</td><td>1761449694</td><td>a98515</td><td>SKW4058 </td><td>United States</td><td>-91.4554</td><td>32.8606</td></tr><tr><td>NORTH_AMERICA</td><td>1761449694</td><td>adb29f</td><td>AAL1173 </td><td>United States</td><td>-81.9926</td><td>39.6358</td></tr><tr><td>NORTH_AMERICA</td><td>1761449694</td><td>a62577</td><td>N4953L  </td><td>United States</td><td>-78.6283</td><td>34.567</td></tr><tr><td>NORTH_AMERICA</td><td>1761449694</td><td>a1226e</td><td>AAL2003 </td><td>United States</td><td>-113.5091</td><td>43.2131</td></tr><tr><td>NORTH_AMERICA</td><td>1761449694</td><td>a8785b</td><td>FFT4928 </td><td>United States</td><td>-104.6649</td><td>39.8558</td></tr><tr><td>NORTH_AMERICA</td><td>1761449694</td><td>a2ebbd</td><td>ASA632  </td><td>United States</td><td>-113.3615</td><td>37.7059</td></tr><tr><td>NORTH_AMERICA</td><td>1761449694</td><td>aced21</td><td>ASA1269 </td><td>United States</td><td>-121.1982</td><td>45.4737</td></tr><tr><td>NORTH_AMERICA</td><td>1761449694</td><td>ad0d3c</td><td>GLG7396 </td><td>United States</td><td>-76.29</td><td>36.0964</td></tr><tr><td>NORTH_AMERICA</td><td>1761449694</td><td>abba43</td><td>DAL2640 </td><td>United States</td><td>-122.311</td><td>47.4462</td></tr><tr><td>NORTH_AMERICA</td><td>1761449694</td><td>aa0300</td><td>SKW4961 </td><td>United States</td><td>-97.1497</td><td>33.5825</td></tr><tr><td>NORTH_AMERICA</td><td>1761449694</td><td>aa6fca</td><td>SWA1848 </td><td>United States</td><td>-117.1232</td><td>34.3132</td></tr><tr><td>NORTH_AMERICA</td><td>1761449694</td><td>a55ed5</td><td>SKW5824 </td><td>United States</td><td>-98.0049</td><td>40.798</td></tr><tr><td>NORTH_AMERICA</td><td>1761449694</td><td>a3c549</td><td>FFT3097 </td><td>United States</td><td>-94.6081</td><td>33.9773</td></tr><tr><td>NORTH_AMERICA</td><td>1761449694</td><td>aaad8f</td><td>SWA2443 </td><td>United States</td><td>-116.146</td><td>34.9557</td></tr><tr><td>NORTH_AMERICA</td><td>1761449694</td><td>ad0d86</td><td>DAL2525 </td><td>United States</td><td>-86.6711</td><td>36.1337</td></tr><tr><td>NORTH_AMERICA</td><td>1761449694</td><td>a4e538</td><td>RPA4573 </td><td>United States</td><td>-77.0889</td><td>36.8785</td></tr><tr><td>NORTH_AMERICA</td><td>1761449694</td><td>a3d890</td><td>DAL436  </td><td>United States</td><td>-86.5326</td><td>34.4382</td></tr><tr><td>NORTH_AMERICA</td><td>1761449694</td><td>ac8a66</td><td>AAL2628 </td><td>United States</td><td>-97.1999</td><td>36.1276</td></tr><tr><td>NORTH_AMERICA</td><td>1761449694</td><td>acda2c</td><td>SWA3995 </td><td>United States</td><td>-110.7841</td><td>35.1172</td></tr><tr><td>NORTH_AMERICA</td><td>1761449694</td><td>a36279</td><td>SKW135K </td><td>United States</td><td>-95.0241</td><td>48.3071</td></tr><tr><td>NORTH_AMERICA</td><td>1761449694</td><td>ac4279</td><td>SWA3039 </td><td>United States</td><td>-122.6675</td><td>42.9132</td></tr><tr><td>NORTH_AMERICA</td><td>1761449694</td><td>a001af</td><td>N1TD    </td><td>United States</td><td>-98.1726</td><td>43.1249</td></tr><tr><td>NORTH_AMERICA</td><td>1761449694</td><td>aca594</td><td>AAL708  </td><td>United States</td><td>-97.032</td><td>32.8878</td></tr><tr><td>NORTH_AMERICA</td><td>1761449694</td><td>a134d5</td><td>SKW3292 </td><td>United States</td><td>-97.6745</td><td>30.0199</td></tr><tr><td>NORTH_AMERICA</td><td>1761449694</td><td>06a1ea</td><td>QTR86W  </td><td>Qatar</td><td>-73.4523</td><td>46.8753</td></tr><tr><td>NORTH_AMERICA</td><td>1761449694</td><td>ab34a7</td><td>AAL899  </td><td>United States</td><td>-100.637</td><td>40.1854</td></tr><tr><td>NORTH_AMERICA</td><td>1761449694</td><td>a2b7cd</td><td>UAL8148 </td><td>United States</td><td>-108.682</td><td>37.4208</td></tr><tr><td>NORTH_AMERICA</td><td>1761449694</td><td>a387f0</td><td>JBU1318 </td><td>United States</td><td>-71.9066</td><td>41.5836</td></tr><tr><td>NORTH_AMERICA</td><td>1761449694</td><td>a1ba23</td><td>AIP513  </td><td>United States</td><td>-117.0231</td><td>46.2939</td></tr><tr><td>NORTH_AMERICA</td><td>1761449694</td><td>407af2</td><td>BAW51B  </td><td>United Kingdom</td><td>-64.076</td><td>47.3453</td></tr><tr><td>NORTH_AMERICA</td><td>1761449694</td><td>a6bbef</td><td>DAL604  </td><td>United States</td><td>-122.3174</td><td>47.513</td></tr><tr><td>NORTH_AMERICA</td><td>1761449694</td><td>a254d8</td><td>UAL101  </td><td>United States</td><td>-101.4753</td><td>30.5614</td></tr><tr><td>NORTH_AMERICA</td><td>1761449694</td><td>a254d7</td><td>UAL188  </td><td>United States</td><td>-74.1778</td><td>40.6981</td></tr><tr><td>NORTH_AMERICA</td><td>1761449694</td><td>a877d2</td><td>N645AD  </td><td>United States</td><td>-75.4623</td><td>40.4148</td></tr><tr><td>NORTH_AMERICA</td><td>1761449694</td><td>a361f1</td><td>PRD3    </td><td>United States</td><td>-78.224</td><td>30.5188</td></tr><tr><td>NORTH_AMERICA</td><td>1761449694</td><td>ab486e</td><td>N826PD  </td><td>United States</td><td>-117.8694</td><td>33.8442</td></tr><tr><td>NORTH_AMERICA</td><td>1761449694</td><td>a2da60</td><td>AAY692  </td><td>United States</td><td>-111.6683</td><td>33.3067</td></tr><tr><td>NORTH_AMERICA</td><td>1761449694</td><td>ad8836</td><td>JBU2637 </td><td>United States</td><td>-73.8151</td><td>39.2693</td></tr><tr><td>NORTH_AMERICA</td><td>1761449694</td><td>aa4a1b</td><td>N762MT  </td><td>United States</td><td>-87.1534</td><td>30.5526</td></tr><tr><td>NORTH_AMERICA</td><td>1761449694</td><td>c066b6</td><td>WJA463  </td><td>Canada</td><td>-114.0126</td><td>51.1315</td></tr><tr><td>NORTH_AMERICA</td><td>1761449694</td><td>a78d73</td><td>DAL2940 </td><td>United States</td><td>-84.1251</td><td>35.4293</td></tr><tr><td>NORTH_AMERICA</td><td>1761449694</td><td>4cc510</td><td></td><td>Iceland</td><td>-117.2395</td><td>53.8281</td></tr><tr><td>NORTH_AMERICA</td><td>1761449694</td><td>adc532</td><td>AAL3307 </td><td>United States</td><td>-107.3727</td><td>44.4342</td></tr><tr><td>NORTH_AMERICA</td><td>1761449694</td><td>a9d59f</td><td></td><td>United States</td><td>-118.4163</td><td>33.9371</td></tr><tr><td>NORTH_AMERICA</td><td>1761449694</td><td>adc531</td><td>AAL1323 </td><td>United States</td><td>-108.0247</td><td>36.8696</td></tr><tr><td>NORTH_AMERICA</td><td>1761449694</td><td>aa5d23</td><td>SKW4653 </td><td>United States</td><td>-84.1503</td><td>43.4831</td></tr><tr><td>NORTH_AMERICA</td><td>1761449694</td><td>4cc581</td><td>ICE680  </td><td>Iceland</td><td>-64.489</td><td>68.0525</td></tr><tr><td>NORTH_AMERICA</td><td>1761449694</td><td>a481fd</td><td>REH043  </td><td>United States</td><td>-117.2544</td><td>34.3203</td></tr><tr><td>NORTH_AMERICA</td><td>1761449694</td><td>a757ae</td><td>AAL3333 </td><td>United States</td><td>-95.5974</td><td>35.3289</td></tr><tr><td>NORTH_AMERICA</td><td>1761449694</td><td>4cc578</td><td>ICE12E  </td><td>Iceland</td><td>-117.6627</td><td>51.8369</td></tr><tr><td>NORTH_AMERICA</td><td>1761449694</td><td>c079a6</td><td>TSC815  </td><td>Canada</td><td>-74.6676</td><td>41.5744</td></tr><tr><td>NORTH_AMERICA</td><td>1761449694</td><td>4cc57a</td><td>ICE604  </td><td>Iceland</td><td>-79.6629</td><td>43.6732</td></tr><tr><td>NORTH_AMERICA</td><td>1761449694</td><td>c066b0</td><td>WJA2711 </td><td>Canada</td><td>-80.0848</td><td>38.9026</td></tr><tr><td>NORTH_AMERICA</td><td>1761449694</td><td>ac9bef</td><td>CMD70   </td><td>United States</td><td>-123.0509</td><td>40.433</td></tr><tr><td>NORTH_AMERICA</td><td>1761449694</td><td>4cc573</td><td>ICE686  </td><td>Iceland</td><td>-76.8926</td><td>37.6691</td></tr><tr><td>NORTH_AMERICA</td><td>1761449694</td><td>a9727f</td><td>N708CG  </td><td>United States</td><td>-86.8156</td><td>36.9534</td></tr><tr><td>NORTH_AMERICA</td><td>1761449694</td><td>4cc570</td><td>ICE11P  </td><td>Iceland</td><td>-120.7914</td><td>48.923</td></tr><tr><td>NORTH_AMERICA</td><td>1761449694</td><td>acb892</td><td>SKW362G </td><td>United States</td><td>-103.1357</td><td>45.6119</td></tr><tr><td>NORTH_AMERICA</td><td>1761449694</td><td>a37630</td><td>EPI322  </td><td>United States</td><td>-81.1428</td><td>29.1465</td></tr><tr><td>NORTH_AMERICA</td><td>1761449694</td><td>a0acbb</td><td>UAL2168 </td><td>United States</td><td>-77.5454</td><td>41.1399</td></tr><tr><td>NORTH_AMERICA</td><td>1761449694</td><td>a05cf3</td><td>AAL2839 </td><td>United States</td><td>-77.0432</td><td>38.8554</td></tr><tr><td>NORTH_AMERICA</td><td>1761449694</td><td>a9d4da</td><td>N7320J  </td><td>United States</td><td>-118.607</td><td>34.16</td></tr><tr><td>NORTH_AMERICA</td><td>1761449694</td><td>a3c60d</td><td>AAL2188 </td><td>United States</td><td>-75.2372</td><td>38.6134</td></tr><tr><td>NORTH_AMERICA</td><td>1761449694</td><td>c03064</td><td>ACA363  </td><td>Canada</td><td>-115.6085</td><td>50.7587</td></tr><tr><td>NORTH_AMERICA</td><td>1761449694</td><td>a37616</td><td>DAL1251 </td><td>United States</td><td>-97.7808</td><td>35.0506</td></tr><tr><td>NORTH_AMERICA</td><td>1761449694</td><td>06a12d</td><td>QTR44B  </td><td>Qatar</td><td>-96.7861</td><td>61.8766</td></tr><tr><td>NORTH_AMERICA</td><td>1761449694</td><td>a87904</td><td>NKS1810 </td><td>United States</td><td>-97.0322</td><td>32.8716</td></tr><tr><td>NORTH_AMERICA</td><td>1761449694</td><td>a3c649</td><td>AAL2799 </td><td>United States</td><td>-79.8395</td><td>35.5267</td></tr><tr><td>NORTH_AMERICA</td><td>1761449694</td><td>06a12a</td><td>QTR5K   </td><td>Qatar</td><td>-68.4105</td><td>46.8998</td></tr><tr><td>NORTH_AMERICA</td><td>1761449694</td><td>c0307a</td><td>ACA226  </td><td>Canada</td><td>-114.0135</td><td>51.1268</td></tr><tr><td>NORTH_AMERICA</td><td>1761449694</td><td>c0307c</td><td>ACA337  </td><td>Canada</td><td>-113.2039</td><td>53.1945</td></tr><tr><td>NORTH_AMERICA</td><td>1761449694</td><td>a13650</td><td>UAL303  </td><td>United States</td><td>-106.209</td><td>41.9433</td></tr><tr><td>NORTH_AMERICA</td><td>1761449694</td><td>406a9d</td><td>BAW9EW  </td><td>United Kingdom</td><td>-62.4513</td><td>49.7552</td></tr><tr><td>NORTH_AMERICA</td><td>1761449694</td><td>a3899d</td><td>ENY3937 </td><td>United States</td><td>-101.5383</td><td>37.9005</td></tr><tr><td>NORTH_AMERICA</td><td>1761449694</td><td>a3d90a</td><td>AAL2897 </td><td>United States</td><td>-77.1174</td><td>38.4806</td></tr><tr><td>NORTH_AMERICA</td><td>1761449694</td><td>a997e5</td><td>AAL3106 </td><td>United States</td><td>-96.6889</td><td>32.8582</td></tr><tr><td>NORTH_AMERICA</td><td>1761449694</td><td>a8b4c6</td><td>FFT1784 </td><td>United States</td><td>-95.1706</td><td>38.5643</td></tr><tr><td>NORTH_AMERICA</td><td>1761449694</td><td>a851c3</td><td>QXE2269 </td><td>United States</td><td>-121.6846</td><td>45.5286</td></tr><tr><td>NORTH_AMERICA</td><td>1761449694</td><td>a80ff0</td><td>N6188K  </td><td>United States</td><td>-101.5705</td><td>33.4232</td></tr><tr><td>NORTH_AMERICA</td><td>1761449694</td><td>a5902a</td><td>N458DL  </td><td>United States</td><td>-106.9803</td><td>35.0056</td></tr><tr><td>NORTH_AMERICA</td><td>1761449694</td><td>a2ecec</td><td>ENY3702 </td><td>United States</td><td>-99.4623</td><td>28.7807</td></tr><tr><td>NORTH_AMERICA</td><td>1761449694</td><td>ad88ef</td><td>N971SC  </td><td>United States</td><td>-121.8036</td><td>39.6791</td></tr><tr><td>NORTH_AMERICA</td><td>1761449694</td><td>a1239d</td><td>UAL1076 </td><td>United States</td><td>-71.0125</td><td>42.3651</td></tr><tr><td>NORTH_AMERICA</td><td>1761449694</td><td>aca5e5</td><td>DAL3022 </td><td>United States</td><td>-86.6637</td><td>34.6915</td></tr><tr><td>NORTH_AMERICA</td><td>1761449694</td><td>ad62c9</td><td>N9614H  </td><td>United States</td><td>-104.6312</td><td>40.4455</td></tr><tr><td>NORTH_AMERICA</td><td>1761449694</td><td>a89a9f</td><td>N65329  </td><td>United States</td><td>-76.9703</td><td>39.4997</td></tr><tr><td>NORTH_AMERICA</td><td>1761449694</td><td>a87942</td><td>QXE2063 </td><td>United States</td><td>-123.334</td><td>44.6716</td></tr><tr><td>NORTH_AMERICA</td><td>1761449694</td><td>a54cf9</td><td>OXF1010 </td><td>United States</td><td>-110.9431</td><td>32.0592</td></tr><tr><td>NORTH_AMERICA</td><td>1761449694</td><td>ad504d</td><td>SKW475F </td><td>United States</td><td>-104.6723</td><td>40.7055</td></tr></tbody></table>Showing the first 1000 rows.</div>"
      ]
     },
     "metadata": {
      "application/vnd.databricks.v1+output": {
       "addedWidgets": {},
       "aggData": [],
       "aggError": "",
       "aggOverflow": false,
       "aggSchema": [],
       "aggSeriesLimitReached": false,
       "aggType": "",
       "arguments": {},
       "columnCustomDisplayInfos": {},
       "data": [
        [
         "NORTH_AMERICA",
         1761449694,
         "aae316",
         "AAL1882 ",
         "United States",
         -77.2028,
         37.3656
        ],
        [
         "NORTH_AMERICA",
         1761449694,
         "acdfa3",
         "ASA898  ",
         "United States",
         -125.431,
         44.9576
        ],
        [
         "NORTH_AMERICA",
         1761449694,
         "a0e250",
         "AAL903  ",
         "United States",
         -77.0789,
         38.6237
        ],
        [
         "NORTH_AMERICA",
         1761449694,
         "ab0356",
         "ASA9    ",
         "United States",
         -122.6014,
         45.5894
        ],
        [
         "NORTH_AMERICA",
         1761449694,
         "e8024d",
         "ARE4280 ",
         "Chile",
         -81.7327,
         12.5712
        ],
        [
         "NORTH_AMERICA",
         1761449694,
         "a963f7",
         "FFT1954 ",
         "United States",
         -80.7393,
         28.1796
        ],
        [
         "NORTH_AMERICA",
         1761449694,
         "ac3688",
         "SWA2912 ",
         "United States",
         -117.1233,
         37.012
        ],
        [
         "NORTH_AMERICA",
         1761449694,
         "3455d5",
         "IBE03HB ",
         "Spain",
         -80.3466,
         25.7847
        ],
        [
         "NORTH_AMERICA",
         1761449694,
         "a6f23d",
         "DAL571  ",
         "United States",
         -117.1358,
         32.7205
        ],
        [
         "NORTH_AMERICA",
         1761449694,
         "0d11f9",
         "VIV2022 ",
         "Mexico",
         -87.7787,
         20.8174
        ],
        [
         "NORTH_AMERICA",
         1761449694,
         "c0226c",
         "WJA204  ",
         "Canada",
         -99.9063,
         49.9081
        ],
        [
         "NORTH_AMERICA",
         1761449694,
         "a5d28c",
         "UAL2360 ",
         "United States",
         -121.284,
         37.59
        ],
        [
         "NORTH_AMERICA",
         1761449694,
         "c07bbe",
         "WJA1449 ",
         "Canada",
         -114.9554,
         36.1962
        ],
        [
         "NORTH_AMERICA",
         1761449694,
         "a5958c",
         "SWA2783 ",
         "United States",
         -96.861,
         32.8608
        ],
        [
         "NORTH_AMERICA",
         1761449694,
         "a247f0",
         "SKW3729 ",
         "United States",
         -108.6814,
         37.0573
        ],
        [
         "NORTH_AMERICA",
         1761449694,
         "c03517",
         "WJA2157 ",
         "Canada",
         -121.2419,
         46.6875
        ],
        [
         "NORTH_AMERICA",
         1761449694,
         "c0481b",
         "ROU1611 ",
         "Canada",
         -73.6565,
         42.5792
        ],
        [
         "NORTH_AMERICA",
         1761449694,
         "a857ce",
         "N637AS  ",
         "United States",
         -112.8727,
         39.0979
        ],
        [
         "NORTH_AMERICA",
         1761449694,
         "ab5d4a",
         "AAL1607 ",
         "United States",
         -97.0353,
         32.9058
        ],
        [
         "NORTH_AMERICA",
         1761449694,
         "a63a40",
         "N500DE  ",
         "United States",
         -82.3674,
         34.7312
        ],
        [
         "NORTH_AMERICA",
         1761449694,
         "a88d10",
         "DAL8956 ",
         "United States",
         -97.2316,
         49.8925
        ],
        [
         "NORTH_AMERICA",
         1761449694,
         "a1ad5a",
         "SKW5861 ",
         "United States",
         -104.7203,
         38.8052
        ],
        [
         "NORTH_AMERICA",
         1761449694,
         "a3b7cb",
         "FFT3981 ",
         "United States",
         -107.0128,
         40.0355
        ],
        [
         "NORTH_AMERICA",
         1761449694,
         "ac21af",
         "AAL6    ",
         "United States",
         -157.8805,
         21.2265
        ],
        [
         "NORTH_AMERICA",
         1761449694,
         "c04825",
         "CGBII   ",
         "Canada",
         -75.8976,
         44.726
        ],
        [
         "NORTH_AMERICA",
         1761449694,
         "a5d1f7",
         "SWA492  ",
         "United States",
         -122.597,
         39.136
        ],
        [
         "NORTH_AMERICA",
         1761449694,
         "a88d49",
         "TCF650  ",
         "United States",
         -80.7377,
         28.1063
        ],
        [
         "NORTH_AMERICA",
         1761449694,
         "c020a9",
         "CFMJO   ",
         "Canada",
         -123.6352,
         48.7758
        ],
        [
         "NORTH_AMERICA",
         1761449694,
         "a88d70",
         "N650HG  ",
         "United States",
         -80.9688,
         32.3663
        ],
        [
         "NORTH_AMERICA",
         1761449694,
         "a88d55",
         "EJM132  ",
         "United States",
         -76.5286,
         39.6155
        ],
        [
         "NORTH_AMERICA",
         1761449694,
         "c07e2c",
         "ACA510  ",
         "Canada",
         -79.9016,
         43.4696
        ],
        [
         "NORTH_AMERICA",
         1761449694,
         "a46345",
         "FFT1439 ",
         "United States",
         -112.0604,
         33.4409
        ],
        [
         "NORTH_AMERICA",
         1761449694,
         "ac2412",
         "SWA746  ",
         "United States",
         -114.2983,
         38.6991
        ],
        [
         "NORTH_AMERICA",
         1761449694,
         "ad9db0",
         "ASA1050 ",
         "United States",
         -122.8357,
         47.1881
        ],
        [
         "NORTH_AMERICA",
         1761449694,
         "a3a67b",
         "UPS985  ",
         "United States",
         -122.312,
         47.5394
        ],
        [
         "NORTH_AMERICA",
         1761449694,
         "ac3751",
         "SWA1947 ",
         "United States",
         -66.0415,
         18.4337
        ],
        [
         "NORTH_AMERICA",
         1761449694,
         "a40cd9",
         "FFT2779 ",
         "United States",
         -87.7424,
         41.7897
        ],
        [
         "NORTH_AMERICA",
         1761449694,
         "a59689",
         "N45941  ",
         "United States",
         -104.5815,
         38.9688
        ],
        [
         "NORTH_AMERICA",
         1761449694,
         "c07e59",
         "WJA722  ",
         "Canada",
         -89.2202,
         45.6455
        ],
        [
         "NORTH_AMERICA",
         1761449694,
         "ad9dac",
         "SJE97   ",
         "United States",
         -105.1329,
         38.8168
        ],
        [
         "NORTH_AMERICA",
         1761449694,
         "a46310",
         "DAL453  ",
         "United States",
         -89.1993,
         37.2432
        ],
        [
         "NORTH_AMERICA",
         1761449694,
         "aae44c",
         "N8000Y  ",
         "United States",
         -114.5049,
         36.5891
        ],
        [
         "NORTH_AMERICA",
         1761449694,
         "ac377b",
         "SWA2446 ",
         "United States",
         -114.8779,
         36.0736
        ],
        [
         "NORTH_AMERICA",
         1761449694,
         "0d10e4",
         "VOI3293 ",
         "Mexico",
         -116.4994,
         32.3926
        ],
        [
         "NORTH_AMERICA",
         1761449694,
         "a5f938",
         "UAL465  ",
         "United States",
         -87.3129,
         38.6025
        ],
        [
         "NORTH_AMERICA",
         1761449694,
         "a45051",
         "DAL614  ",
         "United States",
         -115.197,
         34.0854
        ],
        [
         "NORTH_AMERICA",
         1761449694,
         "0d10f8",
         "VIV546  ",
         "Mexico",
         -100.1167,
         25.7807
        ],
        [
         "NORTH_AMERICA",
         1761449694,
         "a8dd7b",
         "UAL940  ",
         "United States",
         -74.0749,
         40.8086
        ],
        [
         "NORTH_AMERICA",
         1761449694,
         "a85931",
         "QXE2323 ",
         "United States",
         -122.2633,
         45.7209
        ],
        [
         "NORTH_AMERICA",
         1761449694,
         "c048b6",
         "KEW504  ",
         "Canada",
         -96.7928,
         50.731
        ],
        [
         "NORTH_AMERICA",
         1761449694,
         "a3fffc",
         "DAL2512 ",
         "United States",
         -116.5946,
         43.9468
        ],
        [
         "NORTH_AMERICA",
         1761449694,
         "c0104f",
         "ACA50   ",
         "Canada",
         -73.8187,
         45.4165
        ],
        [
         "NORTH_AMERICA",
         1761449694,
         "a8dcee",
         "NKS1480 ",
         "United States",
         -92.2892,
         42.6821
        ],
        [
         "NORTH_AMERICA",
         1761449694,
         "a45091",
         "DAL1199 ",
         "United States",
         -84.7709,
         36.7565
        ],
        [
         "NORTH_AMERICA",
         1761449694,
         "c01040",
         "ACA810  ",
         "Canada",
         -74.3941,
         45.1237
        ],
        [
         "NORTH_AMERICA",
         1761449694,
         "a2ce05",
         "ASA1455 ",
         "United States",
         -143.0163,
         59.5071
        ],
        [
         "NORTH_AMERICA",
         1761449694,
         "c0103a",
         "ACA842  ",
         "Canada",
         -73.5417,
         46.3194
        ],
        [
         "NORTH_AMERICA",
         1761449694,
         "0d10ac",
         "VIV001  ",
         "Mexico",
         -100.1187,
         25.7817
        ],
        [
         "NORTH_AMERICA",
         1761449694,
         "a235b7",
         "SWA1644 ",
         "United States",
         -116.3868,
         33.8625
        ],
        [
         "NORTH_AMERICA",
         1761449694,
         "0d10bd",
         "VOI5575 ",
         "Mexico",
         -105.9015,
         28.6953
        ],
        [
         "NORTH_AMERICA",
         1761449694,
         "a3b8e1",
         "AAL2426 ",
         "United States",
         -105.0857,
         37.6652
        ],
        [
         "NORTH_AMERICA",
         1761449694,
         "0d10e0",
         "XBDSC   ",
         "Mexico",
         -98.3371,
         25.6805
        ],
        [
         "NORTH_AMERICA",
         1761449694,
         "4aca64",
         "SAS6926 ",
         "Sweden",
         -68.6108,
         44.0294
        ],
        [
         "NORTH_AMERICA",
         1761449694,
         "a15e7d",
         "ECJ88   ",
         "United States",
         -74.0475,
         40.9125
        ],
        [
         "NORTH_AMERICA",
         1761449694,
         "a6f326",
         "JIA5309 ",
         "United States",
         -95.242,
         33.247
        ],
        [
         "NORTH_AMERICA",
         1761449694,
         "a9b62a",
         "ASA19   ",
         "United States",
         -122.3417,
         45.4892
        ],
        [
         "NORTH_AMERICA",
         1761449694,
         "a7cfe3",
         "NKS1359 ",
         "United States",
         -86.8928,
         28.8678
        ],
        [
         "NORTH_AMERICA",
         1761449694,
         "ab5db8",
         "SCX8657 ",
         "United States",
         -92.9192,
         43.4445
        ],
        [
         "NORTH_AMERICA",
         1761449694,
         "a355b1",
         "ENY3503 ",
         "United States",
         -98.37,
         30.7325
        ],
        [
         "NORTH_AMERICA",
         1761449694,
         "a368d3",
         "LXJ319  ",
         "United States",
         -96.0196,
         33.3748
        ],
        [
         "NORTH_AMERICA",
         1761449694,
         "a02b77",
         "N11SN   ",
         "United States",
         -119.5802,
         36.0367
        ],
        [
         "NORTH_AMERICA",
         1761449694,
         "ac7e1c",
         "TAI590  ",
         "United States",
         -86.8656,
         21.3197
        ],
        [
         "NORTH_AMERICA",
         1761449694,
         "a8de10",
         "DAL1162 ",
         "United States",
         -81.4237,
         28.5399
        ],
        [
         "NORTH_AMERICA",
         1761449694,
         "c0360e",
         "WJA124  ",
         "Canada",
         -113.9931,
         51.1216
        ],
        [
         "NORTH_AMERICA",
         1761449694,
         "ab4b34",
         "DAL2854 ",
         "United States",
         -120.9507,
         41.1868
        ],
        [
         "NORTH_AMERICA",
         1761449694,
         "8015a5",
         "AIC179  ",
         "India",
         -122.3833,
         37.6098
        ],
        [
         "NORTH_AMERICA",
         1761449694,
         "a88e2e",
         "QXE2116 ",
         "United States",
         -118.5482,
         34.2886
        ],
        [
         "NORTH_AMERICA",
         1761449694,
         "ac22c5",
         "AAL3188 ",
         "United States",
         -84.0663,
         38.3102
        ],
        [
         "NORTH_AMERICA",
         1761449694,
         "ad8b20",
         "AAL983  ",
         "United States",
         -77.2762,
         37.4575
        ],
        [
         "NORTH_AMERICA",
         1761449694,
         "a2bb89",
         "UAL1032 ",
         "United States",
         -93.7328,
         35.9151
        ],
        [
         "NORTH_AMERICA",
         1761449694,
         "a52e54",
         "ASA326  ",
         "United States",
         -114.6251,
         44.7231
        ],
        [
         "NORTH_AMERICA",
         1761449694,
         "a63b0a",
         "N500MG  ",
         "United States",
         -117.5947,
         33.3924
        ],
        [
         "NORTH_AMERICA",
         1761449694,
         "a4c5d8",
         "JBU7    ",
         "United States",
         -64.3851,
         46.9789
        ],
        [
         "NORTH_AMERICA",
         1761449694,
         "0d118c",
         "VIV1188 ",
         "Mexico",
         -98.4157,
         17.8106
        ],
        [
         "NORTH_AMERICA",
         1761449694,
         "a99b5f",
         "SKW5010 ",
         "United States",
         -93.928,
         40.1514
        ],
        [
         "NORTH_AMERICA",
         1761449694,
         "c021f6",
         "WJA154  ",
         "Canada",
         -120.2994,
         49.3051
        ],
        [
         "NORTH_AMERICA",
         1761449694,
         "a0e431",
         "AAL1207 ",
         "United States",
         -106.8779,
         32.1678
        ],
        [
         "NORTH_AMERICA",
         1761449694,
         "0d111b",
         "VOI1814 ",
         "Mexico",
         -115.2809,
         32.3611
        ],
        [
         "NORTH_AMERICA",
         1761449694,
         "0d1138",
         "VIV632  ",
         "Mexico",
         -91.0413,
         38.4737
        ],
        [
         "NORTH_AMERICA",
         1761449694,
         "ada64d",
         "AAL3037 ",
         "United States",
         -88.4571,
         35.0907
        ],
        [
         "NORTH_AMERICA",
         1761449694,
         "aa92fb",
         "UAL927  ",
         "United States",
         -122.3917,
         37.6175
        ],
        [
         "NORTH_AMERICA",
         1761449694,
         "a0f71a",
         "N161TM  ",
         "United States",
         -80.7053,
         37.8024
        ],
        [
         "NORTH_AMERICA",
         1761449694,
         "0d1140",
         "VOI3085 ",
         "Mexico",
         -98.3967,
         24.9955
        ],
        [
         "NORTH_AMERICA",
         1761449694,
         "ad4390",
         "AAL1049 ",
         "United States",
         -80.2242,
         36.9098
        ],
        [
         "NORTH_AMERICA",
         1761449694,
         "0d1151",
         "VOI1870 ",
         "Mexico",
         -118.8721,
         44.249
        ],
        [
         "NORTH_AMERICA",
         1761449694,
         "aa92f8",
         "UAL932  ",
         "United States",
         -75.2968,
         39.8675
        ],
        [
         "NORTH_AMERICA",
         1761449694,
         "a8de56",
         "DAL1234 ",
         "United States",
         -82.9872,
         28.5038
        ],
        [
         "NORTH_AMERICA",
         1761449694,
         "a832b6",
         "N62707  ",
         "United States",
         -80.4787,
         37.1209
        ],
        [
         "NORTH_AMERICA",
         1761449694,
         "ac7e09",
         "AAL3063 ",
         "United States",
         -108.1052,
         36.7492
        ],
        [
         "NORTH_AMERICA",
         1761449694,
         "a39dca",
         "FFT1832 ",
         "United States",
         -82.5513,
         31.3552
        ],
        [
         "NORTH_AMERICA",
         1761449694,
         "ac48d3",
         "SWA657  ",
         "United States",
         -91.3037,
         42.6668
        ],
        [
         "NORTH_AMERICA",
         1761449694,
         "aaf5a9",
         "AAL1818 ",
         "United States",
         -87.9013,
         41.9714
        ],
        [
         "NORTH_AMERICA",
         1761449694,
         "a14ad1",
         "UAL781  ",
         "United States",
         -112.4688,
         33.2018
        ],
        [
         "NORTH_AMERICA",
         1761449694,
         "a6bfa6",
         "DAL9964 ",
         "United States",
         -86.0012,
         35.1571
        ],
        [
         "NORTH_AMERICA",
         1761449694,
         "c058b4",
         "ROU1813 ",
         "Canada",
         -82.2332,
         33.2693
        ],
        [
         "NORTH_AMERICA",
         1761449694,
         "c058c0",
         "ACA187  ",
         "Canada",
         -93.9067,
         47.1374
        ],
        [
         "NORTH_AMERICA",
         1761449694,
         "a8690a",
         "ATN3366 ",
         "United States",
         -104.7596,
         38.3922
        ],
        [
         "NORTH_AMERICA",
         1761449694,
         "a66fbc",
         "N51358  ",
         "United States",
         -78.8856,
         35.0431
        ],
        [
         "NORTH_AMERICA",
         1761449694,
         "a16ce9",
         "N191LN  ",
         "United States",
         -84.7635,
         43.5224
        ],
        [
         "NORTH_AMERICA",
         1761449694,
         "c058cd",
         "ROU1820 ",
         "Canada",
         -85.6061,
         23.6724
        ],
        [
         "NORTH_AMERICA",
         1761449694,
         "ac340a",
         "SWA2472 ",
         "United States",
         -114.8225,
         40.8226
        ],
        [
         "NORTH_AMERICA",
         1761449694,
         "a22003",
         "ENY3611 ",
         "United States",
         -98.1514,
         32.707
        ],
        [
         "NORTH_AMERICA",
         1761449694,
         "a4c327",
         "KII406  ",
         "United States",
         -83.5367,
         42.2506
        ],
        [
         "NORTH_AMERICA",
         1761449694,
         "a4992f",
         "N396BC  ",
         "United States",
         -95.351,
         36.1945
        ],
        [
         "NORTH_AMERICA",
         1761449694,
         "4bb46f",
         "MNB1547 ",
         "Turkey",
         -64.1575,
         44.0184
        ],
        [
         "NORTH_AMERICA",
         1761449694,
         "ad5416",
         "N958TP  ",
         "United States",
         -98.4081,
         29.5804
        ],
        [
         "NORTH_AMERICA",
         1761449694,
         "adb723",
         "JBU923  ",
         "United States",
         -77.4614,
         40.1132
        ],
        [
         "NORTH_AMERICA",
         1761449694,
         "c0205c",
         "SPR755  ",
         "Canada",
         -69.3003,
         46.0429
        ],
        [
         "NORTH_AMERICA",
         1761449694,
         "a04e00",
         "DAL1304 ",
         "United States",
         -111.9542,
         40.1691
        ],
        [
         "NORTH_AMERICA",
         1761449694,
         "ac7aa9",
         "DAL2281 ",
         "United States",
         -82.2539,
         34.8499
        ],
        [
         "NORTH_AMERICA",
         1761449694,
         "a86904",
         "N641AT  ",
         "United States",
         -150.3583,
         61.4852
        ],
        [
         "NORTH_AMERICA",
         1761449694,
         "ac3448",
         "AAL722  ",
         "United States",
         -64.0655,
         47.1246
        ],
        [
         "NORTH_AMERICA",
         1761449694,
         "ad6755",
         "ASA1163 ",
         "United States",
         -104.6853,
         40.1501
        ],
        [
         "NORTH_AMERICA",
         1761449694,
         "a2dce1",
         "ASA134  ",
         "United States",
         -122.8605,
         48.0632
        ],
        [
         "NORTH_AMERICA",
         1761449694,
         "a841f5",
         "FDX3954 ",
         "United States",
         -120.7684,
         39.0815
        ],
        [
         "NORTH_AMERICA",
         1761449694,
         "a9fa0c",
         "TAI570  ",
         "United States",
         -83.5907,
         28.9725
        ],
        [
         "NORTH_AMERICA",
         1761449694,
         "a84343",
         "UPS61   ",
         "United States",
         -149.9826,
         61.1685
        ],
        [
         "NORTH_AMERICA",
         1761449694,
         "c0466c",
         "ROU1937 ",
         "Canada",
         -88.3357,
         47.8878
        ],
        [
         "NORTH_AMERICA",
         1761449694,
         "a3539d",
         "SKW3617 ",
         "United States",
         -104.6493,
         38.7081
        ],
        [
         "NORTH_AMERICA",
         1761449694,
         "a8697f",
         "FFT1595 ",
         "United States",
         -87.3573,
         41.502
        ],
        [
         "NORTH_AMERICA",
         1761449694,
         "a0e086",
         "AAL3005 ",
         "United States",
         -105.9974,
         39.5438
        ],
        [
         "NORTH_AMERICA",
         1761449694,
         "a5939c",
         "ASA372  ",
         "United States",
         -107.6451,
         37.646
        ],
        [
         "NORTH_AMERICA",
         1761449694,
         "aa9136",
         "HAL22   ",
         "United States",
         -128.8331,
         44.579
        ],
        [
         "NORTH_AMERICA",
         1761449694,
         "a03b67",
         "DAL2309 ",
         "United States",
         -88.1936,
         38.8441
        ],
        [
         "NORTH_AMERICA",
         1761449694,
         "a4c34c",
         "DAL227  ",
         "United States",
         -73.5698,
         40.1142
        ],
        [
         "NORTH_AMERICA",
         1761449694,
         "a8b920",
         "NDU661  ",
         "United States",
         -111.6042,
         32.7184
        ],
        [
         "NORTH_AMERICA",
         1761449694,
         "a15b05",
         "DAL991  ",
         "United States",
         -73.631,
         40.5854
        ],
        [
         "NORTH_AMERICA",
         1761449694,
         "ad9b94",
         "SKW5454 ",
         "United States",
         -93.226,
         38.0471
        ],
        [
         "NORTH_AMERICA",
         1761449694,
         "a1be79",
         "AAY734  ",
         "United States",
         -96.1239,
         39.5117
        ],
        [
         "NORTH_AMERICA",
         1761449694,
         "a2cb12",
         "UAL358  ",
         "United States",
         -115.0475,
         34.9738
        ],
        [
         "NORTH_AMERICA",
         1761449694,
         "a39b19",
         "ENY3427 ",
         "United States",
         -83.2601,
         29.5041
        ],
        [
         "NORTH_AMERICA",
         1761449694,
         "a125f9",
         "SKW3495 ",
         "United States",
         -121.3133,
         43.6985
        ],
        [
         "NORTH_AMERICA",
         1761449694,
         "a7ce03",
         "N6015F  ",
         "United States",
         -96.0648,
         33.1122
        ],
        [
         "NORTH_AMERICA",
         1761449694,
         "a1be3a",
         "N211LG  ",
         "United States",
         -104.7197,
         38.8086
        ],
        [
         "NORTH_AMERICA",
         1761449694,
         "a41e29",
         "UAL1995 ",
         "United States",
         -116.5308,
         36.698
        ],
        [
         "NORTH_AMERICA",
         1761449694,
         "89610f",
         "UAE220  ",
         "United Arab Emirates",
         -71.7527,
         43.1796
        ],
        [
         "NORTH_AMERICA",
         1761449694,
         "abbe23",
         "FDX9084 ",
         "United States",
         -101.5292,
         38.1484
        ],
        [
         "NORTH_AMERICA",
         1761449694,
         "a16e7d",
         "UAL228  ",
         "United States",
         -77.4584,
         38.9344
        ],
        [
         "NORTH_AMERICA",
         1761449694,
         "ac45ac",
         "DAL2488 ",
         "United States",
         -97.8832,
         43.6235
        ],
        [
         "NORTH_AMERICA",
         1761449694,
         "ac45d5",
         "FDX90   ",
         "United States",
         -120.0684,
         54.4294
        ],
        [
         "NORTH_AMERICA",
         1761449694,
         "a2de7e",
         "SKW4027 ",
         "United States",
         -121.5926,
         45.3808
        ],
        [
         "NORTH_AMERICA",
         1761449694,
         "c07a7c",
         "JZA7958 ",
         "Canada",
         -73.7175,
         45.4778
        ],
        [
         "NORTH_AMERICA",
         1761449694,
         "a77e97",
         "DAL763  ",
         "United States",
         -108.6485,
         35.507
        ],
        [
         "NORTH_AMERICA",
         1761449694,
         "a12735",
         "UAL2008 ",
         "United States",
         -119.7376,
         37.7819
        ],
        [
         "NORTH_AMERICA",
         1761449694,
         "ac8cf1",
         "AAL2176 ",
         "United States",
         -85.8706,
         39.8555
        ],
        [
         "NORTH_AMERICA",
         1761449694,
         "aa3b84",
         "AMX664  ",
         "United States",
         -121.6881,
         36.4335
        ],
        [
         "NORTH_AMERICA",
         1761449694,
         "aca99c",
         "DAL2839 ",
         "United States",
         -80.8898,
         40.1939
        ],
        [
         "NORTH_AMERICA",
         1761449694,
         "a12712",
         "UAL2211 ",
         "United States",
         -108.8893,
         45.7649
        ],
        [
         "NORTH_AMERICA",
         1761449694,
         "ada336",
         "AAL1771 ",
         "United States",
         -111.4688,
         35.4317
        ],
        [
         "NORTH_AMERICA",
         1761449694,
         "738100",
         "ELY022  ",
         "Israel",
         -79.1029,
         26.98
        ],
        [
         "NORTH_AMERICA",
         1761449694,
         "ac335b",
         "SWA4706 ",
         "United States",
         -88.3678,
         41.8557
        ],
        [
         "NORTH_AMERICA",
         1761449694,
         "adb656",
         "AAL961  ",
         "United States",
         -80.9341,
         35.25
        ],
        [
         "NORTH_AMERICA",
         1761449694,
         "c031c9",
         "WEN3264 ",
         "Canada",
         -105.1384,
         50.4061
        ],
        [
         "NORTH_AMERICA",
         1761449694,
         "a1270a",
         "UAL498  ",
         "United States",
         -118.4202,
         45.0967
        ],
        [
         "NORTH_AMERICA",
         1761449694,
         "a89e2f",
         "N65415  ",
         "United States",
         -121.1467,
         37.9062
        ],
        [
         "NORTH_AMERICA",
         1761449694,
         "896175",
         "UAE256  ",
         "United Arab Emirates",
         -79.502,
         30.1461
        ],
        [
         "NORTH_AMERICA",
         1761449694,
         "a988cc",
         "SKW6191 ",
         "United States",
         -94.4532,
         33.6686
        ],
        [
         "NORTH_AMERICA",
         1761449694,
         "a4870d",
         "FFT1810 ",
         "United States",
         -77.6764,
         32.5822
        ],
        [
         "NORTH_AMERICA",
         1761449694,
         "a04dff",
         "N119DT  ",
         "United States",
         -88.3135,
         35.015
        ],
        [
         "NORTH_AMERICA",
         1761449694,
         "896187",
         "UAE8UW  ",
         "United Arab Emirates",
         -73.8734,
         40.5675
        ],
        [
         "NORTH_AMERICA",
         1761449694,
         "a9b39e",
         "NKS2535 ",
         "United States",
         -85.7211,
         35.4058
        ],
        [
         "NORTH_AMERICA",
         1761449694,
         "a12755",
         "UAL1104 ",
         "United States",
         -115.3122,
         32.4708
        ],
        [
         "NORTH_AMERICA",
         1761449694,
         "a12756",
         "UAL1425 ",
         "United States",
         -87.5332,
         17.5989
        ],
        [
         "NORTH_AMERICA",
         1761449694,
         "a12758",
         "UAL2656 ",
         "United States",
         -104.6943,
         39.8695
        ],
        [
         "NORTH_AMERICA",
         1761449694,
         "abbeb6",
         "N856MA  ",
         "United States",
         -157.814,
         21.2556
        ],
        [
         "NORTH_AMERICA",
         1761449694,
         "a12798",
         "UAL2633 ",
         "United States",
         -117.0737,
         32.781
        ],
        [
         "NORTH_AMERICA",
         1761449694,
         "a1277b",
         "UAL2059 ",
         "United States",
         -107.7247,
         45.1902
        ],
        [
         "NORTH_AMERICA",
         1761449694,
         "a3b796",
         "DAL2123 ",
         "United States",
         -77.5601,
         42.053
        ],
        [
         "NORTH_AMERICA",
         1761449694,
         "a1bdcc",
         "N211FX  ",
         "United States",
         -77.3994,
         38.9336
        ],
        [
         "NORTH_AMERICA",
         1761449694,
         "ab6efc",
         "DAL2132 ",
         "United States",
         -99.4259,
         29.9396
        ],
        [
         "NORTH_AMERICA",
         1761449694,
         "acded6",
         "N9284R  ",
         "United States",
         -87.9134,
         42.9241
        ],
        [
         "NORTH_AMERICA",
         1761449694,
         "a9b2e0",
         "SKW4234 ",
         "United States",
         -111.979,
         40.8048
        ],
        [
         "NORTH_AMERICA",
         1761449694,
         "abbedb",
         "AAL1563 ",
         "United States",
         -87.965,
         42.9275
        ],
        [
         "NORTH_AMERICA",
         1761449694,
         "ad6884",
         "AAL2772 ",
         "United States",
         -73.7739,
         40.6327
        ],
        [
         "NORTH_AMERICA",
         1761449694,
         "a2ddef",
         "N284ME  ",
         "United States",
         -86.2198,
         36.0135
        ],
        [
         "NORTH_AMERICA",
         1761449694,
         "a7bb93",
         "ERU98   ",
         "United States",
         -112.1463,
         34.7446
        ],
        [
         "NORTH_AMERICA",
         1761449694,
         "a97797",
         "SKW6241 ",
         "United States",
         -95.7875,
         29.2696
        ],
        [
         "NORTH_AMERICA",
         1761449694,
         "a126c5",
         "UAL1976 ",
         "United States",
         -87.8734,
         30.7572
        ],
        [
         "NORTH_AMERICA",
         1761449694,
         "ad40c7",
         "N953LA  ",
         "United States",
         -118.1539,
         33.9005
        ],
        [
         "NORTH_AMERICA",
         1761449694,
         "a04f40",
         "N119SP  ",
         "United States",
         -93.1181,
         44.9888
        ],
        [
         "NORTH_AMERICA",
         1761449694,
         "a126eb",
         "UAL1112 ",
         "United States",
         -122.6608,
         37.3049
        ],
        [
         "NORTH_AMERICA",
         1761449694,
         "a126ed",
         "UAL1534 ",
         "United States",
         -77.2846,
         37.4678
        ],
        [
         "NORTH_AMERICA",
         1761449694,
         "a61797",
         "ASA478  ",
         "United States",
         -118.8395,
         38.881
        ],
        [
         "NORTH_AMERICA",
         1761449694,
         "a379d3",
         "DAL928  ",
         "United States",
         -122.3164,
         47.6224
        ],
        [
         "NORTH_AMERICA",
         1761449694,
         "a1ac11",
         "ENY4151 ",
         "United States",
         -90.8315,
         44.225
        ],
        [
         "NORTH_AMERICA",
         1761449694,
         "ab6eb9",
         "AAL647  ",
         "United States",
         -83.7016,
         34.885
        ],
        [
         "NORTH_AMERICA",
         1761449694,
         "a4c47f",
         "N406SD  ",
         "United States",
         -77.8261,
         37.594
        ],
        [
         "NORTH_AMERICA",
         1761449694,
         "a259ec",
         "N2500X  ",
         "United States",
         -80.979,
         28.9468
        ],
        [
         "NORTH_AMERICA",
         1761449694,
         "a6179a",
         "VAR492  ",
         "United States",
         -112.3632,
         33.4346
        ],
        [
         "NORTH_AMERICA",
         1761449694,
         "a4c3a0",
         "N406HF  ",
         "United States",
         -107.5749,
         44.232
        ],
        [
         "NORTH_AMERICA",
         1761449694,
         "a8b9b3",
         "UAL54   ",
         "United States",
         -70.3773,
         42.7819
        ],
        [
         "NORTH_AMERICA",
         1761449694,
         "ab6f3d",
         "N836GC  ",
         "United States",
         -115.1489,
         36.1693
        ],
        [
         "NORTH_AMERICA",
         1761449694,
         "a353c8",
         "AAL2667 ",
         "United States",
         -80.7405,
         27.0169
        ],
        [
         "NORTH_AMERICA",
         1761449694,
         "c0473b",
         "CJT2384 ",
         "Canada",
         -93.4904,
         46.2324
        ],
        [
         "NORTH_AMERICA",
         1761449694,
         "a603b0",
         "GTI8523 ",
         "United States",
         -154.9422,
         60.2921
        ],
        [
         "NORTH_AMERICA",
         1761449694,
         "adc9b6",
         "JBU615  ",
         "United States",
         -90.9122,
         42.7564
        ],
        [
         "NORTH_AMERICA",
         1761449694,
         "a736c1",
         "LCO3607 ",
         "United States",
         -77.2535,
         34.2806
        ],
        [
         "NORTH_AMERICA",
         1761449694,
         "c04738",
         "CJT2389 ",
         "Canada",
         -114.0315,
         51.1285
        ],
        [
         "NORTH_AMERICA",
         1761449694,
         "a83174",
         "NKS3998 ",
         "United States",
         -80.2078,
         32.4393
        ],
        [
         "NORTH_AMERICA",
         1761449694,
         "c07b8c",
         "WJA1425 ",
         "Canada",
         -116.8946,
         43.7749
        ],
        [
         "NORTH_AMERICA",
         1761449694,
         "ab5c69",
         "DAL1373 ",
         "United States",
         -111.9775,
         40.7933
        ],
        [
         "NORTH_AMERICA",
         1761449694,
         "7380c3",
         "ELY026  ",
         "Israel",
         -74.1722,
         40.6927
        ],
        [
         "NORTH_AMERICA",
         1761449694,
         "7380c7",
         "ELY008  ",
         "Israel",
         -73.2403,
         41.5411
        ],
        [
         "NORTH_AMERICA",
         1761449694,
         "ac7c52",
         "SWA4186 ",
         "United States",
         -98.994,
         29.8084
        ],
        [
         "NORTH_AMERICA",
         1761449694,
         "ae1f60",
         "00172081",
         "United States",
         -85.5691,
         31.2853
        ],
        [
         "NORTH_AMERICA",
         1761449694,
         "ad9ac9",
         "JBU607  ",
         "United States",
         -104.8081,
         35.6637
        ],
        [
         "NORTH_AMERICA",
         1761449694,
         "a36825",
         "JBU2483 ",
         "United States",
         -78.8732,
         35.7434
        ],
        [
         "NORTH_AMERICA",
         1761449694,
         "a03baa",
         "XAA2459 ",
         "United States",
         -85.7982,
         37.1414
        ],
        [
         "NORTH_AMERICA",
         1761449694,
         "ab1496",
         "AAL2384 ",
         "United States",
         -81.6784,
         35.3042
        ],
        [
         "NORTH_AMERICA",
         1761449694,
         "ab5afe",
         "SWA2535 ",
         "United States",
         -97.122,
         39.6968
        ],
        [
         "NORTH_AMERICA",
         1761449694,
         "ab148b",
         "ASA9671 ",
         "United States",
         -149.9848,
         61.1761
        ],
        [
         "NORTH_AMERICA",
         1761449694,
         "ab148d",
         "N813AM  ",
         "United States",
         -89.6524,
         39.7996
        ],
        [
         "NORTH_AMERICA",
         1761449694,
         "aaf47a",
         "ASA1401 ",
         "United States",
         -122.1496,
         47.6757
        ],
        [
         "NORTH_AMERICA",
         1761449694,
         "a9d9f2",
         "ASA462  ",
         "United States",
         -120.5394,
         47.8096
        ],
        [
         "NORTH_AMERICA",
         1761449694,
         "a0e220",
         "SKW4727 ",
         "United States",
         -98.6394,
         36.2598
        ],
        [
         "NORTH_AMERICA",
         1761449694,
         "a8b9e8",
         "N661WD  ",
         "United States",
         -96.2592,
         35.342
        ],
        [
         "NORTH_AMERICA",
         1761449694,
         "a0f566",
         "AAL3001 ",
         "United States",
         -106.6039,
         41.5407
        ],
        [
         "NORTH_AMERICA",
         1761449694,
         "a7cf40",
         "LXJ602  ",
         "United States",
         -120.5993,
         36.2542
        ],
        [
         "NORTH_AMERICA",
         1761449694,
         "c045f1",
         "WJA2021 ",
         "Canada",
         -101.0074,
         39.9371
        ],
        [
         "NORTH_AMERICA",
         1761449694,
         "c07b42",
         "WJA80   ",
         "Canada",
         -161.4566,
         61.1774
        ],
        [
         "NORTH_AMERICA",
         1761449694,
         "a09237",
         "N136HN  ",
         "United States",
         -79.6746,
         39.6193
        ],
        [
         "NORTH_AMERICA",
         1761449694,
         "a736ff",
         "JIA5288 ",
         "United States",
         -89.5059,
         35.2884
        ],
        [
         "NORTH_AMERICA",
         1761449694,
         "abe105",
         "ASI155  ",
         "United States",
         -111.8158,
         33.0797
        ],
        [
         "NORTH_AMERICA",
         1761449694,
         "a7032e",
         "N551AM  ",
         "United States",
         -111.7307,
         33.3017
        ],
        [
         "NORTH_AMERICA",
         1761449694,
         "a44031",
         "DAL1508 ",
         "United States",
         -87.568,
         31.4593
        ],
        [
         "NORTH_AMERICA",
         1761449694,
         "a32056",
         "ENY4109 ",
         "United States",
         -81.558,
         27.4054
        ],
        [
         "NORTH_AMERICA",
         1761449694,
         "ad7ab8",
         "JBU333  ",
         "United States",
         -101.763,
         41.9996
        ],
        [
         "NORTH_AMERICA",
         1761449694,
         "a82332",
         "UPS197  ",
         "United States",
         -98.9413,
         48.6199
        ],
        [
         "NORTH_AMERICA",
         1761449694,
         "a81005",
         "UAL2627 ",
         "United States",
         -92.3803,
         44.864
        ],
        [
         "NORTH_AMERICA",
         1761449694,
         "ac0143",
         "SWA2608 ",
         "United States",
         -114.5703,
         35.3585
        ],
        [
         "NORTH_AMERICA",
         1761449694,
         "a81006",
         "UAL2132 ",
         "United States",
         -120.3415,
         39.0077
        ],
        [
         "NORTH_AMERICA",
         1761449694,
         "a70356",
         "N551CB  ",
         "United States",
         -94.6623,
         29.4332
        ],
        [
         "NORTH_AMERICA",
         1761449694,
         "ac5ada",
         "",
         "United States",
         -115.3773,
         38.4424
        ],
        [
         "NORTH_AMERICA",
         1761449694,
         "a2be06",
         "AAY681  ",
         "United States",
         -109.1105,
         36.1309
        ],
        [
         "NORTH_AMERICA",
         1761449694,
         "a7bfa0",
         "JBU539  ",
         "United States",
         -71.9844,
         38.1052
        ],
        [
         "NORTH_AMERICA",
         1761449694,
         "a5d623",
         "UAL2332 ",
         "United States",
         -105.9482,
         35.0679
        ],
        [
         "NORTH_AMERICA",
         1761449694,
         "a5d62f",
         "N4751G  ",
         "United States",
         -85.8821,
         39.8296
        ],
        [
         "NORTH_AMERICA",
         1761449694,
         "a5d643",
         "UAL3789 ",
         "United States",
         -97.9052,
         34.8299
        ],
        [
         "NORTH_AMERICA",
         1761449694,
         "ab4f07",
         "ERU828  ",
         "United States",
         -81.2603,
         29.0985
        ],
        [
         "NORTH_AMERICA",
         1761449694,
         "3c5b31",
         "OCN691  ",
         "Germany",
         -70.8772,
         43.3184
        ],
        [
         "NORTH_AMERICA",
         1761449694,
         "896408",
         "ETD8NY  ",
         "United Arab Emirates",
         -71.6714,
         42.6978
        ],
        [
         "NORTH_AMERICA",
         1761449694,
         "a37b0c",
         "AAL1815 ",
         "United States",
         -116.4262,
         34.103
        ],
        [
         "NORTH_AMERICA",
         1761449694,
         "a728c1",
         "AAL2568 ",
         "United States",
         -97.0377,
         32.9091
        ],
        [
         "NORTH_AMERICA",
         1761449694,
         "a082ac",
         "AAL2069 ",
         "United States",
         -107.7801,
         38.4016
        ],
        [
         "NORTH_AMERICA",
         1761449694,
         "a105e8",
         "SKW5327 ",
         "United States",
         -86.6675,
         36.1233
        ],
        [
         "NORTH_AMERICA",
         1761449694,
         "a0e5d7",
         "SKW4672 ",
         "United States",
         -119.0531,
         35.4313
        ],
        [
         "NORTH_AMERICA",
         1761449694,
         "ac6db1",
         "N90JX   ",
         "United States",
         -103.1381,
         33.4733
        ],
        [
         "NORTH_AMERICA",
         1761449694,
         "020121",
         "RAM209M ",
         "Morocco",
         -65.9949,
         45.522
        ],
        [
         "NORTH_AMERICA",
         1761449694,
         "4bb1a4",
         "THY5YR  ",
         "Turkey",
         -92.2572,
         37.1022
        ],
        [
         "NORTH_AMERICA",
         1761449694,
         "a37b1c",
         "SKW4087 ",
         "United States",
         -118.4114,
         33.9481
        ],
        [
         "NORTH_AMERICA",
         1761449694,
         "aa8481",
         "N777RB  ",
         "United States",
         -81.9172,
         31.545
        ],
        [
         "NORTH_AMERICA",
         1761449694,
         "a082fd",
         "DAL869  ",
         "United States",
         -73.8585,
         40.769
        ],
        [
         "NORTH_AMERICA",
         1761449694,
         "a81045",
         "ATN3364 ",
         "United States",
         -103.0486,
         36.7907
        ],
        [
         "NORTH_AMERICA",
         1761449694,
         "02013e",
         "RAM7201 ",
         "Morocco",
         -73.2782,
         40.571
        ],
        [
         "NORTH_AMERICA",
         1761449694,
         "ad4744",
         "ASA287  ",
         "United States",
         -95.9229,
         40.0234
        ],
        [
         "NORTH_AMERICA",
         1761449694,
         "a968f8",
         "AAL1654 ",
         "United States",
         -109.403,
         32.6529
        ],
        [
         "NORTH_AMERICA",
         1761449694,
         "a62b51",
         "N497NM  ",
         "United States",
         -85.2606,
         32.7324
        ],
        [
         "NORTH_AMERICA",
         1761449694,
         "a51e9b",
         "N429RX  ",
         "United States",
         -112.3623,
         33.437
        ],
        [
         "NORTH_AMERICA",
         1761449694,
         "c06cc3",
         "CGPEW   ",
         "Canada",
         -114.275,
         51.6539
        ],
        [
         "NORTH_AMERICA",
         1761449694,
         "ac12d6",
         "SWA4743 ",
         "United States",
         -117.1661,
         32.7279
        ],
        [
         "NORTH_AMERICA",
         1761449694,
         "780a89",
         "CPA880  ",
         "China",
         -121.5371,
         37.0736
        ],
        [
         "NORTH_AMERICA",
         1761449694,
         "aa1b39",
         "NDU750  ",
         "United States",
         -111.6404,
         33.2957
        ],
        [
         "NORTH_AMERICA",
         1761449694,
         "a452c4",
         "DAL2213 ",
         "United States",
         -84.5316,
         37.3408
        ],
        [
         "NORTH_AMERICA",
         1761449694,
         "a7f08e",
         "UPS77   ",
         "United States",
         -150.9859,
         61.0061
        ],
        [
         "NORTH_AMERICA",
         1761449694,
         "a34729",
         "DAL2276 ",
         "United States",
         -82.6103,
         31.3403
        ],
        [
         "NORTH_AMERICA",
         1761449694,
         "4bb0ed",
         "THY9WC  ",
         "Turkey",
         -119.9629,
         39.3939
        ],
        [
         "NORTH_AMERICA",
         1761449694,
         "4bb0eb",
         "THY1RT  ",
         "Turkey",
         -63.164,
         46.0039
        ],
        [
         "NORTH_AMERICA",
         1761449694,
         "a0e751",
         "UAL1553 ",
         "United States",
         -79.6406,
         33.2533
        ],
        [
         "NORTH_AMERICA",
         1761449694,
         "c07fb0",
         "WJA374  ",
         "Canada",
         -79.401,
         43.7778
        ],
        [
         "NORTH_AMERICA",
         1761449694,
         "c07fe9",
         "WJA2065 ",
         "Canada",
         -117.4217,
         44.8962
        ],
        [
         "NORTH_AMERICA",
         1761449694,
         "aa2e0b",
         "N755QS  ",
         "United States",
         -110.6999,
         30.2547
        ],
        [
         "NORTH_AMERICA",
         1761449694,
         "a6f5b5",
         "ASA1131 ",
         "United States",
         -122.2453,
         45.493
        ],
        [
         "NORTH_AMERICA",
         1761449694,
         "a34764",
         "LXJ310  ",
         "United States",
         -84.4228,
         39.0963
        ],
        [
         "NORTH_AMERICA",
         1761449694,
         "ab18ac",
         "ERU814  ",
         "United States",
         -81.3672,
         29.3421
        ],
        [
         "NORTH_AMERICA",
         1761449694,
         "ac0094",
         "SWA3792 ",
         "United States",
         -123.2938,
         37.5948
        ],
        [
         "NORTH_AMERICA",
         1761449694,
         "a3472f",
         "DAL2749 ",
         "United States",
         -97.6754,
         30.1989
        ],
        [
         "NORTH_AMERICA",
         1761449694,
         "a98b76",
         "FFT2886 ",
         "United States",
         -82.5044,
         30.5002
        ],
        [
         "NORTH_AMERICA",
         1761449694,
         "a75da2",
         "DAL684  ",
         "United States",
         -121.9885,
         45.5172
        ],
        [
         "NORTH_AMERICA",
         1761449694,
         "ad2095",
         "JBU211  ",
         "United States",
         -76.0088,
         42.1057
        ],
        [
         "NORTH_AMERICA",
         1761449694,
         "a2bdff",
         "ENY4101 ",
         "United States",
         -96.5592,
         33.7365
        ],
        [
         "NORTH_AMERICA",
         1761449694,
         "abe09a",
         "SWA2678 ",
         "United States",
         -79.2018,
         36.4948
        ],
        [
         "NORTH_AMERICA",
         1761449694,
         "a822d6",
         "QXE2421 ",
         "United States",
         -119.089,
         36.1534
        ],
        [
         "NORTH_AMERICA",
         1761449694,
         "780a3d",
         "CPA087  ",
         "China",
         -129.4465,
         55.1056
        ],
        [
         "NORTH_AMERICA",
         1761449694,
         "a07177",
         "AAL711  ",
         "United States",
         -101.1185,
         33.5369
        ],
        [
         "NORTH_AMERICA",
         1761449694,
         "a44166",
         "UAL1798 ",
         "United States",
         -83.3931,
         41.9337
        ],
        [
         "NORTH_AMERICA",
         1761449694,
         "a6946b",
         "DAL210  ",
         "United States",
         -78.3547,
         31.984
        ],
        [
         "NORTH_AMERICA",
         1761449694,
         "a4414a",
         "DAL1713 ",
         "United States",
         -104.0187,
         32.0717
        ],
        [
         "NORTH_AMERICA",
         1761449694,
         "c013d0",
         "ACA1030 ",
         "Canada",
         -85.877,
         40.2073
        ],
        [
         "NORTH_AMERICA",
         1761449694,
         "4bb145",
         "THY6    ",
         "Turkey",
         -78.5488,
         44.9838
        ],
        [
         "NORTH_AMERICA",
         1761449694,
         "4bb107",
         "THY8JK  ",
         "Turkey",
         -122.1043,
         47.6111
        ],
        [
         "NORTH_AMERICA",
         1761449694,
         "a3a9a3",
         "DAL1320 ",
         "United States",
         -83.0114,
         37.2825
        ],
        [
         "NORTH_AMERICA",
         1761449694,
         "a83781",
         "UAL1453 ",
         "United States",
         -85.8463,
         40.7187
        ],
        [
         "NORTH_AMERICA",
         1761449694,
         "aa1be0",
         "AAL2556 ",
         "United States",
         -86.9249,
         37.144
        ],
        [
         "NORTH_AMERICA",
         1761449694,
         "a5617a",
         "LXJ446  ",
         "United States",
         -109.7786,
         33.7193
        ],
        [
         "NORTH_AMERICA",
         1761449694,
         "4bb188",
         "THY32G  ",
         "Turkey",
         -81.9511,
         35.0198
        ],
        [
         "NORTH_AMERICA",
         1761449694,
         "4bb184",
         "THY6936 ",
         "Turkey",
         -83.3008,
         34.2137
        ],
        [
         "NORTH_AMERICA",
         1761449694,
         "a359bc",
         "DAL1256 ",
         "United States",
         -99.0088,
         42.2434
        ],
        [
         "NORTH_AMERICA",
         1761449694,
         "ac0296",
         "N873MH  ",
         "United States",
         -115.1696,
         36.0814
        ],
        [
         "NORTH_AMERICA",
         1761449694,
         "a44187",
         "UAL280  ",
         "United States",
         -115.6174,
         53.9855
        ],
        [
         "NORTH_AMERICA",
         1761449694,
         "a01c37",
         "AAL4    ",
         "United States",
         -73.7907,
         40.6498
        ],
        [
         "NORTH_AMERICA",
         1761449694,
         "a50adc",
         "DAL32   ",
         "United States",
         -62.079,
         47.9948
        ],
        [
         "NORTH_AMERICA",
         1761449694,
         "a4ec00",
         "N416SF  ",
         "United States",
         -84.3218,
         33.8594
        ],
        [
         "NORTH_AMERICA",
         1761449694,
         "a4b6b6",
         "JBU1523 ",
         "United States",
         -118.4137,
         33.9382
        ],
        [
         "NORTH_AMERICA",
         1761449694,
         "a466c7",
         "DAL2395 ",
         "United States",
         -84.6468,
         39.0193
        ],
        [
         "NORTH_AMERICA",
         1761449694,
         "a609d4",
         "UAL1135 ",
         "United States",
         -97.3466,
         32.5522
        ],
        [
         "NORTH_AMERICA",
         1761449694,
         "a070d7",
         "UAL2856 ",
         "United States",
         -92.9204,
         35.8974
        ],
        [
         "NORTH_AMERICA",
         1761449694,
         "a3df4a",
         "FFT4036 ",
         "United States",
         -83.1157,
         37.1388
        ],
        [
         "NORTH_AMERICA",
         1761449694,
         "adcc95",
         "N989AB  ",
         "United States",
         -90.9384,
         38.1099
        ],
        [
         "NORTH_AMERICA",
         1761449694,
         "4bb196",
         "THY3CM  ",
         "Turkey",
         -64.1795,
         48.2167
        ],
        [
         "NORTH_AMERICA",
         1761449694,
         "ac2836",
         "SWA3196 ",
         "United States",
         -95.2213,
         35.5166
        ],
        [
         "NORTH_AMERICA",
         1761449694,
         "a63f4e",
         "SKW6510 ",
         "United States",
         -122.2325,
         47.7927
        ],
        [
         "NORTH_AMERICA",
         1761449694,
         "a213b9",
         "N233AV  ",
         "United States",
         -112.449,
         33.9801
        ],
        [
         "NORTH_AMERICA",
         1761449694,
         "a599a8",
         "AAL695  ",
         "United States",
         -101.5976,
         39.4736
        ],
        [
         "NORTH_AMERICA",
         1761449694,
         "a466fc",
         "FFT2112 ",
         "United States",
         -78.7866,
         40.464
        ],
        [
         "NORTH_AMERICA",
         1761449694,
         "ad8ed7",
         "AAL2474 ",
         "United States",
         -89.675,
         33.1097
        ],
        [
         "NORTH_AMERICA",
         1761449694,
         "a3df1e",
         "DAL1268 ",
         "United States",
         -85.5892,
         37.5423
        ],
        [
         "NORTH_AMERICA",
         1761449694,
         "ac5bb9",
         "DOW896  ",
         "United States",
         -81.2734,
         37.5894
        ],
        [
         "NORTH_AMERICA",
         1761449694,
         "a9a750",
         "AAL135  ",
         "United States",
         -117.7236,
         34.003
        ],
        [
         "NORTH_AMERICA",
         1761449694,
         "a200ba",
         "SWA1595 ",
         "United States",
         -118.3539,
         34.1977
        ],
        [
         "NORTH_AMERICA",
         1761449694,
         "ac13d6",
         "SWA2857 ",
         "United States",
         -114.7436,
         35.6377
        ],
        [
         "NORTH_AMERICA",
         1761449694,
         "acbf5e",
         "N920NH  ",
         "United States",
         -78.5855,
         34.9937
        ],
        [
         "NORTH_AMERICA",
         1761449694,
         "a01ba4",
         "N106GR  ",
         "United States",
         -84.1492,
         35.9143
        ],
        [
         "NORTH_AMERICA",
         1761449694,
         "c05aac",
         "CGIIT   ",
         "Canada",
         -73.7417,
         45.4634
        ],
        [
         "NORTH_AMERICA",
         1761449694,
         "a8cf3a",
         "N667LF  ",
         "United States",
         -117.3926,
         47.577
        ],
        [
         "NORTH_AMERICA",
         1761449694,
         "a9b9e3",
         "AAL56   ",
         "United States",
         -79.9392,
         25.8699
        ],
        [
         "NORTH_AMERICA",
         1761449694,
         "89644c",
         "UAE238  ",
         "United Arab Emirates",
         -69.2096,
         44.0768
        ],
        [
         "NORTH_AMERICA",
         1761449694,
         "896458",
         "UAE5RQ  ",
         "United Arab Emirates",
         -67.7315,
         44.0789
        ],
        [
         "NORTH_AMERICA",
         1761449694,
         "406890",
         "BAW120  ",
         "United Kingdom",
         -78.1571,
         43.3315
        ],
        [
         "NORTH_AMERICA",
         1761449694,
         "ac018c",
         "SKW5124 ",
         "United States",
         -90.9045,
         44.6808
        ],
        [
         "NORTH_AMERICA",
         1761449694,
         "aa9830",
         "CKS218  ",
         "United States",
         -154.6489,
         61.3829
        ],
        [
         "NORTH_AMERICA",
         1761449694,
         "a3484e",
         "AAL2875 ",
         "United States",
         -98.3954,
         36.0776
        ],
        [
         "NORTH_AMERICA",
         1761449694,
         "a9dc5e",
         "UAL2674 ",
         "United States",
         -106.261,
         32.4681
        ],
        [
         "NORTH_AMERICA",
         1761449694,
         "a5753e",
         "N45052  ",
         "United States",
         -152.1062,
         62.0468
        ],
        [
         "NORTH_AMERICA",
         1761449694,
         "aa9800",
         "AMX026  ",
         "United States",
         -80.4098,
         48.8829
        ],
        [
         "NORTH_AMERICA",
         1761449694,
         "addf01",
         "AAL3271 ",
         "United States",
         -97.032,
         32.8816
        ],
        [
         "NORTH_AMERICA",
         1761449694,
         "a9a6ee",
         "N7207W  ",
         "United States",
         -81.9086,
         28.5042
        ],
        [
         "NORTH_AMERICA",
         1761449694,
         "a20288",
         "ATN3588 ",
         "United States",
         -96.5283,
         36.9754
        ],
        [
         "NORTH_AMERICA",
         1761449694,
         "a51ea9",
         "N429SL  ",
         "United States",
         -116.447,
         43.872
        ],
        [
         "NORTH_AMERICA",
         1761449694,
         "a3488b",
         "WIS700  ",
         "United States",
         -92.4186,
         44.6795
        ],
        [
         "NORTH_AMERICA",
         1761449694,
         "ac5c1f",
         "FDX6011 ",
         "United States",
         -142.7936,
         60.4589
        ],
        [
         "NORTH_AMERICA",
         1761449694,
         "acceab",
         "SKW382H ",
         "United States",
         -97.6459,
         38.7297
        ],
        [
         "NORTH_AMERICA",
         1761449694,
         "a71429",
         "REH46   ",
         "United States",
         -157.9045,
         21.3207
        ],
        [
         "NORTH_AMERICA",
         1761449694,
         "ac252a",
         "SWA1314 ",
         "United States",
         -112.0214,
         33.4322
        ],
        [
         "NORTH_AMERICA",
         1761449694,
         "a5844a",
         "N4547E  ",
         "United States",
         -105.159,
         39.7801
        ],
        [
         "NORTH_AMERICA",
         1761449694,
         "ab1890",
         "DAL1531 ",
         "United States",
         -101.4788,
         36.8767
        ],
        [
         "NORTH_AMERICA",
         1761449694,
         "a72764",
         "N560EX  ",
         "United States",
         -91.1719,
         30.5072
        ],
        [
         "NORTH_AMERICA",
         1761449694,
         "e48f4e",
         "PTMTP   ",
         "Brazil",
         -62.2696,
         12.6106
        ],
        [
         "NORTH_AMERICA",
         1761449694,
         "a9672c",
         "ASA1031 ",
         "United States",
         -119.0292,
         47.6924
        ],
        [
         "NORTH_AMERICA",
         1761449694,
         "a76df1",
         "UPS81   ",
         "United States",
         -154.817,
         60.4839
        ],
        [
         "NORTH_AMERICA",
         1761449694,
         "aa2bc1",
         "UAL2610 ",
         "United States",
         -106.0846,
         39.1772
        ],
        [
         "NORTH_AMERICA",
         1761449694,
         "c023c9",
         "ACA90   ",
         "Canada",
         -72.8085,
         39.9157
        ],
        [
         "NORTH_AMERICA",
         1761449694,
         "a75ac7",
         "JIA5391 ",
         "United States",
         -85.4658,
         33.6521
        ],
        [
         "NORTH_AMERICA",
         1761449694,
         "846333",
         "NCA173  ",
         "Japan",
         -146.3621,
         58.2923
        ],
        [
         "NORTH_AMERICA",
         1761449694,
         "ab4bf7",
         "DAL266  ",
         "United States",
         -73.779,
         40.6342
        ],
        [
         "NORTH_AMERICA",
         1761449694,
         "a1f11d",
         "AAY2260 ",
         "United States",
         -107.0455,
         38.3295
        ],
        [
         "NORTH_AMERICA",
         1761449694,
         "a0817c",
         "UAL526  ",
         "United States",
         -112.5295,
         36.8056
        ],
        [
         "NORTH_AMERICA",
         1761449694,
         "a22482",
         "SWA2180 ",
         "United States",
         -102.5949,
         37.1379
        ],
        [
         "NORTH_AMERICA",
         1761449694,
         "3475d3",
         "IBE26VE ",
         "Spain",
         -122.3884,
         37.6113
        ],
        [
         "NORTH_AMERICA",
         1761449694,
         "a0817f",
         "UAL1340 ",
         "United States",
         -118.8921,
         37.8812
        ],
        [
         "NORTH_AMERICA",
         1761449694,
         "c023ae",
         "",
         "Canada",
         -67.5774,
         48.5115
        ],
        [
         "NORTH_AMERICA",
         1761449694,
         "aae597",
         "AAL240  ",
         "United States",
         -82.4104,
         40.9109
        ],
        [
         "NORTH_AMERICA",
         1761449694,
         "a129dc",
         "AAL3158 ",
         "United States",
         -104.2494,
         40.1711
        ],
        [
         "NORTH_AMERICA",
         1761449694,
         "a03f24",
         "DAL2608 ",
         "United States",
         -112.1525,
         40.919
        ],
        [
         "NORTH_AMERICA",
         1761449694,
         "c07f39",
         "WEN3384 ",
         "Canada",
         -114.0067,
         51.1185
        ],
        [
         "NORTH_AMERICA",
         1761449694,
         "4077d3",
         "VIR138M ",
         "United Kingdom",
         -73.3741,
         40.9659
        ],
        [
         "NORTH_AMERICA",
         1761449694,
         "a4c754",
         "N407HC  ",
         "United States",
         -82.6729,
         28.4699
        ],
        [
         "NORTH_AMERICA",
         1761449694,
         "781dac",
         "CSN8031 ",
         "China",
         -99.2342,
         19.4528
        ],
        [
         "NORTH_AMERICA",
         1761449694,
         "a9b78e",
         "EJA725  ",
         "United States",
         -90.6442,
         33.7456
        ],
        [
         "NORTH_AMERICA",
         1761449694,
         "a99afb",
         "NKS2608 ",
         "United States",
         -84.2321,
         33.5104
        ],
        [
         "NORTH_AMERICA",
         1761449694,
         "c07f02",
         "WJA1285 ",
         "Canada",
         -115.1715,
         48.4599
        ],
        [
         "NORTH_AMERICA",
         1761449694,
         "a369be",
         "ENY3671 ",
         "United States",
         -96.4102,
         35.805
        ],
        [
         "NORTH_AMERICA",
         1761449694,
         "a03f84",
         "RPA4344 ",
         "United States",
         -91.7774,
         34.3954
        ],
        [
         "NORTH_AMERICA",
         1761449694,
         "e8040f",
         "LAN501  ",
         "Chile",
         -79.3684,
         13.9732
        ],
        [
         "NORTH_AMERICA",
         1761449694,
         "ac382e",
         "DAL903  ",
         "United States",
         -98.2122,
         42.1529
        ],
        [
         "NORTH_AMERICA",
         1761449694,
         "e8040c",
         "LPE2483 ",
         "Chile",
         -84.4329,
         33.6366
        ],
        [
         "NORTH_AMERICA",
         1761449694,
         "a356db",
         "DAL374  ",
         "United States",
         -85.1434,
         34.0745
        ],
        [
         "NORTH_AMERICA",
         1761449694,
         "ac250b",
         "SWA2708 ",
         "United States",
         -119.901,
         38.3844
        ],
        [
         "NORTH_AMERICA",
         1761449694,
         "abaeb2",
         "SWA3467 ",
         "United States",
         -97.7194,
         32.3751
        ],
        [
         "NORTH_AMERICA",
         1761449694,
         "aaf83c",
         "AAL416  ",
         "United States",
         -81.8049,
         30.2065
        ],
        [
         "NORTH_AMERICA",
         1761449694,
         "347691",
         "AEA092  ",
         "Spain",
         -73.5511,
         40.5622
        ],
        [
         "NORTH_AMERICA",
         1761449694,
         "a2bc12",
         "UAL2044 ",
         "United States",
         -90.8547,
         45.7695
        ],
        [
         "NORTH_AMERICA",
         1761449694,
         "a14c70",
         "EDV5209 ",
         "United States",
         -97.3073,
         44.7103
        ],
        [
         "NORTH_AMERICA",
         1761449694,
         "a223ba",
         "ENY3349 ",
         "United States",
         -97.1089,
         32.1599
        ],
        [
         "NORTH_AMERICA",
         1761449694,
         "a369ee",
         "AAL1179 ",
         "United States",
         -113.8983,
         35.5748
        ],
        [
         "NORTH_AMERICA",
         1761449694,
         "a76f66",
         "UAL3908 ",
         "United States",
         -87.7347,
         41.6481
        ],
        [
         "NORTH_AMERICA",
         1761449694,
         "a3dc75",
         "EJA348  ",
         "United States",
         -81.6586,
         33.593
        ],
        [
         "NORTH_AMERICA",
         1761449694,
         "0d1083",
         "VIV7381 ",
         "Mexico",
         -100.1614,
         25.8085
        ],
        [
         "NORTH_AMERICA",
         1761449694,
         "a87c12",
         "FFT3261 ",
         "United States",
         -81.202,
         29.8879
        ],
        [
         "NORTH_AMERICA",
         1761449694,
         "abaf47",
         "FDX5035 ",
         "United States",
         -68.9115,
         45.8721
        ],
        [
         "NORTH_AMERICA",
         1761449694,
         "ab5f6a",
         "SWA661  ",
         "United States",
         -120.7009,
         39.0701
        ],
        [
         "NORTH_AMERICA",
         1761449694,
         "a8df2c",
         "DAL1137 ",
         "United States",
         -83.8513,
         30.1456
        ],
        [
         "NORTH_AMERICA",
         1761449694,
         "ab5f87",
         "SWA4283 ",
         "United States",
         -100.5024,
         35.4331
        ],
        [
         "NORTH_AMERICA",
         1761449694,
         "ab5f98",
         "N8318Y  ",
         "United States",
         -87.9156,
         41.3223
        ],
        [
         "NORTH_AMERICA",
         1761449694,
         "ada6b9",
         "SKW5034 ",
         "United States",
         -104.9346,
         41.5182
        ],
        [
         "NORTH_AMERICA",
         1761449694,
         "740826",
         "RJA262G ",
         "Jordan",
         -64.1659,
         46.2712
        ],
        [
         "NORTH_AMERICA",
         1761449694,
         "740825",
         "RJA264  ",
         "Jordan",
         -63.2999,
         46.6408
        ],
        [
         "NORTH_AMERICA",
         1761449694,
         "c06aa4",
         "JZA816  ",
         "Canada",
         -112.8157,
         36.7439
        ],
        [
         "NORTH_AMERICA",
         1761449694,
         "c02432",
         "CFNSJ   ",
         "Canada",
         -91.0528,
         63.632
        ],
        [
         "NORTH_AMERICA",
         1761449694,
         "a223fa",
         "N237RB  ",
         "United States",
         -93.902,
         36.6172
        ],
        [
         "NORTH_AMERICA",
         1761449694,
         "89655f",
         "UAE2VL  ",
         "United Arab Emirates",
         -79.6356,
         41.2568
        ],
        [
         "NORTH_AMERICA",
         1761449694,
         "a4c6af",
         "AAL399  ",
         "United States",
         -149.9841,
         61.1731
        ],
        [
         "NORTH_AMERICA",
         1761449694,
         "a8df06",
         "DAL8893 ",
         "United States",
         -107.1613,
         40.1734
        ],
        [
         "NORTH_AMERICA",
         1761449694,
         "a606c5",
         "ERU488  ",
         "United States",
         -81.0352,
         29.1354
        ],
        [
         "NORTH_AMERICA",
         1761449694,
         "aa818d",
         "RPA3694 ",
         "United States",
         -86.2485,
         39.6152
        ],
        [
         "NORTH_AMERICA",
         1761449694,
         "0d1078",
         "VOI105  ",
         "Mexico",
         -90.2443,
         20.8323
        ],
        [
         "NORTH_AMERICA",
         1761449694,
         "0d1079",
         "VOI1001 ",
         "Mexico",
         -116.0735,
         31.8226
        ],
        [
         "NORTH_AMERICA",
         1761449694,
         "4063e6",
         "VIR12E  ",
         "United Kingdom",
         -71.0134,
         42.3632
        ],
        [
         "NORTH_AMERICA",
         1761449694,
         "ad447e",
         "N954LA  ",
         "United States",
         -118.3707,
         33.9188
        ],
        [
         "NORTH_AMERICA",
         1761449694,
         "adeddd",
         "AAL1372 ",
         "United States",
         -82.0288,
         35.1773
        ],
        [
         "NORTH_AMERICA",
         1761449694,
         "a60814",
         "UAL1673 ",
         "United States",
         -97.0368,
         32.893
        ],
        [
         "NORTH_AMERICA",
         1761449694,
         "ac1190",
         "AAL623  ",
         "United States",
         -102.9087,
         36.3741
        ],
        [
         "NORTH_AMERICA",
         1761449694,
         "addadb",
         "JBU1524 ",
         "United States",
         -118.4028,
         33.9479
        ],
        [
         "NORTH_AMERICA",
         1761449694,
         "8964a4",
         "UAE5WR  ",
         "United Arab Emirates",
         -71.8628,
         45.9577
        ],
        [
         "NORTH_AMERICA",
         1761449694,
         "a4c849",
         "SKW3426 ",
         "United States",
         -118.8599,
         36.9677
        ],
        [
         "NORTH_AMERICA",
         1761449694,
         "a7ac54",
         "ASA1194 ",
         "United States",
         -122.1813,
         46.3531
        ],
        [
         "NORTH_AMERICA",
         1761449694,
         "a2bbc6",
         "UAL2646 ",
         "United States",
         -122.6063,
         45.5892
        ],
        [
         "NORTH_AMERICA",
         1761449694,
         "ab5f43",
         "SWA2582 ",
         "United States",
         -115.7849,
         43.9329
        ],
        [
         "NORTH_AMERICA",
         1761449694,
         "ab03a4",
         "DAL1582 ",
         "United States",
         -115.1762,
         40.7848
        ],
        [
         "NORTH_AMERICA",
         1761449694,
         "ac7f41",
         "AAL1018 ",
         "United States",
         -76.2205,
         36.8731
        ],
        [
         "NORTH_AMERICA",
         1761449694,
         "ac1327",
         "SWA935  ",
         "United States",
         -74.1185,
         42.563
        ],
        [
         "NORTH_AMERICA",
         1761449694,
         "a2bbf2",
         "UAL1696 ",
         "United States",
         -92.0507,
         38.4901
        ],
        [
         "NORTH_AMERICA",
         1761449694,
         "a45233",
         "HAL16   ",
         "United States",
         -118.3568,
         33.3664
        ],
        [
         "NORTH_AMERICA",
         1761449694,
         "abafff",
         "AAL1805 ",
         "United States",
         -97.0338,
         32.8842
        ],
        [
         "NORTH_AMERICA",
         1761449694,
         "ac267c",
         "AAL2260 ",
         "United States",
         -81.7476,
         40.596
        ],
        [
         "NORTH_AMERICA",
         1761449694,
         "a2bbcc",
         "UAL1759 ",
         "United States",
         -109.1903,
         38.1415
        ],
        [
         "NORTH_AMERICA",
         1761449694,
         "ae5302",
         "SCHNR22 ",
         "United States",
         -120.4045,
         38.0912
        ],
        [
         "NORTH_AMERICA",
         1761449694,
         "a33243",
         "DAL2613 ",
         "United States",
         -120.0401,
         40.1941
        ],
        [
         "NORTH_AMERICA",
         1761449694,
         "4065de",
         "BAW48Q  ",
         "United Kingdom",
         -122.3062,
         47.4591
        ],
        [
         "NORTH_AMERICA",
         1761449694,
         "ad8cec",
         "AAL1176 ",
         "United States",
         -81.6859,
         27.9906
        ],
        [
         "NORTH_AMERICA",
         1761449694,
         "ac136d",
         "SWA455  ",
         "United States",
         -111.881,
         33.354
        ],
        [
         "NORTH_AMERICA",
         1761449694,
         "abe030",
         "SWA1527 ",
         "United States",
         -120.2431,
         36.2438
        ],
        [
         "NORTH_AMERICA",
         1761449694,
         "8965f5",
         "ETD6HZ  ",
         "United Arab Emirates",
         -68.3985,
         45.8812
        ],
        [
         "NORTH_AMERICA",
         1761449694,
         "4078dd",
         "BAW3GB  ",
         "United Kingdom",
         -111.9924,
         33.4384
        ],
        [
         "NORTH_AMERICA",
         1761449694,
         "a37a02",
         "FFT3015 ",
         "United States",
         -115.1352,
         36.0832
        ],
        [
         "NORTH_AMERICA",
         1761449694,
         "a3a7be",
         "N3345M  ",
         "United States",
         -98.0132,
         29.832
        ],
        [
         "NORTH_AMERICA",
         1761449694,
         "c81e22",
         "ANZ23   ",
         "New Zealand",
         -125.7241,
         47.7121
        ],
        [
         "NORTH_AMERICA",
         1761449694,
         "a224f9",
         "UAL675T ",
         "United States",
         -116.2129,
         33.9635
        ],
        [
         "NORTH_AMERICA",
         1761449694,
         "aaf960",
         "AAL2804 ",
         "United States",
         -81.5315,
         43.0096
        ],
        [
         "NORTH_AMERICA",
         1761449694,
         "ab1971",
         "AAL532  ",
         "United States",
         -75.2031,
         39.8791
        ],
        [
         "NORTH_AMERICA",
         1761449694,
         "a9555b",
         "TFF910  ",
         "United States",
         -74.6527,
         40.8864
        ],
        [
         "NORTH_AMERICA",
         1761449694,
         "ab1978",
         "AAY2691 ",
         "United States",
         -82.8319,
         27.8405
        ],
        [
         "NORTH_AMERICA",
         1761449694,
         "a224fa",
         "UAL2131 ",
         "United States",
         -81.8448,
         41.4098
        ],
        [
         "NORTH_AMERICA",
         1761449694,
         "aaf968",
         "DAL90   ",
         "United States",
         -63.7564,
         47.2636
        ],
        [
         "NORTH_AMERICA",
         1761449694,
         "a8ded6",
         "DAL2386 ",
         "United States",
         -77.3773,
         36.7588
        ],
        [
         "NORTH_AMERICA",
         1761449694,
         "a081ca",
         "UAL2328 ",
         "United States",
         -122.3337,
         37.5499
        ],
        [
         "NORTH_AMERICA",
         1761449694,
         "a37a25",
         "N323HA  ",
         "United States",
         -100.2206,
         43.879
        ],
        [
         "NORTH_AMERICA",
         1761449694,
         "c07ee8",
         "WJA605  ",
         "Canada",
         -79.5671,
         43.7673
        ],
        [
         "NORTH_AMERICA",
         1761449694,
         "c07ee6",
         "WJA731  ",
         "Canada",
         -86.7791,
         45.7314
        ],
        [
         "NORTH_AMERICA",
         1761449694,
         "c07ee0",
         "WJA2013 ",
         "Canada",
         -113.9722,
         53.4229
        ],
        [
         "NORTH_AMERICA",
         1761449694,
         "a51d7e",
         "EMD429  ",
         "United States",
         -112.0165,
         33.4278
        ],
        [
         "NORTH_AMERICA",
         1761449694,
         "a2bd86",
         "N276HS  ",
         "United States",
         -74.0544,
         40.8287
        ],
        [
         "NORTH_AMERICA",
         1761449694,
         "c07ef2",
         "WJA1524 ",
         "Canada",
         -112.5051,
         39.2982
        ],
        [
         "NORTH_AMERICA",
         1761449694,
         "a50a87",
         "N424AM  ",
         "United States",
         -87.2422,
         30.4633
        ],
        [
         "NORTH_AMERICA",
         1761449694,
         "407994",
         "BAW28F  ",
         "United Kingdom",
         -111.9072,
         40.9769
        ],
        [
         "NORTH_AMERICA",
         1761449694,
         "ac5a4a",
         "SWA2491 ",
         "United States",
         -77.4595,
         38.9551
        ],
        [
         "NORTH_AMERICA",
         1761449694,
         "adca15",
         "AAL1291 ",
         "United States",
         -87.7772,
         37.1375
        ],
        [
         "NORTH_AMERICA",
         1761449694,
         "a4c7cd",
         "N4O7MZ  ",
         "United States",
         -106.2968,
         35.8746
        ],
        [
         "NORTH_AMERICA",
         1761449694,
         "a584c3",
         "VAR455  ",
         "United States",
         -114.3008,
         35.466
        ],
        [
         "NORTH_AMERICA",
         1761449694,
         "aa2d14",
         "SKW4817 ",
         "United States",
         -105.5648,
         35.5093
        ],
        [
         "NORTH_AMERICA",
         1761449694,
         "a02cb5",
         "FDX66   ",
         "United States",
         -90.8093,
         33.4189
        ],
        [
         "NORTH_AMERICA",
         1761449694,
         "a0e607",
         "AAL2567 ",
         "United States",
         -72.492,
         42.6675
        ],
        [
         "NORTH_AMERICA",
         1761449694,
         "a0967f",
         "N137PH  ",
         "United States",
         -115.1558,
         36.1597
        ],
        [
         "NORTH_AMERICA",
         1761449694,
         "a0d344",
         "SKW5785 ",
         "United States",
         -83.3645,
         42.2287
        ],
        [
         "NORTH_AMERICA",
         1761449694,
         "a0d32e",
         "N152SA  ",
         "United States",
         -104.9097,
         39.8538
        ],
        [
         "NORTH_AMERICA",
         1761449694,
         "c010f6",
         "ACA152  ",
         "Canada",
         -79.6204,
         43.6788
        ],
        [
         "NORTH_AMERICA",
         1761449694,
         "a99d87",
         "ASA217  ",
         "United States",
         -100.6854,
         42.7355
        ],
        [
         "NORTH_AMERICA",
         1761449694,
         "a9da1b",
         "N734CB  ",
         "United States",
         -111.962,
         40.7918
        ],
        [
         "NORTH_AMERICA",
         1761449694,
         "a3dcc2",
         "AAL1363 ",
         "United States",
         -97.0353,
         32.9018
        ],
        [
         "NORTH_AMERICA",
         1761449694,
         "a22642",
         "ASA354  ",
         "United States",
         -121.9498,
         36.9416
        ],
        [
         "NORTH_AMERICA",
         1761449694,
         "a39fb1",
         "UAL1412 ",
         "United States",
         -104.6856,
         38.9279
        ],
        [
         "NORTH_AMERICA",
         1761449694,
         "a9ed2c",
         "N739HC  ",
         "United States",
         -83.1395,
         41.1665
        ],
        [
         "NORTH_AMERICA",
         1761449694,
         "a834f0",
         "N628LA  ",
         "United States",
         -111.6677,
         32.8565
        ],
        [
         "NORTH_AMERICA",
         1761449694,
         "a33339",
         "EDV5394 ",
         "United States",
         -75.4586,
         41.8008
        ],
        [
         "NORTH_AMERICA",
         1761449694,
         "a86a66",
         "QXE2381 ",
         "United States",
         -116.261,
         43.8247
        ],
        [
         "NORTH_AMERICA",
         1761449694,
         "ac37bd",
         "SWA824  ",
         "United States",
         -95.2031,
         29.4326
        ],
        [
         "NORTH_AMERICA",
         1761449694,
         "ab3a0c",
         "UAL2019 ",
         "United States",
         -122.6945,
         46.519
        ],
        [
         "NORTH_AMERICA",
         1761449694,
         "a7ad84",
         "DAL955  ",
         "United States",
         -101.1646,
         37.4448
        ],
        [
         "NORTH_AMERICA",
         1761449694,
         "ac9b6a",
         "N911LP  ",
         "United States",
         -84.5183,
         38.0288
        ],
        [
         "NORTH_AMERICA",
         1761449694,
         "c0669e",
         "WJA598  ",
         "Canada",
         -77.8477,
         44.0569
        ],
        [
         "NORTH_AMERICA",
         1761449694,
         "899082",
         "EVA665  ",
         "Taiwan",
         -92.2235,
         39.4748
        ],
        [
         "NORTH_AMERICA",
         1761449694,
         "ade8fa",
         "AAL2791 ",
         "United States",
         -84.3141,
         30.9729
        ],
        [
         "NORTH_AMERICA",
         1761449694,
         "a06cd6",
         "N12630  ",
         "United States",
         -87.2025,
         30.4702
        ],
        [
         "NORTH_AMERICA",
         1761449694,
         "aa5b92",
         "AAL732  ",
         "United States",
         -64.9687,
         45.2843
        ],
        [
         "NORTH_AMERICA",
         1761449694,
         "adc2a7",
         "AAL2230 ",
         "United States",
         -83.0384,
         26.4751
        ],
        [
         "NORTH_AMERICA",
         1761449694,
         "c1e985",
         "APT2    ",
         "Canada",
         -114.0258,
         51.1017
        ],
        [
         "NORTH_AMERICA",
         1761449694,
         "c04051",
         "ROU1936 ",
         "Canada",
         -91.345,
         49.3427
        ],
        [
         "NORTH_AMERICA",
         1761449694,
         "a1460a",
         "SKW3103 ",
         "United States",
         -120.7145,
         40.8897
        ],
        [
         "NORTH_AMERICA",
         1761449694,
         "c1e97a",
         "EL31    ",
         "Canada",
         -113.9947,
         51.1167
        ],
        [
         "NORTH_AMERICA",
         1761449694,
         "a1a986",
         "ENY3783 ",
         "United States",
         -98.2474,
         38.3602
        ],
        [
         "NORTH_AMERICA",
         1761449694,
         "a55d7b",
         "N445D   ",
         "United States",
         -75.3928,
         39.1587
        ],
        [
         "NORTH_AMERICA",
         1761449694,
         "c07993",
         "TSC122  ",
         "Canada",
         -73.5967,
         45.3418
        ],
        [
         "NORTH_AMERICA",
         1761449694,
         "406ec9",
         "BAW29C  ",
         "United Kingdom",
         -71.4555,
         42.6632
        ],
        [
         "NORTH_AMERICA",
         1761449694,
         "a91a0e",
         "N686FR  ",
         "United States",
         -83.0919,
         34.8929
        ],
        [
         "NORTH_AMERICA",
         1761449694,
         "ab4732",
         "AAL951  ",
         "United States",
         -60.1621,
         13.5725
        ],
        [
         "NORTH_AMERICA",
         1761449694,
         "c1e92a",
         "",
         "Canada",
         -79.6477,
         43.6728
        ],
        [
         "NORTH_AMERICA",
         1761449694,
         "c0534e",
         "FLE665  ",
         "Canada",
         -94.7519,
         47.6516
        ],
        [
         "NORTH_AMERICA",
         1761449694,
         "a1463a",
         "AAL2186 ",
         "United States",
         -83.698,
         30.9432
        ],
        [
         "NORTH_AMERICA",
         1761449694,
         "a1a95c",
         "N206LW  ",
         "United States",
         -120.9939,
         37.7202
        ],
        [
         "NORTH_AMERICA",
         1761449694,
         "a32fd5",
         "SKW3609 ",
         "United States",
         -104.4382,
         42.3923
        ],
        [
         "NORTH_AMERICA",
         1761449694,
         "89901f",
         "CAL008  ",
         "Taiwan",
         -118.4034,
         33.952
        ],
        [
         "NORTH_AMERICA",
         1761449694,
         "a5297f",
         "N4312M  ",
         "United States",
         -80.3613,
         26.0556
        ],
        [
         "NORTH_AMERICA",
         1761449694,
         "a8d90e",
         "N66970  ",
         "United States",
         -120.4743,
         37.1405
        ],
        [
         "NORTH_AMERICA",
         1761449694,
         "c1e917",
         "PU459   ",
         "Canada",
         -79.6347,
         43.68
        ],
        [
         "NORTH_AMERICA",
         1761449694,
         "c06627",
         "CGMRU   ",
         "Canada",
         -114.3714,
         51.0973
        ],
        [
         "NORTH_AMERICA",
         1761449694,
         "a3999e",
         "ATN3357 ",
         "United States",
         -117.4281,
         34.3394
        ],
        [
         "NORTH_AMERICA",
         1761449694,
         "a2c992",
         "SKW3769 ",
         "United States",
         -113.3946,
         46.2426
        ],
        [
         "NORTH_AMERICA",
         1761449694,
         "a6dfe7",
         "FRG374  ",
         "United States",
         -94.8984,
         41.5321
        ],
        [
         "NORTH_AMERICA",
         1761449694,
         "a24014",
         "ENY3412 ",
         "United States",
         -99.15,
         29.6419
        ],
        [
         "NORTH_AMERICA",
         1761449694,
         "ab7b38",
         "EJA839  ",
         "United States",
         -70.6339,
         43.1324
        ],
        [
         "NORTH_AMERICA",
         1761449694,
         "a5bffe",
         "N47NS   ",
         "United States",
         -88.0908,
         36.51
        ],
        [
         "NORTH_AMERICA",
         1761449694,
         "a37389",
         "AAL2597 ",
         "United States",
         -118.5613,
         34.1944
        ],
        [
         "NORTH_AMERICA",
         1761449694,
         "a24082",
         "SKW4141 ",
         "United States",
         -122.3159,
         47.6861
        ],
        [
         "NORTH_AMERICA",
         1761449694,
         "a6492f",
         "DAL411  ",
         "United States",
         -96.108,
         46.3924
        ],
        [
         "NORTH_AMERICA",
         1761449694,
         "aca2b4",
         "N913KC  ",
         "United States",
         -119.031,
         35.312
        ],
        [
         "NORTH_AMERICA",
         1761449694,
         "aa2701",
         "AAL2600 ",
         "United States",
         -84.0272,
         35.7867
        ],
        [
         "NORTH_AMERICA",
         1761449694,
         "a8a017",
         "JBU369  ",
         "United States",
         -79.9237,
         26.4268
        ],
        [
         "NORTH_AMERICA",
         1761449694,
         "abdcfd",
         "ASH6375 ",
         "United States",
         -96.9877,
         19.1786
        ],
        [
         "NORTH_AMERICA",
         1761449694,
         "ad734a",
         "JBU580  ",
         "United States",
         -77.6637,
         32.3836
        ],
        [
         "NORTH_AMERICA",
         1761449694,
         "a97029",
         "SKW6400 ",
         "United States",
         -109.3798,
         34.9834
        ],
        [
         "NORTH_AMERICA",
         1761449694,
         "ad1cf5",
         "JCM944  ",
         "United States",
         -98.3989,
         29.7291
        ],
        [
         "NORTH_AMERICA",
         1761449694,
         "ac536c",
         "SWA3629 ",
         "United States",
         -97.5881,
         29.5096
        ],
        [
         "NORTH_AMERICA",
         1761449694,
         "add66d",
         "AAL1286 ",
         "United States",
         -81.3189,
         29.2933
        ],
        [
         "NORTH_AMERICA",
         1761449694,
         "a9e642",
         "NKS2196 ",
         "United States",
         -80.1475,
         33.8577
        ],
        [
         "NORTH_AMERICA",
         1761449694,
         "394a14",
         "AFR025  ",
         "France",
         -108.3215,
         46.2441
        ],
        [
         "NORTH_AMERICA",
         1761449694,
         "ab58c1",
         "N830EC  ",
         "United States",
         -91.4039,
         30.9527
        ],
        [
         "NORTH_AMERICA",
         1761449694,
         "ac407d",
         "AAL2682 ",
         "United States",
         -72.7788,
         42.7019
        ],
        [
         "NORTH_AMERICA",
         1761449694,
         "a18e4c",
         "EJM187  ",
         "United States",
         -79.6247,
         43.6746
        ],
        [
         "NORTH_AMERICA",
         1761449694,
         "ab7b02",
         "AAL2065 ",
         "United States",
         -75.0416,
         39.8753
        ],
        [
         "NORTH_AMERICA",
         1761449694,
         "ac793f",
         "AAL431  ",
         "United States",
         -97.5456,
         32.0729
        ],
        [
         "NORTH_AMERICA",
         1761449694,
         "a7b8ad",
         "N597P   ",
         "United States",
         -107.1645,
         35.0438
        ],
        [
         "NORTH_AMERICA",
         1761449694,
         "a42b45",
         "DAL3074 ",
         "United States",
         -79.3798,
         33.8517
        ],
        [
         "NORTH_AMERICA",
         1761449694,
         "aa38f8",
         "N758NL  ",
         "United States",
         -117.6621,
         33.5268
        ],
        [
         "NORTH_AMERICA",
         1761449694,
         "0d06a7",
         "SLI866  ",
         "Mexico",
         -97.5374,
         19.299
        ],
        [
         "NORTH_AMERICA",
         1761449694,
         "78021c",
         "CPA3283 ",
         "China",
         -109.6188,
         50.454
        ],
        [
         "NORTH_AMERICA",
         1761449694,
         "a7db08",
         "NKS2167 ",
         "United States",
         -84.972,
         33.9764
        ],
        [
         "NORTH_AMERICA",
         1761449694,
         "a9d37b",
         "SKQ56   ",
         "United States",
         -88.6404,
         41.5678
        ],
        [
         "NORTH_AMERICA",
         1761449694,
         "a29b62",
         "N2670M  ",
         "United States",
         -76.1858,
         38.7473
        ],
        [
         "NORTH_AMERICA",
         1761449694,
         "a6bb22",
         "N53264  ",
         "United States",
         -110.8912,
         32.9147
        ],
        [
         "NORTH_AMERICA",
         1761449694,
         "a42b21",
         "MVK83   ",
         "United States",
         -92.8752,
         43.9807
        ],
        [
         "NORTH_AMERICA",
         1761449694,
         "ab5993",
         "",
         "United States",
         -97.0486,
         32.8791
        ],
        [
         "NORTH_AMERICA",
         1761449694,
         "ac0ff9",
         "SWA149  ",
         "United States",
         -89.282,
         37.1024
        ],
        [
         "NORTH_AMERICA",
         1761449694,
         "a528d6",
         "SWA1519 ",
         "United States",
         -122.5473,
         45.5736
        ],
        [
         "NORTH_AMERICA",
         1761449694,
         "a06db4",
         "AAL1426 ",
         "United States",
         -83.7374,
         38.0212
        ],
        [
         "NORTH_AMERICA",
         1761449694,
         "ab201a",
         "ERU816  ",
         "United States",
         -82.6251,
         28.0739
        ],
        [
         "NORTH_AMERICA",
         1761449694,
         "abdce1",
         "SWA2346 ",
         "United States",
         -73.1392,
         42.2709
        ],
        [
         "NORTH_AMERICA",
         1761449694,
         "a9969b",
         "FFT1241 ",
         "United States",
         -83.1391,
         32.5362
        ],
        [
         "NORTH_AMERICA",
         1761449694,
         "a3c2a9",
         "AAL2518 ",
         "United States",
         -85.4068,
         37.7416
        ],
        [
         "NORTH_AMERICA",
         1761449694,
         "a2fe8f",
         "SKW3506 ",
         "United States",
         -115.0295,
         35.9532
        ],
        [
         "NORTH_AMERICA",
         1761449694,
         "a43e7f",
         "UAL2197 ",
         "United States",
         -117.5406,
         44.766
        ],
        [
         "NORTH_AMERICA",
         1761449694,
         "a98386",
         "ASA41   ",
         "United States",
         -97.7508,
         42.5291
        ],
        [
         "NORTH_AMERICA",
         1761449694,
         "a55e60",
         "NDU445  ",
         "United States",
         -111.4197,
         32.6084
        ],
        [
         "NORTH_AMERICA",
         1761449694,
         "a0275c",
         "AAL341  ",
         "United States",
         -118.4065,
         33.9415
        ],
        [
         "NORTH_AMERICA",
         1761449694,
         "a29abd",
         "YEL6    ",
         "United States",
         -90.1091,
         34.9968
        ],
        [
         "NORTH_AMERICA",
         1761449694,
         "a7db0b",
         "JIA5037 ",
         "United States",
         -81.0233,
         32.9763
        ],
        [
         "NORTH_AMERICA",
         1761449694,
         "a2b759",
         "SWA249  ",
         "United States",
         -118.359,
         34.2115
        ],
        [
         "NORTH_AMERICA",
         1761449694,
         "a91b2b",
         "TAI566  ",
         "United States",
         -79.5615,
         34.0836
        ],
        [
         "NORTH_AMERICA",
         1761449694,
         "0d075f",
         "AMX840  ",
         "Mexico",
         -96.4172,
         19.8305
        ],
        [
         "NORTH_AMERICA",
         1761449694,
         "ab4866",
         "DAL269  ",
         "United States",
         -82.3265,
         33.5662
        ],
        [
         "NORTH_AMERICA",
         1761449694,
         "a3871e",
         "JBU1186 ",
         "United States",
         -77.4018,
         43.106
        ],
        [
         "NORTH_AMERICA",
         1761449694,
         "ab485e",
         "AAL3216 ",
         "United States",
         -76.5831,
         39.0153
        ],
        [
         "NORTH_AMERICA",
         1761449694,
         "a2b728",
         "UPS401  ",
         "United States",
         -80.4846,
         26.1971
        ],
        [
         "NORTH_AMERICA",
         1761449694,
         "aaac21",
         "SKW4730 ",
         "United States",
         -107.5187,
         40.0546
        ],
        [
         "NORTH_AMERICA",
         1761449694,
         "a3b11e",
         "AAL1758 ",
         "United States",
         -96.8613,
         33.0652
        ],
        [
         "NORTH_AMERICA",
         1761449694,
         "a79dc4",
         "DAL916  ",
         "United States",
         -108.7885,
         37.9335
        ],
        [
         "NORTH_AMERICA",
         1761449694,
         "0d0710",
         "AMX560  ",
         "Mexico",
         -95.1732,
         19.6848
        ],
        [
         "NORTH_AMERICA",
         1761449694,
         "c05416",
         "WJA2001 ",
         "Canada",
         -112.5327,
         49.3903
        ],
        [
         "NORTH_AMERICA",
         1761449694,
         "a3d792",
         "N347CS  ",
         "United States",
         -84.286,
         30.3976
        ],
        [
         "NORTH_AMERICA",
         1761449694,
         "ac53b2",
         "SWA900  ",
         "United States",
         -102.6869,
         37.5386
        ],
        [
         "NORTH_AMERICA",
         1761449694,
         "ad73a6",
         "NKS220  ",
         "United States",
         -113.1652,
         34.6213
        ],
        [
         "NORTH_AMERICA",
         1761449694,
         "ad73a9",
         "AAL2491 ",
         "United States",
         -90.5428,
         38.8099
        ],
        [
         "NORTH_AMERICA",
         1761449694,
         "a12151",
         "N172HG  ",
         "United States",
         -87.823,
         41.3363
        ],
        [
         "NORTH_AMERICA",
         1761449694,
         "ad99f9",
         "ASA1188 ",
         "United States",
         -91.577,
         40.5293
        ],
        [
         "NORTH_AMERICA",
         1761449694,
         "ac9c50",
         "N911VU  ",
         "United States",
         -84.0175,
         36.3595
        ],
        [
         "NORTH_AMERICA",
         1761449694,
         "06a30b",
         "QTR8170 ",
         "Qatar",
         -76.4834,
         36.5765
        ],
        [
         "NORTH_AMERICA",
         1761449694,
         "ac53f8",
         "SWA2759 ",
         "United States",
         -110.9465,
         32.1237
        ],
        [
         "NORTH_AMERICA",
         1761449694,
         "ac9c6d",
         "N911WY  ",
         "United States",
         -114.9672,
         36.0524
        ],
        [
         "NORTH_AMERICA",
         1761449694,
         "ad60b7",
         "JBU1223 ",
         "United States",
         -90.4821,
         39.7314
        ],
        [
         "NORTH_AMERICA",
         1761449694,
         "ab20e6",
         "AAY1312 ",
         "United States",
         -81.7074,
         28.9073
        ],
        [
         "NORTH_AMERICA",
         1761449694,
         "71c046",
         "KAL257  ",
         "Republic of Korea",
         -74.8425,
         42.3692
        ],
        [
         "NORTH_AMERICA",
         1761449694,
         "a266b9",
         "N254DV  ",
         "United States",
         -82.8508,
         41.8121
        ],
        [
         "NORTH_AMERICA",
         1761449694,
         "a399af",
         "N331BR  ",
         "United States",
         -96.6679,
         32.7217
        ],
        [
         "NORTH_AMERICA",
         1761449694,
         "a92dfc",
         "UAL924  ",
         "United States",
         -77.4574,
         38.9381
        ],
        [
         "NORTH_AMERICA",
         1761449694,
         "ab8f0d",
         "DAL2151 ",
         "United States",
         -118.9135,
         45.7055
        ],
        [
         "NORTH_AMERICA",
         1761449694,
         "a8c759",
         "FFT3244 ",
         "United States",
         -96.9832,
         32.7572
        ],
        [
         "NORTH_AMERICA",
         1761449694,
         "a0bf90",
         "UAL2224 ",
         "United States",
         -77.2434,
         38.2457
        ],
        [
         "NORTH_AMERICA",
         1761449694,
         "a91ab7",
         "NKS1211 ",
         "United States",
         -80.247,
         26.1509
        ],
        [
         "NORTH_AMERICA",
         1761449694,
         "c1e8f6",
         "TR443   ",
         "Canada",
         -79.6203,
         43.6844
        ],
        [
         "NORTH_AMERICA",
         1761449694,
         "a146f9",
         "UAL978  ",
         "United States",
         -74.684,
         40.1597
        ],
        [
         "NORTH_AMERICA",
         1761449694,
         "c1e8c0",
         "BLUE341 ",
         "Canada",
         -79.6135,
         43.6757
        ],
        [
         "NORTH_AMERICA",
         1761449694,
         "c1e8d3",
         "TR442   ",
         "Canada",
         -79.6294,
         43.683
        ],
        [
         "NORTH_AMERICA",
         1761449694,
         "a17c65",
         "SKW3427 ",
         "United States",
         -110.9403,
         32.1201
        ],
        [
         "NORTH_AMERICA",
         1761449694,
         "c052d3",
         "WJA2947 ",
         "Canada",
         -73.5081,
         45.6037
        ],
        [
         "NORTH_AMERICA",
         1761449694,
         "aabf50",
         "SCX3093 ",
         "United States",
         -103.2442,
         31.2134
        ],
        [
         "NORTH_AMERICA",
         1761449694,
         "a373ec",
         "N321VK  ",
         "United States",
         -107.8722,
         38.1258
        ],
        [
         "NORTH_AMERICA",
         1761449694,
         "c1e8a8",
         "BUS821  ",
         "Canada",
         -79.6346,
         43.68
        ],
        [
         "NORTH_AMERICA",
         1761449694,
         "a3c3e6",
         "UAL8164 ",
         "United States",
         -114.2242,
         36.1212
        ],
        [
         "NORTH_AMERICA",
         1761449694,
         "a8fc06",
         "UAL2157 ",
         "United States",
         -107.1244,
         37.7769
        ],
        [
         "NORTH_AMERICA",
         1761449694,
         "a2b6ff",
         "SKW3520 ",
         "United States",
         -106.1357,
         38.4041
        ],
        [
         "NORTH_AMERICA",
         1761449694,
         "aa26c8",
         "SKW4927 ",
         "United States",
         -83.9181,
         42.6635
        ],
        [
         "NORTH_AMERICA",
         1761449694,
         "406ecd",
         "VIR166G ",
         "United Kingdom",
         -77.4969,
         25.6956
        ],
        [
         "NORTH_AMERICA",
         1761449694,
         "a31f7f",
         "N300BV  ",
         "United States",
         -92.1275,
         34.5445
        ],
        [
         "NORTH_AMERICA",
         1761449694,
         "a120da",
         "N172CN  ",
         "United States",
         -158.7137,
         21.4651
        ],
        [
         "NORTH_AMERICA",
         1761449694,
         "a480dc",
         "O29EI1  ",
         "United States",
         -78.427,
         39.9592
        ],
        [
         "NORTH_AMERICA",
         1761449694,
         "ab7ae4",
         "DAL52   ",
         "United States",
         -64.5923,
         46.0848
        ],
        [
         "NORTH_AMERICA",
         1761449694,
         "add734",
         "JBU277  ",
         "United States",
         -105.5606,
         37.4069
        ],
        [
         "NORTH_AMERICA",
         1761449694,
         "405bfe",
         "BAW22E  ",
         "United Kingdom",
         -63.8711,
         47.2127
        ],
        [
         "NORTH_AMERICA",
         1761449694,
         "405bfc",
         "BAW2LJ  ",
         "United Kingdom",
         -67.2439,
         44.8516
        ],
        [
         "NORTH_AMERICA",
         1761449694,
         "ac9acc",
         "N911EF  ",
         "United States",
         -106.8919,
         32.2742
        ],
        [
         "NORTH_AMERICA",
         1761449694,
         "ad6116",
         "AAL2857 ",
         "United States",
         -98.3258,
         36.4913
        ],
        [
         "NORTH_AMERICA",
         1761449694,
         "a6cf20",
         "LAE2524 ",
         "United States",
         -81.9605,
         12.7375
        ],
        [
         "NORTH_AMERICA",
         1761449694,
         "a8d5bd",
         "AAL1513 ",
         "United States",
         -107.7006,
         32.6584
        ],
        [
         "NORTH_AMERICA",
         1761449694,
         "a67b76",
         "N517AF  ",
         "United States",
         -111.8279,
         32.9249
        ],
        [
         "NORTH_AMERICA",
         1761449694,
         "a43b91",
         "DAL819  ",
         "United States",
         -113.6768,
         32.8181
        ],
        [
         "NORTH_AMERICA",
         1761449694,
         "a92b0c",
         "DAL635  ",
         "United States",
         -122.3483,
         37.61
        ],
        [
         "NORTH_AMERICA",
         1761449694,
         "0d09a2",
         "VTM558  ",
         "Mexico",
         -91.1989,
         36.7894
        ],
        [
         "NORTH_AMERICA",
         1761449694,
         "a81e2a",
         "N622FB  ",
         "United States",
         -112.1154,
         33.583
        ],
        [
         "NORTH_AMERICA",
         1761449694,
         "ac50fa",
         "FDX97   ",
         "United States",
         -67.8374,
         46.4577
        ],
        [
         "NORTH_AMERICA",
         1761449694,
         "a8d5a4",
         "UAL211  ",
         "United States",
         -99.5731,
         30.4286
        ],
        [
         "NORTH_AMERICA",
         1761449694,
         "a1442f",
         "SWA1548 ",
         "United States",
         -91.5473,
         34.8221
        ],
        [
         "NORTH_AMERICA",
         1761449694,
         "a03765",
         "AAL300  ",
         "United States",
         -75.0581,
         41.294
        ],
        [
         "NORTH_AMERICA",
         1761449694,
         "a27737",
         "SWA4040 ",
         "United States",
         -117.8631,
         33.6848
        ],
        [
         "NORTH_AMERICA",
         1761449694,
         "a4f2d3",
         "LNE622  ",
         "United States",
         -80.98,
         25.1448
        ],
        [
         "NORTH_AMERICA",
         1761449694,
         "c00dce",
         "FLE651  ",
         "Canada",
         -68.4185,
         45.5763
        ],
        [
         "NORTH_AMERICA",
         1761449694,
         "a3d425",
         "FFT2632 ",
         "United States",
         -104.2242,
         38.7098
        ],
        [
         "NORTH_AMERICA",
         1761449694,
         "ac0f26",
         "SWA1640 ",
         "United States",
         -109.265,
         36.5794
        ],
        [
         "NORTH_AMERICA",
         1761449694,
         "abb9b2",
         "SWA2362 ",
         "United States",
         -110.0468,
         35.5058
        ],
        [
         "NORTH_AMERICA",
         1761449694,
         "aa7ebc",
         "UAL1535 ",
         "United States",
         -122.3809,
         37.6182
        ],
        [
         "NORTH_AMERICA",
         1761449694,
         "a2644a",
         "SKW146A ",
         "United States",
         -123.1742,
         49.196
        ],
        [
         "NORTH_AMERICA",
         1761449694,
         "abef16",
         "SWA937  ",
         "United States",
         -96.7518,
         44.4907
        ],
        [
         "NORTH_AMERICA",
         1761449694,
         "8991a4",
         "CAL5234 ",
         "Taiwan",
         -94.4164,
         45.7002
        ],
        [
         "NORTH_AMERICA",
         1761449694,
         "a0cdf3",
         "AAL1205 ",
         "United States",
         -108.0201,
         32.3118
        ],
        [
         "NORTH_AMERICA",
         1761449694,
         "a44db3",
         "DAL931  ",
         "United States",
         -123.7364,
         48.5079
        ],
        [
         "NORTH_AMERICA",
         1761449694,
         "abb9df",
         "SWA4059 ",
         "United States",
         -119.5466,
         39.4782
        ],
        [
         "NORTH_AMERICA",
         1761449694,
         "c00da8",
         "FLE603  ",
         "Canada",
         -98.2395,
         48.2632
        ],
        [
         "NORTH_AMERICA",
         1761449694,
         "ab8c37",
         "AAL944  ",
         "United States",
         -75.655,
         37.2632
        ],
        [
         "NORTH_AMERICA",
         1761449694,
         "ad1c18",
         "TAI450  ",
         "United States",
         -80.3179,
         25.786
        ],
        [
         "NORTH_AMERICA",
         1761449694,
         "ac0f4d",
         "SWA478  ",
         "United States",
         -88.7783,
         41.3863
        ],
        [
         "NORTH_AMERICA",
         1761449694,
         "a40797",
         "AAL2545 ",
         "United States",
         -84.8858,
         42.8529
        ],
        [
         "NORTH_AMERICA",
         1761449694,
         "a2fad8",
         "SKW3557 ",
         "United States",
         -122.9335,
         44.1561
        ],
        [
         "NORTH_AMERICA",
         1761449694,
         "abef54",
         "SWA2722 ",
         "United States",
         -114.1449,
         46.9299
        ],
        [
         "NORTH_AMERICA",
         1761449694,
         "c1e5dd",
         "SUR8910 ",
         "Canada",
         -73.748,
         45.4591
        ],
        [
         "NORTH_AMERICA",
         1761449694,
         "acc6ce",
         "NKS3447 ",
         "United States",
         -102.9725,
         33.8866
        ],
        [
         "NORTH_AMERICA",
         1761449694,
         "ade6b0",
         "N995RC  ",
         "United States",
         -117.5206,
         33.8206
        ],
        [
         "NORTH_AMERICA",
         1761449694,
         "aacf7f",
         "NDU796  ",
         "United States",
         -116.7791,
         33.1293
        ],
        [
         "NORTH_AMERICA",
         1761449694,
         "c1e5e1",
         "TOW 902 ",
         "Canada",
         -123.1719,
         49.1986
        ],
        [
         "NORTH_AMERICA",
         1761449694,
         "406d4d",
         "VIR48WE ",
         "United Kingdom",
         -74.5314,
         46.0284
        ],
        [
         "NORTH_AMERICA",
         1761449694,
         "c1e5f9",
         "TRU118  ",
         "Canada",
         -123.1925,
         49.1994
        ],
        [
         "NORTH_AMERICA",
         1761449694,
         "c1e5f1",
         "WLD65   ",
         "Canada",
         -123.1552,
         49.1817
        ],
        [
         "NORTH_AMERICA",
         1761449694,
         "a8c439",
         "PDT6013 ",
         "United States",
         -84.6457,
         37.8729
        ],
        [
         "NORTH_AMERICA",
         1761449694,
         "ad976e",
         "NKS1662 ",
         "United States",
         -91.6577,
         41.5161
        ],
        [
         "NORTH_AMERICA",
         1761449694,
         "a7b779",
         "ASA7    ",
         "United States",
         -114.2908,
         38.4376
        ],
        [
         "NORTH_AMERICA",
         1761449694,
         "4ba94b",
         "THY76Y  ",
         "Turkey",
         -122.8618,
         49.2139
        ],
        [
         "NORTH_AMERICA",
         1761449694,
         "c00e6c",
         "FLE2615 ",
         "Canada",
         -79.3729,
         43.0505
        ],
        [
         "NORTH_AMERICA",
         1761449694,
         "c062aa",
         "CGLJL   ",
         "Canada",
         -114.3398,
         51.1552
        ],
        [
         "NORTH_AMERICA",
         1761449694,
         "a20f1a",
         "UCA4321 ",
         "United States",
         -74.7195,
         42.4549
        ],
        [
         "NORTH_AMERICA",
         1761449694,
         "c1e5bf",
         "WLD61   ",
         "Canada",
         -123.1797,
         49.1889
        ],
        [
         "NORTH_AMERICA",
         1761449694,
         "c1e5d1",
         "TOW916  ",
         "Canada",
         -123.1838,
         49.1938
        ],
        [
         "NORTH_AMERICA",
         1761449694,
         "c1e5a8",
         "WL62    ",
         "Canada",
         -123.1497,
         49.1994
        ],
        [
         "NORTH_AMERICA",
         1761449694,
         "a07f1b",
         "N131CA  ",
         "United States",
         -117.5464,
         33.9721
        ],
        [
         "NORTH_AMERICA",
         1761449694,
         "4ba947",
         "THY10   ",
         "Turkey",
         -118.406,
         33.9486
        ],
        [
         "NORTH_AMERICA",
         1761449694,
         "4ba945",
         "THY8    ",
         "Turkey",
         -77.5042,
         39.0319
        ],
        [
         "NORTH_AMERICA",
         1761449694,
         "a4e119",
         "N413UT  ",
         "United States",
         -83.8648,
         36.1231
        ],
        [
         "NORTH_AMERICA",
         1761449694,
         "a1ef41",
         "N2235V  ",
         "United States",
         -118.363,
         33.8716
        ],
        [
         "NORTH_AMERICA",
         1761449694,
         "acb470",
         "AAL2436 ",
         "United States",
         -87.7331,
         32.7622
        ],
        [
         "NORTH_AMERICA",
         1761449694,
         "a88737",
         "FFT2890 ",
         "United States",
         -104.5148,
         38.8028
        ],
        [
         "NORTH_AMERICA",
         1761449694,
         "a55ada",
         "KPO444  ",
         "United States",
         -77.9378,
         37.846
        ],
        [
         "NORTH_AMERICA",
         1761449694,
         "a79aae",
         "HAL1615 ",
         "United States",
         -112.6147,
         37.7883
        ],
        [
         "NORTH_AMERICA",
         1761449694,
         "a67ad0",
         "N5165R  ",
         "United States",
         -77.1182,
         40.3258
        ],
        [
         "NORTH_AMERICA",
         1761449694,
         "a49197",
         "N3939X  ",
         "United States",
         -104.5226,
         39.7996
        ],
        [
         "NORTH_AMERICA",
         1761449694,
         "aa7f46",
         "UAL1543 ",
         "United States",
         -66.043,
         18.4338
        ],
        [
         "NORTH_AMERICA",
         1761449694,
         "a263dc",
         "ENY4065 ",
         "United States",
         -98.1018,
         28.9704
        ],
        [
         "NORTH_AMERICA",
         1761449694,
         "aa7f2b",
         "UAL2426 ",
         "United States",
         -98.0937,
         29.6307
        ],
        [
         "NORTH_AMERICA",
         1761449694,
         "aa7f2a",
         "UAL2693 ",
         "United States",
         -89.2921,
         43.3282
        ],
        [
         "NORTH_AMERICA",
         1761449694,
         "a526e2",
         "AAL3124 ",
         "United States",
         -97.0338,
         32.8815
        ],
        [
         "NORTH_AMERICA",
         1761449694,
         "aa7f27",
         "UAL1229 ",
         "United States",
         -106.6555,
         39.7753
        ],
        [
         "NORTH_AMERICA",
         1761449694,
         "aa7f25",
         "UAL1326 ",
         "United States",
         -109.3773,
         36.6697
        ],
        [
         "NORTH_AMERICA",
         1761449694,
         "0d08f3",
         "VIV583  ",
         "Mexico",
         -96.9908,
         32.6396
        ],
        [
         "NORTH_AMERICA",
         1761449694,
         "a143e2",
         "CXK699  ",
         "United States",
         -104.6858,
         38.8129
        ],
        [
         "NORTH_AMERICA",
         1761449694,
         "a406c9",
         "FFT4212 ",
         "United States",
         -84.5568,
         33.6318
        ],
        [
         "NORTH_AMERICA",
         1761449694,
         "c00e15",
         "ACA1427 ",
         "Canada",
         -81.395,
         31.5803
        ],
        [
         "NORTH_AMERICA",
         1761449694,
         "a143e9",
         "",
         "United States",
         -157.9432,
         21.3263
        ],
        [
         "NORTH_AMERICA",
         1761449694,
         "a023ff",
         "",
         "United States",
         -122.7648,
         38.4888
        ],
        [
         "NORTH_AMERICA",
         1761449694,
         "c05056",
         "ACA745  ",
         "Canada",
         -120.4794,
         37.6919
        ],
        [
         "NORTH_AMERICA",
         1761449694,
         "aa7f03",
         "UAL333  ",
         "United States",
         -114.0934,
         36.1972
        ],
        [
         "NORTH_AMERICA",
         1761449694,
         "aa7f02",
         "UAL2223 ",
         "United States",
         -87.9938,
         41.9689
        ],
        [
         "NORTH_AMERICA",
         1761449694,
         "aa7f01",
         "UAL1972 ",
         "United States",
         -108.2666,
         37.5768
        ],
        [
         "NORTH_AMERICA",
         1761449694,
         "aa7f09",
         "UAL737  ",
         "United States",
         -123.166,
         45.4659
        ],
        [
         "NORTH_AMERICA",
         1761449694,
         "a8c489",
         "QXE2086 ",
         "United States",
         -122.2275,
         37.7103
        ],
        [
         "NORTH_AMERICA",
         1761449694,
         "abdaa4",
         "GTI8559 ",
         "United States",
         -92.0716,
         44.0127
        ],
        [
         "NORTH_AMERICA",
         1761449694,
         "a383f3",
         "JBU820  ",
         "United States",
         -83.3468,
         42.2528
        ],
        [
         "NORTH_AMERICA",
         1761449694,
         "c0506b",
         "ACA779  ",
         "Canada",
         -112.9692,
         35.6957
        ],
        [
         "NORTH_AMERICA",
         1761449694,
         "acc757",
         "N922TX  ",
         "United States",
         -81.7729,
         40.5531
        ],
        [
         "NORTH_AMERICA",
         1761449694,
         "c1e672",
         "SWP98   ",
         "Canada",
         -123.1895,
         49.2012
        ],
        [
         "NORTH_AMERICA",
         1761449694,
         "ac5121",
         "N893GT  ",
         "United States",
         -112.2227,
         33.4641
        ],
        [
         "NORTH_AMERICA",
         1761449694,
         "a9f777",
         "NKS777  ",
         "United States",
         -112.4964,
         35.5349
        ],
        [
         "NORTH_AMERICA",
         1761449694,
         "ac6445",
         "AAL1136 ",
         "United States",
         -111.0129,
         34.1046
        ],
        [
         "NORTH_AMERICA",
         1761449694,
         "a8d6de",
         "NKS2043 ",
         "United States",
         -82.5409,
         40.4465
        ],
        [
         "NORTH_AMERICA",
         1761449694,
         "ab31f7",
         "PCJ20   ",
         "United States",
         -116.9376,
         42.0744
        ],
        [
         "NORTH_AMERICA",
         1761449694,
         "a4e0ec",
         "SKW3091 ",
         "United States",
         -120.3641,
         47.2296
        ],
        [
         "NORTH_AMERICA",
         1761449694,
         "c0656f",
         "WJA10   ",
         "Canada",
         -106.1057,
         53.2817
        ],
        [
         "NORTH_AMERICA",
         1761449694,
         "acb4ca",
         "N918EC  ",
         "United States",
         -78.2771,
         35.4723
        ],
        [
         "NORTH_AMERICA",
         1761449694,
         "a8c3a2",
         "FFT2638 ",
         "United States",
         -112.008,
         33.4342
        ],
        [
         "NORTH_AMERICA",
         1761449694,
         "a80c87",
         "ASA143  ",
         "United States",
         -132.761,
         55.6273
        ],
        [
         "NORTH_AMERICA",
         1761449694,
         "a8e9fc",
         "GTX247  ",
         "United States",
         -77.1645,
         39.1702
        ],
        [
         "NORTH_AMERICA",
         1761449694,
         "a7a3e3",
         "N5913D  ",
         "United States",
         -150.9916,
         60.4774
        ],
        [
         "NORTH_AMERICA",
         1761449694,
         "a43c7a",
         "DAL2495 ",
         "United States",
         -88.2099,
         37.2699
        ],
        [
         "NORTH_AMERICA",
         1761449694,
         "aa11c1",
         "N748RH  ",
         "United States",
         -157.6609,
         21.2919
        ],
        [
         "NORTH_AMERICA",
         1761449694,
         "c05218",
         "ROU1905 ",
         "Canada",
         -107.6108,
         49.2309
        ],
        [
         "NORTH_AMERICA",
         1761449694,
         "ac791d",
         "AAL2741 ",
         "United States",
         -81.376,
         32.1308
        ],
        [
         "NORTH_AMERICA",
         1761449694,
         "a1584a",
         "EDV5264 ",
         "United States",
         -78.7285,
         42.9361
        ],
        [
         "NORTH_AMERICA",
         1761449694,
         "0c6061",
         "BWA526  ",
         "Trinidad and Tobago",
         -73.7002,
         40.6168
        ],
        [
         "NORTH_AMERICA",
         1761449694,
         "a6cc45",
         "AAL1022 ",
         "United States",
         -97.0389,
         32.9078
        ],
        [
         "NORTH_AMERICA",
         1761449694,
         "a44ef8",
         "JTZ377  ",
         "United States",
         -96.8534,
         32.8455
        ],
        [
         "NORTH_AMERICA",
         1761449694,
         "a31be9",
         "N3PD    ",
         "United States",
         -73.2365,
         40.8872
        ],
        [
         "NORTH_AMERICA",
         1761449694,
         "0d0963",
         "VIV436  ",
         "Mexico",
         -84.6697,
         18.7143
        ],
        [
         "NORTH_AMERICA",
         1761449694,
         "a3c235",
         "NDU341  ",
         "United States",
         -111.9155,
         32.8602
        ],
        [
         "NORTH_AMERICA",
         1761449694,
         "acc7ae",
         "EDV5481 ",
         "United States",
         -73.2272,
         43.7802
        ],
        [
         "NORTH_AMERICA",
         1761449694,
         "a3c246",
         "DAL2552 ",
         "United States",
         -74.1761,
         40.6833
        ],
        [
         "NORTH_AMERICA",
         1761449694,
         "a44ec6",
         "N377L   ",
         "United States",
         -112.5708,
         33.221
        ],
        [
         "NORTH_AMERICA",
         1761449694,
         "a67bc8",
         "DAL506  ",
         "United States",
         -119.4358,
         46.2179
        ],
        [
         "NORTH_AMERICA",
         1761449694,
         "a1dbc4",
         "N219JL  ",
         "United States",
         -93.6296,
         35.6022
        ],
        [
         "NORTH_AMERICA",
         1761449694,
         "c00ec2",
         "WJA2719 ",
         "Canada",
         -81.1228,
         24.608
        ],
        [
         "NORTH_AMERICA",
         1761449694,
         "aa3930",
         "EJA758  ",
         "United States",
         -103.3179,
         39.4561
        ],
        [
         "NORTH_AMERICA",
         1761449694,
         "ab44dd",
         "EJA825  ",
         "United States",
         -105.0299,
         34.4837
        ],
        [
         "NORTH_AMERICA",
         1761449694,
         "a037b9",
         "DAL2954 ",
         "United States",
         -96.9087,
         45.4084
        ],
        [
         "NORTH_AMERICA",
         1761449694,
         "abdd4a",
         "SWA1714 ",
         "United States",
         -117.1661,
         32.7278
        ],
        [
         "NORTH_AMERICA",
         1761449694,
         "a993f1",
         "SKW6451 ",
         "United States",
         -111.5945,
         33.2011
        ],
        [
         "NORTH_AMERICA",
         1761449694,
         "0d0932",
         "VOI1838 ",
         "Mexico",
         -118.5145,
         34.8465
        ],
        [
         "NORTH_AMERICA",
         1761449694,
         "a2b562",
         "ASA106  ",
         "United States",
         -122.7258,
         47.9036
        ],
        [
         "NORTH_AMERICA",
         1761449694,
         "ad2efa",
         "DAL2425 ",
         "United States",
         -81.6601,
         32.3266
        ],
        [
         "NORTH_AMERICA",
         1761449694,
         "c050c4",
         "ACA159  ",
         "Canada",
         -82.29,
         44.4991
        ],
        [
         "NORTH_AMERICA",
         1761449694,
         "c050c5",
         "ACA696  ",
         "Canada",
         -67.6133,
         45.8941
        ],
        [
         "NORTH_AMERICA",
         1761449694,
         "c050c0",
         "ACA558  ",
         "Canada",
         -119.7051,
         36.4055
        ],
        [
         "NORTH_AMERICA",
         1761449694,
         "c063ce",
         "CWA921  ",
         "Canada",
         -114.7398,
         54.4889
        ],
        [
         "NORTH_AMERICA",
         1761449694,
         "ab3282",
         "SCX8438 ",
         "United States",
         -74.6878,
         42.1541
        ],
        [
         "NORTH_AMERICA",
         1761449694,
         "a05a01",
         "UAL317  ",
         "United States",
         -74.1359,
         40.7258
        ],
        [
         "NORTH_AMERICA",
         1761449694,
         "0d07f0",
         "AMX556  ",
         "Mexico",
         -99.0459,
         19.4529
        ],
        [
         "NORTH_AMERICA",
         1761449694,
         "a0aa26",
         "N142AH  ",
         "United States",
         -71.7731,
         42.2879
        ],
        [
         "NORTH_AMERICA",
         1761449694,
         "ad7282",
         "DAL2846 ",
         "United States",
         -74.2711,
         40.5415
        ],
        [
         "NORTH_AMERICA",
         1761449694,
         "406e0f",
         "VIR118  ",
         "United Kingdom",
         -77.4293,
         27.9968
        ],
        [
         "NORTH_AMERICA",
         1761449694,
         "a0aa2b",
         "AAL2714 ",
         "United States",
         -97.035,
         32.8973
        ],
        [
         "NORTH_AMERICA",
         1761449694,
         "aa253b",
         "AAL931  ",
         "United States",
         -79.4565,
         13.7354
        ],
        [
         "NORTH_AMERICA",
         1761449694,
         "a9d0fe",
         "RPA3538 ",
         "United States",
         -86.444,
         40.0698
        ],
        [
         "NORTH_AMERICA",
         1761449694,
         "c063c8",
         "CWA927  ",
         "Canada",
         -114.0153,
         51.126
        ],
        [
         "NORTH_AMERICA",
         1761449694,
         "a7fed0",
         "NKS3247 ",
         "United States",
         -95.2819,
         29.9776
        ],
        [
         "NORTH_AMERICA",
         1761449694,
         "ab4515",
         "SCX396  ",
         "United States",
         -105.3514,
         40.3161
        ],
        [
         "NORTH_AMERICA",
         1761449694,
         "0d07b3",
         "VOI3282 ",
         "Mexico",
         -112.096,
         31.0384
        ],
        [
         "NORTH_AMERICA",
         1761449694,
         "aa37ce",
         "AAL134  ",
         "United States",
         -107.7938,
         43.1658
        ],
        [
         "NORTH_AMERICA",
         1761449694,
         "a55d50",
         "N445BG  ",
         "United States",
         -83.9147,
         41.5421
        ],
        [
         "NORTH_AMERICA",
         1761449694,
         "a9d284",
         "ASA301  ",
         "United States",
         -121.859,
         45.5012
        ],
        [
         "NORTH_AMERICA",
         1761449694,
         "a17a5a",
         "N1947F  ",
         "United States",
         -80.6271,
         27.9598
        ],
        [
         "NORTH_AMERICA",
         1761449694,
         "a2a1a5",
         "ENY3341 ",
         "United States",
         -80.8393,
         35.2681
        ],
        [
         "NORTH_AMERICA",
         1761449694,
         "ab5867",
         "AAL963  ",
         "United States",
         -98.2284,
         29.3841
        ],
        [
         "NORTH_AMERICA",
         1761449694,
         "a2c7f3",
         "LN279AH ",
         "United States",
         -91.5423,
         41.6401
        ],
        [
         "NORTH_AMERICA",
         1761449694,
         "a754b5",
         "UAL2681 ",
         "United States",
         -120.7008,
         37.6645
        ],
        [
         "NORTH_AMERICA",
         1761449694,
         "a384d5",
         "ENY3450 ",
         "United States",
         -97.8773,
         43.049
        ],
        [
         "NORTH_AMERICA",
         1761449694,
         "ad2ea1",
         "ASA369  ",
         "United States",
         -99.8412,
         37.5883
        ],
        [
         "NORTH_AMERICA",
         1761449694,
         "a8b266",
         "N66FJ   ",
         "United States",
         -86.4819,
         35.9758
        ],
        [
         "NORTH_AMERICA",
         1761449694,
         "abeeea",
         "SWA1445 ",
         "United States",
         -120.7453,
         35.3284
        ],
        [
         "NORTH_AMERICA",
         1761449694,
         "a2b4ea",
         "UAL2462 ",
         "United States",
         -111.5032,
         39.6273
        ],
        [
         "NORTH_AMERICA",
         1761449694,
         "781941",
         "CSN436  ",
         "China",
         -91.7857,
         47.1199
        ],
        [
         "NORTH_AMERICA",
         1761449694,
         "a1110d",
         "SKW5464 ",
         "United States",
         -84.6695,
         37.9791
        ],
        [
         "NORTH_AMERICA",
         1761449694,
         "a28ab5",
         "LXJ263  ",
         "United States",
         -89.6989,
         32.127
        ],
        [
         "NORTH_AMERICA",
         1761449694,
         "a1244d",
         "UAL404  ",
         "United States",
         -83.2019,
         34.2735
        ],
        [
         "NORTH_AMERICA",
         1761449694,
         "a9c2de",
         "SKW6467 ",
         "United States",
         -106.6775,
         40.0345
        ],
        [
         "NORTH_AMERICA",
         1761449694,
         "a972ee",
         "GTI3510 ",
         "United States",
         -119.7943,
         37.5648
        ],
        [
         "NORTH_AMERICA",
         1761449694,
         "a8fe5d",
         "NKS2053 ",
         "United States",
         -84.427,
         33.6447
        ],
        [
         "NORTH_AMERICA",
         1761449694,
         "a9d5e5",
         "UAL720  ",
         "United States",
         -107.3099,
         44.1436
        ],
        [
         "NORTH_AMERICA",
         1761449694,
         "a8fe57",
         "NDU679  ",
         "United States",
         -111.6498,
         33.2979
        ],
        [
         "NORTH_AMERICA",
         1761449694,
         "c03160",
         "CFSSD   ",
         "Canada",
         -106.6834,
         52.1704
        ],
        [
         "NORTH_AMERICA",
         1761449694,
         "a23138",
         "ENY3739 ",
         "United States",
         -84.126,
         33.7261
        ],
        [
         "NORTH_AMERICA",
         1761449694,
         "a3a155",
         "DAL2472 ",
         "United States",
         -77.6664,
         43.1322
        ],
        [
         "NORTH_AMERICA",
         1761449694,
         "a9873d",
         "ASA1098 ",
         "United States",
         -117.0742,
         32.7052
        ],
        [
         "NORTH_AMERICA",
         1761449694,
         "a36493",
         "SVX43   ",
         "United States",
         -159.5626,
         59.7146
        ],
        [
         "NORTH_AMERICA",
         1761449694,
         "a9741d",
         "AAL2903 ",
         "United States",
         -82.3025,
         39.8362
        ],
        [
         "NORTH_AMERICA",
         1761449694,
         "ad63a8",
         "TAI520  ",
         "United States",
         -111.7421,
         30.0277
        ],
        [
         "NORTH_AMERICA",
         1761449694,
         "a8540b",
         "PDT6078 ",
         "United States",
         -81.2302,
         33.9642
        ],
        [
         "NORTH_AMERICA",
         1761449694,
         "ab10d4",
         "ASA1224 ",
         "United States",
         -121.9045,
         46.2209
        ],
        [
         "NORTH_AMERICA",
         1761449694,
         "a97401",
         "N708TT  ",
         "United States",
         -80.1849,
         27.3023
        ],
        [
         "NORTH_AMERICA",
         1761449694,
         "ab10cb",
         "AAL204  ",
         "United States",
         -68.2754,
         44.9505
        ],
        [
         "NORTH_AMERICA",
         1761449694,
         "acdc5a",
         "SKW794U ",
         "United States",
         -103.2603,
         39.7035
        ],
        [
         "NORTH_AMERICA",
         1761449694,
         "a42f04",
         "N369PD  ",
         "United States",
         -84.339,
         33.741
        ],
        [
         "NORTH_AMERICA",
         1761449694,
         "a73410",
         "SWA4708 ",
         "United States",
         -122.2137,
         37.7086
        ],
        [
         "NORTH_AMERICA",
         1761449694,
         "abbc75",
         "SWA3494 ",
         "United States",
         -109.5982,
         35.1455
        ],
        [
         "NORTH_AMERICA",
         1761449694,
         "a4d42d",
         "AAL2055 ",
         "United States",
         -101.6817,
         37.6201
        ],
        [
         "NORTH_AMERICA",
         1761449694,
         "a05f59",
         "FDX43   ",
         "United States",
         -66.3558,
         17.4099
        ],
        [
         "NORTH_AMERICA",
         1761449694,
         "a62781",
         "AJT1020 ",
         "United States",
         -166.0873,
         58.8637
        ],
        [
         "NORTH_AMERICA",
         1761449694,
         "ac9f15",
         "N912LB  ",
         "United States",
         -111.608,
         33.2384
        ],
        [
         "NORTH_AMERICA",
         1761449694,
         "a506d5",
         "ASA16   ",
         "United States",
         -73.7692,
         40.647
        ],
        [
         "NORTH_AMERICA",
         1761449694,
         "a1cf48",
         "JBU315  ",
         "United States",
         -122.1021,
         37.5318
        ],
        [
         "NORTH_AMERICA",
         1761449694,
         "a16c3a",
         "DAL272  ",
         "United States",
         -68.3131,
         41.5153
        ],
        [
         "NORTH_AMERICA",
         1761449694,
         "ada16f",
         "DAL2083 ",
         "United States",
         -90.3583,
         34.4346
        ],
        [
         "NORTH_AMERICA",
         1761449694,
         "ab23b5",
         "DAL1934 ",
         "United States",
         -111.9782,
         40.8074
        ],
        [
         "NORTH_AMERICA",
         1761449694,
         "a519b8",
         "DAL74   ",
         "United States",
         -67.274,
         45.5792
        ],
        [
         "NORTH_AMERICA",
         1761449694,
         "a90aaa",
         "PDT6051 ",
         "United States",
         -83.4166,
         35.0867
        ],
        [
         "NORTH_AMERICA",
         1761449694,
         "a1cf96",
         "N2158S  ",
         "United States",
         -75.9865,
         37.2517
        ],
        [
         "NORTH_AMERICA",
         1761449694,
         "ac9f52",
         "AAL324P ",
         "United States",
         -112.9885,
         37.9491
        ],
        [
         "NORTH_AMERICA",
         1761449694,
         "a8a43a",
         "NKS949  ",
         "United States",
         -117.0107,
         34.6598
        ],
        [
         "NORTH_AMERICA",
         1761449694,
         "a5f3cf",
         "ASA381  ",
         "United States",
         -121.4217,
         36.1413
        ],
        [
         "NORTH_AMERICA",
         1761449694,
         "aaf111",
         "DAL858  ",
         "United States",
         -93.1328,
         37.5423
        ],
        [
         "NORTH_AMERICA",
         1761449694,
         "3949eb",
         "AFR651  ",
         "France",
         -80.0938,
         34.4235
        ],
        [
         "NORTH_AMERICA",
         1761449694,
         "a7df61",
         "SKW5864 ",
         "United States",
         -118.421,
         33.947
        ],
        [
         "NORTH_AMERICA",
         1761449694,
         "ad7760",
         "AAL1732 ",
         "United States",
         -82.533,
         36.1678
        ],
        [
         "NORTH_AMERICA",
         1761449694,
         "a6bf5a",
         "ASA1085 ",
         "United States",
         -122.611,
         45.3822
        ],
        [
         "NORTH_AMERICA",
         1761449694,
         "c055d6",
         "JZA655  ",
         "Canada",
         -123.2786,
         49.214
        ],
        [
         "NORTH_AMERICA",
         1761449694,
         "a89c23",
         "FFT1949 ",
         "United States",
         -121.6483,
         37.545
        ],
        [
         "NORTH_AMERICA",
         1761449694,
         "a01820",
         "AMX322  ",
         "United States",
         -96.2337,
         18.6832
        ],
        [
         "NORTH_AMERICA",
         1761449694,
         "3949e9",
         "AFR501  ",
         "France",
         -61.5645,
         12.685
        ],
        [
         "NORTH_AMERICA",
         1761449694,
         "a733e6",
         "AAL2507 ",
         "United States",
         -107.2598,
         38.1207
        ],
        [
         "NORTH_AMERICA",
         1761449694,
         "39cf12",
         "AFR012  ",
         "France",
         -73.7917,
         40.6428
        ],
        [
         "NORTH_AMERICA",
         1761449694,
         "39cf13",
         "AFR93M  ",
         "France",
         -78.4232,
         27.6888
        ],
        [
         "NORTH_AMERICA",
         1761449694,
         "a1bc8f",
         "C6015   ",
         "United States",
         -117.4759,
         32.5085
        ],
        [
         "NORTH_AMERICA",
         1761449694,
         "ab6afa",
         "AAL258  ",
         "United States",
         -67.68,
         44.0743
        ],
        [
         "NORTH_AMERICA",
         1761449694,
         "ab2496",
         "AAL703  ",
         "United States",
         -79.3126,
         41.3616
        ],
        [
         "NORTH_AMERICA",
         1761449694,
         "7c806e",
         "QFA8    ",
         "Australia",
         -100.6062,
         32.2793
        ],
        [
         "NORTH_AMERICA",
         1761449694,
         "7c8066",
         "QFA4    ",
         "Australia",
         -105.5579,
         32.6196
        ],
        [
         "NORTH_AMERICA",
         1761449694,
         "a24529",
         "UAL212  ",
         "United States",
         -88.6086,
         42.3727
        ],
        [
         "NORTH_AMERICA",
         1761449694,
         "aa4c1a",
         "UAL1729 ",
         "United States",
         -118.7083,
         45.6145
        ],
        [
         "NORTH_AMERICA",
         1761449694,
         "407cd1",
         "BAW21ML ",
         "United Kingdom",
         -78.1748,
         46.3861
        ],
        [
         "NORTH_AMERICA",
         1761449694,
         "4ca15e",
         "EIN9CX  ",
         "Ireland",
         -98.4101,
         50.7341
        ],
        [
         "NORTH_AMERICA",
         1761449694,
         "a3fc5c",
         "N356P   ",
         "United States",
         -111.9175,
         33.487
        ],
        [
         "NORTH_AMERICA",
         1761449694,
         "a9618a",
         "AAL1246 ",
         "United States",
         -79.6239,
         43.6832
        ],
        [
         "NORTH_AMERICA",
         1761449694,
         "a24508",
         "UAL1967 ",
         "United States",
         -118.4088,
         33.9379
        ],
        [
         "NORTH_AMERICA",
         1761449694,
         "a1256a",
         "N173ME  ",
         "United States",
         -84.5952,
         33.4924
        ],
        [
         "NORTH_AMERICA",
         1761449694,
         "a1388c",
         "SKW3354 ",
         "United States",
         -121.1576,
         36.3773
        ],
        [
         "NORTH_AMERICA",
         1761449694,
         "a28bc9",
         "SKW120W ",
         "United States",
         -113.5916,
         37.0669
        ],
        [
         "NORTH_AMERICA",
         1761449694,
         "a2454f",
         "UAL2215 ",
         "United States",
         -103.9402,
         39.1311
        ],
        [
         "NORTH_AMERICA",
         1761449694,
         "adc913",
         "N988CE  ",
         "United States",
         -92.9631,
         48.2415
        ],
        [
         "NORTH_AMERICA",
         1761449694,
         "a3a222",
         "DAL2686 ",
         "United States",
         -105.1426,
         31.5298
        ],
        [
         "NORTH_AMERICA",
         1761449694,
         "a960e9",
         "NKS2593 ",
         "United States",
         -116.3956,
         34.4807
        ],
        [
         "NORTH_AMERICA",
         1761449694,
         "a2452f",
         "UAL787  ",
         "United States",
         -87.9148,
         41.9732
        ],
        [
         "NORTH_AMERICA",
         1761449694,
         "a35254",
         "DAL2108 ",
         "United States",
         -95.8961,
         44.3349
        ],
        [
         "NORTH_AMERICA",
         1761449694,
         "a89c6e",
         "N654JR  ",
         "United States",
         -119.0423,
         35.7009
        ],
        [
         "NORTH_AMERICA",
         1761449694,
         "a24591",
         "UAL1236 ",
         "United States",
         -107.1661,
         37.0724
        ],
        [
         "NORTH_AMERICA",
         1761449694,
         "a973de",
         "N708SH  ",
         "United States",
         -115.1766,
         36.1013
        ],
        [
         "NORTH_AMERICA",
         1761449694,
         "a47227",
         "LXJ386  ",
         "United States",
         -86.4538,
         30.3803
        ],
        [
         "NORTH_AMERICA",
         1761449694,
         "ac9ff2",
         "AAL2810 ",
         "United States",
         -99.279,
         33.3884
        ],
        [
         "NORTH_AMERICA",
         1761449694,
         "aca941",
         "N915AC  ",
         "United States",
         -81.4341,
         28.4073
        ],
        [
         "NORTH_AMERICA",
         1761449694,
         "a24573",
         "UAL2117 ",
         "United States",
         -106.0731,
         42.033
        ],
        [
         "NORTH_AMERICA",
         1761449694,
         "ab399c",
         "N822PP  ",
         "United States",
         -71.0323,
         42.2184
        ],
        [
         "NORTH_AMERICA",
         1761449694,
         "ac8ce5",
         "AAL3245 ",
         "United States",
         -111.5738,
         33.7918
        ],
        [
         "NORTH_AMERICA",
         1761449694,
         "aca94b",
         "AAL1236 ",
         "United States",
         -76.9056,
         42.8076
        ],
        [
         "NORTH_AMERICA",
         1761449694,
         "a90bb9",
         "N682MA  ",
         "United States",
         -75.2801,
         38.4079
        ],
        [
         "NORTH_AMERICA",
         1761449694,
         "ac8d5c",
         "SKW452Z ",
         "United States",
         -100.2962,
         44.3834
        ],
        [
         "NORTH_AMERICA",
         1761449694,
         "a61592",
         "UAL2275 ",
         "United States",
         -82.091,
         35.5147
        ],
        [
         "NORTH_AMERICA",
         1761449694,
         "a35283",
         "FFT1727 ",
         "United States",
         -91.4815,
         34.7039
        ],
        [
         "NORTH_AMERICA",
         1761449694,
         "a3a27a",
         "ENY4262 ",
         "United States",
         -93.4296,
         34.7618
        ],
        [
         "NORTH_AMERICA",
         1761449694,
         "a017a8",
         "DAL896  ",
         "United States",
         -97.8633,
         37.6914
        ],
        [
         "NORTH_AMERICA",
         1761449694,
         "ac7a52",
         "AAL844  ",
         "United States",
         -86.7532,
         31.9049
        ],
        [
         "NORTH_AMERICA",
         1761449694,
         "a9c506",
         "ASA397  ",
         "United States",
         -110.5154,
         32.4232
        ],
        [
         "NORTH_AMERICA",
         1761449694,
         "ac7a5b",
         "ASA529  ",
         "United States",
         -118.9987,
         35.1991
        ],
        [
         "NORTH_AMERICA",
         1761449694,
         "ac7a61",
         "KYE4874 ",
         "United States",
         -127.1043,
         44.0977
        ],
        [
         "NORTH_AMERICA",
         1761449694,
         "c05840",
         "ACA327  ",
         "Canada",
         -103.4846,
         50.4919
        ],
        [
         "NORTH_AMERICA",
         1761449694,
         "aa064d",
         "NDU745  ",
         "United States",
         -111.6623,
         33.1769
        ],
        [
         "NORTH_AMERICA",
         1761449694,
         "c0583a",
         "ACA808  ",
         "Canada",
         -65.754,
         47.497
        ],
        [
         "NORTH_AMERICA",
         1761449694,
         "adea26",
         "AAL494  ",
         "United States",
         -79.0639,
         35.6789
        ],
        [
         "NORTH_AMERICA",
         1761449694,
         "a86861",
         "N64056  ",
         "United States",
         -111.6259,
         33.3164
        ],
        [
         "NORTH_AMERICA",
         1761449694,
         "c03210",
         "ASP844  ",
         "Canada",
         -79.6486,
         43.689
        ],
        [
         "NORTH_AMERICA",
         1761449694,
         "a9b0ed",
         "RPA3585 ",
         "United States",
         -74.1721,
         40.6808
        ],
        [
         "NORTH_AMERICA",
         1761449694,
         "c030fd",
         "ACA792  ",
         "Canada",
         -82.3649,
         42.7571
        ],
        [
         "NORTH_AMERICA",
         1761449694,
         "a39a13",
         "FFT3311 ",
         "United States",
         -98.2681,
         36.5358
        ],
        [
         "NORTH_AMERICA",
         1761449694,
         "a3ea15",
         "N351SA  ",
         "United States",
         -142.1485,
         59.3438
        ],
        [
         "NORTH_AMERICA",
         1761449694,
         "a3b4d6",
         "AAL1273 ",
         "United States",
         -100.7204,
         34.0107
        ],
        [
         "NORTH_AMERICA",
         1761449694,
         "ac57d2",
         "SWA265  ",
         "United States",
         -114.2096,
         33.7442
        ],
        [
         "NORTH_AMERICA",
         1761449694,
         "a5e295",
         "AMX198  ",
         "United States",
         -110.9428,
         29.7121
        ],
        [
         "NORTH_AMERICA",
         1761449694,
         "acdd18",
         "NKS797  ",
         "United States",
         -83.3557,
         42.4011
        ],
        [
         "NORTH_AMERICA",
         1761449694,
         "ab11c9",
         "FOX1    ",
         "United States",
         -111.3804,
         33.6226
        ],
        [
         "NORTH_AMERICA",
         1761449694,
         "a5e29a",
         "ASA141  ",
         "United States",
         -114.0208,
         42.5038
        ],
        [
         "NORTH_AMERICA",
         1761449694,
         "a1bd6a",
         "MXY819  ",
         "United States",
         -81.2815,
         30.7589
        ],
        [
         "NORTH_AMERICA",
         1761449694,
         "a76a3a",
         "UPS109  ",
         "United States",
         -86.9565,
         39.0624
        ],
        [
         "NORTH_AMERICA",
         1761449694,
         "a471ec",
         "DAL2077 ",
         "United States",
         -83.3421,
         28.9575
        ],
        [
         "NORTH_AMERICA",
         1761449694,
         "abbbae",
         "UAL1563 ",
         "United States",
         -111.3127,
         32.9529
        ],
        [
         "NORTH_AMERICA",
         1761449694,
         "a734e0",
         "N5633R  ",
         "United States",
         -112.062,
         41.5423
        ],
        [
         "NORTH_AMERICA",
         1761449694,
         "c043b7",
         "ACA158  ",
         "Canada",
         -85.3658,
         46.999
        ],
        [
         "NORTH_AMERICA",
         1761449694,
         "a52a99",
         "AAL2529 ",
         "United States",
         -115.1357,
         36.08
        ],
        [
         "NORTH_AMERICA",
         1761449694,
         "a27a94",
         "SKW3825 ",
         "United States",
         -96.9008,
         46.5999
        ],
        [
         "NORTH_AMERICA",
         1761449694,
         "c056c2",
         "NRL819  ",
         "Canada",
         -74.0212,
         45.6708
        ],
        [
         "NORTH_AMERICA",
         1761449694,
         "acdbec",
         "ASA331  ",
         "United States",
         -121.9773,
         37.4226
        ],
        [
         "NORTH_AMERICA",
         1761449694,
         "ad6595",
         "SWA2122 ",
         "United States",
         -122.2139,
         37.7111
        ],
        [
         "NORTH_AMERICA",
         1761449694,
         "acdbef",
         "AAL1427 ",
         "United States",
         -90.7,
         27.4151
        ],
        [
         "NORTH_AMERICA",
         1761449694,
         "a0afca",
         "N143WA  ",
         "United States",
         -148.8398,
         65.2608
        ],
        [
         "NORTH_AMERICA",
         1761449694,
         "a3a1f3",
         "N333LE  ",
         "United States",
         -87.3089,
         30.4728
        ],
        [
         "NORTH_AMERICA",
         1761449694,
         "a43ea6",
         "UAL1928 ",
         "United States",
         -110.7003,
         39.4037
        ],
        [
         "NORTH_AMERICA",
         1761449694,
         "abba93",
         "GTI8052 ",
         "United States",
         -73.3037,
         21.9387
        ],
        [
         "NORTH_AMERICA",
         1761449694,
         "a2551a",
         "UAL760  ",
         "United States",
         -104.4019,
         40.1197
        ],
        [
         "NORTH_AMERICA",
         1761449694,
         "ad8901",
         "SKW5047 ",
         "United States",
         -107.7859,
         39.0587
        ],
        [
         "NORTH_AMERICA",
         1761449694,
         "ab3628",
         "AIP1074 ",
         "United States",
         -115.2723,
         47.7295
        ],
        [
         "NORTH_AMERICA",
         1761449694,
         "a43ee5",
         "UAL742  ",
         "United States",
         -107.1374,
         33.6999
        ],
        [
         "NORTH_AMERICA",
         1761449694,
         "a25565",
         "N25CP   ",
         "United States",
         -96.2676,
         33.021
        ],
        [
         "NORTH_AMERICA",
         1761449694,
         "ab8fcb",
         "AAL98   ",
         "United States",
         -85.9171,
         42.2029
        ],
        [
         "NORTH_AMERICA",
         1761449694,
         "a9d3a9",
         "NDU732  ",
         "United States",
         -111.3131,
         32.5611
        ],
        [
         "NORTH_AMERICA",
         1761449694,
         "ab3639",
         "SCX506  ",
         "United States",
         -95.2792,
         40.1026
        ],
        [
         "NORTH_AMERICA",
         1761449694,
         "a8fc2e",
         "UAL484  ",
         "United States",
         -104.7358,
         39.4109
        ],
        [
         "NORTH_AMERICA",
         1761449694,
         "a2b866",
         "N2745G  ",
         "United States",
         -97.244,
         44.19
        ],
        [
         "NORTH_AMERICA",
         1761449694,
         "a7ef4b",
         "FFT2996 ",
         "United States",
         -98.9958,
         31.7557
        ],
        [
         "NORTH_AMERICA",
         1761449694,
         "a3b0fe",
         "DAL2423 ",
         "United States",
         -89.9834,
         34.3896
        ],
        [
         "NORTH_AMERICA",
         1761449694,
         "a36200",
         "DAL1049 ",
         "United States",
         -118.4502,
         33.9439
        ],
        [
         "NORTH_AMERICA",
         1761449694,
         "a17bd2",
         "ASI963  ",
         "United States",
         -111.2351,
         32.368
        ],
        [
         "NORTH_AMERICA",
         1761449694,
         "acffb4",
         "ASA1421 ",
         "United States",
         -120.3376,
         45.1198
        ],
        [
         "NORTH_AMERICA",
         1761449694,
         "ac9cb1",
         "N911ZR  ",
         "United States",
         -87.6709,
         41.7852
        ],
        [
         "NORTH_AMERICA",
         1761449694,
         "71c560",
         "TWB532  ",
         "Republic of Korea",
         -154.6469,
         59.006
        ],
        [
         "NORTH_AMERICA",
         1761449694,
         "a98515",
         "SKW4058 ",
         "United States",
         -91.4554,
         32.8606
        ],
        [
         "NORTH_AMERICA",
         1761449694,
         "adb29f",
         "AAL1173 ",
         "United States",
         -81.9926,
         39.6358
        ],
        [
         "NORTH_AMERICA",
         1761449694,
         "a62577",
         "N4953L  ",
         "United States",
         -78.6283,
         34.567
        ],
        [
         "NORTH_AMERICA",
         1761449694,
         "a1226e",
         "AAL2003 ",
         "United States",
         -113.5091,
         43.2131
        ],
        [
         "NORTH_AMERICA",
         1761449694,
         "a8785b",
         "FFT4928 ",
         "United States",
         -104.6649,
         39.8558
        ],
        [
         "NORTH_AMERICA",
         1761449694,
         "a2ebbd",
         "ASA632  ",
         "United States",
         -113.3615,
         37.7059
        ],
        [
         "NORTH_AMERICA",
         1761449694,
         "aced21",
         "ASA1269 ",
         "United States",
         -121.1982,
         45.4737
        ],
        [
         "NORTH_AMERICA",
         1761449694,
         "ad0d3c",
         "GLG7396 ",
         "United States",
         -76.29,
         36.0964
        ],
        [
         "NORTH_AMERICA",
         1761449694,
         "abba43",
         "DAL2640 ",
         "United States",
         -122.311,
         47.4462
        ],
        [
         "NORTH_AMERICA",
         1761449694,
         "aa0300",
         "SKW4961 ",
         "United States",
         -97.1497,
         33.5825
        ],
        [
         "NORTH_AMERICA",
         1761449694,
         "aa6fca",
         "SWA1848 ",
         "United States",
         -117.1232,
         34.3132
        ],
        [
         "NORTH_AMERICA",
         1761449694,
         "a55ed5",
         "SKW5824 ",
         "United States",
         -98.0049,
         40.798
        ],
        [
         "NORTH_AMERICA",
         1761449694,
         "a3c549",
         "FFT3097 ",
         "United States",
         -94.6081,
         33.9773
        ],
        [
         "NORTH_AMERICA",
         1761449694,
         "aaad8f",
         "SWA2443 ",
         "United States",
         -116.146,
         34.9557
        ],
        [
         "NORTH_AMERICA",
         1761449694,
         "ad0d86",
         "DAL2525 ",
         "United States",
         -86.6711,
         36.1337
        ],
        [
         "NORTH_AMERICA",
         1761449694,
         "a4e538",
         "RPA4573 ",
         "United States",
         -77.0889,
         36.8785
        ],
        [
         "NORTH_AMERICA",
         1761449694,
         "a3d890",
         "DAL436  ",
         "United States",
         -86.5326,
         34.4382
        ],
        [
         "NORTH_AMERICA",
         1761449694,
         "ac8a66",
         "AAL2628 ",
         "United States",
         -97.1999,
         36.1276
        ],
        [
         "NORTH_AMERICA",
         1761449694,
         "acda2c",
         "SWA3995 ",
         "United States",
         -110.7841,
         35.1172
        ],
        [
         "NORTH_AMERICA",
         1761449694,
         "a36279",
         "SKW135K ",
         "United States",
         -95.0241,
         48.3071
        ],
        [
         "NORTH_AMERICA",
         1761449694,
         "ac4279",
         "SWA3039 ",
         "United States",
         -122.6675,
         42.9132
        ],
        [
         "NORTH_AMERICA",
         1761449694,
         "a001af",
         "N1TD    ",
         "United States",
         -98.1726,
         43.1249
        ],
        [
         "NORTH_AMERICA",
         1761449694,
         "aca594",
         "AAL708  ",
         "United States",
         -97.032,
         32.8878
        ],
        [
         "NORTH_AMERICA",
         1761449694,
         "a134d5",
         "SKW3292 ",
         "United States",
         -97.6745,
         30.0199
        ],
        [
         "NORTH_AMERICA",
         1761449694,
         "06a1ea",
         "QTR86W  ",
         "Qatar",
         -73.4523,
         46.8753
        ],
        [
         "NORTH_AMERICA",
         1761449694,
         "ab34a7",
         "AAL899  ",
         "United States",
         -100.637,
         40.1854
        ],
        [
         "NORTH_AMERICA",
         1761449694,
         "a2b7cd",
         "UAL8148 ",
         "United States",
         -108.682,
         37.4208
        ],
        [
         "NORTH_AMERICA",
         1761449694,
         "a387f0",
         "JBU1318 ",
         "United States",
         -71.9066,
         41.5836
        ],
        [
         "NORTH_AMERICA",
         1761449694,
         "a1ba23",
         "AIP513  ",
         "United States",
         -117.0231,
         46.2939
        ],
        [
         "NORTH_AMERICA",
         1761449694,
         "407af2",
         "BAW51B  ",
         "United Kingdom",
         -64.076,
         47.3453
        ],
        [
         "NORTH_AMERICA",
         1761449694,
         "a6bbef",
         "DAL604  ",
         "United States",
         -122.3174,
         47.513
        ],
        [
         "NORTH_AMERICA",
         1761449694,
         "a254d8",
         "UAL101  ",
         "United States",
         -101.4753,
         30.5614
        ],
        [
         "NORTH_AMERICA",
         1761449694,
         "a254d7",
         "UAL188  ",
         "United States",
         -74.1778,
         40.6981
        ],
        [
         "NORTH_AMERICA",
         1761449694,
         "a877d2",
         "N645AD  ",
         "United States",
         -75.4623,
         40.4148
        ],
        [
         "NORTH_AMERICA",
         1761449694,
         "a361f1",
         "PRD3    ",
         "United States",
         -78.224,
         30.5188
        ],
        [
         "NORTH_AMERICA",
         1761449694,
         "ab486e",
         "N826PD  ",
         "United States",
         -117.8694,
         33.8442
        ],
        [
         "NORTH_AMERICA",
         1761449694,
         "a2da60",
         "AAY692  ",
         "United States",
         -111.6683,
         33.3067
        ],
        [
         "NORTH_AMERICA",
         1761449694,
         "ad8836",
         "JBU2637 ",
         "United States",
         -73.8151,
         39.2693
        ],
        [
         "NORTH_AMERICA",
         1761449694,
         "aa4a1b",
         "N762MT  ",
         "United States",
         -87.1534,
         30.5526
        ],
        [
         "NORTH_AMERICA",
         1761449694,
         "c066b6",
         "WJA463  ",
         "Canada",
         -114.0126,
         51.1315
        ],
        [
         "NORTH_AMERICA",
         1761449694,
         "a78d73",
         "DAL2940 ",
         "United States",
         -84.1251,
         35.4293
        ],
        [
         "NORTH_AMERICA",
         1761449694,
         "4cc510",
         "",
         "Iceland",
         -117.2395,
         53.8281
        ],
        [
         "NORTH_AMERICA",
         1761449694,
         "adc532",
         "AAL3307 ",
         "United States",
         -107.3727,
         44.4342
        ],
        [
         "NORTH_AMERICA",
         1761449694,
         "a9d59f",
         "",
         "United States",
         -118.4163,
         33.9371
        ],
        [
         "NORTH_AMERICA",
         1761449694,
         "adc531",
         "AAL1323 ",
         "United States",
         -108.0247,
         36.8696
        ],
        [
         "NORTH_AMERICA",
         1761449694,
         "aa5d23",
         "SKW4653 ",
         "United States",
         -84.1503,
         43.4831
        ],
        [
         "NORTH_AMERICA",
         1761449694,
         "4cc581",
         "ICE680  ",
         "Iceland",
         -64.489,
         68.0525
        ],
        [
         "NORTH_AMERICA",
         1761449694,
         "a481fd",
         "REH043  ",
         "United States",
         -117.2544,
         34.3203
        ],
        [
         "NORTH_AMERICA",
         1761449694,
         "a757ae",
         "AAL3333 ",
         "United States",
         -95.5974,
         35.3289
        ],
        [
         "NORTH_AMERICA",
         1761449694,
         "4cc578",
         "ICE12E  ",
         "Iceland",
         -117.6627,
         51.8369
        ],
        [
         "NORTH_AMERICA",
         1761449694,
         "c079a6",
         "TSC815  ",
         "Canada",
         -74.6676,
         41.5744
        ],
        [
         "NORTH_AMERICA",
         1761449694,
         "4cc57a",
         "ICE604  ",
         "Iceland",
         -79.6629,
         43.6732
        ],
        [
         "NORTH_AMERICA",
         1761449694,
         "c066b0",
         "WJA2711 ",
         "Canada",
         -80.0848,
         38.9026
        ],
        [
         "NORTH_AMERICA",
         1761449694,
         "ac9bef",
         "CMD70   ",
         "United States",
         -123.0509,
         40.433
        ],
        [
         "NORTH_AMERICA",
         1761449694,
         "4cc573",
         "ICE686  ",
         "Iceland",
         -76.8926,
         37.6691
        ],
        [
         "NORTH_AMERICA",
         1761449694,
         "a9727f",
         "N708CG  ",
         "United States",
         -86.8156,
         36.9534
        ],
        [
         "NORTH_AMERICA",
         1761449694,
         "4cc570",
         "ICE11P  ",
         "Iceland",
         -120.7914,
         48.923
        ],
        [
         "NORTH_AMERICA",
         1761449694,
         "acb892",
         "SKW362G ",
         "United States",
         -103.1357,
         45.6119
        ],
        [
         "NORTH_AMERICA",
         1761449694,
         "a37630",
         "EPI322  ",
         "United States",
         -81.1428,
         29.1465
        ],
        [
         "NORTH_AMERICA",
         1761449694,
         "a0acbb",
         "UAL2168 ",
         "United States",
         -77.5454,
         41.1399
        ],
        [
         "NORTH_AMERICA",
         1761449694,
         "a05cf3",
         "AAL2839 ",
         "United States",
         -77.0432,
         38.8554
        ],
        [
         "NORTH_AMERICA",
         1761449694,
         "a9d4da",
         "N7320J  ",
         "United States",
         -118.607,
         34.16
        ],
        [
         "NORTH_AMERICA",
         1761449694,
         "a3c60d",
         "AAL2188 ",
         "United States",
         -75.2372,
         38.6134
        ],
        [
         "NORTH_AMERICA",
         1761449694,
         "c03064",
         "ACA363  ",
         "Canada",
         -115.6085,
         50.7587
        ],
        [
         "NORTH_AMERICA",
         1761449694,
         "a37616",
         "DAL1251 ",
         "United States",
         -97.7808,
         35.0506
        ],
        [
         "NORTH_AMERICA",
         1761449694,
         "06a12d",
         "QTR44B  ",
         "Qatar",
         -96.7861,
         61.8766
        ],
        [
         "NORTH_AMERICA",
         1761449694,
         "a87904",
         "NKS1810 ",
         "United States",
         -97.0322,
         32.8716
        ],
        [
         "NORTH_AMERICA",
         1761449694,
         "a3c649",
         "AAL2799 ",
         "United States",
         -79.8395,
         35.5267
        ],
        [
         "NORTH_AMERICA",
         1761449694,
         "06a12a",
         "QTR5K   ",
         "Qatar",
         -68.4105,
         46.8998
        ],
        [
         "NORTH_AMERICA",
         1761449694,
         "c0307a",
         "ACA226  ",
         "Canada",
         -114.0135,
         51.1268
        ],
        [
         "NORTH_AMERICA",
         1761449694,
         "c0307c",
         "ACA337  ",
         "Canada",
         -113.2039,
         53.1945
        ],
        [
         "NORTH_AMERICA",
         1761449694,
         "a13650",
         "UAL303  ",
         "United States",
         -106.209,
         41.9433
        ],
        [
         "NORTH_AMERICA",
         1761449694,
         "406a9d",
         "BAW9EW  ",
         "United Kingdom",
         -62.4513,
         49.7552
        ],
        [
         "NORTH_AMERICA",
         1761449694,
         "a3899d",
         "ENY3937 ",
         "United States",
         -101.5383,
         37.9005
        ],
        [
         "NORTH_AMERICA",
         1761449694,
         "a3d90a",
         "AAL2897 ",
         "United States",
         -77.1174,
         38.4806
        ],
        [
         "NORTH_AMERICA",
         1761449694,
         "a997e5",
         "AAL3106 ",
         "United States",
         -96.6889,
         32.8582
        ],
        [
         "NORTH_AMERICA",
         1761449694,
         "a8b4c6",
         "FFT1784 ",
         "United States",
         -95.1706,
         38.5643
        ],
        [
         "NORTH_AMERICA",
         1761449694,
         "a851c3",
         "QXE2269 ",
         "United States",
         -121.6846,
         45.5286
        ],
        [
         "NORTH_AMERICA",
         1761449694,
         "a80ff0",
         "N6188K  ",
         "United States",
         -101.5705,
         33.4232
        ],
        [
         "NORTH_AMERICA",
         1761449694,
         "a5902a",
         "N458DL  ",
         "United States",
         -106.9803,
         35.0056
        ],
        [
         "NORTH_AMERICA",
         1761449694,
         "a2ecec",
         "ENY3702 ",
         "United States",
         -99.4623,
         28.7807
        ],
        [
         "NORTH_AMERICA",
         1761449694,
         "ad88ef",
         "N971SC  ",
         "United States",
         -121.8036,
         39.6791
        ],
        [
         "NORTH_AMERICA",
         1761449694,
         "a1239d",
         "UAL1076 ",
         "United States",
         -71.0125,
         42.3651
        ],
        [
         "NORTH_AMERICA",
         1761449694,
         "aca5e5",
         "DAL3022 ",
         "United States",
         -86.6637,
         34.6915
        ],
        [
         "NORTH_AMERICA",
         1761449694,
         "ad62c9",
         "N9614H  ",
         "United States",
         -104.6312,
         40.4455
        ],
        [
         "NORTH_AMERICA",
         1761449694,
         "a89a9f",
         "N65329  ",
         "United States",
         -76.9703,
         39.4997
        ],
        [
         "NORTH_AMERICA",
         1761449694,
         "a87942",
         "QXE2063 ",
         "United States",
         -123.334,
         44.6716
        ],
        [
         "NORTH_AMERICA",
         1761449694,
         "a54cf9",
         "OXF1010 ",
         "United States",
         -110.9431,
         32.0592
        ],
        [
         "NORTH_AMERICA",
         1761449694,
         "ad504d",
         "SKW475F ",
         "United States",
         -104.6723,
         40.7055
        ]
       ],
       "datasetInfos": [],
       "dbfsResultPath": null,
       "isJsonSchema": true,
       "metadata": {},
       "overflow": true,
       "plotOptions": {
        "customPlotOptions": {},
        "displayType": "table",
        "pivotAggregation": null,
        "pivotColumns": null,
        "xColumns": null,
        "yColumns": null
       },
       "removedWidgets": [],
       "schema": [
        {
         "metadata": "{}",
         "name": "region",
         "type": "\"string\""
        },
        {
         "metadata": "{}",
         "name": "time",
         "type": "\"long\""
        },
        {
         "metadata": "{}",
         "name": "icao24",
         "type": "\"string\""
        },
        {
         "metadata": "{}",
         "name": "callsign",
         "type": "\"string\""
        },
        {
         "metadata": "{}",
         "name": "origin_country",
         "type": "\"string\""
        },
        {
         "metadata": "{}",
         "name": "longitude",
         "type": "\"double\""
        },
        {
         "metadata": "{}",
         "name": "latitude",
         "type": "\"double\""
        }
       ],
       "type": "table"
      }
     },
     "output_type": "display_data"
    }
   ],
   "source": [
    "# Register REST data source\n",
    "spark.dataSource.register(RestDataSource)\n",
    "\n",
    "# Choose region\n",
    "region = \"NORTH_AMERICA\"\n",
    "bbox = regions[region]\n",
    "\n",
    "# Create input DataFrame\n",
    "input_df = spark.createDataFrame([{\"region\": region, **bbox}])\n",
    "input_json = json.dumps([{\"region\": region, **bbox}])\n",
    "\n",
    "print(f\"Setting up streaming for region: {region}\")\n",
    "print(f\"Input data: {input_json}\\n\")\n",
    "\n",
    "# Configure streaming\n",
    "# IMPORTANT: Set dataField=\"\" to return the whole response as JSON string\n",
    "url = \"https://opensky-network.org/api/states/all?lamin={lamin}&lamax={lamax}&lomin={lomin}&lomax={lomax}\"\n",
    "\n",
    "print(\"Creating streaming DataFrame...\")\n",
    "stream_df = spark.readStream.format(\"rest\") \\\n",
    "    .option(\"url\", url) \\\n",
    "    .option(\"method\", \"GET\") \\\n",
    "    .option(\"streaming\", \"true\") \\\n",
    "    .option(\"inputData\", input_json) \\\n",
    "    .option(\"queryType\", \"querystring\") \\\n",
    "    .option(\"streamingInterval\", \"10\") \\\n",
    "    .option(\"offsetType\", \"timestamp\") \\\n",
    "    .option(\"offsetField\", \"time\") \\\n",
    "    .option(\"initialOffset\", \"0\") \\\n",
    "    .option(\"dataField\", \"\") \\\n",
    "    .load()\n",
    "\n",
    "print(f\"Stream schema: {stream_df.schema}\")\n",
    "\n",
    "# Parse the output field as JSON and explode the states array\n",
    "from pyspark.sql.functions import from_json, explode, col\n",
    "from pyspark.sql.types import StructType, StructField, LongType, ArrayType, StringType\n",
    "\n",
    "# Define schema for OpenSky response\n",
    "response_schema = StructType([\n",
    "    StructField(\"time\", LongType(), True),\n",
    "    StructField(\"states\", ArrayType(ArrayType(StringType())), True)\n",
    "])\n",
    "\n",
    "print(\"\\nParsing response and exploding states...\")\n",
    "\n",
    "# Parse the output field and extract data\n",
    "parsed_df = stream_df.withColumn(\"parsed\", from_json(col(\"output\"), response_schema))\n",
    "\n",
    "# Extract and explode states\n",
    "with_fields = parsed_df.select(\n",
    "    col(\"region\"),\n",
    "    col(\"parsed.time\").alias(\"time\"),\n",
    "    explode(col(\"parsed.states\")).alias(\"state_array\")\n",
    ")\n",
    "\n",
    "# Map array positions to column names\n",
    "flights_display = with_fields.select(\n",
    "    \"region\",\n",
    "    \"time\",\n",
    "    col(\"state_array\")[0].alias(\"icao24\"),\n",
    "    col(\"state_array\")[1].alias(\"callsign\"),\n",
    "    col(\"state_array\")[2].alias(\"origin_country\"),\n",
    "    col(\"state_array\")[5].cast(\"double\").alias(\"longitude\"),\n",
    "    col(\"state_array\")[6].cast(\"double\").alias(\"latitude\")\n",
    ")\n",
    "\n",
    "print(f\"✓ Flights DataFrame created\")\n",
    "print(f\"Schema: {flights_display.schema}\\n\")\n",
    "\n",
    "print(\"Starting streaming query...\")\n",
    "print(\"Polling every 10 seconds. Use 'Stop' button to stop.\\n\")\n",
    "\n",
    "# Start streaming\n",
    "display(flights_display, streamName=\"opensky_flights\")"
   ]
  },
  {
   "cell_type": "code",
   "execution_count": 0,
   "metadata": {
    "application/vnd.databricks.v1+cell": {
     "cellMetadata": {
      "byteLimit": 2048000,
      "rowLimit": 10000
     },
     "inputWidgets": {},
     "nuid": "a55050d8-9134-4b19-ab39-ffdde5da76eb",
     "showTitle": true,
     "tableResultSettingsMap": {},
     "title": "parse_array_response_streaming"
    }
   },
   "outputs": [
    {
     "output_type": "display_data",
     "data": {
      "text/html": [
       "<style scoped>\n",
       "  .table-result-container {\n",
       "    max-height: 300px;\n",
       "    overflow: auto;\n",
       "  }\n",
       "  table, th, td {\n",
       "    border: 1px solid black;\n",
       "    border-collapse: collapse;\n",
       "  }\n",
       "  th, td {\n",
       "    padding: 5px;\n",
       "  }\n",
       "  th {\n",
       "    text-align: left;\n",
       "  }\n",
       "</style><div class='table-result-container'><table class='table-result'><thead style='background-color: white'><tr><th>region</th><th>time</th><th>icao24</th><th>callsign</th><th>origin_country</th><th>longitude</th><th>latitude</th><th>geo_altitude</th><th>velocity</th></tr></thead><tbody><tr><td>NORTH_AMERICA</td><td>1761449720</td><td>aae316</td><td>AAL1882 </td><td>United States</td><td>-77.2166</td><td>37.3829</td><td>480.06</td><td>88.78</td></tr><tr><td>NORTH_AMERICA</td><td>1761449720</td><td>acdfa3</td><td>ASA898  </td><td>United States</td><td>-125.3522</td><td>44.9734</td><td>9585.96</td><td>256.97</td></tr><tr><td>NORTH_AMERICA</td><td>1761449720</td><td>a0e250</td><td>AAL903  </td><td>United States</td><td>-77.0549</td><td>38.6334</td><td>632.46</td><td>94.32</td></tr><tr><td>NORTH_AMERICA</td><td>1761449720</td><td>ab0356</td><td>ASA9    </td><td>United States</td><td>-122.5989</td><td>45.5885</td><td>null</td><td>5.14</td></tr><tr><td>NORTH_AMERICA</td><td>1761449720</td><td>e8024d</td><td>ARE4280 </td><td>Chile</td><td>-81.7172</td><td>12.5803</td><td>38.1</td><td>74.73</td></tr><tr><td>NORTH_AMERICA</td><td>1761449720</td><td>a963f7</td><td>FFT1954 </td><td>United States</td><td>-80.6936</td><td>28.1516</td><td>3848.1</td><td>215.2</td></tr><tr><td>NORTH_AMERICA</td><td>1761449720</td><td>ac3688</td><td>SWA2912 </td><td>United States</td><td>-117.1535</td><td>37.0582</td><td>9753.6</td><td>220.22</td></tr><tr><td>NORTH_AMERICA</td><td>1761449720</td><td>3455d5</td><td>IBE03HB </td><td>Spain</td><td>-80.3287</td><td>25.7855</td><td>76.2</td><td>68.49</td></tr><tr><td>NORTH_AMERICA</td><td>1761449720</td><td>a6f23d</td><td>DAL571  </td><td>United States</td><td>-117.1537</td><td>32.7249</td><td>160.02</td><td>67.27</td></tr><tr><td>NORTH_AMERICA</td><td>1761449720</td><td>0d11f9</td><td>VIV2022 </td><td>Mexico</td><td>-87.8301</td><td>20.814</td><td>6614.16</td><td>208.88</td></tr><tr><td>NORTH_AMERICA</td><td>1761449720</td><td>c0226c</td><td>WJA204  </td><td>Canada</td><td>-99.8267</td><td>49.9046</td><td>9745.98</td><td>218.12</td></tr><tr><td>NORTH_AMERICA</td><td>1761449720</td><td>a5d28c</td><td>UAL2360 </td><td>United States</td><td>-121.3321</td><td>37.5849</td><td>4777.74</td><td>166.17</td></tr><tr><td>NORTH_AMERICA</td><td>1761449720</td><td>c07bbe</td><td>WJA1449 </td><td>Canada</td><td>-114.896</td><td>36.1997</td><td>5455.92</td><td>207.37</td></tr><tr><td>NORTH_AMERICA</td><td>1761449720</td><td>a5958c</td><td>SWA2783 </td><td>United States</td><td>-96.8478</td><td>32.8478</td><td>null</td><td>4.89</td></tr><tr><td>NORTH_AMERICA</td><td>1761449720</td><td>a247f0</td><td>SKW3729 </td><td>United States</td><td>-108.6312</td><td>37.0152</td><td>10218.42</td><td>244.88</td></tr><tr><td>NORTH_AMERICA</td><td>1761449720</td><td>c03517</td><td>WJA2157 </td><td>Canada</td><td>-121.2788</td><td>46.7326</td><td>10972.8</td><td>223.21</td></tr><tr><td>NORTH_AMERICA</td><td>1761449720</td><td>c0481b</td><td>ROU1611 </td><td>Canada</td><td>-73.6532</td><td>42.6342</td><td>11285.22</td><td>235.84</td></tr><tr><td>NORTH_AMERICA</td><td>1761449720</td><td>a857ce</td><td>N637AS  </td><td>United States</td><td>-112.8727</td><td>39.0979</td><td>12192</td><td>164.64</td></tr><tr><td>NORTH_AMERICA</td><td>1761449720</td><td>ab5d4a</td><td>AAL1607 </td><td>United States</td><td>-97.0353</td><td>32.9058</td><td>null</td><td>0</td></tr><tr><td>NORTH_AMERICA</td><td>1761449720</td><td>a63a40</td><td>N500DE  </td><td>United States</td><td>-82.3249</td><td>34.7613</td><td>3223.26</td><td>196.8</td></tr><tr><td>NORTH_AMERICA</td><td>1761449720</td><td>a88d10</td><td>DAL8956 </td><td>United States</td><td>-97.2316</td><td>49.8925</td><td>null</td><td>1.03</td></tr><tr><td>NORTH_AMERICA</td><td>1761449720</td><td>a1ad5a</td><td>SKW5861 </td><td>United States</td><td>-104.72</td><td>38.8052</td><td>null</td><td>3.09</td></tr><tr><td>NORTH_AMERICA</td><td>1761449720</td><td>a3b7cb</td><td>FFT3981 </td><td>United States</td><td>-107.0735</td><td>40.0378</td><td>11574.78</td><td>202.44</td></tr><tr><td>NORTH_AMERICA</td><td>1761449720</td><td>ac21af</td><td>AAL6    </td><td>United States</td><td>-157.8734</td><td>21.1944</td><td>1341.12</td><td>134.92</td></tr><tr><td>NORTH_AMERICA</td><td>1761449720</td><td>c04825</td><td>CGBII   </td><td>Canada</td><td>-75.8469</td><td>44.7395</td><td>8229.6</td><td>162.63</td></tr><tr><td>NORTH_AMERICA</td><td>1761449720</td><td>a5d1f7</td><td>SWA492  </td><td>United States</td><td>-122.5662</td><td>39.0815</td><td>12275.82</td><td>248.61</td></tr><tr><td>NORTH_AMERICA</td><td>1761449720</td><td>a88d49</td><td>TCF650  </td><td>United States</td><td>-80.7377</td><td>28.1063</td><td>373.38</td><td>46.55</td></tr><tr><td>NORTH_AMERICA</td><td>1761449720</td><td>c020a9</td><td>CFMJO   </td><td>Canada</td><td>-123.6418</td><td>48.7603</td><td>1379.22</td><td>69.18</td></tr><tr><td>NORTH_AMERICA</td><td>1761449720</td><td>a88d70</td><td>N650HG  </td><td>United States</td><td>-80.9785</td><td>32.3131</td><td>11574.78</td><td>228.53</td></tr><tr><td>NORTH_AMERICA</td><td>1761449720</td><td>a88d55</td><td>EJM132  </td><td>United States</td><td>-76.5754</td><td>39.5856</td><td>11574.78</td><td>200.96</td></tr><tr><td>NORTH_AMERICA</td><td>1761449720</td><td>c07e2c</td><td>ACA510  </td><td>Canada</td><td>-79.8733</td><td>43.4865</td><td>1386.84</td><td>111.05</td></tr><tr><td>NORTH_AMERICA</td><td>1761449720</td><td>a46345</td><td>FFT1439 </td><td>United States</td><td>-112.0426</td><td>33.4408</td><td>419.1</td><td>65.33</td></tr><tr><td>NORTH_AMERICA</td><td>1761449720</td><td>ac2412</td><td>SWA746  </td><td>United States</td><td>-114.2983</td><td>38.6991</td><td>10972.8</td><td>207.7</td></tr><tr><td>NORTH_AMERICA</td><td>1761449720</td><td>ad9db0</td><td>ASA1050 </td><td>United States</td><td>-122.8496</td><td>47.1532</td><td>4968.24</td><td>160.64</td></tr><tr><td>NORTH_AMERICA</td><td>1761449720</td><td>a3a67b</td><td>UPS985  </td><td>United States</td><td>-122.312</td><td>47.5401</td><td>null</td><td>3.6</td></tr><tr><td>NORTH_AMERICA</td><td>1761449720</td><td>a40cd9</td><td>FFT2779 </td><td>United States</td><td>-87.7424</td><td>41.7897</td><td>null</td><td>0.32</td></tr><tr><td>NORTH_AMERICA</td><td>1761449720</td><td>a59689</td><td>N45941  </td><td>United States</td><td>-104.5782</td><td>38.9614</td><td>2103.12</td><td>32.22</td></tr><tr><td>NORTH_AMERICA</td><td>1761449720</td><td>c07e59</td><td>WJA722  </td><td>Canada</td><td>-89.1472</td><td>45.6156</td><td>10668</td><td>250.84</td></tr><tr><td>NORTH_AMERICA</td><td>1761449720</td><td>ad9dac</td><td>SJE97   </td><td>United States</td><td>-105.2028</td><td>38.8041</td><td>13708.38</td><td>242.46</td></tr><tr><td>NORTH_AMERICA</td><td>1761449720</td><td>a46310</td><td>DAL453  </td><td>United States</td><td>-89.2591</td><td>37.2685</td><td>10370.82</td><td>233.35</td></tr><tr><td>NORTH_AMERICA</td><td>1761449720</td><td>aae44c</td><td>N8000Y  </td><td>United States</td><td>-114.5195</td><td>36.5826</td><td>2606.04</td><td>59.36</td></tr><tr><td>NORTH_AMERICA</td><td>1761449720</td><td>ac377b</td><td>SWA2446 </td><td>United States</td><td>-114.9047</td><td>36.0736</td><td>1668.78</td><td>92.09</td></tr><tr><td>NORTH_AMERICA</td><td>1761449720</td><td>0d10e4</td><td>VOI3293 </td><td>Mexico</td><td>-116.5306</td><td>32.3993</td><td>2316.48</td><td>115.92</td></tr><tr><td>NORTH_AMERICA</td><td>1761449720</td><td>a5f938</td><td>UAL465  </td><td>United States</td><td>-87.2785</td><td>38.6429</td><td>6591.3</td><td>214.31</td></tr><tr><td>NORTH_AMERICA</td><td>1761449720</td><td>a45051</td><td>DAL614  </td><td>United States</td><td>-115.2592</td><td>34.0953</td><td>10363.2</td><td>225.1</td></tr><tr><td>NORTH_AMERICA</td><td>1761449720</td><td>0d10f8</td><td>VIV546  </td><td>Mexico</td><td>-100.1167</td><td>25.7807</td><td>null</td><td>0</td></tr><tr><td>NORTH_AMERICA</td><td>1761449720</td><td>a8dd7b</td><td>UAL940  </td><td>United States</td><td>-74.0618</td><td>40.8381</td><td>1386.84</td><td>134.54</td></tr><tr><td>NORTH_AMERICA</td><td>1761449720</td><td>a85931</td><td>QXE2323 </td><td>United States</td><td>-122.1954</td><td>45.7252</td><td>5676.9</td><td>206.14</td></tr><tr><td>NORTH_AMERICA</td><td>1761449720</td><td>c048b6</td><td>KEW504  </td><td>Canada</td><td>-96.8284</td><td>50.7002</td><td>5608.32</td><td>163.09</td></tr><tr><td>NORTH_AMERICA</td><td>1761449720</td><td>a3fffc</td><td>DAL2512 </td><td>United States</td><td>-116.6362</td><td>43.9867</td><td>10972.8</td><td>216.07</td></tr><tr><td>NORTH_AMERICA</td><td>1761449720</td><td>c0104f</td><td>ACA50   </td><td>Canada</td><td>-73.8413</td><td>45.3979</td><td>975.36</td><td>109.42</td></tr><tr><td>NORTH_AMERICA</td><td>1761449720</td><td>a8dcee</td><td>NKS1480 </td><td>United States</td><td>-92.3165</td><td>42.7272</td><td>9144</td><td>214.16</td></tr><tr><td>NORTH_AMERICA</td><td>1761449720</td><td>a45091</td><td>DAL1199 </td><td>United States</td><td>-84.7692</td><td>36.8144</td><td>10363.2</td><td>251.12</td></tr><tr><td>NORTH_AMERICA</td><td>1761449720</td><td>c01040</td><td>ACA810  </td><td>Canada</td><td>-74.3107</td><td>45.1469</td><td>11277.6</td><td>269.3</td></tr><tr><td>NORTH_AMERICA</td><td>1761449720</td><td>a2ce05</td><td>ASA1455 </td><td>United States</td><td>-143.1098</td><td>59.5308</td><td>10972.8</td><td>225.7</td></tr><tr><td>NORTH_AMERICA</td><td>1761449720</td><td>c0103a</td><td>ACA842  </td><td>Canada</td><td>-73.4674</td><td>46.354</td><td>10660.38</td><td>264.82</td></tr><tr><td>NORTH_AMERICA</td><td>1761449720</td><td>0d10ac</td><td>VIV001  </td><td>Mexico</td><td>-100.1187</td><td>25.7817</td><td>null</td><td>0</td></tr><tr><td>NORTH_AMERICA</td><td>1761449720</td><td>a235b7</td><td>SWA1644 </td><td>United States</td><td>-116.4381</td><td>33.8677</td><td>5410.2</td><td>184.6</td></tr><tr><td>NORTH_AMERICA</td><td>1761449720</td><td>0d10bd</td><td>VOI5575 </td><td>Mexico</td><td>-105.8939</td><td>28.6924</td><td>11277.6</td><td>266.36</td></tr><tr><td>NORTH_AMERICA</td><td>1761449720</td><td>a3b8e1</td><td>AAL2426 </td><td>United States</td><td>-105.1509</td><td>37.671</td><td>10363.2</td><td>224.63</td></tr><tr><td>NORTH_AMERICA</td><td>1761449720</td><td>0d10e0</td><td>XBDSC   </td><td>Mexico</td><td>-98.3469</td><td>25.65</td><td>6294.12</td><td>136.74</td></tr><tr><td>NORTH_AMERICA</td><td>1761449720</td><td>4aca64</td><td>SAS6926 </td><td>Sweden</td><td>-68.5439</td><td>44.0705</td><td>11887.2</td><td>269.68</td></tr><tr><td>NORTH_AMERICA</td><td>1761449720</td><td>a15e7d</td><td>ECJ88   </td><td>United States</td><td>-74.0809</td><td>40.9192</td><td>769.62</td><td>121.96</td></tr><tr><td>NORTH_AMERICA</td><td>1761449720</td><td>a6f326</td><td>JIA5309 </td><td>United States</td><td>-95.1776</td><td>33.2672</td><td>9403.08</td><td>245.96</td></tr><tr><td>NORTH_AMERICA</td><td>1761449720</td><td>a9b62a</td><td>ASA19   </td><td>United States</td><td>-122.3669</td><td>45.4961</td><td>815.34</td><td>82.61</td></tr><tr><td>NORTH_AMERICA</td><td>1761449720</td><td>a7cfe3</td><td>NKS1359 </td><td>United States</td><td>-86.9439</td><td>28.8845</td><td>10972.8</td><td>204.3</td></tr><tr><td>NORTH_AMERICA</td><td>1761449720</td><td>ab5db8</td><td>SCX8657 </td><td>United States</td><td>-92.9397</td><td>43.4946</td><td>9144</td><td>224.94</td></tr><tr><td>NORTH_AMERICA</td><td>1761449720</td><td>a355b1</td><td>ENY3503 </td><td>United States</td><td>-98.3508</td><td>30.7893</td><td>9448.8</td><td>251.85</td></tr><tr><td>NORTH_AMERICA</td><td>1761449720</td><td>a368d3</td><td>LXJ319  </td><td>United States</td><td>-96.0622</td><td>33.3597</td><td>4122.42</td><td>162.33</td></tr><tr><td>NORTH_AMERICA</td><td>1761449720</td><td>a02b77</td><td>N11SN   </td><td>United States</td><td>-119.5582</td><td>36.0116</td><td>4297.68</td><td>141.31</td></tr><tr><td>NORTH_AMERICA</td><td>1761449720</td><td>ac7e1c</td><td>TAI590  </td><td>United States</td><td>-86.8511</td><td>21.3761</td><td>11277.6</td><td>240.69</td></tr><tr><td>NORTH_AMERICA</td><td>1761449720</td><td>a8de10</td><td>DAL1162 </td><td>United States</td><td>-81.4239</td><td>28.5133</td><td>1714.5</td><td>113.18</td></tr><tr><td>NORTH_AMERICA</td><td>1761449720</td><td>c0360e</td><td>WJA124  </td><td>Canada</td><td>-113.9931</td><td>51.1191</td><td>null</td><td>7.72</td></tr><tr><td>NORTH_AMERICA</td><td>1761449720</td><td>ab4b34</td><td>DAL2854 </td><td>United States</td><td>-120.9404</td><td>41.1285</td><td>11887.2</td><td>248.1</td></tr><tr><td>NORTH_AMERICA</td><td>1761449720</td><td>8015a5</td><td>AIC179  </td><td>India</td><td>-122.3835</td><td>37.6094</td><td>null</td><td>2.83</td></tr><tr><td>NORTH_AMERICA</td><td>1761449720</td><td>a88e2e</td><td>QXE2116 </td><td>United States</td><td>-118.5624</td><td>34.3336</td><td>8122.92</td><td>200.52</td></tr><tr><td>NORTH_AMERICA</td><td>1761449720</td><td>ac22c5</td><td>AAL3188 </td><td>United States</td><td>-84.1069</td><td>38.3508</td><td>9144</td><td>223.84</td></tr><tr><td>NORTH_AMERICA</td><td>1761449720</td><td>ad8b20</td><td>AAL983  </td><td>United States</td><td>-77.2762</td><td>37.4575</td><td>198.12</td><td>78.91</td></tr><tr><td>NORTH_AMERICA</td><td>1761449720</td><td>a2bb89</td><td>UAL1032 </td><td>United States</td><td>-93.7594</td><td>35.8754</td><td>7315.2</td><td>193.13</td></tr><tr><td>NORTH_AMERICA</td><td>1761449720</td><td>a52e54</td><td>ASA326  </td><td>United States</td><td>-114.6346</td><td>44.7254</td><td>10363.2</td><td>204.83</td></tr><tr><td>NORTH_AMERICA</td><td>1761449720</td><td>a63b0a</td><td>N500MG  </td><td>United States</td><td>-117.5693</td><td>33.3706</td><td>1501.14</td><td>128.06</td></tr><tr><td>NORTH_AMERICA</td><td>1761449720</td><td>a4c5d8</td><td>JBU7    </td><td>United States</td><td>-64.3515</td><td>46.9943</td><td>10073.64</td><td>249.84</td></tr><tr><td>NORTH_AMERICA</td><td>1761449720</td><td>0d118c</td><td>VIV1188 </td><td>Mexico</td><td>-98.3909</td><td>17.7601</td><td>9441.18</td><td>231.04</td></tr><tr><td>NORTH_AMERICA</td><td>1761449720</td><td>a99b5f</td><td>SKW5010 </td><td>United States</td><td>-93.989</td><td>40.1256</td><td>10934.7</td><td>230.5</td></tr><tr><td>NORTH_AMERICA</td><td>1761449720</td><td>c021f6</td><td>WJA154  </td><td>Canada</td><td>-120.2194</td><td>49.3278</td><td>11277.6</td><td>242.64</td></tr><tr><td>NORTH_AMERICA</td><td>1761449720</td><td>a0e431</td><td>AAL1207 </td><td>United States</td><td>-106.9432</td><td>32.1695</td><td>9144</td><td>236.75</td></tr><tr><td>NORTH_AMERICA</td><td>1761449720</td><td>0d111b</td><td>VOI1814 </td><td>Mexico</td><td>-115.3225</td><td>32.3939</td><td>10355.58</td><td>214.75</td></tr><tr><td>NORTH_AMERICA</td><td>1761449720</td><td>0d1138</td><td>VIV632  </td><td>Mexico</td><td>-91.0237</td><td>38.5298</td><td>11894.82</td><td>242.43</td></tr><tr><td>NORTH_AMERICA</td><td>1761449720</td><td>ada64d</td><td>AAL3037 </td><td>United States</td><td>-88.3878</td><td>35.1099</td><td>11277.6</td><td>250.37</td></tr><tr><td>NORTH_AMERICA</td><td>1761449720</td><td>aa92fb</td><td>UAL927  </td><td>United States</td><td>-122.3917</td><td>37.6175</td><td>null</td><td>0.9</td></tr><tr><td>NORTH_AMERICA</td><td>1761449720</td><td>a0f71a</td><td>N161TM  </td><td>United States</td><td>-80.7053</td><td>37.8024</td><td>7932.42</td><td>190.37</td></tr><tr><td>NORTH_AMERICA</td><td>1761449720</td><td>0d1140</td><td>VOI3085 </td><td>Mexico</td><td>-98.4456</td><td>25.0183</td><td>10370.82</td><td>212.59</td></tr><tr><td>NORTH_AMERICA</td><td>1761449720</td><td>ad4390</td><td>AAL1049 </td><td>United States</td><td>-80.1611</td><td>36.8869</td><td>7292.34</td><td>237.83</td></tr><tr><td>NORTH_AMERICA</td><td>1761449720</td><td>0d1151</td><td>VOI1870 </td><td>Mexico</td><td>-118.9202</td><td>44.2805</td><td>10965.18</td><td>198.84</td></tr><tr><td>NORTH_AMERICA</td><td>1761449720</td><td>aa92f8</td><td>UAL932  </td><td>United States</td><td>-75.2268</td><td>39.9077</td><td>9395.46</td><td>289.53</td></tr><tr><td>NORTH_AMERICA</td><td>1761449720</td><td>a8de56</td><td>DAL1234 </td><td>United States</td><td>-82.9679</td><td>28.4486</td><td>10058.4</td><td>249.14</td></tr><tr><td>NORTH_AMERICA</td><td>1761449720</td><td>a832b6</td><td>N62707  </td><td>United States</td><td>-80.4989</td><td>37.1141</td><td>2286</td><td>74.71</td></tr><tr><td>NORTH_AMERICA</td><td>1761449720</td><td>ac7e09</td><td>AAL3063 </td><td>United States</td><td>-108.1682</td><td>36.7357</td><td>10972.8</td><td>217.9</td></tr><tr><td>NORTH_AMERICA</td><td>1761449720</td><td>a39dca</td><td>FFT1832 </td><td>United States</td><td>-82.5419</td><td>31.4138</td><td>10660.38</td><td>251.3</td></tr><tr><td>NORTH_AMERICA</td><td>1761449720</td><td>ac48d3</td><td>SWA657  </td><td>United States</td><td>-91.2254</td><td>42.6709</td><td>8839.2</td><td>243.41</td></tr><tr><td>NORTH_AMERICA</td><td>1761449720</td><td>aaf5a9</td><td>AAL1818 </td><td>United States</td><td>-87.8981</td><td>41.9725</td><td>null</td><td>4.89</td></tr><tr><td>NORTH_AMERICA</td><td>1761449720</td><td>a14ad1</td><td>UAL781  </td><td>United States</td><td>-112.5275</td><td>33.2218</td><td>10363.2</td><td>229.37</td></tr><tr><td>NORTH_AMERICA</td><td>1761449720</td><td>a6bfa6</td><td>DAL9964 </td><td>United States</td><td>-85.9561</td><td>35.1135</td><td>9357.36</td><td>242.34</td></tr><tr><td>NORTH_AMERICA</td><td>1761449720</td><td>c058b4</td><td>ROU1813 </td><td>Canada</td><td>-82.2239</td><td>33.3263</td><td>10668</td><td>246.06</td></tr><tr><td>NORTH_AMERICA</td><td>1761449720</td><td>c058c0</td><td>ACA187  </td><td>Canada</td><td>-93.9826</td><td>47.1517</td><td>12184.38</td><td>230.52</td></tr><tr><td>NORTH_AMERICA</td><td>1761449720</td><td>a8690a</td><td>ATN3366 </td><td>United States</td><td>-104.8242</td><td>38.3734</td><td>10980.42</td><td>234.22</td></tr><tr><td>NORTH_AMERICA</td><td>1761449720</td><td>a66fbc</td><td>N51358  </td><td>United States</td><td>-78.8844</td><td>35.0319</td><td>1242.06</td><td>48.02</td></tr><tr><td>NORTH_AMERICA</td><td>1761449720</td><td>a16ce9</td><td>N191LN  </td><td>United States</td><td>-84.7678</td><td>43.5371</td><td>1828.8</td><td>64.67</td></tr><tr><td>NORTH_AMERICA</td><td>1761449720</td><td>c058cd</td><td>ROU1820 </td><td>Canada</td><td>-85.6181</td><td>23.6174</td><td>10370.82</td><td>237.7</td></tr><tr><td>NORTH_AMERICA</td><td>1761449720</td><td>ac340a</td><td>SWA2472 </td><td>United States</td><td>-114.8438</td><td>40.8671</td><td>10965.18</td><td>207.01</td></tr><tr><td>NORTH_AMERICA</td><td>1761449720</td><td>a22003</td><td>ENY3611 </td><td>United States</td><td>-98.2003</td><td>32.7009</td><td>4876.8</td><td>178.9</td></tr><tr><td>NORTH_AMERICA</td><td>1761449720</td><td>a4c327</td><td>KII406  </td><td>United States</td><td>-83.5421</td><td>42.2737</td><td>777.24</td><td>100.73</td></tr><tr><td>NORTH_AMERICA</td><td>1761449720</td><td>a4992f</td><td>N396BC  </td><td>United States</td><td>-95.4162</td><td>36.1959</td><td>13098.78</td><td>225.41</td></tr><tr><td>NORTH_AMERICA</td><td>1761449720</td><td>4bb46f</td><td>MNB1547 </td><td>Turkey</td><td>-64.1575</td><td>44.0184</td><td>11582.4</td><td>216.28</td></tr><tr><td>NORTH_AMERICA</td><td>1761449720</td><td>ad5416</td><td>N958TP  </td><td>United States</td><td>-98.3868</td><td>29.5936</td><td>1386.84</td><td>100.6</td></tr><tr><td>NORTH_AMERICA</td><td>1761449720</td><td>adb723</td><td>JBU923  </td><td>United States</td><td>-77.5155</td><td>40.1148</td><td>10363.2</td><td>176.09</td></tr><tr><td>NORTH_AMERICA</td><td>1761449720</td><td>c0205c</td><td>SPR755  </td><td>Canada</td><td>-69.348</td><td>46.0417</td><td>6096</td><td>143.13</td></tr><tr><td>NORTH_AMERICA</td><td>1761449720</td><td>a04e00</td><td>DAL1304 </td><td>United States</td><td>-111.9604</td><td>40.1246</td><td>6637.02</td><td>194.52</td></tr><tr><td>NORTH_AMERICA</td><td>1761449720</td><td>ac7aa9</td><td>DAL2281 </td><td>United States</td><td>-82.243</td><td>34.8641</td><td>304.8</td><td>70.51</td></tr><tr><td>NORTH_AMERICA</td><td>1761449720</td><td>a86904</td><td>N641AT  </td><td>United States</td><td>-150.3451</td><td>61.4603</td><td>1470.66</td><td>111.42</td></tr><tr><td>NORTH_AMERICA</td><td>1761449720</td><td>ac3448</td><td>AAL722  </td><td>United States</td><td>-63.9941</td><td>47.157</td><td>12489.18</td><td>269.67</td></tr><tr><td>NORTH_AMERICA</td><td>1761449720</td><td>ad6755</td><td>ASA1163 </td><td>United States</td><td>-104.6843</td><td>40.122</td><td>2903.22</td><td>118.85</td></tr><tr><td>NORTH_AMERICA</td><td>1761449720</td><td>a2dce1</td><td>ASA134  </td><td>United States</td><td>-122.8465</td><td>48.0306</td><td>4107.18</td><td>146.91</td></tr><tr><td>NORTH_AMERICA</td><td>1761449720</td><td>a841f5</td><td>FDX3954 </td><td>United States</td><td>-120.7638</td><td>39.0213</td><td>10668</td><td>256.66</td></tr><tr><td>NORTH_AMERICA</td><td>1761449720</td><td>a9fa0c</td><td>TAI570  </td><td>United States</td><td>-83.557</td><td>29.0236</td><td>10668</td><td>248.81</td></tr><tr><td>NORTH_AMERICA</td><td>1761449720</td><td>a84343</td><td>UPS61   </td><td>United States</td><td>-149.9792</td><td>61.1694</td><td>null</td><td>6.94</td></tr><tr><td>NORTH_AMERICA</td><td>1761449720</td><td>c0466c</td><td>ROU1937 </td><td>Canada</td><td>-88.4099</td><td>47.913</td><td>9144</td><td>238.58</td></tr><tr><td>NORTH_AMERICA</td><td>1761449720</td><td>a3539d</td><td>SKW3617 </td><td>United States</td><td>-104.5869</td><td>38.6808</td><td>11277.6</td><td>238.59</td></tr><tr><td>NORTH_AMERICA</td><td>1761449720</td><td>a8697f</td><td>FFT1595 </td><td>United States</td><td>-87.3886</td><td>41.5362</td><td>3230.88</td><td>177.64</td></tr><tr><td>NORTH_AMERICA</td><td>1761449720</td><td>a0e086</td><td>AAL3005 </td><td>United States</td><td>-106.0655</td><td>39.5362</td><td>10363.2</td><td>224.59</td></tr><tr><td>NORTH_AMERICA</td><td>1761449720</td><td>a5939c</td><td>ASA372  </td><td>United States</td><td>-107.5907</td><td>37.6092</td><td>10668</td><td>240.1</td></tr><tr><td>NORTH_AMERICA</td><td>1761449720</td><td>aa9136</td><td>HAL22   </td><td>United States</td><td>-128.8331</td><td>44.579</td><td>12192</td><td>299.11</td></tr><tr><td>NORTH_AMERICA</td><td>1761449720</td><td>a03b67</td><td>DAL2309 </td><td>United States</td><td>-88.1637</td><td>38.7926</td><td>9448.8</td><td>244.51</td></tr><tr><td>NORTH_AMERICA</td><td>1761449720</td><td>a4c34c</td><td>DAL227  </td><td>United States</td><td>-73.5955</td><td>40.0743</td><td>4434.84</td><td>190.5</td></tr><tr><td>NORTH_AMERICA</td><td>1761449720</td><td>a8b920</td><td>NDU661  </td><td>United States</td><td>-111.6173</td><td>32.7241</td><td>1981.2</td><td>53.65</td></tr><tr><td>NORTH_AMERICA</td><td>1761449720</td><td>a15b05</td><td>DAL991  </td><td>United States</td><td>-73.6551</td><td>40.5964</td><td>472.44</td><td>86.99</td></tr><tr><td>NORTH_AMERICA</td><td>1761449720</td><td>ad9b94</td><td>SKW5454 </td><td>United States</td><td>-93.2735</td><td>38.0149</td><td>9753.6</td><td>210.92</td></tr><tr><td>NORTH_AMERICA</td><td>1761449720</td><td>a1be79</td><td>AAY734  </td><td>United States</td><td>-96.1891</td><td>39.4868</td><td>11582.4</td><td>240.88</td></tr><tr><td>NORTH_AMERICA</td><td>1761449720</td><td>a2cb12</td><td>UAL358  </td><td>United States</td><td>-115.1087</td><td>34.947</td><td>8404.86</td><td>244.88</td></tr><tr><td>NORTH_AMERICA</td><td>1761449720</td><td>a39b19</td><td>ENY3427 </td><td>United States</td><td>-83.2975</td><td>29.5495</td><td>10363.2</td><td>234.31</td></tr><tr><td>NORTH_AMERICA</td><td>1761449720</td><td>a125f9</td><td>SKW3495 </td><td>United States</td><td>-121.3006</td><td>43.6409</td><td>11277.6</td><td>247.47</td></tr><tr><td>NORTH_AMERICA</td><td>1761449720</td><td>a7ce03</td><td>N6015F  </td><td>United States</td><td>-96.0648</td><td>33.1122</td><td>358.14</td><td>44.76</td></tr><tr><td>NORTH_AMERICA</td><td>1761449720</td><td>a1be3a</td><td>N211LG  </td><td>United States</td><td>-104.7197</td><td>38.8086</td><td>null</td><td>3.86</td></tr><tr><td>NORTH_AMERICA</td><td>1761449720</td><td>a41e29</td><td>UAL1995 </td><td>United States</td><td>-116.4914</td><td>36.6556</td><td>8481.06</td><td>231.07</td></tr><tr><td>NORTH_AMERICA</td><td>1761449720</td><td>89610f</td><td>UAE220  </td><td>United Arab Emirates</td><td>-71.702</td><td>43.2319</td><td>9448.8</td><td>271.51</td></tr><tr><td>NORTH_AMERICA</td><td>1761449720</td><td>abbe23</td><td>FDX9084 </td><td>United States</td><td>-101.4654</td><td>38.1294</td><td>10668</td><td>240.3</td></tr><tr><td>NORTH_AMERICA</td><td>1761449720</td><td>a16e7d</td><td>UAL228  </td><td>United States</td><td>-77.4749</td><td>38.9392</td><td>-22.86</td><td>83.03</td></tr><tr><td>NORTH_AMERICA</td><td>1761449720</td><td>ac45ac</td><td>DAL2488 </td><td>United States</td><td>-97.9603</td><td>43.6258</td><td>9753.6</td><td>239.42</td></tr><tr><td>NORTH_AMERICA</td><td>1761449720</td><td>ac45d5</td><td>FDX90   </td><td>United States</td><td>-119.8338</td><td>54.3289</td><td>10058.4</td><td>230.8</td></tr><tr><td>NORTH_AMERICA</td><td>1761449720</td><td>a2de7e</td><td>SKW4027 </td><td>United States</td><td>-121.5763</td><td>45.3285</td><td>10668</td><td>230.17</td></tr><tr><td>NORTH_AMERICA</td><td>1761449720</td><td>c07a7c</td><td>JZA7958 </td><td>Canada</td><td>-73.7175</td><td>45.4778</td><td>null</td><td>2.83</td></tr><tr><td>NORTH_AMERICA</td><td>1761449720</td><td>a77e97</td><td>DAL763  </td><td>United States</td><td>-108.7184</td><td>35.4974</td><td>10363.2</td><td>230.04</td></tr><tr><td>NORTH_AMERICA</td><td>1761449720</td><td>a12735</td><td>UAL2008 </td><td>United States</td><td>-119.794</td><td>37.7751</td><td>7315.2</td><td>193.61</td></tr><tr><td>NORTH_AMERICA</td><td>1761449720</td><td>ac8cf1</td><td>AAL2176 </td><td>United States</td><td>-85.9112</td><td>39.8913</td><td>11582.4</td><td>203.06</td></tr><tr><td>NORTH_AMERICA</td><td>1761449720</td><td>aa3b84</td><td>AMX664  </td><td>United States</td><td>-121.6956</td><td>36.4736</td><td>6400.8</td><td>170.25</td></tr><tr><td>NORTH_AMERICA</td><td>1761449720</td><td>aca99c</td><td>DAL2839 </td><td>United States</td><td>-80.8702</td><td>40.1379</td><td>7620</td><td>243.47</td></tr><tr><td>NORTH_AMERICA</td><td>1761449720</td><td>a12712</td><td>UAL2211 </td><td>United States</td><td>-108.9527</td><td>45.7835</td><td>10363.2</td><td>212.86</td></tr><tr><td>NORTH_AMERICA</td><td>1761449720</td><td>ada336</td><td>AAL1771 </td><td>United States</td><td>-111.5286</td><td>35.4355</td><td>9593.58</td><td>208.96</td></tr><tr><td>NORTH_AMERICA</td><td>1761449720</td><td>738100</td><td>ELY022  </td><td>Israel</td><td>-79.0747</td><td>27.0143</td><td>6035.04</td><td>223.99</td></tr><tr><td>NORTH_AMERICA</td><td>1761449720</td><td>ac335b</td><td>SWA4706 </td><td>United States</td><td>-88.37</td><td>41.8828</td><td>1424.94</td><td>117.55</td></tr><tr><td>NORTH_AMERICA</td><td>1761449720</td><td>adb656</td><td>AAL961  </td><td>United States</td><td>-80.926</td><td>35.2744</td><td>777.24</td><td>118.07</td></tr><tr><td>NORTH_AMERICA</td><td>1761449720</td><td>c031c9</td><td>WEN3264 </td><td>Canada</td><td>-105.1384</td><td>50.4061</td><td>3505.2</td><td>143.18</td></tr><tr><td>NORTH_AMERICA</td><td>1761449720</td><td>a1270a</td><td>UAL498  </td><td>United States</td><td>-118.4856</td><td>45.1112</td><td>10965.18</td><td>207.95</td></tr><tr><td>NORTH_AMERICA</td><td>1761449720</td><td>a89e2f</td><td>N65415  </td><td>United States</td><td>-121.1564</td><td>37.9116</td><td>861.06</td><td>38.56</td></tr><tr><td>NORTH_AMERICA</td><td>1761449720</td><td>896175</td><td>UAE256  </td><td>United Arab Emirates</td><td>-79.4453</td><td>30.1809</td><td>10668</td><td>258.48</td></tr><tr><td>NORTH_AMERICA</td><td>1761449720</td><td>a988cc</td><td>SKW6191 </td><td>United States</td><td>-94.3858</td><td>33.696</td><td>10401.3</td><td>269</td></tr><tr><td>NORTH_AMERICA</td><td>1761449720</td><td>a4870d</td><td>FFT1810 </td><td>United States</td><td>-77.6366</td><td>32.6914</td><td>11277.6</td><td>235.79</td></tr><tr><td>NORTH_AMERICA</td><td>1761449720</td><td>a04dff</td><td>N119DT  </td><td>United States</td><td>-88.2658</td><td>35.0624</td><td>10340.34</td><td>263.01</td></tr><tr><td>NORTH_AMERICA</td><td>1761449720</td><td>896187</td><td>UAE8UW  </td><td>United Arab Emirates</td><td>-73.835</td><td>40.5592</td><td>1272.54</td><td>134.67</td></tr><tr><td>NORTH_AMERICA</td><td>1761449720</td><td>a9b39e</td><td>NKS2535 </td><td>United States</td><td>-85.7622</td><td>35.4376</td><td>6240.78</td><td>195.42</td></tr><tr><td>NORTH_AMERICA</td><td>1761449720</td><td>a12755</td><td>UAL1104 </td><td>United States</td><td>-115.3631</td><td>32.498</td><td>10972.8</td><td>216.38</td></tr><tr><td>NORTH_AMERICA</td><td>1761449720</td><td>a12756</td><td>UAL1425 </td><td>United States</td><td>-87.5332</td><td>17.5989</td><td>10363.2</td><td>240.68</td></tr><tr><td>NORTH_AMERICA</td><td>1761449720</td><td>a12758</td><td>UAL2656 </td><td>United States</td><td>-104.6943</td><td>39.8659</td><td>null</td><td>15.43</td></tr><tr><td>NORTH_AMERICA</td><td>1761449720</td><td>abbeb6</td><td>N856MA  </td><td>United States</td><td>-157.8019</td><td>21.2533</td><td>1333.5</td><td>54.58</td></tr><tr><td>NORTH_AMERICA</td><td>1761449720</td><td>a12798</td><td>UAL2633 </td><td>United States</td><td>-117.0383</td><td>32.7726</td><td>1714.5</td><td>129.4</td></tr><tr><td>NORTH_AMERICA</td><td>1761449720</td><td>a1277b</td><td>UAL2059 </td><td>United States</td><td>-107.73</td><td>45.1907</td><td>10972.8</td><td>202.41</td></tr><tr><td>NORTH_AMERICA</td><td>1761449720</td><td>a3b796</td><td>DAL2123 </td><td>United States</td><td>-77.5198</td><td>42.1014</td><td>9547.86</td><td>243.1</td></tr><tr><td>NORTH_AMERICA</td><td>1761449720</td><td>a1bdcc</td><td>N211FX  </td><td>United States</td><td>-77.3896</td><td>38.9203</td><td>259.08</td><td>66.44</td></tr><tr><td>NORTH_AMERICA</td><td>1761449720</td><td>ab6efc</td><td>DAL2132 </td><td>United States</td><td>-99.3552</td><td>29.9183</td><td>10668</td><td>274.95</td></tr><tr><td>NORTH_AMERICA</td><td>1761449720</td><td>acded6</td><td>N9284R  </td><td>United States</td><td>-87.9109</td><td>42.9427</td><td>4457.7</td><td>81.7</td></tr><tr><td>NORTH_AMERICA</td><td>1761449720</td><td>a9b2e0</td><td>SKW4234 </td><td>United States</td><td>-111.979</td><td>40.8048</td><td>null</td><td>0</td></tr><tr><td>NORTH_AMERICA</td><td>1761449720</td><td>abbedb</td><td>AAL1563 </td><td>United States</td><td>-87.965</td><td>42.9275</td><td>320.04</td><td>69.47</td></tr><tr><td>NORTH_AMERICA</td><td>1761449720</td><td>ad6884</td><td>AAL2772 </td><td>United States</td><td>-73.7739</td><td>40.6327</td><td>null</td><td>0</td></tr><tr><td>NORTH_AMERICA</td><td>1761449720</td><td>ada51e</td><td>ASA485  </td><td>United States</td><td>-113.0873</td><td>46.9176</td><td>10203.18</td><td>225.64</td></tr><tr><td>NORTH_AMERICA</td><td>1761449720</td><td>a2ddef</td><td>N284ME  </td><td>United States</td><td>-86.2198</td><td>36.0135</td><td>1112.52</td><td>59.16</td></tr><tr><td>NORTH_AMERICA</td><td>1761449720</td><td>a7bb93</td><td>ERU98   </td><td>United States</td><td>-112.1503</td><td>34.7608</td><td>3291.84</td><td>73.45</td></tr><tr><td>NORTH_AMERICA</td><td>1761449720</td><td>a97797</td><td>SKW6241 </td><td>United States</td><td>-95.8264</td><td>29.2516</td><td>6438.9</td><td>163.41</td></tr><tr><td>NORTH_AMERICA</td><td>1761449720</td><td>a126c5</td><td>UAL1976 </td><td>United States</td><td>-87.8186</td><td>30.7607</td><td>3307.08</td><td>188.8</td></tr><tr><td>NORTH_AMERICA</td><td>1761449720</td><td>ad40c7</td><td>N953LA  </td><td>United States</td><td>-118.1654</td><td>33.9014</td><td>190.5</td><td>39.62</td></tr><tr><td>NORTH_AMERICA</td><td>1761449720</td><td>a04f40</td><td>N119SP  </td><td>United States</td><td>-93.1091</td><td>44.9914</td><td>533.4</td><td>9.26</td></tr><tr><td>NORTH_AMERICA</td><td>1761449720</td><td>a126eb</td><td>UAL1112 </td><td>United States</td><td>-122.6117</td><td>37.3164</td><td>2987.04</td><td>166.21</td></tr><tr><td>NORTH_AMERICA</td><td>1761449720</td><td>a126ed</td><td>UAL1534 </td><td>United States</td><td>-77.2846</td><td>37.4678</td><td>129.54</td><td>77.77</td></tr><tr><td>NORTH_AMERICA</td><td>1761449720</td><td>a61797</td><td>ASA478  </td><td>United States</td><td>-118.7844</td><td>38.8367</td><td>11269.98</td><td>268.12</td></tr><tr><td>NORTH_AMERICA</td><td>1761449720</td><td>a379d3</td><td>DAL928  </td><td>United States</td><td>-122.3165</td><td>47.6061</td><td>1082.04</td><td>68.94</td></tr><tr><td>NORTH_AMERICA</td><td>1761449720</td><td>a1ac11</td><td>ENY4151 </td><td>United States</td><td>-90.8926</td><td>44.2517</td><td>9753.6</td><td>221.63</td></tr><tr><td>NORTH_AMERICA</td><td>1761449720</td><td>ab6eb9</td><td>AAL647  </td><td>United States</td><td>-83.7257</td><td>34.9369</td><td>10668</td><td>234.65</td></tr><tr><td>NORTH_AMERICA</td><td>1761449720</td><td>a4c47f</td><td>N406SD  </td><td>United States</td><td>-77.8253</td><td>37.6121</td><td>2987.04</td><td>77.21</td></tr><tr><td>NORTH_AMERICA</td><td>1761449720</td><td>a259ec</td><td>N2500X  </td><td>United States</td><td>-80.9747</td><td>28.9363</td><td>708.66</td><td>48.53</td></tr><tr><td>NORTH_AMERICA</td><td>1761449720</td><td>a6179a</td><td>VAR492  </td><td>United States</td><td>-112.3632</td><td>33.4346</td><td>null</td><td>0</td></tr><tr><td>NORTH_AMERICA</td><td>1761449720</td><td>a4c3a0</td><td>N406HF  </td><td>United States</td><td>-107.5573</td><td>44.2041</td><td>7620</td><td>133.52</td></tr><tr><td>NORTH_AMERICA</td><td>1761449720</td><td>a8b9b3</td><td>UAL54   </td><td>United States</td><td>-70.3072</td><td>42.8178</td><td>10668</td><td>270.57</td></tr><tr><td>NORTH_AMERICA</td><td>1761449720</td><td>ab6f3d</td><td>N836GC  </td><td>United States</td><td>-115.1543</td><td>36.1621</td><td>922.02</td><td>35.23</td></tr><tr><td>NORTH_AMERICA</td><td>1761449720</td><td>a353c8</td><td>AAL2667 </td><td>United States</td><td>-80.7605</td><td>27.0697</td><td>7010.4</td><td>233.61</td></tr><tr><td>NORTH_AMERICA</td><td>1761449720</td><td>a593af</td><td>N459BL  </td><td>United States</td><td>-122.2096</td><td>37.7274</td><td>null</td><td>6.43</td></tr><tr><td>NORTH_AMERICA</td><td>1761449720</td><td>c0473b</td><td>CJT2384 </td><td>Canada</td><td>-93.5662</td><td>46.2453</td><td>9761.22</td><td>232.57</td></tr><tr><td>NORTH_AMERICA</td><td>1761449720</td><td>a603b0</td><td>GTI8523 </td><td>United States</td><td>-154.8295</td><td>60.3151</td><td>11269.98</td><td>256.28</td></tr><tr><td>NORTH_AMERICA</td><td>1761449720</td><td>adc9b6</td><td>JBU615  </td><td>United States</td><td>-90.9835</td><td>42.7457</td><td>10370.82</td><td>232.55</td></tr><tr><td>NORTH_AMERICA</td><td>1761449720</td><td>a736c1</td><td>LCO3607 </td><td>United States</td><td>-77.2203</td><td>34.3321</td><td>9448.8</td><td>252.02</td></tr><tr><td>NORTH_AMERICA</td><td>1761449720</td><td>c04738</td><td>CJT2389 </td><td>Canada</td><td>-114.0319</td><td>51.1284</td><td>null</td><td>0.77</td></tr><tr><td>NORTH_AMERICA</td><td>1761449720</td><td>a83174</td><td>NKS3998 </td><td>United States</td><td>-80.1694</td><td>32.4878</td><td>11285.22</td><td>249.84</td></tr><tr><td>NORTH_AMERICA</td><td>1761449720</td><td>c07b8c</td><td>WJA1425 </td><td>Canada</td><td>-116.877</td><td>43.8306</td><td>11582.4</td><td>249.09</td></tr><tr><td>NORTH_AMERICA</td><td>1761449720</td><td>ab5c69</td><td>DAL1373 </td><td>United States</td><td>-111.9777</td><td>40.7951</td><td>null</td><td>9.26</td></tr><tr><td>NORTH_AMERICA</td><td>1761449720</td><td>7380c3</td><td>ELY026  </td><td>Israel</td><td>-74.1722</td><td>40.6927</td><td>null</td><td>0</td></tr><tr><td>NORTH_AMERICA</td><td>1761449720</td><td>7380c7</td><td>ELY008  </td><td>Israel</td><td>-73.1903</td><td>41.5791</td><td>6347.46</td><td>233.9</td></tr><tr><td>NORTH_AMERICA</td><td>1761449720</td><td>ac7c52</td><td>SWA4186 </td><td>United States</td><td>-98.9259</td><td>29.7876</td><td>11887.2</td><td>269.92</td></tr><tr><td>NORTH_AMERICA</td><td>1761449720</td><td>ae1f60</td><td>00172081</td><td>United States</td><td>-85.5906</td><td>31.2839</td><td>563.88</td><td>77.41</td></tr><tr><td>NORTH_AMERICA</td><td>1761449720</td><td>ad9ac9</td><td>JBU607  </td><td>United States</td><td>-104.8727</td><td>35.6618</td><td>10980.42</td><td>223.42</td></tr><tr><td>NORTH_AMERICA</td><td>1761449720</td><td>a36825</td><td>JBU2483 </td><td>United States</td><td>-78.8902</td><td>35.7607</td><td>571.5</td><td>92.97</td></tr><tr><td>NORTH_AMERICA</td><td>1761449720</td><td>a03baa</td><td>XAA2459 </td><td>United States</td><td>-85.8113</td><td>37.0837</td><td>13106.4</td><td>253.07</td></tr><tr><td>NORTH_AMERICA</td><td>1761449720</td><td>ab1496</td><td>AAL2384 </td><td>United States</td><td>-81.7322</td><td>35.3125</td><td>2926.08</td><td>187.27</td></tr><tr><td>NORTH_AMERICA</td><td>1761449720</td><td>ab5afe</td><td>SWA2535 </td><td>United States</td><td>-97.0565</td><td>39.7044</td><td>10668</td><td>217.9</td></tr><tr><td>NORTH_AMERICA</td><td>1761449720</td><td>ab148b</td><td>ASA9671 </td><td>United States</td><td>-149.9848</td><td>61.1761</td><td>null</td><td>0</td></tr><tr><td>NORTH_AMERICA</td><td>1761449720</td><td>ab148d</td><td>N813AM  </td><td>United States</td><td>-89.6526</td><td>39.7898</td><td>487.68</td><td>39.1</td></tr><tr><td>NORTH_AMERICA</td><td>1761449720</td><td>aaf47a</td><td>ASA1401 </td><td>United States</td><td>-122.1482</td><td>47.7055</td><td>2125.98</td><td>122.91</td></tr><tr><td>NORTH_AMERICA</td><td>1761449720</td><td>a9d9f2</td><td>ASA462  </td><td>United States</td><td>-120.6107</td><td>47.8145</td><td>8100.06</td><td>203.27</td></tr><tr><td>NORTH_AMERICA</td><td>1761449720</td><td>a0e220</td><td>SKW4727 </td><td>United States</td><td>-98.5976</td><td>36.2254</td><td>6918.96</td><td>201.53</td></tr><tr><td>NORTH_AMERICA</td><td>1761449720</td><td>a8b9e8</td><td>N661WD  </td><td>United States</td><td>-96.2395</td><td>35.3928</td><td>11887.2</td><td>228.09</td></tr><tr><td>NORTH_AMERICA</td><td>1761449720</td><td>a0f566</td><td>AAL3001 </td><td>United States</td><td>-106.6685</td><td>41.5552</td><td>10355.58</td><td>213.06</td></tr><tr><td>NORTH_AMERICA</td><td>1761449720</td><td>a7cf40</td><td>LXJ602  </td><td>United States</td><td>-120.5389</td><td>36.2135</td><td>13418.82</td><td>269.6</td></tr><tr><td>NORTH_AMERICA</td><td>1761449720</td><td>c045f1</td><td>WJA2021 </td><td>Canada</td><td>-101.0598</td><td>39.969</td><td>11582.4</td><td>225.61</td></tr><tr><td>NORTH_AMERICA</td><td>1761449720</td><td>c07b42</td><td>WJA80   </td><td>Canada</td><td>-161.4566</td><td>61.1774</td><td>10972.8</td><td>243.45</td></tr><tr><td>NORTH_AMERICA</td><td>1761449720</td><td>a09237</td><td>N136HN  </td><td>United States</td><td>-79.6746</td><td>39.6193</td><td>1028.7</td><td>56.24</td></tr><tr><td>NORTH_AMERICA</td><td>1761449720</td><td>a736ff</td><td>JIA5288 </td><td>United States</td><td>-89.4512</td><td>35.3195</td><td>8229.6</td><td>231.46</td></tr><tr><td>NORTH_AMERICA</td><td>1761449720</td><td>abe105</td><td>ASI155  </td><td>United States</td><td>-111.8219</td><td>33.0874</td><td>1341.12</td><td>56.52</td></tr><tr><td>NORTH_AMERICA</td><td>1761449720</td><td>a7032e</td><td>N551AM  </td><td>United States</td><td>-111.7118</td><td>33.3011</td><td>579.12</td><td>65.95</td></tr><tr><td>NORTH_AMERICA</td><td>1761449720</td><td>a44031</td><td>DAL1508 </td><td>United States</td><td>-87.615</td><td>31.4411</td><td>10370.82</td><td>191.08</td></tr><tr><td>NORTH_AMERICA</td><td>1761449720</td><td>a32056</td><td>ENY4109 </td><td>United States</td><td>-81.5909</td><td>27.4462</td><td>10363.2</td><td>216.31</td></tr><tr><td>NORTH_AMERICA</td><td>1761449720</td><td>ad7ab8</td><td>JBU333  </td><td>United States</td><td>-101.825</td><td>41.9891</td><td>10363.2</td><td>240.5</td></tr><tr><td>NORTH_AMERICA</td><td>1761449720</td><td>a82332</td><td>UPS197  </td><td>United States</td><td>-98.8617</td><td>48.5907</td><td>11277.6</td><td>259.53</td></tr><tr><td>NORTH_AMERICA</td><td>1761449720</td><td>a81005</td><td>UAL2627 </td><td>United States</td><td>-92.4413</td><td>44.8671</td><td>5494.02</td><td>188.76</td></tr><tr><td>NORTH_AMERICA</td><td>1761449720</td><td>ac0143</td><td>SWA2608 </td><td>United States</td><td>-114.628</td><td>35.3396</td><td>8534.4</td><td>220.96</td></tr><tr><td>NORTH_AMERICA</td><td>1761449720</td><td>a81006</td><td>UAL2132 </td><td>United States</td><td>-120.3872</td><td>39.0166</td><td>6286.5</td><td>156.46</td></tr><tr><td>NORTH_AMERICA</td><td>1761449720</td><td>a70356</td><td>N551CB  </td><td>United States</td><td>-94.7151</td><td>29.4213</td><td>3756.66</td><td>152.6</td></tr><tr><td>NORTH_AMERICA</td><td>1761449720</td><td>ac5ada</td><td></td><td>United States</td><td>-115.3773</td><td>38.4424</td><td>11582.4</td><td>185.46</td></tr><tr><td>NORTH_AMERICA</td><td>1761449720</td><td>a2be06</td><td>AAY681  </td><td>United States</td><td>-109.1609</td><td>36.0996</td><td>10370.82</td><td>220.6</td></tr><tr><td>NORTH_AMERICA</td><td>1761449720</td><td>a7bfa0</td><td>JBU539  </td><td>United States</td><td>-71.7825</td><td>37.5894</td><td>10652.76</td><td>258.9</td></tr><tr><td>NORTH_AMERICA</td><td>1761449720</td><td>a5d623</td><td>UAL2332 </td><td>United States</td><td>-105.8878</td><td>35.0357</td><td>10226.04</td><td>253.28</td></tr><tr><td>NORTH_AMERICA</td><td>1761449720</td><td>a5d62f</td><td>N4751G  </td><td>United States</td><td>-85.8821</td><td>39.8296</td><td>487.68</td><td>45.84</td></tr><tr><td>NORTH_AMERICA</td><td>1761449720</td><td>a5d643</td><td>UAL3789 </td><td>United States</td><td>-97.8924</td><td>34.7712</td><td>8534.4</td><td>256.02</td></tr><tr><td>NORTH_AMERICA</td><td>1761449720</td><td>ab4f07</td><td>ERU828  </td><td>United States</td><td>-81.2507</td><td>29.1024</td><td>457.2</td><td>38.98</td></tr><tr><td>NORTH_AMERICA</td><td>1761449720</td><td>3c5b31</td><td>OCN691  </td><td>Germany</td><td>-70.8282</td><td>43.3676</td><td>10668</td><td>260.75</td></tr><tr><td>NORTH_AMERICA</td><td>1761449720</td><td>896408</td><td>ETD8NY  </td><td>United Arab Emirates</td><td>-71.6086</td><td>42.743</td><td>10287</td><td>277.94</td></tr><tr><td>NORTH_AMERICA</td><td>1761449720</td><td>a37b0c</td><td>AAL1815 </td><td>United States</td><td>-116.49</td><td>34.0913</td><td>8587.74</td><td>224.54</td></tr><tr><td>NORTH_AMERICA</td><td>1761449720</td><td>a728c1</td><td>AAL2568 </td><td>United States</td><td>-97.0377</td><td>32.9091</td><td>null</td><td>10.29</td></tr><tr><td>NORTH_AMERICA</td><td>1761449720</td><td>a082ac</td><td>AAL2069 </td><td>United States</td><td>-107.8442</td><td>38.4027</td><td>10363.2</td><td>217.67</td></tr><tr><td>NORTH_AMERICA</td><td>1761449720</td><td>a105e8</td><td>SKW5327 </td><td>United States</td><td>-86.6675</td><td>36.1233</td><td>null</td><td>6.17</td></tr><tr><td>NORTH_AMERICA</td><td>1761449720</td><td>a0e5d7</td><td>SKW4672 </td><td>United States</td><td>-119.0531</td><td>35.4313</td><td>137.16</td><td>66.57</td></tr><tr><td>NORTH_AMERICA</td><td>1761449720</td><td>ac6db1</td><td>N90JX   </td><td>United States</td><td>-103.1072</td><td>33.4779</td><td>4564.38</td><td>113.42</td></tr><tr><td>NORTH_AMERICA</td><td>1761449720</td><td>020121</td><td>RAM209M </td><td>Morocco</td><td>-65.907</td><td>45.5305</td><td>11887.2</td><td>274.65</td></tr><tr><td>NORTH_AMERICA</td><td>1761449720</td><td>4bb1a4</td><td>THY5YR  </td><td>Turkey</td><td>-92.1882</td><td>37.1329</td><td>11269.98</td><td>267.63</td></tr><tr><td>NORTH_AMERICA</td><td>1761449720</td><td>a37b1c</td><td>SKW4087 </td><td>United States</td><td>-118.4112</td><td>33.9481</td><td>null</td><td>7.72</td></tr><tr><td>NORTH_AMERICA</td><td>1761449720</td><td>aa8481</td><td>N777RB  </td><td>United States</td><td>-81.9327</td><td>31.4995</td><td>12192</td><td>202.03</td></tr><tr><td>NORTH_AMERICA</td><td>1761449720</td><td>a082fd</td><td>DAL869  </td><td>United States</td><td>-73.8585</td><td>40.769</td><td>null</td><td>0.06</td></tr><tr><td>NORTH_AMERICA</td><td>1761449720</td><td>a81045</td><td>ATN3364 </td><td>United States</td><td>-103.1155</td><td>36.7854</td><td>11590.02</td><td>228.51</td></tr><tr><td>NORTH_AMERICA</td><td>1761449720</td><td>02013e</td><td>RAM7201 </td><td>Morocco</td><td>-73.2134</td><td>40.5756</td><td>4213.86</td><td>214.9</td></tr><tr><td>NORTH_AMERICA</td><td>1761449720</td><td>ad4744</td><td>ASA287  </td><td>United States</td><td>-95.994</td><td>40.0027</td><td>10363.2</td><td>246.47</td></tr><tr><td>NORTH_AMERICA</td><td>1761449720</td><td>a968f8</td><td>AAL1654 </td><td>United States</td><td>-109.3403</td><td>32.637</td><td>11277.6</td><td>232.58</td></tr><tr><td>NORTH_AMERICA</td><td>1761449720</td><td>a62b51</td><td>N497NM  </td><td>United States</td><td>-85.289</td><td>32.7762</td><td>13106.4</td><td>211.81</td></tr><tr><td>NORTH_AMERICA</td><td>1761449720</td><td>a51e9b</td><td>N429RX  </td><td>United States</td><td>-112.3587</td><td>33.448</td><td>434.34</td><td>47.29</td></tr><tr><td>NORTH_AMERICA</td><td>1761449720</td><td>c06cc3</td><td>CGPEW   </td><td>Canada</td><td>-114.2778</td><td>51.6439</td><td>2118.36</td><td>43.22</td></tr><tr><td>NORTH_AMERICA</td><td>1761449720</td><td>780a89</td><td>CPA880  </td><td>China</td><td>-121.484</td><td>37.0226</td><td>11277.6</td><td>286.72</td></tr><tr><td>NORTH_AMERICA</td><td>1761449720</td><td>aa1b39</td><td>NDU750  </td><td>United States</td><td>-111.6404</td><td>33.2957</td><td>449.58</td><td>41.47</td></tr><tr><td>NORTH_AMERICA</td><td>1761449720</td><td>a452c4</td><td>DAL2213 </td><td>United States</td><td>-84.5335</td><td>37.3587</td><td>3977.64</td><td>187.94</td></tr><tr><td>NORTH_AMERICA</td><td>1761449720</td><td>a7f08e</td><td>UPS77   </td><td>United States</td><td>-150.9413</td><td>61.03</td><td>2026.92</td><td>138.01</td></tr><tr><td>NORTH_AMERICA</td><td>1761449720</td><td>a34729</td><td>DAL2276 </td><td>United States</td><td>-82.5782</td><td>31.2978</td><td>5334</td><td>211.89</td></tr><tr><td>NORTH_AMERICA</td><td>1761449720</td><td>4bb0ed</td><td>THY9WC  </td><td>Turkey</td><td>-119.8969</td><td>39.4325</td><td>10134.6</td><td>274.41</td></tr><tr><td>NORTH_AMERICA</td><td>1761449720</td><td>4bb0eb</td><td>THY1RT  </td><td>Turkey</td><td>-63.0808</td><td>46.036</td><td>11582.4</td><td>274.92</td></tr><tr><td>NORTH_AMERICA</td><td>1761449720</td><td>a0e751</td><td>UAL1553 </td><td>United States</td><td>-79.6619</td><td>33.2253</td><td>2804.16</td><td>138.29</td></tr><tr><td>NORTH_AMERICA</td><td>1761449720</td><td>c07fb0</td><td>WJA374  </td><td>Canada</td><td>-79.3466</td><td>43.7775</td><td>3764.28</td><td>173.4</td></tr><tr><td>NORTH_AMERICA</td><td>1761449720</td><td>c07fe9</td><td>WJA2065 </td><td>Canada</td><td>-117.4746</td><td>44.9324</td><td>10980.42</td><td>223.4</td></tr><tr><td>NORTH_AMERICA</td><td>1761449720</td><td>aa2e0b</td><td>N755QS  </td><td>United States</td><td>-110.6999</td><td>30.2547</td><td>12496.8</td><td>252.73</td></tr><tr><td>NORTH_AMERICA</td><td>1761449720</td><td>a6f5b5</td><td>ASA1131 </td><td>United States</td><td>-122.2693</td><td>45.4901</td><td>1120.14</td><td>72.99</td></tr><tr><td>NORTH_AMERICA</td><td>1761449720</td><td>a34764</td><td>LXJ310  </td><td>United States</td><td>-84.4237</td><td>39.0977</td><td>null</td><td>8.75</td></tr><tr><td>NORTH_AMERICA</td><td>1761449720</td><td>ab18ac</td><td>ERU814  </td><td>United States</td><td>-81.3738</td><td>29.3577</td><td>548.64</td><td>56.96</td></tr><tr><td>NORTH_AMERICA</td><td>1761449720</td><td>ac0094</td><td>SWA3792 </td><td>United States</td><td>-123.2406</td><td>37.6301</td><td>7505.7</td><td>231.13</td></tr><tr><td>NORTH_AMERICA</td><td>1761449720</td><td>a3472f</td><td>DAL2749 </td><td>United States</td><td>-97.673</td><td>30.1989</td><td>null</td><td>9.26</td></tr><tr><td>NORTH_AMERICA</td><td>1761449720</td><td>a98b76</td><td>FFT2886 </td><td>United States</td><td>-82.4622</td><td>30.453</td><td>8839.2</td><td>249.42</td></tr><tr><td>NORTH_AMERICA</td><td>1761449720</td><td>a75da2</td><td>DAL684  </td><td>United States</td><td>-122.0203</td><td>45.5139</td><td>2179.32</td><td>96.33</td></tr><tr><td>NORTH_AMERICA</td><td>1761449720</td><td>ad2095</td><td>JBU211  </td><td>United States</td><td>-76.0629</td><td>42.128</td><td>9761.22</td><td>198.47</td></tr><tr><td>NORTH_AMERICA</td><td>1761449720</td><td>a2bdff</td><td>ENY4101 </td><td>United States</td><td>-96.5107</td><td>33.7554</td><td>5173.98</td><td>190.33</td></tr><tr><td>NORTH_AMERICA</td><td>1761449720</td><td>abe09a</td><td>SWA2678 </td><td>United States</td><td>-79.1496</td><td>36.4759</td><td>4251.96</td><td>198.28</td></tr><tr><td>NORTH_AMERICA</td><td>1761449720</td><td>a822d6</td><td>QXE2421 </td><td>United States</td><td>-119.0984</td><td>36.1996</td><td>10363.2</td><td>192.41</td></tr><tr><td>NORTH_AMERICA</td><td>1761449720</td><td>780a3d</td><td>CPA087  </td><td>China</td><td>-129.4981</td><td>55.1232</td><td>13106.4</td><td>246.33</td></tr><tr><td>NORTH_AMERICA</td><td>1761449720</td><td>a07177</td><td>AAL711  </td><td>United States</td><td>-101.1784</td><td>33.5487</td><td>10363.2</td><td>218.98</td></tr><tr><td>NORTH_AMERICA</td><td>1761449720</td><td>a44166</td><td>UAL1798 </td><td>United States</td><td>-83.302</td><td>41.9337</td><td>10668</td><td>290.15</td></tr><tr><td>NORTH_AMERICA</td><td>1761449720</td><td>a6946b</td><td>DAL210  </td><td>United States</td><td>-78.3547</td><td>31.984</td><td>10058.4</td><td>267</td></tr><tr><td>NORTH_AMERICA</td><td>1761449720</td><td>a4414a</td><td>DAL1713 </td><td>United States</td><td>-104.074</td><td>32.0597</td><td>10972.8</td><td>208.62</td></tr><tr><td>NORTH_AMERICA</td><td>1761449720</td><td>c013d0</td><td>ACA1030 </td><td>Canada</td><td>-85.8239</td><td>40.2493</td><td>11277.6</td><td>252.85</td></tr><tr><td>NORTH_AMERICA</td><td>1761449720</td><td>4bb145</td><td>THY6    </td><td>Turkey</td><td>-78.4768</td><td>45.0169</td><td>10058.4</td><td>259.99</td></tr><tr><td>NORTH_AMERICA</td><td>1761449720</td><td>4bb107</td><td>THY8JK  </td><td>Turkey</td><td>-122.1024</td><td>47.6596</td><td>5021.58</td><td>207.41</td></tr><tr><td>NORTH_AMERICA</td><td>1761449720</td><td>a3a9a3</td><td>DAL1320 </td><td>United States</td><td>-82.9801</td><td>37.3301</td><td>8839.2</td><td>231.02</td></tr><tr><td>NORTH_AMERICA</td><td>1761449720</td><td>a83781</td><td>UAL1453 </td><td>United States</td><td>-85.7658</td><td>40.7059</td><td>10668</td><td>264.85</td></tr><tr><td>NORTH_AMERICA</td><td>1761449720</td><td>aa1be0</td><td>AAL2556 </td><td>United States</td><td>-86.9331</td><td>37.0956</td><td>5943.6</td><td>200.88</td></tr><tr><td>NORTH_AMERICA</td><td>1761449720</td><td>a5617a</td><td>LXJ446  </td><td>United States</td><td>-109.8332</td><td>33.7326</td><td>13106.4</td><td>203.16</td></tr><tr><td>NORTH_AMERICA</td><td>1761449720</td><td>4bb188</td><td>THY32G  </td><td>Turkey</td><td>-81.8885</td><td>35.0582</td><td>10424.16</td><td>275.24</td></tr><tr><td>NORTH_AMERICA</td><td>1761449720</td><td>4bb184</td><td>THY6936 </td><td>Turkey</td><td>-83.2462</td><td>34.2469</td><td>7223.76</td><td>240.25</td></tr><tr><td>NORTH_AMERICA</td><td>1761449720</td><td>a359bc</td><td>DAL1256 </td><td>United States</td><td>-99.0625</td><td>42.2078</td><td>11582.4</td><td>227.71</td></tr><tr><td>NORTH_AMERICA</td><td>1761449720</td><td>a44187</td><td>UAL280  </td><td>United States</td><td>-115.6917</td><td>54.0196</td><td>11582.4</td><td>232.77</td></tr><tr><td>NORTH_AMERICA</td><td>1761449720</td><td>a01c37</td><td>AAL4    </td><td>United States</td><td>-73.7907</td><td>40.6498</td><td>null</td><td>4.12</td></tr><tr><td>NORTH_AMERICA</td><td>1761449720</td><td>a50adc</td><td>DAL32   </td><td>United States</td><td>-62.079</td><td>47.9948</td><td>11277.6</td><td>263.77</td></tr><tr><td>NORTH_AMERICA</td><td>1761449720</td><td>a4ec00</td><td>N416SF  </td><td>United States</td><td>-84.3849</td><td>33.8102</td><td>541.02</td><td>66.01</td></tr><tr><td>NORTH_AMERICA</td><td>1761449720</td><td>a4b6b6</td><td>JBU1523 </td><td>United States</td><td>-118.4145</td><td>33.9381</td><td>null</td><td>6.94</td></tr><tr><td>NORTH_AMERICA</td><td>1761449720</td><td>a466c7</td><td>DAL2395 </td><td>United States</td><td>-84.6468</td><td>39.0193</td><td>228.6</td><td>78.2</td></tr><tr><td>NORTH_AMERICA</td><td>1761449720</td><td>a609d4</td><td>UAL1135 </td><td>United States</td><td>-97.3235</td><td>32.6085</td><td>11277.6</td><td>253.8</td></tr><tr><td>NORTH_AMERICA</td><td>1761449720</td><td>a070d7</td><td>UAL2856 </td><td>United States</td><td>-92.9797</td><td>35.8756</td><td>7315.2</td><td>227.69</td></tr><tr><td>NORTH_AMERICA</td><td>1761449720</td><td>a3df4a</td><td>FFT4036 </td><td>United States</td><td>-83.0765</td><td>37.1917</td><td>11262.36</td><td>257.89</td></tr><tr><td>NORTH_AMERICA</td><td>1761449720</td><td>adcc95</td><td>N989AB  </td><td>United States</td><td>-90.8848</td><td>38.0894</td><td>10660.38</td><td>197.86</td></tr><tr><td>NORTH_AMERICA</td><td>1761449720</td><td>4bb196</td><td>THY3CM  </td><td>Turkey</td><td>-64.1088</td><td>48.248</td><td>11277.6</td><td>264.67</td></tr><tr><td>NORTH_AMERICA</td><td>1761449720</td><td>ac2836</td><td>SWA3196 </td><td>United States</td><td>-95.1495</td><td>35.5206</td><td>11887.2</td><td>247.52</td></tr><tr><td>NORTH_AMERICA</td><td>1761449720</td><td>a63f4e</td><td>SKW6510 </td><td>United States</td><td>-122.2629</td><td>47.7915</td><td>1638.3</td><td>84.76</td></tr><tr><td>NORTH_AMERICA</td><td>1761449720</td><td>a213b9</td><td>N233AV  </td><td>United States</td><td>-112.4467</td><td>33.9617</td><td>2667</td><td>81.19</td></tr><tr><td>NORTH_AMERICA</td><td>1761449720</td><td>a599a8</td><td>AAL695  </td><td>United States</td><td>-101.5343</td><td>39.4974</td><td>11277.6</td><td>230.54</td></tr><tr><td>NORTH_AMERICA</td><td>1761449720</td><td>a466fc</td><td>FFT2112 </td><td>United States</td><td>-78.6952</td><td>40.4538</td><td>10058.4</td><td>298.51</td></tr><tr><td>NORTH_AMERICA</td><td>1761449720</td><td>ad8ed7</td><td>AAL2474 </td><td>United States</td><td>-89.675</td><td>33.1097</td><td>10058.4</td><td>246.85</td></tr><tr><td>NORTH_AMERICA</td><td>1761449720</td><td>a3df1e</td><td>DAL1268 </td><td>United States</td><td>-85.611</td><td>37.5939</td><td>11574.78</td><td>232.8</td></tr><tr><td>NORTH_AMERICA</td><td>1761449720</td><td>ac5bb9</td><td>DOW896  </td><td>United States</td><td>-81.3186</td><td>37.6295</td><td>9144</td><td>224.04</td></tr><tr><td>NORTH_AMERICA</td><td>1761449720</td><td>a9a750</td><td>AAL135  </td><td>United States</td><td>-117.7617</td><td>33.9993</td><td>2705.1</td><td>135.67</td></tr><tr><td>NORTH_AMERICA</td><td>1761449720</td><td>a200ba</td><td>SWA1595 </td><td>United States</td><td>-118.3539</td><td>34.1977</td><td>null</td><td>7.72</td></tr><tr><td>NORTH_AMERICA</td><td>1761449720</td><td>a25c75</td><td>AAY4913 </td><td>United States</td><td>-82.3119</td><td>38.2245</td><td>3429</td><td>182.49</td></tr><tr><td>NORTH_AMERICA</td><td>1761449720</td><td>ac13d6</td><td>SWA2857 </td><td>United States</td><td>-114.7954</td><td>35.6687</td><td>9151.62</td><td>220.09</td></tr><tr><td>NORTH_AMERICA</td><td>1761449720</td><td>acbf5e</td><td>N920NH  </td><td>United States</td><td>-78.5803</td><td>34.9785</td><td>647.7</td><td>66.43</td></tr><tr><td>NORTH_AMERICA</td><td>1761449720</td><td>a01ba4</td><td>N106GR  </td><td>United States</td><td>-84.1439</td><td>35.907</td><td>335.28</td><td>30.42</td></tr><tr><td>NORTH_AMERICA</td><td>1761449720</td><td>c05aac</td><td>CGIIT   </td><td>Canada</td><td>-73.738</td><td>45.4635</td><td>null</td><td>7.72</td></tr><tr><td>NORTH_AMERICA</td><td>1761449720</td><td>a8cf3a</td><td>N667LF  </td><td>United States</td><td>-117.3895</td><td>47.5601</td><td>2819.4</td><td>81.81</td></tr><tr><td>NORTH_AMERICA</td><td>1761449720</td><td>a9b9e3</td><td>AAL56   </td><td>United States</td><td>-79.9012</td><td>25.8998</td><td>3528.06</td><td>198.37</td></tr><tr><td>NORTH_AMERICA</td><td>1761449720</td><td>89644c</td><td>UAE238  </td><td>United Arab Emirates</td><td>-69.1541</td><td>44.1259</td><td>9448.8</td><td>272.77</td></tr><tr><td>NORTH_AMERICA</td><td>1761449720</td><td>896458</td><td>UAE5RQ  </td><td>United Arab Emirates</td><td>-67.6391</td><td>44.122</td><td>11277.6</td><td>278.68</td></tr><tr><td>NORTH_AMERICA</td><td>1761449720</td><td>406890</td><td>BAW120  </td><td>United Kingdom</td><td>-78.097</td><td>43.3733</td><td>11887.2</td><td>264.53</td></tr><tr><td>NORTH_AMERICA</td><td>1761449720</td><td>ac018c</td><td>SKW5124 </td><td>United States</td><td>-90.9045</td><td>44.6808</td><td>2674.62</td><td>145.57</td></tr><tr><td>NORTH_AMERICA</td><td>1761449720</td><td>aa9830</td><td>CKS218  </td><td>United States</td><td>-154.764</td><td>61.3721</td><td>10363.2</td><td>244.26</td></tr><tr><td>NORTH_AMERICA</td><td>1761449720</td><td>a3484e</td><td>AAL2875 </td><td>United States</td><td>-98.3255</td><td>36.0858</td><td>12496.8</td><td>241.69</td></tr><tr><td>NORTH_AMERICA</td><td>1761449720</td><td>a9dc5e</td><td>UAL2674 </td><td>United States</td><td>-106.3134</td><td>32.4982</td><td>10363.2</td><td>224.87</td></tr><tr><td>NORTH_AMERICA</td><td>1761449720</td><td>a5753e</td><td>N45052  </td><td>United States</td><td>-152.0631</td><td>62.0376</td><td>3261.36</td><td>94.18</td></tr><tr><td>NORTH_AMERICA</td><td>1761449720</td><td>aa9800</td><td>AMX026  </td><td>United States</td><td>-80.6554</td><td>48.7239</td><td>11582.4</td><td>268.47</td></tr><tr><td>NORTH_AMERICA</td><td>1761449720</td><td>addf01</td><td>AAL3271 </td><td>United States</td><td>-97.032</td><td>32.8816</td><td>null</td><td>0</td></tr><tr><td>NORTH_AMERICA</td><td>1761449720</td><td>a9a6ee</td><td>N7207W  </td><td>United States</td><td>-81.9061</td><td>28.4922</td><td>1005.84</td><td>51.56</td></tr><tr><td>NORTH_AMERICA</td><td>1761449720</td><td>a20288</td><td>ATN3588 </td><td>United States</td><td>-96.5935</td><td>36.9687</td><td>10972.8</td><td>226.65</td></tr><tr><td>NORTH_AMERICA</td><td>1761449720</td><td>a51ea9</td><td>N429SL  </td><td>United States</td><td>-116.447</td><td>43.872</td><td>1097.28</td><td>48</td></tr><tr><td>NORTH_AMERICA</td><td>1761449720</td><td>a3488b</td><td>WIS700  </td><td>United States</td><td>-92.3968</td><td>44.666</td><td>2042.16</td><td>87.5</td></tr><tr><td>NORTH_AMERICA</td><td>1761449720</td><td>ac5c1f</td><td>FDX6011 </td><td>United States</td><td>-142.917</td><td>60.4684</td><td>10972.8</td><td>259.32</td></tr><tr><td>NORTH_AMERICA</td><td>1761449720</td><td>acceab</td><td>SKW382H </td><td>United States</td><td>-97.6459</td><td>38.7496</td><td>541.02</td><td>72.02</td></tr><tr><td>NORTH_AMERICA</td><td>1761449720</td><td>ac252a</td><td>SWA1314 </td><td>United States</td><td>-112.0241</td><td>33.4322</td><td>null</td><td>9.77</td></tr><tr><td>NORTH_AMERICA</td><td>1761449720</td><td>a5844a</td><td>N4547E  </td><td>United States</td><td>-105.1562</td><td>39.7921</td><td>2804.16</td><td>51.3</td></tr><tr><td>NORTH_AMERICA</td><td>1761449720</td><td>ab1890</td><td>DAL1531 </td><td>United States</td><td>-101.5503</td><td>36.8528</td><td>11582.4</td><td>232.92</td></tr><tr><td>NORTH_AMERICA</td><td>1761449720</td><td>a72764</td><td>N560EX  </td><td>United States</td><td>-91.202</td><td>30.5066</td><td>1699.26</td><td>114.4</td></tr><tr><td>NORTH_AMERICA</td><td>1761449720</td><td>e48f4e</td><td>PTMTP   </td><td>Brazil</td><td>-62.3031</td><td>12.6537</td><td>13708.38</td><td>227.19</td></tr><tr><td>NORTH_AMERICA</td><td>1761449720</td><td>a9672c</td><td>ASA1031 </td><td>United States</td><td>-119.1026</td><td>47.6986</td><td>12192</td><td>211.53</td></tr><tr><td>NORTH_AMERICA</td><td>1761449720</td><td>a76df1</td><td>UPS81   </td><td>United States</td><td>-154.7008</td><td>60.4965</td><td>10058.4</td><td>256.19</td></tr><tr><td>NORTH_AMERICA</td><td>1761449720</td><td>aa2bc1</td><td>UAL2610 </td><td>United States</td><td>-106.0237</td><td>39.1989</td><td>8145.78</td><td>219.82</td></tr><tr><td>NORTH_AMERICA</td><td>1761449720</td><td>c023c9</td><td>ACA90   </td><td>Canada</td><td>-72.748</td><td>39.8655</td><td>10668</td><td>291.22</td></tr><tr><td>NORTH_AMERICA</td><td>1761449720</td><td>a75ac7</td><td>JIA5391 </td><td>United States</td><td>-85.3934</td><td>33.6508</td><td>10668</td><td>254.2</td></tr><tr><td>NORTH_AMERICA</td><td>1761449720</td><td>846333</td><td>NCA173  </td><td>Japan</td><td>-146.473</td><td>58.3015</td><td>10363.2</td><td>247.39</td></tr><tr><td>NORTH_AMERICA</td><td>1761449720</td><td>ab4bf7</td><td>DAL266  </td><td>United States</td><td>-73.779</td><td>40.6335</td><td>null</td><td>3.86</td></tr><tr><td>NORTH_AMERICA</td><td>1761449720</td><td>a1f11d</td><td>AAY2260 </td><td>United States</td><td>-107.0763</td><td>38.2828</td><td>10972.8</td><td>227.1</td></tr><tr><td>NORTH_AMERICA</td><td>1761449720</td><td>a0817c</td><td>UAL526  </td><td>United States</td><td>-112.5295</td><td>36.8056</td><td>11887.2</td><td>246.32</td></tr><tr><td>NORTH_AMERICA</td><td>1761449720</td><td>a22482</td><td>SWA2180 </td><td>United States</td><td>-102.6177</td><td>37.1853</td><td>11277.6</td><td>217.25</td></tr><tr><td>NORTH_AMERICA</td><td>1761449720</td><td>3475d3</td><td>IBE26VE </td><td>Spain</td><td>-122.3884</td><td>37.6113</td><td>null</td><td>0.26</td></tr><tr><td>NORTH_AMERICA</td><td>1761449720</td><td>a0817f</td><td>UAL1340 </td><td>United States</td><td>-118.8921</td><td>37.8812</td><td>7315.2</td><td>179.77</td></tr><tr><td>NORTH_AMERICA</td><td>1761449720</td><td>c023ae</td><td></td><td>Canada</td><td>-67.5774</td><td>48.5115</td><td>11277.6</td><td>261.85</td></tr><tr><td>NORTH_AMERICA</td><td>1761449720</td><td>aae597</td><td>AAL240  </td><td>United States</td><td>-82.3336</td><td>40.9439</td><td>11277.6</td><td>288.42</td></tr><tr><td>NORTH_AMERICA</td><td>1761449720</td><td>a129dc</td><td>AAL3158 </td><td>United States</td><td>-104.2952</td><td>40.1702</td><td>3215.64</td><td>146.15</td></tr><tr><td>NORTH_AMERICA</td><td>1761449720</td><td>a03f24</td><td>DAL2608 </td><td>United States</td><td>-112.1683</td><td>40.9511</td><td>4107.18</td><td>149.09</td></tr><tr><td>NORTH_AMERICA</td><td>1761449720</td><td>c07f39</td><td>WEN3384 </td><td>Canada</td><td>-114.0096</td><td>51.1196</td><td>null</td><td>10.8</td></tr><tr><td>NORTH_AMERICA</td><td>1761449720</td><td>4077d3</td><td>VIR138M </td><td>United Kingdom</td><td>-73.3503</td><td>41.0098</td><td>5059.68</td><td>201.4</td></tr><tr><td>NORTH_AMERICA</td><td>1761449720</td><td>a4c754</td><td>N407HC  </td><td>United States</td><td>-82.6732</td><td>28.4562</td><td>586.74</td><td>58.66</td></tr><tr><td>NORTH_AMERICA</td><td>1761449720</td><td>781dac</td><td>CSN8031 </td><td>China</td><td>-99.2337</td><td>19.4268</td><td>3291.84</td><td>108.58</td></tr><tr><td>NORTH_AMERICA</td><td>1761449720</td><td>a9b78e</td><td>EJA725  </td><td>United States</td><td>-90.5946</td><td>33.7076</td><td>10668</td><td>239.95</td></tr><tr><td>NORTH_AMERICA</td><td>1761449720</td><td>a99afb</td><td>NKS2608 </td><td>United States</td><td>-84.1689</td><td>33.5423</td><td>11399.52</td><td>262.65</td></tr><tr><td>NORTH_AMERICA</td><td>1761449720</td><td>c07f02</td><td>WJA1285 </td><td>Canada</td><td>-115.2451</td><td>48.4776</td><td>12184.38</td><td>219.19</td></tr><tr><td>NORTH_AMERICA</td><td>1761449720</td><td>a369be</td><td>ENY3671 </td><td>United States</td><td>-96.3562</td><td>35.832</td><td>8122.92</td><td>219.87</td></tr><tr><td>NORTH_AMERICA</td><td>1761449720</td><td>a03f84</td><td>RPA4344 </td><td>United States</td><td>-91.7774</td><td>34.3954</td><td>2080.26</td><td>143.99</td></tr><tr><td>NORTH_AMERICA</td><td>1761449720</td><td>e8040f</td><td>LAN501  </td><td>Chile</td><td>-79.3707</td><td>13.9132</td><td>11277.6</td><td>253.81</td></tr><tr><td>NORTH_AMERICA</td><td>1761449720</td><td>ac382e</td><td>DAL903  </td><td>United States</td><td>-98.2689</td><td>42.1881</td><td>10363.2</td><td>239.63</td></tr><tr><td>NORTH_AMERICA</td><td>1761449720</td><td>e8040c</td><td>LPE2483 </td><td>Chile</td><td>-84.4338</td><td>33.6358</td><td>null</td><td>4.12</td></tr><tr><td>NORTH_AMERICA</td><td>1761449720</td><td>a356db</td><td>DAL374  </td><td>United States</td><td>-85.0975</td><td>34.0625</td><td>3733.8</td><td>163.51</td></tr><tr><td>NORTH_AMERICA</td><td>1761449720</td><td>ac250b</td><td>SWA2708 </td><td>United States</td><td>-119.8229</td><td>38.3713</td><td>8801.1</td><td>270.91</td></tr><tr><td>NORTH_AMERICA</td><td>1761449720</td><td>abaeb2</td><td>SWA3467 </td><td>United States</td><td>-97.6774</td><td>32.4079</td><td>3771.9</td><td>201.69</td></tr><tr><td>NORTH_AMERICA</td><td>1761449720</td><td>aaf83c</td><td>AAL416  </td><td>United States</td><td>-81.8113</td><td>30.2245</td><td>2072.64</td><td>142.86</td></tr><tr><td>NORTH_AMERICA</td><td>1761449720</td><td>347691</td><td>AEA092  </td><td>Spain</td><td>-73.4954</td><td>40.562</td><td>3284.22</td><td>189.32</td></tr><tr><td>NORTH_AMERICA</td><td>1761449720</td><td>a2bc12</td><td>UAL2044 </td><td>United States</td><td>-90.9294</td><td>45.7756</td><td>10972.8</td><td>223.72</td></tr><tr><td>NORTH_AMERICA</td><td>1761449720</td><td>a14c70</td><td>EDV5209 </td><td>United States</td><td>-97.3812</td><td>44.7037</td><td>9144</td><td>233.86</td></tr><tr><td>NORTH_AMERICA</td><td>1761449720</td><td>a223ba</td><td>ENY3349 </td><td>United States</td><td>-97.1137</td><td>32.1258</td><td>2910.84</td><td>146.12</td></tr><tr><td>NORTH_AMERICA</td><td>1761449720</td><td>a369ee</td><td>AAL1179 </td><td>United States</td><td>-113.9576</td><td>35.556</td><td>9753.6</td><td>222.98</td></tr><tr><td>NORTH_AMERICA</td><td>1761449720</td><td>a76f66</td><td>UAL3908 </td><td>United States</td><td>-87.71</td><td>41.6068</td><td>4792.98</td><td>198.28</td></tr><tr><td>NORTH_AMERICA</td><td>1761449720</td><td>a3dc75</td><td>EJA348  </td><td>United States</td><td>-81.5957</td><td>33.6207</td><td>12207.24</td><td>249.45</td></tr><tr><td>NORTH_AMERICA</td><td>1761449720</td><td>0d1083</td><td>VIV7381 </td><td>Mexico</td><td>-100.1462</td><td>25.8001</td><td>571.5</td><td>68.99</td></tr><tr><td>NORTH_AMERICA</td><td>1761449720</td><td>a87c12</td><td>FFT3261 </td><td>United States</td><td>-81.2054</td><td>29.8365</td><td>10850.88</td><td>221.1</td></tr><tr><td>NORTH_AMERICA</td><td>1761449720</td><td>abaf47</td><td>FDX5035 </td><td>United States</td><td>-68.9698</td><td>45.8396</td><td>10363.2</td><td>219.26</td></tr><tr><td>NORTH_AMERICA</td><td>1761449720</td><td>ab5f6a</td><td>SWA661  </td><td>United States</td><td>-120.747</td><td>39.0596</td><td>4236.72</td><td>159.27</td></tr><tr><td>NORTH_AMERICA</td><td>1761449720</td><td>a8df2c</td><td>DAL1137 </td><td>United States</td><td>-83.8318</td><td>30.0929</td><td>10058.4</td><td>239.48</td></tr><tr><td>NORTH_AMERICA</td><td>1761449720</td><td>ab5f87</td><td>SWA4283 </td><td>United States</td><td>-100.4333</td><td>35.4441</td><td>11269.98</td><td>246.88</td></tr><tr><td>NORTH_AMERICA</td><td>1761449720</td><td>ab5f98</td><td>N8318Y  </td><td>United States</td><td>-87.9258</td><td>41.3115</td><td>944.88</td><td>56.81</td></tr><tr><td>NORTH_AMERICA</td><td>1761449720</td><td>ada6b9</td><td>SKW5034 </td><td>United States</td><td>-104.9453</td><td>41.5709</td><td>8534.4</td><td>228.96</td></tr><tr><td>NORTH_AMERICA</td><td>1761449720</td><td>740826</td><td>RJA262G </td><td>Jordan</td><td>-64.1659</td><td>46.2712</td><td>11269.98</td><td>268.35</td></tr><tr><td>NORTH_AMERICA</td><td>1761449720</td><td>740825</td><td>RJA264  </td><td>Jordan</td><td>-63.2189</td><td>46.6748</td><td>11277.6</td><td>275.89</td></tr><tr><td>NORTH_AMERICA</td><td>1761449720</td><td>c06aa4</td><td>JZA816  </td><td>Canada</td><td>-112.7806</td><td>36.6884</td><td>10172.7</td><td>252.85</td></tr><tr><td>NORTH_AMERICA</td><td>1761449720</td><td>a223fa</td><td>N237RB  </td><td>United States</td><td>-93.927</td><td>36.6076</td><td>937.26</td><td>94.11</td></tr><tr><td>NORTH_AMERICA</td><td>1761449720</td><td>89655f</td><td>UAE2VL  </td><td>United Arab Emirates</td><td>-79.5654</td><td>41.2953</td><td>10668</td><td>278.87</td></tr><tr><td>NORTH_AMERICA</td><td>1761449720</td><td>a4c6af</td><td>AAL399  </td><td>United States</td><td>-149.9841</td><td>61.1731</td><td>null</td><td>0</td></tr><tr><td>NORTH_AMERICA</td><td>1761449720</td><td>a606c5</td><td>ERU488  </td><td>United States</td><td>-81.0482</td><td>29.1264</td><td>541.02</td><td>65.4</td></tr><tr><td>NORTH_AMERICA</td><td>1761449720</td><td>aa818d</td><td>RPA3694 </td><td>United States</td><td>-86.3119</td><td>39.6078</td><td>9144</td><td>209.68</td></tr><tr><td>NORTH_AMERICA</td><td>1761449720</td><td>0d1078</td><td>VOI105  </td><td>Mexico</td><td>-90.2849</td><td>20.8321</td><td>10972.8</td><td>224.82</td></tr><tr><td>NORTH_AMERICA</td><td>1761449720</td><td>0d1079</td><td>VOI1001 </td><td>Mexico</td><td>-116.0253</td><td>31.792</td><td>7825.74</td><td>218.02</td></tr><tr><td>NORTH_AMERICA</td><td>1761449720</td><td>4063e6</td><td>VIR12E  </td><td>United Kingdom</td><td>-71.0138</td><td>42.3623</td><td>null</td><td>6.94</td></tr><tr><td>NORTH_AMERICA</td><td>1761449720</td><td>ad447e</td><td>N954LA  </td><td>United States</td><td>-118.3654</td><td>33.9183</td><td>152.4</td><td>36.54</td></tr><tr><td>NORTH_AMERICA</td><td>1761449720</td><td>adeddd</td><td>AAL1372 </td><td>United States</td><td>-82.0899</td><td>35.1758</td><td>7924.8</td><td>214.1</td></tr><tr><td>NORTH_AMERICA</td><td>1761449720</td><td>a60814</td><td>UAL1673 </td><td>United States</td><td>-97.0368</td><td>32.893</td><td>null</td><td>0.45</td></tr><tr><td>NORTH_AMERICA</td><td>1761449720</td><td>ac1190</td><td>AAL623  </td><td>United States</td><td>-102.8458</td><td>36.3919</td><td>11277.6</td><td>231.69</td></tr><tr><td>NORTH_AMERICA</td><td>1761449720</td><td>addadb</td><td>JBU1524 </td><td>United States</td><td>-118.4028</td><td>33.9479</td><td>null</td><td>0.77</td></tr><tr><td>NORTH_AMERICA</td><td>1761449720</td><td>8964a4</td><td>UAE5WR  </td><td>United Arab Emirates</td><td>-71.7742</td><td>45.9768</td><td>9448.8</td><td>274.52</td></tr><tr><td>NORTH_AMERICA</td><td>1761449720</td><td>a4c849</td><td>SKW3426 </td><td>United States</td><td>-118.8591</td><td>37.0155</td><td>10363.2</td><td>206.31</td></tr><tr><td>NORTH_AMERICA</td><td>1761449720</td><td>a7ac54</td><td>ASA1194 </td><td>United States</td><td>-122.1751</td><td>46.3</td><td>8785.86</td><td>230.7</td></tr><tr><td>NORTH_AMERICA</td><td>1761449720</td><td>a2bbc6</td><td>UAL2646 </td><td>United States</td><td>-122.6063</td><td>45.5892</td><td>null</td><td>14.92</td></tr><tr><td>NORTH_AMERICA</td><td>1761449720</td><td>ab5f43</td><td>SWA2582 </td><td>United States</td><td>-115.8112</td><td>43.9861</td><td>7924.8</td><td>242.62</td></tr><tr><td>NORTH_AMERICA</td><td>1761449720</td><td>ab03a4</td><td>DAL1582 </td><td>United States</td><td>-115.2342</td><td>40.778</td><td>9144</td><td>193.1</td></tr><tr><td>NORTH_AMERICA</td><td>1761449720</td><td>ac7f41</td><td>AAL1018 </td><td>United States</td><td>-76.2205</td><td>36.8731</td><td>0</td><td>68.94</td></tr><tr><td>NORTH_AMERICA</td><td>1761449720</td><td>a2bbf2</td><td>UAL1696 </td><td>United States</td><td>-92.0624</td><td>38.5481</td><td>10972.8</td><td>250.52</td></tr><tr><td>NORTH_AMERICA</td><td>1761449720</td><td>a45233</td><td>HAL16   </td><td>United States</td><td>-118.2896</td><td>33.3574</td><td>7711.44</td><td>244.34</td></tr><tr><td>NORTH_AMERICA</td><td>1761449720</td><td>abafff</td><td>AAL1805 </td><td>United States</td><td>-97.0338</td><td>32.8842</td><td>null</td><td>0</td></tr><tr><td>NORTH_AMERICA</td><td>1761449720</td><td>ac267c</td><td>AAL2260 </td><td>United States</td><td>-81.7608</td><td>40.6432</td><td>6027.42</td><td>203.9</td></tr><tr><td>NORTH_AMERICA</td><td>1761449720</td><td>a2bbcc</td><td>UAL1759 </td><td>United States</td><td>-109.1903</td><td>38.1415</td><td>10363.2</td><td>222.42</td></tr><tr><td>NORTH_AMERICA</td><td>1761449720</td><td>ae5302</td><td>SCHNR22 </td><td>United States</td><td>-120.4182</td><td>38.0847</td><td>1005.84</td><td>57.5</td></tr><tr><td>NORTH_AMERICA</td><td>1761449720</td><td>a33243</td><td>DAL2613 </td><td>United States</td><td>-120.0545</td><td>40.2375</td><td>10972.8</td><td>193.27</td></tr><tr><td>NORTH_AMERICA</td><td>1761449720</td><td>4065de</td><td>BAW48Q  </td><td>United Kingdom</td><td>-122.3062</td><td>47.4607</td><td>null</td><td>7.72</td></tr><tr><td>NORTH_AMERICA</td><td>1761449720</td><td>ad8cec</td><td>AAL1176 </td><td>United States</td><td>-81.6752</td><td>27.9392</td><td>7376.16</td><td>223.4</td></tr><tr><td>NORTH_AMERICA</td><td>1761449720</td><td>ac136d</td><td>SWA455  </td><td>United States</td><td>-111.916</td><td>33.3547</td><td>2827.02</td><td>130.5</td></tr><tr><td>NORTH_AMERICA</td><td>1761449720</td><td>abe030</td><td>SWA1527 </td><td>United States</td><td>-120.2812</td><td>36.2759</td><td>10363.2</td><td>190.29</td></tr><tr><td>NORTH_AMERICA</td><td>1761449720</td><td>8965f5</td><td>ETD6HZ  </td><td>United Arab Emirates</td><td>-68.3368</td><td>45.9277</td><td>10668</td><td>272.67</td></tr><tr><td>NORTH_AMERICA</td><td>1761449720</td><td>4078dd</td><td>BAW3GB  </td><td>United Kingdom</td><td>-111.9924</td><td>33.4384</td><td>null</td><td>0</td></tr><tr><td>NORTH_AMERICA</td><td>1761449720</td><td>a37a02</td><td>FFT3015 </td><td>United States</td><td>-115.1352</td><td>36.0832</td><td>null</td><td>0</td></tr><tr><td>NORTH_AMERICA</td><td>1761449720</td><td>a3a7be</td><td>N3345M  </td><td>United States</td><td>-98.0341</td><td>29.8287</td><td>2438.4</td><td>78.32</td></tr><tr><td>NORTH_AMERICA</td><td>1761449720</td><td>c81e22</td><td>ANZ23   </td><td>New Zealand</td><td>-125.7841</td><td>47.6793</td><td>9144</td><td>226.01</td></tr><tr><td>NORTH_AMERICA</td><td>1761449720</td><td>a224f9</td><td>UAL675T </td><td>United States</td><td>-116.2702</td><td>33.9565</td><td>8229.6</td><td>201.09</td></tr><tr><td>NORTH_AMERICA</td><td>1761449720</td><td>aaf960</td><td>AAL2804 </td><td>United States</td><td>-81.4684</td><td>43.0353</td><td>7543.8</td><td>229.35</td></tr><tr><td>NORTH_AMERICA</td><td>1761449720</td><td>ab1971</td><td>AAL532  </td><td>United States</td><td>-75.2031</td><td>39.8791</td><td>-7.62</td><td>75.24</td></tr><tr><td>NORTH_AMERICA</td><td>1761449720</td><td>a9555b</td><td>TFF910  </td><td>United States</td><td>-74.6166</td><td>40.8698</td><td>792.48</td><td>134.55</td></tr><tr><td>NORTH_AMERICA</td><td>1761449720</td><td>ab1978</td><td>AAY2691 </td><td>United States</td><td>-82.8166</td><td>27.8227</td><td>944.88</td><td>91.68</td></tr><tr><td>NORTH_AMERICA</td><td>1761449720</td><td>a224fa</td><td>UAL2131 </td><td>United States</td><td>-81.8448</td><td>41.4098</td><td>null</td><td>5.14</td></tr><tr><td>NORTH_AMERICA</td><td>1761449720</td><td>aaf968</td><td>DAL90   </td><td>United States</td><td>-63.6732</td><td>47.3009</td><td>11582.4</td><td>259.54</td></tr><tr><td>NORTH_AMERICA</td><td>1761449720</td><td>a8ded6</td><td>DAL2386 </td><td>United States</td><td>-77.3203</td><td>36.7949</td><td>12496.8</td><td>250.19</td></tr><tr><td>NORTH_AMERICA</td><td>1761449720</td><td>a081ca</td><td>UAL2328 </td><td>United States</td><td>-122.317</td><td>37.5218</td><td>2606.04</td><td>136.67</td></tr><tr><td>NORTH_AMERICA</td><td>1761449720</td><td>a37a25</td><td>N323HA  </td><td>United States</td><td>-100.1985</td><td>43.9</td><td>6408.42</td><td>111.23</td></tr><tr><td>NORTH_AMERICA</td><td>1761449720</td><td>c07ee8</td><td>WJA605  </td><td>Canada</td><td>-79.5909</td><td>43.7907</td><td>1905</td><td>130.94</td></tr><tr><td>NORTH_AMERICA</td><td>1761449720</td><td>c07ee6</td><td>WJA731  </td><td>Canada</td><td>-86.8526</td><td>45.7423</td><td>10972.8</td><td>221.87</td></tr><tr><td>NORTH_AMERICA</td><td>1761449720</td><td>c07ee0</td><td>WJA2013 </td><td>Canada</td><td>-113.9722</td><td>53.4229</td><td>2484.12</td><td>119.42</td></tr><tr><td>NORTH_AMERICA</td><td>1761449720</td><td>a51d7e</td><td>EMD429  </td><td>United States</td><td>-112.0165</td><td>33.4278</td><td>null</td><td>14.4</td></tr><tr><td>NORTH_AMERICA</td><td>1761449720</td><td>a2bd86</td><td>N276HS  </td><td>United States</td><td>-74.0602</td><td>40.8375</td><td>-30.48</td><td>34.06</td></tr><tr><td>NORTH_AMERICA</td><td>1761449720</td><td>c07ef2</td><td>WJA1524 </td><td>Canada</td><td>-112.5051</td><td>39.2982</td><td>8534.4</td><td>200.79</td></tr><tr><td>NORTH_AMERICA</td><td>1761449720</td><td>a50a87</td><td>N424AM  </td><td>United States</td><td>-87.2311</td><td>30.4649</td><td>198.12</td><td>41.18</td></tr><tr><td>NORTH_AMERICA</td><td>1761449720</td><td>407994</td><td>BAW28F  </td><td>United Kingdom</td><td>-111.8716</td><td>41.0351</td><td>10050.78</td><td>278.53</td></tr><tr><td>NORTH_AMERICA</td><td>1761449720</td><td>ac5a4a</td><td>SWA2491 </td><td>United States</td><td>-77.4581</td><td>38.9609</td><td>null</td><td>8.75</td></tr><tr><td>NORTH_AMERICA</td><td>1761449720</td><td>adca15</td><td>AAL1291 </td><td>United States</td><td>-87.7083</td><td>37.1461</td><td>10904.22</td><td>237.41</td></tr><tr><td>NORTH_AMERICA</td><td>1761449720</td><td>a4c7cd</td><td>N4O7MZ  </td><td>United States</td><td>-106.2968</td><td>35.8746</td><td>2301.24</td><td>41.7</td></tr><tr><td>NORTH_AMERICA</td><td>1761449720</td><td>a584c3</td><td>VAR455  </td><td>United States</td><td>-114.2813</td><td>35.4552</td><td>3055.62</td><td>81.05</td></tr><tr><td>NORTH_AMERICA</td><td>1761449720</td><td>aa2d14</td><td>SKW4817 </td><td>United States</td><td>-105.5648</td><td>35.5093</td><td>10980.42</td><td>213.83</td></tr><tr><td>NORTH_AMERICA</td><td>1761449720</td><td>a02cb5</td><td>FDX66   </td><td>United States</td><td>-90.8076</td><td>33.4786</td><td>10050.78</td><td>250.6</td></tr><tr><td>NORTH_AMERICA</td><td>1761449720</td><td>a0e607</td><td>AAL2567 </td><td>United States</td><td>-72.4158</td><td>42.6583</td><td>6797.04</td><td>240.28</td></tr><tr><td>NORTH_AMERICA</td><td>1761449720</td><td>a0967f</td><td>N137PH  </td><td>United States</td><td>-115.1618</td><td>36.1505</td><td>944.88</td><td>45.33</td></tr><tr><td>NORTH_AMERICA</td><td>1761449720</td><td>a0d344</td><td>SKW5785 </td><td>United States</td><td>-83.3645</td><td>42.2287</td><td>91.44</td><td>68.16</td></tr><tr><td>NORTH_AMERICA</td><td>1761449720</td><td>a0d32e</td><td>N152SA  </td><td>United States</td><td>-104.9114</td><td>39.8413</td><td>2263.14</td><td>53.35</td></tr><tr><td>NORTH_AMERICA</td><td>1761449720</td><td>c010f6</td><td>ACA152  </td><td>Canada</td><td>-79.6198</td><td>43.6798</td><td>null</td><td>5.66</td></tr><tr><td>NORTH_AMERICA</td><td>1761449720</td><td>a99d87</td><td>ASA217  </td><td>United States</td><td>-100.6157</td><td>42.7117</td><td>10668</td><td>235.24</td></tr><tr><td>NORTH_AMERICA</td><td>1761449720</td><td>a3dcc2</td><td>AAL1363 </td><td>United States</td><td>-97.0353</td><td>32.9018</td><td>null</td><td>0</td></tr><tr><td>NORTH_AMERICA</td><td>1761449720</td><td>a22642</td><td>ASA354  </td><td>United States</td><td>-121.9625</td><td>36.9756</td><td>4053.84</td><td>150.17</td></tr><tr><td>NORTH_AMERICA</td><td>1761449720</td><td>a39fb1</td><td>UAL1412 </td><td>United States</td><td>-104.6855</td><td>38.908</td><td>2377.44</td><td>85.4</td></tr><tr><td>NORTH_AMERICA</td><td>1761449720</td><td>a9ed2c</td><td>N739HC  </td><td>United States</td><td>-83.1543</td><td>41.1525</td><td>1874.52</td><td>58.34</td></tr><tr><td>NORTH_AMERICA</td><td>1761449720</td><td>a834f0</td><td>N628LA  </td><td>United States</td><td>-111.6711</td><td>32.8666</td><td>1043.94</td><td>44.31</td></tr><tr><td>NORTH_AMERICA</td><td>1761449720</td><td>a33339</td><td>EDV5394 </td><td>United States</td><td>-75.5045</td><td>41.8252</td><td>5326.38</td><td>178.99</td></tr><tr><td>NORTH_AMERICA</td><td>1761449720</td><td>a86a66</td><td>QXE2381 </td><td>United States</td><td>-116.3073</td><td>43.8586</td><td>10972.8</td><td>202.26</td></tr><tr><td>NORTH_AMERICA</td><td>1761449720</td><td>ac37bd</td><td>SWA824  </td><td>United States</td><td>-95.2505</td><td>29.4108</td><td>10972.8</td><td>197.67</td></tr><tr><td>NORTH_AMERICA</td><td>1761449720</td><td>ab3a0c</td><td>UAL2019 </td><td>United States</td><td>-122.6799</td><td>46.5654</td><td>6377.94</td><td>203.84</td></tr><tr><td>NORTH_AMERICA</td><td>1761449720</td><td>a7ad84</td><td>DAL955  </td><td>United States</td><td>-101.2368</td><td>37.4463</td><td>10972.8</td><td>247.02</td></tr><tr><td>NORTH_AMERICA</td><td>1761449720</td><td>ac9b6a</td><td>N911LP  </td><td>United States</td><td>-84.5139</td><td>38.0198</td><td>426.72</td><td>38.94</td></tr><tr><td>NORTH_AMERICA</td><td>1761449720</td><td>c0669e</td><td>WJA598  </td><td>Canada</td><td>-77.775</td><td>44.0835</td><td>10058.4</td><td>249.62</td></tr><tr><td>NORTH_AMERICA</td><td>1761449720</td><td>899082</td><td>EVA665  </td><td>Taiwan</td><td>-92.2838</td><td>39.5105</td><td>10363.2</td><td>248.48</td></tr><tr><td>NORTH_AMERICA</td><td>1761449720</td><td>ade8fa</td><td>AAL2791 </td><td>United States</td><td>-84.246</td><td>30.9695</td><td>10058.4</td><td>253.58</td></tr><tr><td>NORTH_AMERICA</td><td>1761449720</td><td>a06cd6</td><td>N12630  </td><td>United States</td><td>-87.2025</td><td>30.4702</td><td>53.34</td><td>28.57</td></tr><tr><td>NORTH_AMERICA</td><td>1761449720</td><td>aa5b92</td><td>AAL732  </td><td>United States</td><td>-64.896</td><td>45.3142</td><td>11887.2</td><td>270.62</td></tr><tr><td>NORTH_AMERICA</td><td>1761449720</td><td>adc2a7</td><td>AAL2230 </td><td>United States</td><td>-83.09</td><td>26.4986</td><td>9753.6</td><td>219.48</td></tr><tr><td>NORTH_AMERICA</td><td>1761449720</td><td>c1e985</td><td>APT2    </td><td>Canada</td><td>-114.0258</td><td>51.1017</td><td>null</td><td>15.43</td></tr><tr><td>NORTH_AMERICA</td><td>1761449720</td><td>c04051</td><td>ROU1936 </td><td>Canada</td><td>-91.2286</td><td>49.3139</td><td>11277.6</td><td>248.8</td></tr><tr><td>NORTH_AMERICA</td><td>1761449720</td><td>a1460a</td><td>SKW3103 </td><td>United States</td><td>-120.7016</td><td>40.8365</td><td>11277.6</td><td>231.17</td></tr><tr><td>NORTH_AMERICA</td><td>1761449720</td><td>c1e97a</td><td>EL31    </td><td>Canada</td><td>-113.9975</td><td>51.1169</td><td>null</td><td>6.94</td></tr><tr><td>NORTH_AMERICA</td><td>1761449720</td><td>a1a986</td><td>ENY3783 </td><td>United States</td><td>-98.2607</td><td>38.4111</td><td>10363.2</td><td>224.28</td></tr><tr><td>NORTH_AMERICA</td><td>1761449720</td><td>a55d7b</td><td>N445D   </td><td>United States</td><td>-75.3772</td><td>39.1641</td><td>1554.48</td><td>55.23</td></tr><tr><td>NORTH_AMERICA</td><td>1761449720</td><td>c07993</td><td>TSC122  </td><td>Canada</td><td>-73.5154</td><td>45.3637</td><td>11887.2</td><td>259.88</td></tr><tr><td>NORTH_AMERICA</td><td>1761449720</td><td>406ec9</td><td>BAW29C  </td><td>United Kingdom</td><td>-71.3956</td><td>42.7091</td><td>11277.6</td><td>271.79</td></tr><tr><td>NORTH_AMERICA</td><td>1761449720</td><td>a91a0e</td><td>N686FR  </td><td>United States</td><td>-83.0774</td><td>34.8739</td><td>2072.64</td><td>95.92</td></tr><tr><td>NORTH_AMERICA</td><td>1761449720</td><td>ab4732</td><td>AAL951  </td><td>United States</td><td>-60.1299</td><td>13.5013</td><td>11269.98</td><td>279.14</td></tr><tr><td>NORTH_AMERICA</td><td>1761449720</td><td>c1e92a</td><td></td><td>Canada</td><td>-79.6576</td><td>43.6641</td><td>null</td><td>8.75</td></tr><tr><td>NORTH_AMERICA</td><td>1761449720</td><td>c0534e</td><td>FLE665  </td><td>Canada</td><td>-94.8253</td><td>47.6661</td><td>10972.8</td><td>221.4</td></tr><tr><td>NORTH_AMERICA</td><td>1761449720</td><td>a1463a</td><td>AAL2186 </td><td>United States</td><td>-83.6325</td><td>30.9394</td><td>9456.42</td><td>241.32</td></tr><tr><td>NORTH_AMERICA</td><td>1761449720</td><td>a1a95c</td><td>N206LW  </td><td>United States</td><td>-120.9979</td><td>37.7152</td><td>281.94</td><td>46.53</td></tr><tr><td>NORTH_AMERICA</td><td>1761449720</td><td>a32fd5</td><td>SKW3609 </td><td>United States</td><td>-104.3685</td><td>42.4029</td><td>11003.28</td><td>227.91</td></tr><tr><td>NORTH_AMERICA</td><td>1761449720</td><td>89901f</td><td>CAL008  </td><td>Taiwan</td><td>-118.4034</td><td>33.952</td><td>7.62</td><td>75.68</td></tr><tr><td>NORTH_AMERICA</td><td>1761449720</td><td>a5297f</td><td>N4312M  </td><td>United States</td><td>-80.374</td><td>26.067</td><td>274.32</td><td>68.48</td></tr><tr><td>NORTH_AMERICA</td><td>1761449720</td><td>a8d90e</td><td>N66970  </td><td>United States</td><td>-120.4743</td><td>37.1405</td><td>1104.9</td><td>50.67</td></tr><tr><td>NORTH_AMERICA</td><td>1761449720</td><td>c1e917</td><td>PU459   </td><td>Canada</td><td>-79.6347</td><td>43.68</td><td>null</td><td>7.72</td></tr><tr><td>NORTH_AMERICA</td><td>1761449720</td><td>c06627</td><td>CGMRU   </td><td>Canada</td><td>-114.3714</td><td>51.0973</td><td>null</td><td>0.06</td></tr><tr><td>NORTH_AMERICA</td><td>1761449720</td><td>a3999e</td><td>ATN3357 </td><td>United States</td><td>-117.389</td><td>34.3211</td><td>3063.24</td><td>157.93</td></tr><tr><td>NORTH_AMERICA</td><td>1761449720</td><td>a2c992</td><td>SKW3769 </td><td>United States</td><td>-113.3946</td><td>46.2426</td><td>10340.34</td><td>239.95</td></tr><tr><td>NORTH_AMERICA</td><td>1761449720</td><td>a6dfe7</td><td>FRG374  </td><td>United States</td><td>-94.9519</td><td>41.5275</td><td>3840.48</td><td>173.44</td></tr><tr><td>NORTH_AMERICA</td><td>1761449720</td><td>a24014</td><td>ENY3412 </td><td>United States</td><td>-99.125</td><td>29.5898</td><td>10972.8</td><td>242.78</td></tr><tr><td>NORTH_AMERICA</td><td>1761449720</td><td>ab7b38</td><td>EJA839  </td><td>United States</td><td>-70.5841</td><td>43.1802</td><td>13106.4</td><td>257.64</td></tr><tr><td>NORTH_AMERICA</td><td>1761449720</td><td>a5bffe</td><td>N47NS   </td><td>United States</td><td>-88.1498</td><td>36.4853</td><td>10980.42</td><td>225.49</td></tr><tr><td>NORTH_AMERICA</td><td>1761449720</td><td>a37389</td><td>AAL2597 </td><td>United States</td><td>-118.5329</td><td>34.2001</td><td>1005.84</td><td>104.59</td></tr><tr><td>NORTH_AMERICA</td><td>1761449720</td><td>a24082</td><td>SKW4141 </td><td>United States</td><td>-122.3161</td><td>47.6683</td><td>1455.42</td><td>73.05</td></tr><tr><td>NORTH_AMERICA</td><td>1761449720</td><td>a6492f</td><td>DAL411  </td><td>United States</td><td>-96.172</td><td>46.4238</td><td>10363.2</td><td>222.11</td></tr><tr><td>NORTH_AMERICA</td><td>1761449720</td><td>aca2b4</td><td>N913KC  </td><td>United States</td><td>-119.033</td><td>35.3214</td><td>327.66</td><td>36.63</td></tr><tr><td>NORTH_AMERICA</td><td>1761449720</td><td>aa2701</td><td>AAL2600 </td><td>United States</td><td>-84.0122</td><td>35.7988</td><td>236.22</td><td>73.12</td></tr><tr><td>NORTH_AMERICA</td><td>1761449720</td><td>a8a017</td><td>JBU369  </td><td>United States</td><td>-79.9566</td><td>26.4066</td><td>2225.04</td><td>152.99</td></tr><tr><td>NORTH_AMERICA</td><td>1761449720</td><td>abdcfd</td><td>ASH6375 </td><td>United States</td><td>-97.002</td><td>19.1251</td><td>10058.4</td><td>237.19</td></tr><tr><td>NORTH_AMERICA</td><td>1761449720</td><td>ad734a</td><td>JBU580  </td><td>United States</td><td>-77.6433</td><td>32.4423</td><td>10675.62</td><td>235.54</td></tr><tr><td>NORTH_AMERICA</td><td>1761449720</td><td>a97029</td><td>SKW6400 </td><td>United States</td><td>-109.3798</td><td>34.9834</td><td>9052.56</td><td>216.58</td></tr><tr><td>NORTH_AMERICA</td><td>1761449720</td><td>ad1cf5</td><td>JCM944  </td><td>United States</td><td>-98.3988</td><td>29.7654</td><td>3863.34</td><td>161.02</td></tr><tr><td>NORTH_AMERICA</td><td>1761449720</td><td>ac536c</td><td>SWA3629 </td><td>United States</td><td>-97.5158</td><td>29.4982</td><td>8839.2</td><td>273.46</td></tr><tr><td>NORTH_AMERICA</td><td>1761449720</td><td>add66d</td><td>AAL1286 </td><td>United States</td><td>-81.3269</td><td>29.35</td><td>11285.22</td><td>241.59</td></tr><tr><td>NORTH_AMERICA</td><td>1761449720</td><td>a9e642</td><td>NKS2196 </td><td>United States</td><td>-80.111</td><td>33.9072</td><td>11887.2</td><td>244.85</td></tr><tr><td>NORTH_AMERICA</td><td>1761449720</td><td>394a14</td><td>AFR025  </td><td>France</td><td>-108.3215</td><td>46.2441</td><td>10058.4</td><td>297.03</td></tr><tr><td>NORTH_AMERICA</td><td>1761449720</td><td>ab58c1</td><td>N830EC  </td><td>United States</td><td>-91.4259</td><td>30.9769</td><td>6294.12</td><td>132.01</td></tr><tr><td>NORTH_AMERICA</td><td>1761449720</td><td>ac407d</td><td>AAL2682 </td><td>United States</td><td>-72.7073</td><td>42.6935</td><td>7520.94</td><td>228.19</td></tr><tr><td>NORTH_AMERICA</td><td>1761449720</td><td>a18e4c</td><td>EJM187  </td><td>United States</td><td>-79.6247</td><td>43.6746</td><td>null</td><td>1.8</td></tr><tr><td>NORTH_AMERICA</td><td>1761449720</td><td>ab7b02</td><td>AAL2065 </td><td>United States</td><td>-75.0565</td><td>39.8901</td><td>510.54</td><td>78.74</td></tr><tr><td>NORTH_AMERICA</td><td>1761449720</td><td>ac793f</td><td>AAL431  </td><td>United States</td><td>-97.5828</td><td>32.0352</td><td>11193.78</td><td>209.2</td></tr><tr><td>NORTH_AMERICA</td><td>1761449720</td><td>a7b8ad</td><td>N597P   </td><td>United States</td><td>-107.1928</td><td>35.0521</td><td>5486.4</td><td>108.21</td></tr><tr><td>NORTH_AMERICA</td><td>1761449720</td><td>a42b45</td><td>DAL3074 </td><td>United States</td><td>-79.3798</td><td>33.8517</td><td>2225.04</td><td>158.87</td></tr><tr><td>NORTH_AMERICA</td><td>1761449720</td><td>aa38f8</td><td>N758NL  </td><td>United States</td><td>-117.6612</td><td>33.5129</td><td>1501.14</td><td>59.34</td></tr><tr><td>NORTH_AMERICA</td><td>1761449720</td><td>0d06a7</td><td>SLI866  </td><td>Mexico</td><td>-97.4808</td><td>19.2845</td><td>7620</td><td>233.99</td></tr><tr><td>NORTH_AMERICA</td><td>1761449720</td><td>78021c</td><td>CPA3283 </td><td>China</td><td>-109.6846</td><td>50.5001</td><td>10972.8</td><td>261.82</td></tr><tr><td>NORTH_AMERICA</td><td>1761449720</td><td>a7db08</td><td>NKS2167 </td><td>United States</td><td>-84.9449</td><td>33.9512</td><td>2994.66</td><td>148.04</td></tr><tr><td>NORTH_AMERICA</td><td>1761449720</td><td>a9d37b</td><td>SKQ56   </td><td>United States</td><td>-88.6238</td><td>41.5937</td><td>1813.56</td><td>124.94</td></tr><tr><td>NORTH_AMERICA</td><td>1761449720</td><td>a29b62</td><td>N2670M  </td><td>United States</td><td>-76.2101</td><td>38.746</td><td>1082.04</td><td>79.94</td></tr><tr><td>NORTH_AMERICA</td><td>1761449720</td><td>a6bb22</td><td>N53264  </td><td>United States</td><td>-110.9137</td><td>32.9156</td><td>3810</td><td>75.22</td></tr><tr><td>NORTH_AMERICA</td><td>1761449720</td><td>a42b21</td><td>MVK83   </td><td>United States</td><td>-92.9063</td><td>43.9894</td><td>1280.16</td><td>62.15</td></tr><tr><td>NORTH_AMERICA</td><td>1761449720</td><td>ab5993</td><td></td><td>United States</td><td>-97.0486</td><td>32.8791</td><td>null</td><td>3.6</td></tr><tr><td>NORTH_AMERICA</td><td>1761449720</td><td>ac0ff9</td><td>SWA149  </td><td>United States</td><td>-89.2317</td><td>37.1416</td><td>8839.2</td><td>244.48</td></tr><tr><td>NORTH_AMERICA</td><td>1761449720</td><td>a528d6</td><td>SWA1519 </td><td>United States</td><td>-122.5603</td><td>45.6244</td><td>11582.4</td><td>220.08</td></tr><tr><td>NORTH_AMERICA</td><td>1761449720</td><td>a06db4</td><td>AAL1426 </td><td>United States</td><td>-83.7791</td><td>38.0634</td><td>8542.02</td><td>226.1</td></tr><tr><td>NORTH_AMERICA</td><td>1761449720</td><td>ab201a</td><td>ERU816  </td><td>United States</td><td>-82.6125</td><td>28.0781</td><td>1470.66</td><td>50.64</td></tr><tr><td>NORTH_AMERICA</td><td>1761449720</td><td>abdce1</td><td>SWA2346 </td><td>United States</td><td>-73.089</td><td>42.2344</td><td>6591.3</td><td>222.28</td></tr><tr><td>NORTH_AMERICA</td><td>1761449720</td><td>a9969b</td><td>FFT1241 </td><td>United States</td><td>-83.1805</td><td>32.5761</td><td>9921.24</td><td>228.23</td></tr><tr><td>NORTH_AMERICA</td><td>1761449720</td><td>a3c2a9</td><td>AAL2518 </td><td>United States</td><td>-85.428</td><td>37.7937</td><td>8534.4</td><td>229.23</td></tr><tr><td>NORTH_AMERICA</td><td>1761449720</td><td>a2fe8f</td><td>SKW3506 </td><td>United States</td><td>-115.0705</td><td>35.9137</td><td>9753.6</td><td>219.02</td></tr><tr><td>NORTH_AMERICA</td><td>1761449720</td><td>a43e7f</td><td>UAL2197 </td><td>United States</td><td>-117.592</td><td>44.8011</td><td>11582.4</td><td>216.51</td></tr><tr><td>NORTH_AMERICA</td><td>1761449720</td><td>a98386</td><td>ASA41   </td><td>United States</td><td>-97.8266</td><td>42.5195</td><td>10363.2</td><td>239.6</td></tr><tr><td>NORTH_AMERICA</td><td>1761449720</td><td>a55e60</td><td>NDU445  </td><td>United States</td><td>-111.4293</td><td>32.6132</td><td>1356.36</td><td>55.08</td></tr><tr><td>NORTH_AMERICA</td><td>1761449720</td><td>a0275c</td><td>AAL341  </td><td>United States</td><td>-118.4066</td><td>33.9415</td><td>null</td><td>0</td></tr><tr><td>NORTH_AMERICA</td><td>1761449720</td><td>a29abd</td><td>YEL6    </td><td>United States</td><td>-90.041</td><td>35.0067</td><td>12496.8</td><td>240.79</td></tr><tr><td>NORTH_AMERICA</td><td>1761449720</td><td>a7db0b</td><td>JIA5037 </td><td>United States</td><td>-81.0228</td><td>32.9251</td><td>9144</td><td>220.71</td></tr><tr><td>NORTH_AMERICA</td><td>1761449720</td><td>a2b759</td><td>SWA249  </td><td>United States</td><td>-118.359</td><td>34.2115</td><td>null</td><td>1.03</td></tr><tr><td>NORTH_AMERICA</td><td>1761449720</td><td>a91b2b</td><td>TAI566  </td><td>United States</td><td>-79.52</td><td>34.131</td><td>10668</td><td>254.77</td></tr><tr><td>NORTH_AMERICA</td><td>1761449720</td><td>0d075f</td><td>AMX840  </td><td>Mexico</td><td>-96.358</td><td>19.8399</td><td>11887.2</td><td>243.07</td></tr><tr><td>NORTH_AMERICA</td><td>1761449720</td><td>ab4866</td><td>DAL269  </td><td>United States</td><td>-82.2637</td><td>33.5481</td><td>6797.04</td><td>237.2</td></tr><tr><td>NORTH_AMERICA</td><td>1761449720</td><td>a3871e</td><td>JBU1186 </td><td>United States</td><td>-77.4147</td><td>43.1305</td><td>1089.66</td><td>112.36</td></tr><tr><td>NORTH_AMERICA</td><td>1761449720</td><td>ab485e</td><td>AAL3216 </td><td>United States</td><td>-76.5787</td><td>39.0384</td><td>784.86</td><td>96.69</td></tr><tr><td>NORTH_AMERICA</td><td>1761449720</td><td>a2b728</td><td>UPS401  </td><td>United States</td><td>-80.5144</td><td>26.2386</td><td>6949.44</td><td>215.32</td></tr><tr><td>NORTH_AMERICA</td><td>1761449720</td><td>aaac21</td><td>SKW4730 </td><td>United States</td><td>-107.6145</td><td>40.0581</td><td>10972.8</td><td>204.47</td></tr><tr><td>NORTH_AMERICA</td><td>1761449720</td><td>a3b11e</td><td>AAL1758 </td><td>United States</td><td>-96.8567</td><td>33.1109</td><td>5440.68</td><td>195.63</td></tr><tr><td>NORTH_AMERICA</td><td>1761449720</td><td>a79dc4</td><td>DAL916  </td><td>United States</td><td>-108.7885</td><td>37.9335</td><td>10980.42</td><td>204.74</td></tr><tr><td>NORTH_AMERICA</td><td>1761449720</td><td>0d0710</td><td>AMX560  </td><td>Mexico</td><td>-95.117</td><td>19.7002</td><td>11277.6</td><td>240.82</td></tr><tr><td>NORTH_AMERICA</td><td>1761449720</td><td>c05416</td><td>WJA2001 </td><td>Canada</td><td>-112.5658</td><td>49.4429</td><td>11833.86</td><td>242.27</td></tr><tr><td>NORTH_AMERICA</td><td>1761449720</td><td>a3d792</td><td>N347CS  </td><td>United States</td><td>-84.2799</td><td>30.4065</td><td>708.66</td><td>43.24</td></tr><tr><td>NORTH_AMERICA</td><td>1761449720</td><td>ac53b2</td><td>SWA900  </td><td>United States</td><td>-102.753</td><td>37.525</td><td>11582.4</td><td>230.71</td></tr><tr><td>NORTH_AMERICA</td><td>1761449720</td><td>ad73a6</td><td>NKS220  </td><td>United States</td><td>-113.2275</td><td>34.6137</td><td>10363.2</td><td>223.65</td></tr><tr><td>NORTH_AMERICA</td><td>1761449720</td><td>ad73a9</td><td>AAL2491 </td><td>United States</td><td>-90.519</td><td>38.8099</td><td>678.18</td><td>75.11</td></tr><tr><td>NORTH_AMERICA</td><td>1761449720</td><td>a12151</td><td>N172HG  </td><td>United States</td><td>-87.834</td><td>41.3473</td><td>792.48</td><td>58.44</td></tr><tr><td>NORTH_AMERICA</td><td>1761449720</td><td>ad99f9</td><td>ASA1188 </td><td>United States</td><td>-91.5051</td><td>40.5395</td><td>10896.6</td><td>241.25</td></tr><tr><td>NORTH_AMERICA</td><td>1761449720</td><td>ac9c50</td><td>N911VU  </td><td>United States</td><td>-84.055</td><td>36.3571</td><td>4754.88</td><td>115.61</td></tr><tr><td>NORTH_AMERICA</td><td>1761449720</td><td>06a30b</td><td>QTR8170 </td><td>Qatar</td><td>-76.5419</td><td>36.5625</td><td>10972.8</td><td>208.19</td></tr><tr><td>NORTH_AMERICA</td><td>1761449720</td><td>ac53f8</td><td>SWA2759 </td><td>United States</td><td>-110.9459</td><td>32.1237</td><td>null</td><td>6.17</td></tr><tr><td>NORTH_AMERICA</td><td>1761449720</td><td>ac9c6d</td><td>N911WY  </td><td>United States</td><td>-114.98</td><td>36.0515</td><td>670.56</td><td>43.07</td></tr><tr><td>NORTH_AMERICA</td><td>1761449720</td><td>ad60b7</td><td>JBU1223 </td><td>United States</td><td>-90.5489</td><td>39.7256</td><td>10972.8</td><td>222.58</td></tr><tr><td>NORTH_AMERICA</td><td>1761449720</td><td>ab20e6</td><td>AAY1312 </td><td>United States</td><td>-81.6836</td><td>28.8955</td><td>1363.98</td><td>99.48</td></tr><tr><td>NORTH_AMERICA</td><td>1761449720</td><td>71c046</td><td>KAL257  </td><td>Republic of Korea</td><td>-74.7849</td><td>42.3239</td><td>10279.38</td><td>266.02</td></tr><tr><td>NORTH_AMERICA</td><td>1761449720</td><td>a266b9</td><td>N254DV  </td><td>United States</td><td>-82.9017</td><td>41.8334</td><td>9753.6</td><td>187.48</td></tr><tr><td>NORTH_AMERICA</td><td>1761449720</td><td>a399af</td><td>N331BR  </td><td>United States</td><td>-96.6746</td><td>32.6868</td><td>5151.12</td><td>150.16</td></tr><tr><td>NORTH_AMERICA</td><td>1761449720</td><td>a92dfc</td><td>UAL924  </td><td>United States</td><td>-77.4567</td><td>38.9375</td><td>null</td><td>4.63</td></tr><tr><td>NORTH_AMERICA</td><td>1761449720</td><td>ab8f0d</td><td>DAL2151 </td><td>United States</td><td>-118.9815</td><td>45.6934</td><td>9753.6</td><td>207.72</td></tr><tr><td>NORTH_AMERICA</td><td>1761449720</td><td>a8c759</td><td>FFT3244 </td><td>United States</td><td>-96.956</td><td>32.7325</td><td>2346.96</td><td>147.24</td></tr><tr><td>NORTH_AMERICA</td><td>1761449720</td><td>a0bf90</td><td>UAL2224 </td><td>United States</td><td>-77.2321</td><td>38.2813</td><td>2926.08</td><td>149.48</td></tr><tr><td>NORTH_AMERICA</td><td>1761449720</td><td>a91ab7</td><td>NKS1211 </td><td>United States</td><td>-80.2833</td><td>26.151</td><td>883.92</td><td>139.93</td></tr><tr><td>NORTH_AMERICA</td><td>1761449720</td><td>c1e8f6</td><td>TR443   </td><td>Canada</td><td>-79.6203</td><td>43.6844</td><td>null</td><td>1.54</td></tr><tr><td>NORTH_AMERICA</td><td>1761449720</td><td>a146f9</td><td>UAL978  </td><td>United States</td><td>-74.6177</td><td>40.1994</td><td>10058.4</td><td>278.89</td></tr><tr><td>NORTH_AMERICA</td><td>1761449720</td><td>c1e8c0</td><td>BLUE341 </td><td>Canada</td><td>-79.6135</td><td>43.6757</td><td>null</td><td>8.23</td></tr><tr><td>NORTH_AMERICA</td><td>1761449720</td><td>c1e8d3</td><td>TR442   </td><td>Canada</td><td>-79.6299</td><td>43.6827</td><td>null</td><td>4.89</td></tr><tr><td>NORTH_AMERICA</td><td>1761449720</td><td>a17c65</td><td>SKW3427 </td><td>United States</td><td>-110.9403</td><td>32.1201</td><td>null</td><td>1.8</td></tr><tr><td>NORTH_AMERICA</td><td>1761449720</td><td>c052d3</td><td>WJA2947 </td><td>Canada</td><td>-73.5348</td><td>45.6162</td><td>784.86</td><td>96.26</td></tr><tr><td>NORTH_AMERICA</td><td>1761449720</td><td>aabf50</td><td>SCX3093 </td><td>United States</td><td>-103.2993</td><td>31.2253</td><td>12192</td><td>204.13</td></tr><tr><td>NORTH_AMERICA</td><td>1761449720</td><td>a373ec</td><td>N321VK  </td><td>United States</td><td>-107.8722</td><td>38.1258</td><td>7315.2</td><td>127.42</td></tr><tr><td>NORTH_AMERICA</td><td>1761449720</td><td>c1e8a8</td><td>BUS821  </td><td>Canada</td><td>-79.6346</td><td>43.68</td><td>null</td><td>5.92</td></tr><tr><td>NORTH_AMERICA</td><td>1761449720</td><td>a3c3e6</td><td>UAL8164 </td><td>United States</td><td>-114.2737</td><td>36.0917</td><td>10972.8</td><td>215.58</td></tr><tr><td>NORTH_AMERICA</td><td>1761449720</td><td>a8fc06</td><td>UAL2157 </td><td>United States</td><td>-107.1695</td><td>37.8124</td><td>10972.8</td><td>217.17</td></tr><tr><td>NORTH_AMERICA</td><td>1761449720</td><td>a2b6ff</td><td>SKW3520 </td><td>United States</td><td>-106.0663</td><td>38.4001</td><td>9060.18</td><td>233.15</td></tr><tr><td>NORTH_AMERICA</td><td>1761449720</td><td>aa26c8</td><td>SKW4927 </td><td>United States</td><td>-83.8785</td><td>42.6426</td><td>2827.02</td><td>149.75</td></tr><tr><td>NORTH_AMERICA</td><td>1761449720</td><td>406ecd</td><td>VIR166G </td><td>United Kingdom</td><td>-77.4981</td><td>25.7183</td><td>10972.8</td><td>245.16</td></tr><tr><td>NORTH_AMERICA</td><td>1761449720</td><td>a31f7f</td><td>N300BV  </td><td>United States</td><td>-92.0952</td><td>34.5108</td><td>10668</td><td>182.62</td></tr><tr><td>NORTH_AMERICA</td><td>1761449720</td><td>a120da</td><td>N172CN  </td><td>United States</td><td>-158.7318</td><td>21.4743</td><td>1653.54</td><td>67.46</td></tr><tr><td>NORTH_AMERICA</td><td>1761449720</td><td>a480dc</td><td>O29EI1  </td><td>United States</td><td>-78.3855</td><td>39.9588</td><td>3787.14</td><td>135.3</td></tr><tr><td>NORTH_AMERICA</td><td>1761449720</td><td>ab7ae4</td><td>DAL52   </td><td>United States</td><td>-64.5151</td><td>46.1187</td><td>9448.8</td><td>268.46</td></tr><tr><td>NORTH_AMERICA</td><td>1761449720</td><td>add734</td><td>JBU277  </td><td>United States</td><td>-105.6242</td><td>37.4154</td><td>10965.18</td><td>217.52</td></tr><tr><td>NORTH_AMERICA</td><td>1761449720</td><td>405bfe</td><td>BAW22E  </td><td>United Kingdom</td><td>-63.8113</td><td>47.2397</td><td>11277.6</td><td>261.39</td></tr><tr><td>NORTH_AMERICA</td><td>1761449720</td><td>405bfc</td><td>BAW2LJ  </td><td>United Kingdom</td><td>-66.7827</td><td>45.082</td><td>11277.6</td><td>271.29</td></tr><tr><td>NORTH_AMERICA</td><td>1761449720</td><td>ac9acc</td><td>N911EF  </td><td>United States</td><td>-106.9043</td><td>32.2849</td><td>1402.08</td><td>50.85</td></tr><tr><td>NORTH_AMERICA</td><td>1761449720</td><td>ad6116</td><td>AAL2857 </td><td>United States</td><td>-98.3423</td><td>36.4486</td><td>7924.8</td><td>192.82</td></tr><tr><td>NORTH_AMERICA</td><td>1761449720</td><td>a6cf20</td><td>LAE2524 </td><td>United States</td><td>-82.0009</td><td>12.7773</td><td>9761.22</td><td>239.36</td></tr><tr><td>NORTH_AMERICA</td><td>1761449720</td><td>a8d5bd</td><td>AAL1513 </td><td>United States</td><td>-107.7627</td><td>32.67</td><td>10347.96</td><td>230.79</td></tr><tr><td>NORTH_AMERICA</td><td>1761449720</td><td>a67b76</td><td>N517AF  </td><td>United States</td><td>-111.8169</td><td>32.9303</td><td>670.56</td><td>45.34</td></tr><tr><td>NORTH_AMERICA</td><td>1761449720</td><td>a43b91</td><td>DAL819  </td><td>United States</td><td>-113.7383</td><td>32.8094</td><td>10370.82</td><td>225.9</td></tr><tr><td>NORTH_AMERICA</td><td>1761449720</td><td>a92b0c</td><td>DAL635  </td><td>United States</td><td>-122.3654</td><td>37.617</td><td>-45.72</td><td>61.22</td></tr><tr><td>NORTH_AMERICA</td><td>1761449720</td><td>0d09a2</td><td>VTM558  </td><td>Mexico</td><td>-91.1474</td><td>36.8268</td><td>9448.8</td><td>236.77</td></tr><tr><td>NORTH_AMERICA</td><td>1761449720</td><td>a81e2a</td><td>N622FB  </td><td>United States</td><td>-112.1224</td><td>33.5833</td><td>525.78</td><td>28.11</td></tr><tr><td>NORTH_AMERICA</td><td>1761449720</td><td>ac50fa</td><td>FDX97   </td><td>United States</td><td>-67.8961</td><td>46.4263</td><td>10363.2</td><td>221.13</td></tr><tr><td>NORTH_AMERICA</td><td>1761449720</td><td>a8d5a4</td><td>UAL211  </td><td>United States</td><td>-99.5196</td><td>30.3913</td><td>12496.8</td><td>253.96</td></tr><tr><td>NORTH_AMERICA</td><td>1761449720</td><td>a1442f</td><td>SWA1548 </td><td>United States</td><td>-91.4806</td><td>34.8443</td><td>11879.58</td><td>254.59</td></tr><tr><td>NORTH_AMERICA</td><td>1761449720</td><td>a03765</td><td>AAL300  </td><td>United States</td><td>-75.1098</td><td>41.3163</td><td>9060.18</td><td>192.64</td></tr><tr><td>NORTH_AMERICA</td><td>1761449720</td><td>a27737</td><td>SWA4040 </td><td>United States</td><td>-117.8631</td><td>33.6848</td><td>15.24</td><td>67.21</td></tr><tr><td>NORTH_AMERICA</td><td>1761449720</td><td>a4f2d3</td><td>LNE622  </td><td>United States</td><td>-80.9599</td><td>25.186</td><td>4968.24</td><td>190.4</td></tr><tr><td>NORTH_AMERICA</td><td>1761449720</td><td>c00dce</td><td>FLE651  </td><td>Canada</td><td>-68.4878</td><td>45.5838</td><td>10751.82</td><td>207.14</td></tr><tr><td>NORTH_AMERICA</td><td>1761449720</td><td>a3d425</td><td>FFT2632 </td><td>United States</td><td>-104.2069</td><td>38.6549</td><td>9357.36</td><td>240.06</td></tr><tr><td>NORTH_AMERICA</td><td>1761449720</td><td>ac0f26</td><td>SWA1640 </td><td>United States</td><td>-109.3356</td><td>36.5624</td><td>11582.4</td><td>209.96</td></tr><tr><td>NORTH_AMERICA</td><td>1761449720</td><td>abb9b2</td><td>SWA2362 </td><td>United States</td><td>-110.0019</td><td>35.5468</td><td>11277.6</td><td>235.32</td></tr><tr><td>NORTH_AMERICA</td><td>1761449720</td><td>aa7ebc</td><td>UAL1535 </td><td>United States</td><td>-122.3809</td><td>37.6182</td><td>null</td><td>0.06</td></tr><tr><td>NORTH_AMERICA</td><td>1761449720</td><td>abef16</td><td>SWA937  </td><td>United States</td><td>-96.6758</td><td>44.4896</td><td>10172.7</td><td>236.18</td></tr><tr><td>NORTH_AMERICA</td><td>1761449720</td><td>8991a4</td><td>CAL5234 </td><td>Taiwan</td><td>-94.3615</td><td>45.6529</td><td>10668</td><td>263.69</td></tr><tr><td>NORTH_AMERICA</td><td>1761449720</td><td>a0cdf3</td><td>AAL1205 </td><td>United States</td><td>-108.079</td><td>32.327</td><td>10363.2</td><td>227.5</td></tr><tr><td>NORTH_AMERICA</td><td>1761449720</td><td>a44db3</td><td>DAL931  </td><td>United States</td><td>-123.7861</td><td>48.5531</td><td>9570.72</td><td>238.1</td></tr><tr><td>NORTH_AMERICA</td><td>1761449720</td><td>abb9df</td><td>SWA4059 </td><td>United States</td><td>-119.5466</td><td>39.4782</td><td>3048</td><td>145.62</td></tr><tr><td>NORTH_AMERICA</td><td>1761449720</td><td>c00da8</td><td>FLE603  </td><td>Canada</td><td>-98.3157</td><td>48.274</td><td>10972.8</td><td>219.25</td></tr><tr><td>NORTH_AMERICA</td><td>1761449720</td><td>ab8c37</td><td>AAL944  </td><td>United States</td><td>-75.6326</td><td>37.3122</td><td>11887.2</td><td>221.65</td></tr><tr><td>NORTH_AMERICA</td><td>1761449720</td><td>ad1c18</td><td>TAI450  </td><td>United States</td><td>-80.3179</td><td>25.786</td><td>22.86</td><td>63.87</td></tr><tr><td>NORTH_AMERICA</td><td>1761449720</td><td>ac0f4d</td><td>SWA478  </td><td>United States</td><td>-88.7304</td><td>41.4014</td><td>2918.46</td><td>158.41</td></tr><tr><td>NORTH_AMERICA</td><td>1761449720</td><td>a40797</td><td>AAL2545 </td><td>United States</td><td>-84.9543</td><td>42.8455</td><td>9144</td><td>215.28</td></tr><tr><td>NORTH_AMERICA</td><td>1761449720</td><td>a2fad8</td><td>SKW3557 </td><td>United States</td><td>-122.9321</td><td>44.1047</td><td>10668</td><td>220.23</td></tr><tr><td>NORTH_AMERICA</td><td>1761449720</td><td>abef54</td><td>SWA2722 </td><td>United States</td><td>-114.2085</td><td>46.9529</td><td>11582.4</td><td>214.71</td></tr><tr><td>NORTH_AMERICA</td><td>1761449720</td><td>c1e5dd</td><td>SUR8910 </td><td>Canada</td><td>-73.748</td><td>45.4591</td><td>null</td><td>6.69</td></tr><tr><td>NORTH_AMERICA</td><td>1761449720</td><td>acc6ce</td><td>NKS3447 </td><td>United States</td><td>-102.9053</td><td>33.8707</td><td>11285.22</td><td>249.02</td></tr><tr><td>NORTH_AMERICA</td><td>1761449720</td><td>ade6b0</td><td>N995RC  </td><td>United States</td><td>-117.5206</td><td>33.8206</td><td>563.88</td><td>60.54</td></tr><tr><td>NORTH_AMERICA</td><td>1761449720</td><td>aacf7f</td><td>NDU796  </td><td>United States</td><td>-116.7561</td><td>33.1307</td><td>2720.34</td><td>83.02</td></tr><tr><td>NORTH_AMERICA</td><td>1761449720</td><td>c1e5e1</td><td>TOW 902 </td><td>Canada</td><td>-123.1719</td><td>49.1986</td><td>null</td><td>6.43</td></tr><tr><td>NORTH_AMERICA</td><td>1761449720</td><td>406d4d</td><td>VIR48WE </td><td>United Kingdom</td><td>-74.4626</td><td>46.0657</td><td>11879.58</td><td>263.95</td></tr><tr><td>NORTH_AMERICA</td><td>1761449720</td><td>c1e5f9</td><td>TRU118  </td><td>Canada</td><td>-123.1925</td><td>49.1994</td><td>null</td><td>0.13</td></tr><tr><td>NORTH_AMERICA</td><td>1761449720</td><td>c1e5f1</td><td>WLD65   </td><td>Canada</td><td>-123.1552</td><td>49.1817</td><td>null</td><td>5.92</td></tr><tr><td>NORTH_AMERICA</td><td>1761449720</td><td>a8c439</td><td>PDT6013 </td><td>United States</td><td>-84.6919</td><td>37.9036</td><td>10965.18</td><td>205.57</td></tr><tr><td>NORTH_AMERICA</td><td>1761449720</td><td>ad976e</td><td>NKS1662 </td><td>United States</td><td>-91.7229</td><td>41.5055</td><td>10980.42</td><td>215.33</td></tr><tr><td>NORTH_AMERICA</td><td>1761449720</td><td>a7b779</td><td>ASA7    </td><td>United States</td><td>-114.2908</td><td>38.4376</td><td>11590.02</td><td>195.64</td></tr><tr><td>NORTH_AMERICA</td><td>1761449720</td><td>4ba94b</td><td>THY76Y  </td><td>Turkey</td><td>-122.833</td><td>49.2423</td><td>2453.64</td><td>151.35</td></tr><tr><td>NORTH_AMERICA</td><td>1761449720</td><td>c00e6c</td><td>FLE2615 </td><td>Canada</td><td>-79.3702</td><td>43.0874</td><td>5059.68</td><td>159.75</td></tr><tr><td>NORTH_AMERICA</td><td>1761449720</td><td>c062aa</td><td>CGLJL   </td><td>Canada</td><td>-114.3418</td><td>51.1462</td><td>1798.32</td><td>37.98</td></tr><tr><td>NORTH_AMERICA</td><td>1761449720</td><td>a20f1a</td><td>UCA4321 </td><td>United States</td><td>-74.6562</td><td>42.4711</td><td>5303.52</td><td>210.17</td></tr><tr><td>NORTH_AMERICA</td><td>1761449720</td><td>c1e5bf</td><td>WLD61   </td><td>Canada</td><td>-123.1797</td><td>49.1889</td><td>null</td><td>10.8</td></tr><tr><td>NORTH_AMERICA</td><td>1761449720</td><td>c1e5d1</td><td>TOW916  </td><td>Canada</td><td>-123.1834</td><td>49.1943</td><td>null</td><td>1.29</td></tr><tr><td>NORTH_AMERICA</td><td>1761449720</td><td>c1e5a8</td><td>WL62    </td><td>Canada</td><td>-123.1497</td><td>49.1994</td><td>null</td><td>8.23</td></tr><tr><td>NORTH_AMERICA</td><td>1761449720</td><td>a07f1b</td><td>N131CA  </td><td>United States</td><td>-117.5464</td><td>33.9721</td><td>731.52</td><td>47.32</td></tr><tr><td>NORTH_AMERICA</td><td>1761449720</td><td>4ba947</td><td>THY10   </td><td>Turkey</td><td>-118.406</td><td>33.9486</td><td>null</td><td>7.2</td></tr><tr><td>NORTH_AMERICA</td><td>1761449720</td><td>4ba945</td><td>THY8    </td><td>Turkey</td><td>-77.4866</td><td>39.0562</td><td>1173.48</td><td>124.37</td></tr><tr><td>NORTH_AMERICA</td><td>1761449720</td><td>a4e119</td><td>N413UT  </td><td>United States</td><td>-83.8648</td><td>36.1231</td><td>571.5</td><td>61.54</td></tr><tr><td>NORTH_AMERICA</td><td>1761449720</td><td>a1ef41</td><td>N2235V  </td><td>United States</td><td>-118.3492</td><td>33.8614</td><td>1653.54</td><td>66.24</td></tr><tr><td>NORTH_AMERICA</td><td>1761449720</td><td>acb470</td><td>AAL2436 </td><td>United States</td><td>-87.7826</td><td>32.7447</td><td>11582.4</td><td>193.95</td></tr><tr><td>NORTH_AMERICA</td><td>1761449720</td><td>a88737</td><td>FFT2890 </td><td>United States</td><td>-104.5067</td><td>38.7476</td><td>8077.2</td><td>236.62</td></tr><tr><td>NORTH_AMERICA</td><td>1761449720</td><td>a55ada</td><td>KPO444  </td><td>United States</td><td>-77.8661</td><td>37.8347</td><td>8831.58</td><td>251.3</td></tr><tr><td>NORTH_AMERICA</td><td>1761449720</td><td>a79aae</td><td>HAL1615 </td><td>United States</td><td>-112.656</td><td>37.7994</td><td>11582.4</td><td>208.56</td></tr><tr><td>NORTH_AMERICA</td><td>1761449720</td><td>a67ad0</td><td>N5165R  </td><td>United States</td><td>-77.1361</td><td>40.3255</td><td>1242.06</td><td>59.16</td></tr><tr><td>NORTH_AMERICA</td><td>1761449720</td><td>a49197</td><td>N3939X  </td><td>United States</td><td>-104.5226</td><td>39.7996</td><td>1737.36</td><td>24.4</td></tr><tr><td>NORTH_AMERICA</td><td>1761449720</td><td>aa7f46</td><td>UAL1543 </td><td>United States</td><td>-66.043</td><td>18.4338</td><td>167.64</td><td>77.7</td></tr><tr><td>NORTH_AMERICA</td><td>1761449720</td><td>a263dc</td><td>ENY4065 </td><td>United States</td><td>-98.0823</td><td>28.9218</td><td>6438.9</td><td>216.56</td></tr><tr><td>NORTH_AMERICA</td><td>1761449720</td><td>aa7f2b</td><td>UAL2426 </td><td>United States</td><td>-98.0222</td><td>29.6281</td><td>10736.58</td><td>266.72</td></tr><tr><td>NORTH_AMERICA</td><td>1761449720</td><td>aa7f2a</td><td>UAL2693 </td><td>United States</td><td>-89.3148</td><td>43.3109</td><td>792.48</td><td>98.84</td></tr><tr><td>NORTH_AMERICA</td><td>1761449720</td><td>a526e2</td><td>AAL3124 </td><td>United States</td><td>-97.0338</td><td>32.8815</td><td>null</td><td>0</td></tr><tr><td>NORTH_AMERICA</td><td>1761449720</td><td>aa7f27</td><td>UAL1229 </td><td>United States</td><td>-106.7195</td><td>39.768</td><td>8534.4</td><td>213.17</td></tr><tr><td>NORTH_AMERICA</td><td>1761449720</td><td>aa7f25</td><td>UAL1326 </td><td>United States</td><td>-109.3773</td><td>36.6697</td><td>10363.2</td><td>223.58</td></tr><tr><td>NORTH_AMERICA</td><td>1761449720</td><td>0d08f3</td><td>VIV583  </td><td>Mexico</td><td>-97.0005</td><td>32.6056</td><td>3939.54</td><td>152.47</td></tr><tr><td>NORTH_AMERICA</td><td>1761449720</td><td>a143e2</td><td>CXK699  </td><td>United States</td><td>-104.6858</td><td>38.8047</td><td>1836.42</td><td>42.19</td></tr><tr><td>NORTH_AMERICA</td><td>1761449720</td><td>a406c9</td><td>FFT4212 </td><td>United States</td><td>-84.5345</td><td>33.6318</td><td>647.7</td><td>74.08</td></tr><tr><td>NORTH_AMERICA</td><td>1761449720</td><td>c00e15</td><td>ACA1427 </td><td>Canada</td><td>-81.3721</td><td>31.6366</td><td>10668</td><td>254.94</td></tr><tr><td>NORTH_AMERICA</td><td>1761449720</td><td>a143e9</td><td></td><td>United States</td><td>-157.9432</td><td>21.3263</td><td>null</td><td>2.31</td></tr><tr><td>NORTH_AMERICA</td><td>1761449720</td><td>a023ff</td><td>N108SC  </td><td>United States</td><td>-122.7379</td><td>38.4697</td><td>388.62</td><td>55.56</td></tr><tr><td>NORTH_AMERICA</td><td>1761449720</td><td>c05056</td><td>ACA745  </td><td>Canada</td><td>-120.527</td><td>37.6867</td><td>7726.68</td><td>162.47</td></tr><tr><td>NORTH_AMERICA</td><td>1761449720</td><td>aa7f03</td><td>UAL333  </td><td>United States</td><td>-114.1438</td><td>36.168</td><td>10363.2</td><td>217.56</td></tr><tr><td>NORTH_AMERICA</td><td>1761449720</td><td>aa7f02</td><td>UAL2223 </td><td>United States</td><td>-87.9724</td><td>41.9689</td><td>281.94</td><td>69.97</td></tr><tr><td>NORTH_AMERICA</td><td>1761449720</td><td>aa7f01</td><td>UAL1972 </td><td>United States</td><td>-108.3199</td><td>37.5288</td><td>10363.2</td><td>216.91</td></tr><tr><td>NORTH_AMERICA</td><td>1761449720</td><td>aa7f09</td><td>UAL737  </td><td>United States</td><td>-123.1643</td><td>45.4125</td><td>8839.2</td><td>227.96</td></tr><tr><td>NORTH_AMERICA</td><td>1761449720</td><td>a8c489</td><td>QXE2086 </td><td>United States</td><td>-122.2449</td><td>37.7215</td><td>243.84</td><td>74.7</td></tr><tr><td>NORTH_AMERICA</td><td>1761449720</td><td>abdaa4</td><td>GTI8559 </td><td>United States</td><td>-92.1492</td><td>44.0254</td><td>9753.6</td><td>243.62</td></tr><tr><td>NORTH_AMERICA</td><td>1761449720</td><td>a383f3</td><td>JBU820  </td><td>United States</td><td>-83.3581</td><td>42.2375</td><td>160.02</td><td>72.96</td></tr><tr><td>NORTH_AMERICA</td><td>1761449720</td><td>c0506b</td><td>ACA779  </td><td>Canada</td><td>-113.0276</td><td>35.6763</td><td>10363.2</td><td>220.39</td></tr><tr><td>NORTH_AMERICA</td><td>1761449720</td><td>acc757</td><td>N922TX  </td><td>United States</td><td>-81.7688</td><td>40.5971</td><td>7010.4</td><td>188.8</td></tr><tr><td>NORTH_AMERICA</td><td>1761449720</td><td>c1e672</td><td>SWP98   </td><td>Canada</td><td>-123.1925</td><td>49.2012</td><td>null</td><td>5.92</td></tr><tr><td>NORTH_AMERICA</td><td>1761449720</td><td>ac5121</td><td>N893GT  </td><td>United States</td><td>-112.2417</td><td>33.4638</td><td>480.06</td><td>66.91</td></tr><tr><td>NORTH_AMERICA</td><td>1761449720</td><td>a9f777</td><td>NKS777  </td><td>United States</td><td>-112.5539</td><td>35.5418</td><td>8161.02</td><td>201.24</td></tr><tr><td>NORTH_AMERICA</td><td>1761449720</td><td>ac6445</td><td>AAL1136 </td><td>United States</td><td>-111.0604</td><td>34.0774</td><td>6850.38</td><td>209.47</td></tr><tr><td>NORTH_AMERICA</td><td>1761449720</td><td>a8d6de</td><td>NKS2043 </td><td>United States</td><td>-82.5568</td><td>40.4981</td><td>9631.68</td><td>226.35</td></tr><tr><td>NORTH_AMERICA</td><td>1761449720</td><td>ab31f7</td><td>PCJ20   </td><td>United States</td><td>-116.9376</td><td>42.0744</td><td>12161.52</td><td>203.21</td></tr><tr><td>NORTH_AMERICA</td><td>1761449720</td><td>c0524c</td><td>WJA214  </td><td>Canada</td><td>-81.1059</td><td>48.3129</td><td>10668</td><td>238.27</td></tr><tr><td>NORTH_AMERICA</td><td>1761449720</td><td>a4e0ec</td><td>SKW3091 </td><td>United States</td><td>-120.2872</td><td>47.2212</td><td>9113.52</td><td>228.27</td></tr><tr><td>NORTH_AMERICA</td><td>1761449720</td><td>c0656f</td><td>WJA10   </td><td>Canada</td><td>-106.0293</td><td>53.3343</td><td>11277.6</td><td>297.92</td></tr><tr><td>NORTH_AMERICA</td><td>1761449720</td><td>acb4ca</td><td>N918EC  </td><td>United States</td><td>-78.2673</td><td>35.4621</td><td>487.68</td><td>61.54</td></tr><tr><td>NORTH_AMERICA</td><td>1761449720</td><td>a8c3a2</td><td>FFT2638 </td><td>United States</td><td>-112.008</td><td>33.4342</td><td>null</td><td>0</td></tr><tr><td>NORTH_AMERICA</td><td>1761449720</td><td>a80c87</td><td>ASA143  </td><td>United States</td><td>-132.6406</td><td>55.5707</td><td>11887.2</td><td>229.75</td></tr><tr><td>NORTH_AMERICA</td><td>1761449720</td><td>a8e9fc</td><td>GTX247  </td><td>United States</td><td>-77.1433</td><td>39.1799</td><td>1402.08</td><td>81.62</td></tr><tr><td>NORTH_AMERICA</td><td>1761449720</td><td>a7a3e3</td><td>N5913D  </td><td>United States</td><td>-151.0144</td><td>60.4787</td><td>518.16</td><td>48.38</td></tr><tr><td>NORTH_AMERICA</td><td>1761449720</td><td>a43c7a</td><td>DAL2495 </td><td>United States</td><td>-88.2603</td><td>37.3058</td><td>10972.8</td><td>227.45</td></tr><tr><td>NORTH_AMERICA</td><td>1761449720</td><td>aa11c1</td><td>N748RH  </td><td>United States</td><td>-157.6609</td><td>21.2919</td><td>449.58</td><td>43.02</td></tr><tr><td>NORTH_AMERICA</td><td>1761449720</td><td>c05218</td><td>ROU1905 </td><td>Canada</td><td>-107.6886</td><td>49.2406</td><td>9745.98</td><td>218.84</td></tr><tr><td>NORTH_AMERICA</td><td>1761449720</td><td>ac791d</td><td>AAL2741 </td><td>United States</td><td>-81.3495</td><td>32.1299</td><td>518.16</td><td>83.34</td></tr><tr><td>NORTH_AMERICA</td><td>1761449720</td><td>a1584a</td><td>EDV5264 </td><td>United States</td><td>-78.7285</td><td>42.9361</td><td>null</td><td>0</td></tr><tr><td>NORTH_AMERICA</td><td>1761449720</td><td>0c6061</td><td>BWA526  </td><td>Trinidad and Tobago</td><td>-73.7202</td><td>40.626</td><td>114.3</td><td>76.14</td></tr><tr><td>NORTH_AMERICA</td><td>1761449720</td><td>a6cc45</td><td>AAL1022 </td><td>United States</td><td>-97.039</td><td>32.9078</td><td>null</td><td>0</td></tr><tr><td>NORTH_AMERICA</td><td>1761449720</td><td>a44ef8</td><td>JTZ377  </td><td>United States</td><td>-96.8529</td><td>32.8438</td><td>null</td><td>7.72</td></tr><tr><td>NORTH_AMERICA</td><td>1761449720</td><td>a31be9</td><td>N3PD    </td><td>United States</td><td>-73.2409</td><td>40.8763</td><td>106.68</td><td>44.39</td></tr><tr><td>NORTH_AMERICA</td><td>1761449720</td><td>0d0963</td><td>VIV436  </td><td>Mexico</td><td>-84.592</td><td>18.6302</td><td>11277.6</td><td>238.39</td></tr><tr><td>NORTH_AMERICA</td><td>1761449720</td><td>a3c235</td><td>NDU341  </td><td>United States</td><td>-111.9278</td><td>32.8598</td><td>1066.8</td><td>47.37</td></tr><tr><td>NORTH_AMERICA</td><td>1761449720</td><td>acc7ae</td><td>EDV5481 </td><td>United States</td><td>-73.2232</td><td>43.8206</td><td>4038.6</td><td>173.91</td></tr><tr><td>NORTH_AMERICA</td><td>1761449720</td><td>a3c246</td><td>DAL2552 </td><td>United States</td><td>-74.1761</td><td>40.6832</td><td>null</td><td>7.72</td></tr><tr><td>NORTH_AMERICA</td><td>1761449720</td><td>a44ec6</td><td>N377L   </td><td>United States</td><td>-112.541</td><td>33.2367</td><td>2560.32</td><td>127.01</td></tr><tr><td>NORTH_AMERICA</td><td>1761449720</td><td>a67bc8</td><td>DAL506  </td><td>United States</td><td>-119.497</td><td>46.238</td><td>10972.8</td><td>207.57</td></tr><tr><td>NORTH_AMERICA</td><td>1761449720</td><td>a1dbc4</td><td>N219JL  </td><td>United States</td><td>-93.6901</td><td>35.5958</td><td>10972.8</td><td>214.21</td></tr><tr><td>NORTH_AMERICA</td><td>1761449720</td><td>c00ec2</td><td>WJA2719 </td><td>Canada</td><td>-81.1251</td><td>24.6617</td><td>10058.4</td><td>229.61</td></tr><tr><td>NORTH_AMERICA</td><td>1761449720</td><td>aa3930</td><td>EJA758  </td><td>United States</td><td>-103.2477</td><td>39.436</td><td>11117.58</td><td>249.04</td></tr><tr><td>NORTH_AMERICA</td><td>1761449720</td><td>ab44dd</td><td>EJA825  </td><td>United States</td><td>-105.0926</td><td>34.4945</td><td>13106.4</td><td>226.4</td></tr><tr><td>NORTH_AMERICA</td><td>1761449720</td><td>a037b9</td><td>DAL2954 </td><td>United States</td><td>-96.9815</td><td>45.4162</td><td>11582.4</td><td>221.61</td></tr><tr><td>NORTH_AMERICA</td><td>1761449720</td><td>abdd4a</td><td>SWA1714 </td><td>United States</td><td>-117.1661</td><td>32.7278</td><td>76.2</td><td>70.32</td></tr><tr><td>NORTH_AMERICA</td><td>1761449720</td><td>a993f1</td><td>SKW6451 </td><td>United States</td><td>-111.5575</td><td>33.1674</td><td>4396.74</td><td>196.98</td></tr><tr><td>NORTH_AMERICA</td><td>1761449720</td><td>0d0932</td><td>VOI1838 </td><td>Mexico</td><td>-118.5352</td><td>34.8907</td><td>10972.8</td><td>202.44</td></tr><tr><td>NORTH_AMERICA</td><td>1761449720</td><td>a2b562</td><td>ASA106  </td><td>United States</td><td>-122.7018</td><td>47.8777</td><td>2994.66</td><td>129.18</td></tr><tr><td>NORTH_AMERICA</td><td>1761449720</td><td>ad2efa</td><td>DAL2425 </td><td>United States</td><td>-81.6247</td><td>32.3197</td><td>1973.58</td><td>130.79</td></tr><tr><td>NORTH_AMERICA</td><td>1761449720</td><td>c050c4</td><td>ACA159  </td><td>Canada</td><td>-82.3536</td><td>44.5166</td><td>11582.4</td><td>212.38</td></tr><tr><td>NORTH_AMERICA</td><td>1761449720</td><td>c050c5</td><td>ACA696  </td><td>Canada</td><td>-67.4662</td><td>45.9084</td><td>10668</td><td>259.73</td></tr><tr><td>NORTH_AMERICA</td><td>1761449720</td><td>c050c0</td><td>ACA558  </td><td>Canada</td><td>-119.7113</td><td>36.3503</td><td>11887.2</td><td>239.17</td></tr><tr><td>NORTH_AMERICA</td><td>1761449720</td><td>c063ce</td><td>CWA921  </td><td>Canada</td><td>-114.7398</td><td>54.4889</td><td>6400.8</td><td>123.52</td></tr><tr><td>NORTH_AMERICA</td><td>1761449720</td><td>ab3282</td><td>SCX8438 </td><td>United States</td><td>-74.612</td><td>42.1609</td><td>8229.6</td><td>244.52</td></tr><tr><td>NORTH_AMERICA</td><td>1761449720</td><td>a05a01</td><td>UAL317  </td><td>United States</td><td>-74.1175</td><td>40.7455</td><td>807.72</td><td>111.43</td></tr><tr><td>NORTH_AMERICA</td><td>1761449720</td><td>0d07f0</td><td>AMX556  </td><td>Mexico</td><td>-99.0229</td><td>19.4651</td><td>2659.38</td><td>106.32</td></tr><tr><td>NORTH_AMERICA</td><td>1761449720</td><td>a0aa26</td><td>N142AH  </td><td>United States</td><td>-71.7856</td><td>42.2896</td><td>388.62</td><td>40.77</td></tr><tr><td>NORTH_AMERICA</td><td>1761449720</td><td>ad7282</td><td>DAL2846 </td><td>United States</td><td>-74.2531</td><td>40.5572</td><td>487.68</td><td>90.26</td></tr><tr><td>NORTH_AMERICA</td><td>1761449720</td><td>406e0f</td><td>VIR118  </td><td>United Kingdom</td><td>-77.4293</td><td>27.9968</td><td>11879.58</td><td>266.07</td></tr><tr><td>NORTH_AMERICA</td><td>1761449720</td><td>a0aa2b</td><td>AAL2714 </td><td>United States</td><td>-97.0349</td><td>32.8972</td><td>null</td><td>0</td></tr><tr><td>NORTH_AMERICA</td><td>1761449720</td><td>aa253b</td><td>AAL931  </td><td>United States</td><td>-79.4565</td><td>13.7354</td><td>10668</td><td>257.75</td></tr><tr><td>NORTH_AMERICA</td><td>1761449720</td><td>a9d0fe</td><td>RPA3538 </td><td>United States</td><td>-86.5029</td><td>40.0664</td><td>7924.8</td><td>192.94</td></tr><tr><td>NORTH_AMERICA</td><td>1761449720</td><td>c063c8</td><td>CWA927  </td><td>Canada</td><td>-114.0098</td><td>51.1261</td><td>null</td><td>16.98</td></tr><tr><td>NORTH_AMERICA</td><td>1761449720</td><td>a7fed0</td><td>NKS3247 </td><td>United States</td><td>-95.2819</td><td>29.9776</td><td>129.54</td><td>77.68</td></tr><tr><td>NORTH_AMERICA</td><td>1761449720</td><td>ab4515</td><td>SCX396  </td><td>United States</td><td>-105.2864</td><td>40.3384</td><td>11277.6</td><td>235.58</td></tr><tr><td>NORTH_AMERICA</td><td>1761449720</td><td>0d07b3</td><td>VOI3282 </td><td>Mexico</td><td>-112.0374</td><td>31.0267</td><td>10066.02</td><td>219.63</td></tr><tr><td>NORTH_AMERICA</td><td>1761449720</td><td>aa37ce</td><td>AAL134  </td><td>United States</td><td>-107.7395</td><td>43.2091</td><td>9448.8</td><td>272.35</td></tr><tr><td>NORTH_AMERICA</td><td>1761449720</td><td>a55d50</td><td>N445BG  </td><td>United States</td><td>-83.8987</td><td>41.5272</td><td>739.14</td><td>81.63</td></tr><tr><td>NORTH_AMERICA</td><td>1761449720</td><td>a9d284</td><td>ASA301  </td><td>United States</td><td>-121.8817</td><td>45.4876</td><td>2621.28</td><td>89.73</td></tr><tr><td>NORTH_AMERICA</td><td>1761449720</td><td>a17a5a</td><td>N1947F  </td><td>United States</td><td>-80.6271</td><td>27.9598</td><td>716.28</td><td>47.16</td></tr><tr><td>NORTH_AMERICA</td><td>1761449720</td><td>a2a1a5</td><td>ENY3341 </td><td>United States</td><td>-80.8113</td><td>35.2493</td><td>1760.22</td><td>139.73</td></tr><tr><td>NORTH_AMERICA</td><td>1761449720</td><td>ab5867</td><td>AAL963  </td><td>United States</td><td>-98.215</td><td>29.3261</td><td>10660.38</td><td>253.94</td></tr><tr><td>NORTH_AMERICA</td><td>1761449720</td><td>a2c7f3</td><td>LN279AH </td><td>United States</td><td>-91.5421</td><td>41.6395</td><td>null</td><td>0.45</td></tr><tr><td>NORTH_AMERICA</td><td>1761449720</td><td>a754b5</td><td>UAL2681 </td><td>United States</td><td>-120.7541</td><td>37.6582</td><td>7269.48</td><td>178.98</td></tr><tr><td>NORTH_AMERICA</td><td>1761449720</td><td>a384d5</td><td>ENY3450 </td><td>United States</td><td>-97.8647</td><td>43.0984</td><td>10058.4</td><td>211.99</td></tr><tr><td>NORTH_AMERICA</td><td>1761449720</td><td>ad2ea1</td><td>ASA369  </td><td>United States</td><td>-99.9227</td><td>37.6193</td><td>10363.2</td><td>227.81</td></tr><tr><td>NORTH_AMERICA</td><td>1761449720</td><td>a8b266</td><td>N66FJ   </td><td>United States</td><td>-86.4819</td><td>35.9758</td><td>266.7</td><td>73.68</td></tr><tr><td>NORTH_AMERICA</td><td>1761449720</td><td>abeeea</td><td>SWA1445 </td><td>United States</td><td>-120.6846</td><td>35.2929</td><td>9441.18</td><td>260.8</td></tr><tr><td>NORTH_AMERICA</td><td>1761449720</td><td>a2b4ea</td><td>UAL2462 </td><td>United States</td><td>-111.5719</td><td>39.6053</td><td>8534.4</td><td>212.19</td></tr><tr><td>NORTH_AMERICA</td><td>1761449720</td><td>781941</td><td>CSN436  </td><td>China</td><td>-91.8293</td><td>47.1678</td><td>8534.4</td><td>237.97</td></tr><tr><td>NORTH_AMERICA</td><td>1761449720</td><td>a1110d</td><td>SKW5464 </td><td>United States</td><td>-84.6572</td><td>37.99</td><td>487.68</td><td>60.49</td></tr><tr><td>NORTH_AMERICA</td><td>1761449720</td><td>a28ab5</td><td>LXJ263  </td><td>United States</td><td>-89.7974</td><td>31.9832</td><td>10576.56</td><td>208.15</td></tr><tr><td>NORTH_AMERICA</td><td>1761449720</td><td>a1244d</td><td>UAL404  </td><td>United States</td><td>-83.1441</td><td>34.3087</td><td>10668</td><td>252.51</td></tr><tr><td>NORTH_AMERICA</td><td>1761449720</td><td>a9c2de</td><td>SKW6467 </td><td>United States</td><td>-106.7256</td><td>40.0686</td><td>10980.42</td><td>216.98</td></tr><tr><td>NORTH_AMERICA</td><td>1761449720</td><td>a972ee</td><td>GTI3510 </td><td>United States</td><td>-119.8129</td><td>37.6142</td><td>10972.8</td><td>219.08</td></tr><tr><td>NORTH_AMERICA</td><td>1761449720</td><td>a8fe5d</td><td>NKS2053 </td><td>United States</td><td>-84.4289</td><td>33.6446</td><td>null</td><td>6.69</td></tr><tr><td>NORTH_AMERICA</td><td>1761449720</td><td>a9d5e5</td><td>UAL720  </td><td>United States</td><td>-107.3398</td><td>44.1827</td><td>10972.8</td><td>239</td></tr><tr><td>NORTH_AMERICA</td><td>1761449720</td><td>a8fe57</td><td>NDU679  </td><td>United States</td><td>-111.6498</td><td>33.2979</td><td>411.48</td><td>35.33</td></tr><tr><td>NORTH_AMERICA</td><td>1761449720</td><td>c03160</td><td>CFSSD   </td><td>Canada</td><td>-106.6834</td><td>52.1704</td><td>null</td><td>4.12</td></tr><tr><td>NORTH_AMERICA</td><td>1761449720</td><td>a23138</td><td>ENY3739 </td><td>United States</td><td>-84.1839</td><td>33.7186</td><td>8420.1</td><td>209.47</td></tr><tr><td>NORTH_AMERICA</td><td>1761449720</td><td>a3a155</td><td>DAL2472 </td><td>United States</td><td>-77.678</td><td>43.1184</td><td>30.48</td><td>64.14</td></tr><tr><td>NORTH_AMERICA</td><td>1761449720</td><td>a9873d</td><td>ASA1098 </td><td>United States</td><td>-117.0959</td><td>32.7109</td><td>502.92</td><td>80.91</td></tr><tr><td>NORTH_AMERICA</td><td>1761449720</td><td>a36493</td><td>SVX43   </td><td>United States</td><td>-159.4914</td><td>59.7275</td><td>8534.4</td><td>162.4</td></tr><tr><td>NORTH_AMERICA</td><td>1761449720</td><td>a9741d</td><td>AAL2903 </td><td>United States</td><td>-82.3504</td><td>39.856</td><td>10972.8</td><td>180.9</td></tr><tr><td>NORTH_AMERICA</td><td>1761449720</td><td>ad63a8</td><td>TAI520  </td><td>United States</td><td>-111.7569</td><td>30.0382</td><td>10363.2</td><td>230.03</td></tr><tr><td>NORTH_AMERICA</td><td>1761449720</td><td>a8540b</td><td>PDT6078 </td><td>United States</td><td>-81.2302</td><td>33.9642</td><td>441.96</td><td>61.16</td></tr><tr><td>NORTH_AMERICA</td><td>1761449720</td><td>ab10d4</td><td>ASA1224 </td><td>United States</td><td>-121.8935</td><td>46.1688</td><td>9044.94</td><td>226.7</td></tr><tr><td>NORTH_AMERICA</td><td>1761449720</td><td>a97401</td><td>N708TT  </td><td>United States</td><td>-80.1862</td><td>27.2642</td><td>3070.86</td><td>151.3</td></tr><tr><td>NORTH_AMERICA</td><td>1761449720</td><td>ab10cb</td><td>AAL204  </td><td>United States</td><td>-68.213</td><td>44.9962</td><td>11887.2</td><td>269.58</td></tr><tr><td>NORTH_AMERICA</td><td>1761449720</td><td>acdc5a</td><td>SKW794U </td><td>United States</td><td>-103.2047</td><td>39.699</td><td>7696.2</td><td>187.82</td></tr><tr><td>NORTH_AMERICA</td><td>1761449720</td><td>a42f04</td><td>N369PD  </td><td>United States</td><td>-84.3345</td><td>33.7393</td><td>632.46</td><td>16.57</td></tr><tr><td>NORTH_AMERICA</td><td>1761449720</td><td>a73410</td><td>SWA4708 </td><td>United States</td><td>-122.2139</td><td>37.7087</td><td>null</td><td>1.54</td></tr><tr><td>NORTH_AMERICA</td><td>1761449720</td><td>abbc75</td><td>SWA3494 </td><td>United States</td><td>-109.6781</td><td>35.1573</td><td>11582.4</td><td>217.87</td></tr><tr><td>NORTH_AMERICA</td><td>1761449720</td><td>a4d42d</td><td>AAL2055 </td><td>United States</td><td>-101.7588</td><td>37.6163</td><td>9753.6</td><td>235.54</td></tr><tr><td>NORTH_AMERICA</td><td>1761449720</td><td>a62781</td><td>AJT1020 </td><td>United States</td><td>-165.9868</td><td>58.8811</td><td>10675.62</td><td>251.51</td></tr><tr><td>NORTH_AMERICA</td><td>1761449720</td><td>a123e2</td><td></td><td>United States</td><td>-113.2495</td><td>38.3572</td><td>10972.8</td><td>205.29</td></tr><tr><td>NORTH_AMERICA</td><td>1761449720</td><td>ac9f15</td><td>N912LB  </td><td>United States</td><td>-111.6023</td><td>33.2263</td><td>1005.84</td><td>54.85</td></tr><tr><td>NORTH_AMERICA</td><td>1761449720</td><td>a506d5</td><td>ASA16   </td><td>United States</td><td>-73.7692</td><td>40.647</td><td>null</td><td>2.31</td></tr><tr><td>NORTH_AMERICA</td><td>1761449720</td><td>a1cf48</td><td>JBU315  </td><td>United States</td><td>-122.125</td><td>37.5392</td><td>990.6</td><td>83.5</td></tr><tr><td>NORTH_AMERICA</td><td>1761449720</td><td>a16c3a</td><td>DAL272  </td><td>United States</td><td>-68.2287</td><td>41.5331</td><td>10668</td><td>281.1</td></tr><tr><td>NORTH_AMERICA</td><td>1761449720</td><td>ada16f</td><td>DAL2083 </td><td>United States</td><td>-90.4195</td><td>34.4445</td><td>9464.04</td><td>217.33</td></tr><tr><td>NORTH_AMERICA</td><td>1761449720</td><td>ab23b5</td><td>DAL1934 </td><td>United States</td><td>-111.9769</td><td>40.8069</td><td>null</td><td>1.8</td></tr><tr><td>NORTH_AMERICA</td><td>1761449720</td><td>a519b8</td><td>DAL74   </td><td>United States</td><td>-67.274</td><td>45.5792</td><td>11277.6</td><td>260.03</td></tr><tr><td>NORTH_AMERICA</td><td>1761449720</td><td>a90aaa</td><td>PDT6051 </td><td>United States</td><td>-83.4733</td><td>35.0821</td><td>7315.2</td><td>200.05</td></tr><tr><td>NORTH_AMERICA</td><td>1761449720</td><td>a1cf96</td><td>N2158S  </td><td>United States</td><td>-75.9865</td><td>37.2517</td><td>1554.48</td><td>50.43</td></tr><tr><td>NORTH_AMERICA</td><td>1761449720</td><td>ac9f52</td><td>AAL324P </td><td>United States</td><td>-112.9885</td><td>37.9491</td><td>11277.6</td><td>256.18</td></tr><tr><td>NORTH_AMERICA</td><td>1761449720</td><td>a9876e</td><td>CKS602  </td><td>United States</td><td>-143.5637</td><td>57.3301</td><td>10972.8</td><td>249.62</td></tr><tr><td>NORTH_AMERICA</td><td>1761449720</td><td>a8a43a</td><td>NKS949  </td><td>United States</td><td>-116.9664</td><td>34.6924</td><td>7010.4</td><td>209.51</td></tr><tr><td>NORTH_AMERICA</td><td>1761449720</td><td>a5f3cf</td><td>ASA381  </td><td>United States</td><td>-121.4498</td><td>36.1776</td><td>9144</td><td>181.26</td></tr><tr><td>NORTH_AMERICA</td><td>1761449720</td><td>aaf111</td><td>DAL858  </td><td>United States</td><td>-93.0633</td><td>37.5463</td><td>11277.6</td><td>237.29</td></tr><tr><td>NORTH_AMERICA</td><td>1761449720</td><td>3949eb</td><td>AFR651  </td><td>France</td><td>-80.0484</td><td>34.4753</td><td>10668</td><td>269.18</td></tr><tr><td>NORTH_AMERICA</td><td>1761449720</td><td>a7df61</td><td>SKW5864 </td><td>United States</td><td>-118.421</td><td>33.947</td><td>null</td><td>8.75</td></tr><tr><td>NORTH_AMERICA</td><td>1761449720</td><td>ad7760</td><td>AAL1732 </td><td>United States</td><td>-82.5838</td><td>36.1966</td><td>10309.86</td><td>211.36</td></tr><tr><td>NORTH_AMERICA</td><td>1761449720</td><td>a6bf5a</td><td>ASA1085 </td><td>United States</td><td>-122.6053</td><td>45.4057</td><td>1851.66</td><td>101.66</td></tr><tr><td>NORTH_AMERICA</td><td>1761449720</td><td>c055d6</td><td>JZA655  </td><td>Canada</td><td>-123.2487</td><td>49.2106</td><td>365.76</td><td>59.04</td></tr><tr><td>NORTH_AMERICA</td><td>1761449720</td><td>a89c23</td><td>FFT1949 </td><td>United States</td><td>-121.6861</td><td>37.536</td><td>3086.1</td><td>133.84</td></tr><tr><td>NORTH_AMERICA</td><td>1761449720</td><td>a01820</td><td>AMX322  </td><td>United States</td><td>-96.178</td><td>18.6639</td><td>11277.6</td><td>239.71</td></tr><tr><td>NORTH_AMERICA</td><td>1761449720</td><td>3949e9</td><td>AFR501  </td><td>France</td><td>-61.5373</td><td>12.7218</td><td>10058.4</td><td>251.18</td></tr><tr><td>NORTH_AMERICA</td><td>1761449720</td><td>a733e6</td><td>AAL2507 </td><td>United States</td><td>-107.3128</td><td>38.1484</td><td>9761.22</td><td>221.3</td></tr><tr><td>NORTH_AMERICA</td><td>1761449720</td><td>39cf12</td><td>AFR012  </td><td>France</td><td>-73.7917</td><td>40.6428</td><td>null</td><td>0</td></tr><tr><td>NORTH_AMERICA</td><td>1761449720</td><td>39cf13</td><td>AFR93M  </td><td>France</td><td>-78.3455</td><td>27.7864</td><td>10515.6</td><td>263.49</td></tr><tr><td>NORTH_AMERICA</td><td>1761449720</td><td>a1bc8f</td><td>C6015   </td><td>United States</td><td>-117.4868</td><td>32.5094</td><td>198.12</td><td>40.29</td></tr><tr><td>NORTH_AMERICA</td><td>1761449720</td><td>ab6afa</td><td>AAL258  </td><td>United States</td><td>-67.576</td><td>44.1272</td><td>11887.2</td><td>272.05</td></tr><tr><td>NORTH_AMERICA</td><td>1761449720</td><td>ab2496</td><td>AAL703  </td><td>United States</td><td>-79.2944</td><td>41.4129</td><td>9723.12</td><td>232.96</td></tr><tr><td>NORTH_AMERICA</td><td>1761449720</td><td>7c806e</td><td>QFA8    </td><td>Australia</td><td>-100.6664</td><td>32.2626</td><td>9745.98</td><td>229.39</td></tr><tr><td>NORTH_AMERICA</td><td>1761449720</td><td>7c8066</td><td>QFA4    </td><td>Australia</td><td>-105.6121</td><td>32.5825</td><td>10363.2</td><td>254.53</td></tr><tr><td>NORTH_AMERICA</td><td>1761449720</td><td>a24529</td><td>UAL212  </td><td>United States</td><td>-88.5605</td><td>42.3663</td><td>2506.98</td><td>148.62</td></tr><tr><td>NORTH_AMERICA</td><td>1761449720</td><td>aa4c1a</td><td>UAL1729 </td><td>United States</td><td>-118.77</td><td>45.6371</td><td>10972.8</td><td>209.39</td></tr><tr><td>NORTH_AMERICA</td><td>1761449720</td><td>407cd1</td><td>BAW21ML </td><td>United Kingdom</td><td>-78.0926</td><td>46.4062</td><td>11887.2</td><td>260.82</td></tr><tr><td>NORTH_AMERICA</td><td>1761449720</td><td>4ca15e</td><td>EIN9CX  </td><td>Ireland</td><td>-98.3592</td><td>50.7843</td><td>11277.6</td><td>255.29</td></tr><tr><td>NORTH_AMERICA</td><td>1761449720</td><td>a3fc5c</td><td>N356P   </td><td>United States</td><td>-111.9208</td><td>33.4878</td><td>403.86</td><td>8.62</td></tr><tr><td>NORTH_AMERICA</td><td>1761449720</td><td>a9618a</td><td>AAL1246 </td><td>United States</td><td>-79.6244</td><td>43.684</td><td>null</td><td>2.57</td></tr><tr><td>NORTH_AMERICA</td><td>1761449720</td><td>a24508</td><td>UAL1967 </td><td>United States</td><td>-118.4088</td><td>33.9379</td><td>null</td><td>11.83</td></tr><tr><td>NORTH_AMERICA</td><td>1761449720</td><td>a1256a</td><td>N173ME  </td><td>United States</td><td>-84.6076</td><td>33.4853</td><td>1310.64</td><td>52.89</td></tr><tr><td>NORTH_AMERICA</td><td>1761449720</td><td>a1388c</td><td>SKW3354 </td><td>United States</td><td>-121.1092</td><td>36.3315</td><td>8610.6</td><td>260.51</td></tr><tr><td>NORTH_AMERICA</td><td>1761449720</td><td>a28bc9</td><td>SKW120W </td><td>United States</td><td>-113.6234</td><td>37.0225</td><td>8534.4</td><td>220.78</td></tr><tr><td>NORTH_AMERICA</td><td>1761449720</td><td>a2454f</td><td>UAL2215 </td><td>United States</td><td>-103.9851</td><td>39.1627</td><td>6507.48</td><td>203.7</td></tr><tr><td>NORTH_AMERICA</td><td>1761449720</td><td>adc913</td><td>N988CE  </td><td>United States</td><td>-92.891</td><td>48.2153</td><td>11887.2</td><td>234.81</td></tr><tr><td>NORTH_AMERICA</td><td>1761449720</td><td>a3a222</td><td>DAL2686 </td><td>United States</td><td>-105.0762</td><td>31.5127</td><td>11277.6</td><td>255.19</td></tr><tr><td>NORTH_AMERICA</td><td>1761449720</td><td>a960e9</td><td>NKS2593 </td><td>United States</td><td>-116.4403</td><td>34.4454</td><td>7940.04</td><td>218.68</td></tr><tr><td>NORTH_AMERICA</td><td>1761449720</td><td>a2452f</td><td>UAL787  </td><td>United States</td><td>-87.9146</td><td>41.9744</td><td>null</td><td>7.72</td></tr><tr><td>NORTH_AMERICA</td><td>1761449720</td><td>a35254</td><td>DAL2108 </td><td>United States</td><td>-95.8266</td><td>44.3177</td><td>11887.2</td><td>229.72</td></tr><tr><td>NORTH_AMERICA</td><td>1761449720</td><td>a89c6e</td><td>N654JR  </td><td>United States</td><td>-119.0471</td><td>35.7217</td><td>1950.72</td><td>89.5</td></tr><tr><td>NORTH_AMERICA</td><td>1761449720</td><td>a24591</td><td>UAL1236 </td><td>United States</td><td>-107.2106</td><td>37.032</td><td>10744.2</td><td>230.41</td></tr><tr><td>NORTH_AMERICA</td><td>1761449720</td><td>a973de</td><td>N708SH  </td><td>United States</td><td>-115.1643</td><td>36.1004</td><td>762</td><td>44.45</td></tr><tr><td>NORTH_AMERICA</td><td>1761449720</td><td>a47227</td><td>LXJ386  </td><td>United States</td><td>-86.4538</td><td>30.3803</td><td>76.2</td><td>61.54</td></tr><tr><td>NORTH_AMERICA</td><td>1761449720</td><td>ac9ff2</td><td>AAL2810 </td><td>United States</td><td>-99.3373</td><td>33.4068</td><td>9029.7</td><td>219.29</td></tr><tr><td>NORTH_AMERICA</td><td>1761449720</td><td>aca941</td><td>N915AC  </td><td>United States</td><td>-81.4341</td><td>28.4073</td><td>167.64</td><td>67.44</td></tr><tr><td>NORTH_AMERICA</td><td>1761449720</td><td>a24573</td><td>UAL2117 </td><td>United States</td><td>-105.9949</td><td>42.0369</td><td>11285.22</td><td>248.51</td></tr><tr><td>NORTH_AMERICA</td><td>1761449720</td><td>ab399c</td><td>N822PP  </td><td>United States</td><td>-71.0281</td><td>42.216</td><td>213.36</td><td>20.38</td></tr><tr><td>NORTH_AMERICA</td><td>1761449720</td><td>ac8ce5</td><td>AAL3245 </td><td>United States</td><td>-111.6101</td><td>33.7724</td><td>3962.4</td><td>151.98</td></tr><tr><td>NORTH_AMERICA</td><td>1761449720</td><td>aca94b</td><td>AAL1236 </td><td>United States</td><td>-76.8781</td><td>42.8444</td><td>3733.8</td><td>177.98</td></tr><tr><td>NORTH_AMERICA</td><td>1761449720</td><td>a90bb9</td><td>N682MA  </td><td>United States</td><td>-75.2731</td><td>38.4182</td><td>1546.86</td><td>49.24</td></tr><tr><td>NORTH_AMERICA</td><td>1761449720</td><td>ac8d5c</td><td>SKW452Z </td><td>United States</td><td>-100.2962</td><td>44.3834</td><td>null</td><td>0.9</td></tr><tr><td>NORTH_AMERICA</td><td>1761449720</td><td>a61592</td><td>UAL2275 </td><td>United States</td><td>-82.1354</td><td>35.4821</td><td>10965.18</td><td>206.22</td></tr><tr><td>NORTH_AMERICA</td><td>1761449720</td><td>a35283</td><td>FFT1727 </td><td>United States</td><td>-91.5324</td><td>34.735</td><td>10980.42</td><td>222.86</td></tr><tr><td>NORTH_AMERICA</td><td>1761449720</td><td>a3a27a</td><td>ENY4262 </td><td>United States</td><td>-93.3717</td><td>34.7335</td><td>10058.4</td><td>233.27</td></tr><tr><td>NORTH_AMERICA</td><td>1761449720</td><td>a017a8</td><td>DAL896  </td><td>United States</td><td>-97.9336</td><td>37.6779</td><td>9738.36</td><td>246.06</td></tr><tr><td>NORTH_AMERICA</td><td>1761449720</td><td>ac7a52</td><td>AAL844  </td><td>United States</td><td>-86.6986</td><td>31.8734</td><td>10683.24</td><td>242.27</td></tr><tr><td>NORTH_AMERICA</td><td>1761449720</td><td>a9c506</td><td>ASA397  </td><td>United States</td><td>-110.5773</td><td>32.4317</td><td>10972.8</td><td>227.68</td></tr><tr><td>NORTH_AMERICA</td><td>1761449720</td><td>ac7a5b</td><td>ASA529  </td><td>United States</td><td>-119.0188</td><td>35.2476</td><td>8900.16</td><td>217.35</td></tr><tr><td>NORTH_AMERICA</td><td>1761449720</td><td>ac7a61</td><td>KYE4874 </td><td>United States</td><td>-127.1043</td><td>44.0977</td><td>10668</td><td>279.99</td></tr><tr><td>NORTH_AMERICA</td><td>1761449720</td><td>c05840</td><td>ACA327  </td><td>Canada</td><td>-103.565</td><td>50.5024</td><td>12192</td><td>220.55</td></tr><tr><td>NORTH_AMERICA</td><td>1761449720</td><td>aa064d</td><td>NDU745  </td><td>United States</td><td>-111.6646</td><td>33.1862</td><td>1043.94</td><td>39.63</td></tr><tr><td>NORTH_AMERICA</td><td>1761449720</td><td>c0583a</td><td>ACA808  </td><td>Canada</td><td>-65.754</td><td>47.497</td><td>10668</td><td>257.72</td></tr><tr><td>NORTH_AMERICA</td><td>1761449720</td><td>adea26</td><td>AAL494  </td><td>United States</td><td>-79.0413</td><td>35.6901</td><td>1341.12</td><td>90.7</td></tr><tr><td>NORTH_AMERICA</td><td>1761449720</td><td>a86861</td><td>N64056  </td><td>United States</td><td>-111.6164</td><td>33.3089</td><td>784.86</td><td>42.64</td></tr><tr><td>NORTH_AMERICA</td><td>1761449720</td><td>c03210</td><td>ASP844  </td><td>Canada</td><td>-79.6507</td><td>43.6874</td><td>null</td><td>9.77</td></tr><tr><td>NORTH_AMERICA</td><td>1761449720</td><td>a9b0ed</td><td>RPA3585 </td><td>United States</td><td>-74.1721</td><td>40.6808</td><td>-106.68</td><td>69.49</td></tr><tr><td>NORTH_AMERICA</td><td>1761449720</td><td>c030fd</td><td>ACA792  </td><td>Canada</td><td>-82.2804</td><td>42.7685</td><td>10035.54</td><td>269.41</td></tr><tr><td>NORTH_AMERICA</td><td>1761449720</td><td>a39a13</td><td>FFT3311 </td><td>United States</td><td>-98.3284</td><td>36.5574</td><td>10980.42</td><td>230.77</td></tr><tr><td>NORTH_AMERICA</td><td>1761449720</td><td>a3ea15</td><td>N351SA  </td><td>United States</td><td>-142.11</td><td>59.3314</td><td>6400.8</td><td>130.88</td></tr><tr><td>NORTH_AMERICA</td><td>1761449720</td><td>a3b4d6</td><td>AAL1273 </td><td>United States</td><td>-100.7765</td><td>34.0332</td><td>10363.2</td><td>218.13</td></tr><tr><td>NORTH_AMERICA</td><td>1761449720</td><td>ac57d2</td><td>SWA265  </td><td>United States</td><td>-114.2727</td><td>33.7598</td><td>7924.8</td><td>237.16</td></tr><tr><td>NORTH_AMERICA</td><td>1761449720</td><td>a5e295</td><td>AMX198  </td><td>United States</td><td>-111.0041</td><td>29.7564</td><td>10972.8</td><td>221.38</td></tr><tr><td>NORTH_AMERICA</td><td>1761449720</td><td>acdd18</td><td>NKS797  </td><td>United States</td><td>-83.322</td><td>42.391</td><td>1043.94</td><td>113.51</td></tr><tr><td>NORTH_AMERICA</td><td>1761449720</td><td>ab11c9</td><td>FOX1    </td><td>United States</td><td>-111.3804</td><td>33.6226</td><td>1226.82</td><td>64.11</td></tr><tr><td>NORTH_AMERICA</td><td>1761449720</td><td>a5e29a</td><td>ASA141  </td><td>United States</td><td>-114.0403</td><td>42.5569</td><td>10363.2</td><td>233.49</td></tr><tr><td>NORTH_AMERICA</td><td>1761449720</td><td>a1bd6a</td><td>MXY819  </td><td>United States</td><td>-81.2814</td><td>30.7036</td><td>9144</td><td>228.93</td></tr><tr><td>NORTH_AMERICA</td><td>1761449720</td><td>a76a3a</td><td>UPS109  </td><td>United States</td><td>-86.9066</td><td>39.0232</td><td>6339.84</td><td>233.18</td></tr><tr><td>NORTH_AMERICA</td><td>1761449720</td><td>a471ec</td><td>DAL2077 </td><td>United States</td><td>-83.3114</td><td>28.9091</td><td>6301.74</td><td>233.5</td></tr><tr><td>NORTH_AMERICA</td><td>1761449720</td><td>abbbae</td><td>UAL1563 </td><td>United States</td><td>-111.3726</td><td>32.9684</td><td>10363.2</td><td>224.55</td></tr><tr><td>NORTH_AMERICA</td><td>1761449720</td><td>a734e0</td><td>N5633R  </td><td>United States</td><td>-112.0619</td><td>41.5474</td><td>1417.32</td><td>51.96</td></tr><tr><td>NORTH_AMERICA</td><td>1761449720</td><td>c043b7</td><td>ACA158  </td><td>Canada</td><td>-85.3107</td><td>46.9807</td><td>11879.58</td><td>242.04</td></tr><tr><td>NORTH_AMERICA</td><td>1761449720</td><td>a52a99</td><td>AAL2529 </td><td>United States</td><td>-115.1357</td><td>36.08</td><td>null</td><td>0</td></tr><tr><td>NORTH_AMERICA</td><td>1761449720</td><td>a27a94</td><td>SKW3825 </td><td>United States</td><td>-96.9664</td><td>46.6268</td><td>10363.2</td><td>225.6</td></tr><tr><td>NORTH_AMERICA</td><td>1761449720</td><td>c056c2</td><td>NRL819  </td><td>Canada</td><td>-74.0212</td><td>45.6708</td><td>null</td><td>5.14</td></tr><tr><td>NORTH_AMERICA</td><td>1761449720</td><td>acdbec</td><td>ASA331  </td><td>United States</td><td>-121.9632</td><td>37.4468</td><td>1226.82</td><td>117.15</td></tr><tr><td>NORTH_AMERICA</td><td>1761449720</td><td>ad6595</td><td>SWA2122 </td><td>United States</td><td>-122.2141</td><td>37.7107</td><td>null</td><td>1.29</td></tr><tr><td>NORTH_AMERICA</td><td>1761449720</td><td>acdbef</td><td>AAL1427 </td><td>United States</td><td>-90.7542</td><td>27.4172</td><td>10965.18</td><td>205.94</td></tr><tr><td>NORTH_AMERICA</td><td>1761449720</td><td>a0afca</td><td>N143WA  </td><td>United States</td><td>-148.795</td><td>65.2554</td><td>2202.18</td><td>84.8</td></tr><tr><td>NORTH_AMERICA</td><td>1761449720</td><td>a3a1f3</td><td>N333LE  </td><td>United States</td><td>-87.3089</td><td>30.4728</td><td>22.86</td><td>17.83</td></tr><tr><td>NORTH_AMERICA</td><td>1761449720</td><td>a43ea6</td><td>UAL1928 </td><td>United States</td><td>-110.7003</td><td>39.4037</td><td>11277.6</td><td>238.77</td></tr><tr><td>NORTH_AMERICA</td><td>1761449720</td><td>abba93</td><td>GTI8052 </td><td>United States</td><td>-73.2451</td><td>21.9068</td><td>10058.4</td><td>272.73</td></tr><tr><td>NORTH_AMERICA</td><td>1761449720</td><td>a2551a</td><td>UAL760  </td><td>United States</td><td>-104.3909</td><td>40.1631</td><td>4442.46</td><td>194.79</td></tr><tr><td>NORTH_AMERICA</td><td>1761449720</td><td>ad8901</td><td>SKW5047 </td><td>United States</td><td>-107.8435</td><td>39.0447</td><td>9715.5</td><td>196.87</td></tr><tr><td>NORTH_AMERICA</td><td>1761449720</td><td>ab3628</td><td>AIP1074 </td><td>United States</td><td>-115.3183</td><td>47.7309</td><td>7345.68</td><td>131.47</td></tr><tr><td>NORTH_AMERICA</td><td>1761449720</td><td>a43ee5</td><td>UAL742  </td><td>United States</td><td>-107.1588</td><td>33.6479</td><td>10370.82</td><td>241.11</td></tr><tr><td>NORTH_AMERICA</td><td>1761449720</td><td>a25565</td><td>N25CP   </td><td>United States</td><td>-96.2084</td><td>33.0422</td><td>6606.54</td><td>232.85</td></tr><tr><td>NORTH_AMERICA</td><td>1761449720</td><td>ab8fcb</td><td>AAL98   </td><td>United States</td><td>-85.8334</td><td>42.2227</td><td>8755.38</td><td>276.42</td></tr><tr><td>NORTH_AMERICA</td><td>1761449720</td><td>a9d3a9</td><td>NDU732  </td><td>United States</td><td>-111.3363</td><td>32.5868</td><td>1409.7</td><td>55.8</td></tr><tr><td>NORTH_AMERICA</td><td>1761449720</td><td>ab3639</td><td>SCX506  </td><td>United States</td><td>-95.2566</td><td>40.1511</td><td>12496.8</td><td>221.47</td></tr><tr><td>NORTH_AMERICA</td><td>1761449720</td><td>a8fc2e</td><td>UAL484  </td><td>United States</td><td>-104.7526</td><td>39.366</td><td>6278.88</td><td>199.84</td></tr><tr><td>NORTH_AMERICA</td><td>1761449720</td><td>a2b866</td><td>N2745G  </td><td>United States</td><td>-97.244</td><td>44.19</td><td>1767.84</td><td>85.08</td></tr><tr><td>NORTH_AMERICA</td><td>1761449720</td><td>a7ef4b</td><td>FFT2996 </td><td>United States</td><td>-98.9815</td><td>31.7003</td><td>11285.22</td><td>244.4</td></tr><tr><td>NORTH_AMERICA</td><td>1761449720</td><td>a3b0fe</td><td>DAL2423 </td><td>United States</td><td>-90.0428</td><td>34.398</td><td>11582.4</td><td>212.37</td></tr><tr><td>NORTH_AMERICA</td><td>1761449720</td><td>a36200</td><td>DAL1049 </td><td>United States</td><td>-118.4772</td><td>33.9415</td><td>647.7</td><td>108.74</td></tr><tr><td>NORTH_AMERICA</td><td>1761449720</td><td>a17bd2</td><td>ASI963  </td><td>United States</td><td>-111.2186</td><td>32.3638</td><td>2286</td><td>61.2</td></tr><tr><td>NORTH_AMERICA</td><td>1761449720</td><td>acffb4</td><td>ASA1421 </td><td>United States</td><td>-120.3987</td><td>45.1356</td><td>10340.34</td><td>199.37</td></tr><tr><td>NORTH_AMERICA</td><td>1761449720</td><td>ac9cb1</td><td>N911ZR  </td><td>United States</td><td>-87.6775</td><td>41.7906</td><td>312.42</td><td>38.19</td></tr><tr><td>NORTH_AMERICA</td><td>1761449720</td><td>71c560</td><td>TWB532  </td><td>Republic of Korea</td><td>-154.7504</td><td>59.0153</td><td>11582.4</td><td>234.36</td></tr><tr><td>NORTH_AMERICA</td><td>1761449720</td><td>a98515</td><td>SKW4058 </td><td>United States</td><td>-91.5084</td><td>32.852</td><td>9883.14</td><td>190.69</td></tr><tr><td>NORTH_AMERICA</td><td>1761449720</td><td>adb29f</td><td>AAL1173 </td><td>United States</td><td>-81.9986</td><td>39.6885</td><td>10408.92</td><td>223.1</td></tr><tr><td>NORTH_AMERICA</td><td>1761449720</td><td>a62577</td><td>N4953L  </td><td>United States</td><td>-78.6283</td><td>34.567</td><td>327.66</td><td>53.2</td></tr><tr><td>NORTH_AMERICA</td><td>1761449720</td><td>a1226e</td><td>AAL2003 </td><td>United States</td><td>-113.5616</td><td>43.2441</td><td>10363.2</td><td>211.79</td></tr><tr><td>NORTH_AMERICA</td><td>1761449720</td><td>a8785b</td><td>FFT4928 </td><td>United States</td><td>-104.6648</td><td>39.8558</td><td>null</td><td>0.9</td></tr><tr><td>NORTH_AMERICA</td><td>1761449720</td><td>a2ebbd</td><td>ASA632  </td><td>United States</td><td>-113.3316</td><td>37.6566</td><td>11277.6</td><td>239.29</td></tr><tr><td>NORTH_AMERICA</td><td>1761449720</td><td>aced21</td><td>ASA1269 </td><td>United States</td><td>-121.2516</td><td>45.4796</td><td>5372.1</td><td>160.52</td></tr><tr><td>NORTH_AMERICA</td><td>1761449720</td><td>ad0d3c</td><td>GLG7396 </td><td>United States</td><td>-76.2657</td><td>36.1476</td><td>11277.6</td><td>234.83</td></tr><tr><td>NORTH_AMERICA</td><td>1761449720</td><td>abba43</td><td>DAL2640 </td><td>United States</td><td>-122.311</td><td>47.4462</td><td>null</td><td>10.8</td></tr><tr><td>NORTH_AMERICA</td><td>1761449720</td><td>aa0300</td><td>SKW4961 </td><td>United States</td><td>-97.1486</td><td>33.6314</td><td>7604.76</td><td>211.47</td></tr><tr><td>NORTH_AMERICA</td><td>1761449720</td><td>aa6fca</td><td>SWA1848 </td><td>United States</td><td>-117.0572</td><td>34.2941</td><td>9448.8</td><td>246.98</td></tr><tr><td>NORTH_AMERICA</td><td>1761449720</td><td>a55ed5</td><td>SKW5824 </td><td>United States</td><td>-97.9727</td><td>40.8014</td><td>6789.42</td><td>216.08</td></tr><tr><td>NORTH_AMERICA</td><td>1761449720</td><td>a3c549</td><td>FFT3097 </td><td>United States</td><td>-94.6647</td><td>33.9596</td><td>8534.4</td><td>220.43</td></tr><tr><td>NORTH_AMERICA</td><td>1761449720</td><td>aaad8f</td><td>SWA2443 </td><td>United States</td><td>-116.1934</td><td>34.9316</td><td>7437.12</td><td>197.46</td></tr><tr><td>NORTH_AMERICA</td><td>1761449720</td><td>a4e538</td><td>RPA4573 </td><td>United States</td><td>-77.1317</td><td>36.8506</td><td>7010.4</td><td>186.16</td></tr><tr><td>NORTH_AMERICA</td><td>1761449720</td><td>a3d890</td><td>DAL436  </td><td>United States</td><td>-86.4681</td><td>34.4212</td><td>8648.7</td><td>238.67</td></tr><tr><td>NORTH_AMERICA</td><td>1761449720</td><td>ac8a66</td><td>AAL2628 </td><td>United States</td><td>-97.1963</td><td>36.1834</td><td>11582.4</td><td>240.59</td></tr><tr><td>NORTH_AMERICA</td><td>1761449720</td><td>acda2c</td><td>SWA3995 </td><td>United States</td><td>-110.8427</td><td>35.136</td><td>10972.8</td><td>216.77</td></tr><tr><td>NORTH_AMERICA</td><td>1761449720</td><td>ac41f3</td><td>SWA2435 </td><td>United States</td><td>-121.9264</td><td>37.366</td><td>null</td><td>0</td></tr><tr><td>NORTH_AMERICA</td><td>1761449720</td><td>a36279</td><td>SKW135K </td><td>United States</td><td>-95.0549</td><td>48.355</td><td>10363.2</td><td>222.37</td></tr><tr><td>NORTH_AMERICA</td><td>1761449720</td><td>ac4279</td><td>SWA3039 </td><td>United States</td><td>-122.671</td><td>42.9646</td><td>10363.2</td><td>219.42</td></tr><tr><td>NORTH_AMERICA</td><td>1761449720</td><td>a001af</td><td>N1TD    </td><td>United States</td><td>-98.1063</td><td>43.1491</td><td>6888.48</td><td>229.15</td></tr><tr><td>NORTH_AMERICA</td><td>1761449720</td><td>aca594</td><td>AAL708  </td><td>United States</td><td>-97.032</td><td>32.8878</td><td>null</td><td>0</td></tr><tr><td>NORTH_AMERICA</td><td>1761449720</td><td>a134d5</td><td>SKW3292 </td><td>United States</td><td>-97.6749</td><td>30.0472</td><td>868.68</td><td>108.06</td></tr><tr><td>NORTH_AMERICA</td><td>1761449720</td><td>06a1ea</td><td>QTR86W  </td><td>Qatar</td><td>-73.5284</td><td>46.8563</td><td>10363.2</td><td>239.23</td></tr><tr><td>NORTH_AMERICA</td><td>1761449720</td><td>ab34a7</td><td>AAL899  </td><td>United States</td><td>-100.637</td><td>40.1854</td><td>10668</td><td>227.42</td></tr><tr><td>NORTH_AMERICA</td><td>1761449720</td><td>a2b7cd</td><td>UAL8148 </td><td>United States</td><td>-108.7334</td><td>37.3979</td><td>10363.2</td><td>222.7</td></tr><tr><td>NORTH_AMERICA</td><td>1761449720</td><td>a387f0</td><td>JBU1318 </td><td>United States</td><td>-71.8448</td><td>41.602</td><td>5135.88</td><td>214.27</td></tr><tr><td>NORTH_AMERICA</td><td>1761449720</td><td>a1ba23</td><td>AIP513  </td><td>United States</td><td>-116.9896</td><td>46.2799</td><td>7642.86</td><td>116.55</td></tr><tr><td>NORTH_AMERICA</td><td>1761449720</td><td>407af2</td><td>BAW51B  </td><td>United Kingdom</td><td>-64.076</td><td>47.3453</td><td>11887.2</td><td>267.04</td></tr><tr><td>NORTH_AMERICA</td><td>1761449720</td><td>a6bbef</td><td>DAL604  </td><td>United States</td><td>-122.3175</td><td>47.4996</td><td>472.44</td><td>57.62</td></tr><tr><td>NORTH_AMERICA</td><td>1761449720</td><td>a254d8</td><td>UAL101  </td><td>United States</td><td>-101.5345</td><td>30.5688</td><td>10363.2</td><td>220.88</td></tr><tr><td>NORTH_AMERICA</td><td>1761449720</td><td>a254d7</td><td>UAL188  </td><td>United States</td><td>-74.1773</td><td>40.6981</td><td>null</td><td>1.29</td></tr><tr><td>NORTH_AMERICA</td><td>1761449720</td><td>a877d2</td><td>N645AD  </td><td>United States</td><td>-75.4763</td><td>40.3977</td><td>1097.28</td><td>85.07</td></tr><tr><td>NORTH_AMERICA</td><td>1761449720</td><td>a361f1</td><td>PRD3    </td><td>United States</td><td>-78.2079</td><td>30.5682</td><td>12496.8</td><td>221.82</td></tr><tr><td>NORTH_AMERICA</td><td>1761449720</td><td>ab486e</td><td>N826PD  </td><td>United States</td><td>-117.8628</td><td>33.8416</td><td>289.56</td><td>33.85</td></tr><tr><td>NORTH_AMERICA</td><td>1761449720</td><td>a2da60</td><td>AAY692  </td><td>United States</td><td>-111.6683</td><td>33.3067</td><td>null</td><td>0.06</td></tr><tr><td>NORTH_AMERICA</td><td>1761449720</td><td>ad8836</td><td>JBU2637 </td><td>United States</td><td>-73.8144</td><td>39.2145</td><td>9669.78</td><td>232.54</td></tr><tr><td>NORTH_AMERICA</td><td>1761449720</td><td>aa4a1b</td><td>N762MT  </td><td>United States</td><td>-87.1534</td><td>30.5526</td><td>335.28</td><td>53.82</td></tr><tr><td>NORTH_AMERICA</td><td>1761449720</td><td>c066b6</td><td>WJA463  </td><td>Canada</td><td>-114.0126</td><td>51.1315</td><td>null</td><td>0</td></tr><tr><td>NORTH_AMERICA</td><td>1761449720</td><td>a78d73</td><td>DAL2940 </td><td>United States</td><td>-84.111</td><td>35.4864</td><td>9677.4</td><td>249.3</td></tr><tr><td>NORTH_AMERICA</td><td>1761449720</td><td>4cc510</td><td></td><td>Iceland</td><td>-117.2395</td><td>53.8281</td><td>11277.6</td><td>255.19</td></tr><tr><td>NORTH_AMERICA</td><td>1761449720</td><td>adc532</td><td>AAL3307 </td><td>United States</td><td>-107.4144</td><td>44.4814</td><td>11582.4</td><td>234.33</td></tr><tr><td>NORTH_AMERICA</td><td>1761449720</td><td>a9d59f</td><td></td><td>United States</td><td>-118.4163</td><td>33.9371</td><td>null</td><td>7.72</td></tr><tr><td>NORTH_AMERICA</td><td>1761449720</td><td>adc531</td><td>AAL1323 </td><td>United States</td><td>-108.0848</td><td>36.8559</td><td>10370.82</td><td>217.72</td></tr><tr><td>NORTH_AMERICA</td><td>1761449720</td><td>aa5d23</td><td>SKW4653 </td><td>United States</td><td>-84.1503</td><td>43.4831</td><td>457.2</td><td>65.12</td></tr><tr><td>NORTH_AMERICA</td><td>1761449720</td><td>4cc581</td><td>ICE680  </td><td>Iceland</td><td>-64.489</td><td>68.0525</td><td>10675.62</td><td>240.8</td></tr><tr><td>NORTH_AMERICA</td><td>1761449720</td><td>a481fd</td><td>REH043  </td><td>United States</td><td>-117.2544</td><td>34.3203</td><td>1859.28</td><td>66.91</td></tr><tr><td>NORTH_AMERICA</td><td>1761449720</td><td>a757ae</td><td>AAL3333 </td><td>United States</td><td>-95.6511</td><td>35.366</td><td>8534.4</td><td>247.14</td></tr><tr><td>NORTH_AMERICA</td><td>1761449720</td><td>4cc578</td><td>ICE12E  </td><td>Iceland</td><td>-117.602</td><td>51.8863</td><td>10066.02</td><td>265.36</td></tr><tr><td>NORTH_AMERICA</td><td>1761449720</td><td>c079a6</td><td>TSC815  </td><td>Canada</td><td>-74.6486</td><td>41.629</td><td>12496.8</td><td>240.95</td></tr><tr><td>NORTH_AMERICA</td><td>1761449720</td><td>4cc57a</td><td>ICE604  </td><td>Iceland</td><td>-79.6636</td><td>43.6739</td><td>null</td><td>5.14</td></tr><tr><td>NORTH_AMERICA</td><td>1761449720</td><td>c066b0</td><td>WJA2711 </td><td>Canada</td><td>-80.0758</td><td>38.9574</td><td>11277.6</td><td>233.26</td></tr><tr><td>NORTH_AMERICA</td><td>1761449720</td><td>ac9bef</td><td>CMD70   </td><td>United States</td><td>-123.0718</td><td>40.4518</td><td>5486.4</td><td>104.01</td></tr><tr><td>NORTH_AMERICA</td><td>1761449720</td><td>4cc573</td><td>ICE686  </td><td>Iceland</td><td>-76.8475</td><td>37.7189</td><td>10668</td><td>259.13</td></tr><tr><td>NORTH_AMERICA</td><td>1761449720</td><td>a9727f</td><td>N708CG  </td><td>United States</td><td>-86.821</td><td>36.9263</td><td>2278.38</td><td>118.59</td></tr><tr><td>NORTH_AMERICA</td><td>1761449720</td><td>4cc570</td><td>ICE11P  </td><td>Iceland</td><td>-120.8312</td><td>48.8791</td><td>10690.86</td><td>219.86</td></tr><tr><td>NORTH_AMERICA</td><td>1761449720</td><td>acb892</td><td>SKW362G </td><td>United States</td><td>-103.1357</td><td>45.6119</td><td>7132.32</td><td>233.11</td></tr><tr><td>NORTH_AMERICA</td><td>1761449720</td><td>a37630</td><td>EPI322  </td><td>United States</td><td>-81.1351</td><td>29.1499</td><td>289.56</td><td>34.05</td></tr><tr><td>NORTH_AMERICA</td><td>1761449720</td><td>a0acbb</td><td>UAL2168 </td><td>United States</td><td>-77.4544</td><td>41.1282</td><td>10058.4</td><td>301.17</td></tr><tr><td>NORTH_AMERICA</td><td>1761449720</td><td>a05cf3</td><td>AAL2839 </td><td>United States</td><td>-77.0432</td><td>38.8554</td><td>null</td><td>0.19</td></tr><tr><td>NORTH_AMERICA</td><td>1761449720</td><td>a9d4da</td><td>N7320J  </td><td>United States</td><td>-118.6208</td><td>34.1589</td><td>1371.6</td><td>44.83</td></tr><tr><td>NORTH_AMERICA</td><td>1761449720</td><td>a3c60d</td><td>AAL2188 </td><td>United States</td><td>-75.2212</td><td>38.6692</td><td>7840.98</td><td>244.24</td></tr><tr><td>NORTH_AMERICA</td><td>1761449720</td><td>c03064</td><td>ACA363  </td><td>Canada</td><td>-115.6897</td><td>50.7498</td><td>10972.8</td><td>224.38</td></tr><tr><td>NORTH_AMERICA</td><td>1761449720</td><td>a37616</td><td>DAL1251 </td><td>United States</td><td>-97.8418</td><td>35.0418</td><td>10355.58</td><td>220.91</td></tr><tr><td>NORTH_AMERICA</td><td>1761449720</td><td>a87904</td><td>NKS1810 </td><td>United States</td><td>-97.0322</td><td>32.8716</td><td>null</td><td>6.94</td></tr><tr><td>NORTH_AMERICA</td><td>1761449720</td><td>a3c649</td><td>AAL2799 </td><td>United States</td><td>-79.7709</td><td>35.5477</td><td>6781.8</td><td>255.48</td></tr><tr><td>NORTH_AMERICA</td><td>1761449720</td><td>06a12a</td><td>QTR5K   </td><td>Qatar</td><td>-68.3312</td><td>46.9343</td><td>10668</td><td>272.88</td></tr><tr><td>NORTH_AMERICA</td><td>1761449720</td><td>c0307a</td><td>ACA226  </td><td>Canada</td><td>-114.0117</td><td>51.1281</td><td>null</td><td>6.69</td></tr><tr><td>NORTH_AMERICA</td><td>1761449720</td><td>c0307c</td><td>ACA337  </td><td>Canada</td><td>-113.2461</td><td>53.2186</td><td>4091.94</td><td>149.92</td></tr><tr><td>NORTH_AMERICA</td><td>1761449720</td><td>a13650</td><td>UAL303  </td><td>United States</td><td>-106.277</td><td>41.9344</td><td>9144</td><td>220.41</td></tr><tr><td>NORTH_AMERICA</td><td>1761449720</td><td>406a9d</td><td>BAW9EW  </td><td>United Kingdom</td><td>-62.4513</td><td>49.7552</td><td>11887.2</td><td>265.25</td></tr><tr><td>NORTH_AMERICA</td><td>1761449720</td><td>a3899d</td><td>ENY3937 </td><td>United States</td><td>-101.5679</td><td>37.9418</td><td>10363.2</td><td>221.86</td></tr><tr><td>NORTH_AMERICA</td><td>1761449720</td><td>a3d90a</td><td>AAL2897 </td><td>United States</td><td>-77.1054</td><td>38.5056</td><td>1943.1</td><td>105.79</td></tr><tr><td>NORTH_AMERICA</td><td>1761449720</td><td>a997e5</td><td>AAL3106 </td><td>United States</td><td>-96.6362</td><td>32.8789</td><td>3954.78</td><td>210.12</td></tr><tr><td>NORTH_AMERICA</td><td>1761449720</td><td>a8b4c6</td><td>FFT1784 </td><td>United States</td><td>-95.1058</td><td>38.554</td><td>11871.96</td><td>219.94</td></tr><tr><td>NORTH_AMERICA</td><td>1761449720</td><td>a851c3</td><td>QXE2269 </td><td>United States</td><td>-121.7208</td><td>45.5299</td><td>3078.48</td><td>105.07</td></tr><tr><td>NORTH_AMERICA</td><td>1761449720</td><td>a80ff0</td><td>N6188K  </td><td>United States</td><td>-101.5733</td><td>33.4324</td><td>1432.56</td><td>39.53</td></tr><tr><td>NORTH_AMERICA</td><td>1761449720</td><td>a5902a</td><td>N458DL  </td><td>United States</td><td>-107.0116</td><td>35.0145</td><td>4815.84</td><td>119.25</td></tr><tr><td>NORTH_AMERICA</td><td>1761449720</td><td>a2ecec</td><td>ENY3702 </td><td>United States</td><td>-99.4624</td><td>28.732</td><td>5394.96</td><td>207.32</td></tr><tr><td>NORTH_AMERICA</td><td>1761449720</td><td>ad88ef</td><td>N971SC  </td><td>United States</td><td>-121.8047</td><td>39.7048</td><td>929.64</td><td>110.17</td></tr><tr><td>NORTH_AMERICA</td><td>1761449720</td><td>a1239d</td><td>UAL1076 </td><td>United States</td><td>-71.0131</td><td>42.3638</td><td>null</td><td>6.43</td></tr><tr><td>NORTH_AMERICA</td><td>1761449720</td><td>aca5e5</td><td>DAL3022 </td><td>United States</td><td>-86.6757</td><td>34.715</td><td>1143</td><td>108.62</td></tr><tr><td>NORTH_AMERICA</td><td>1761449720</td><td>ad62c9</td><td>N9614H  </td><td>United States</td><td>-104.6468</td><td>40.4474</td><td>1706.88</td><td>52.18</td></tr><tr><td>NORTH_AMERICA</td><td>1761449720</td><td>a89a9f</td><td>N65329  </td><td>United States</td><td>-76.9678</td><td>39.5107</td><td>792.48</td><td>50.11</td></tr><tr><td>NORTH_AMERICA</td><td>1761449720</td><td>a87942</td><td>QXE2063 </td><td>United States</td><td>-123.3325</td><td>44.6201</td><td>10668</td><td>220.75</td></tr><tr><td>NORTH_AMERICA</td><td>1761449720</td><td>a54cf9</td><td>OXF1010 </td><td>United States</td><td>-110.9317</td><td>32.0557</td><td>982.98</td><td>51.26</td></tr><tr><td>NORTH_AMERICA</td><td>1761449720</td><td>ad504d</td><td>SKW475F </td><td>United States</td><td>-104.6643</td><td>40.7422</td><td>3627.12</td><td>156.36</td></tr><tr><td>NORTH_AMERICA</td><td>1761449720</td><td>a002cb</td><td>N10EM   </td><td>United States</td><td>-81.466</td><td>25.7776</td><td>7559.04</td><td>149.43</td></tr><tr><td>NORTH_AMERICA</td><td>1761449720</td><td>a9737c</td><td>NKS2    </td><td>United States</td><td>-84.824</td><td>37.5491</td><td>10957.56</td><td>236.09</td></tr><tr><td>NORTH_AMERICA</td><td>1761449720</td><td>a242a4</td><td></td><td>United States</td><td>-120.0148</td><td>37.074</td><td>1798.32</td><td>68.32</td></tr><tr><td>NORTH_AMERICA</td><td>1761449720</td><td>ad639e</td><td>ASA167  </td><td>United States</td><td>-129.5521</td><td>54.1571</td><td>10363.2</td><td>241.61</td></tr><tr><td>NORTH_AMERICA</td><td>1761449720</td><td>c041bc</td><td>ROU1647 </td><td>Canada</td><td>-81.3575</td><td>29.8518</td><td>10675.62</td><td>236.43</td></tr></tbody></table>Showing the first 1000 rows.</div>"
      ]
     },
     "metadata": {
      "application/vnd.databricks.v1+output": {
       "addedWidgets": {},
       "aggData": [],
       "aggError": "",
       "aggOverflow": false,
       "aggSchema": [],
       "aggSeriesLimitReached": false,
       "aggType": "",
       "arguments": {},
       "columnCustomDisplayInfos": {},
       "data": [
        [
         "NORTH_AMERICA",
         1761449720,
         "aae316",
         "AAL1882 ",
         "United States",
         "-77.2166",
         "37.3829",
         "480.06",
         "88.78"
        ],
        [
         "NORTH_AMERICA",
         1761449720,
         "acdfa3",
         "ASA898  ",
         "United States",
         "-125.3522",
         "44.9734",
         "9585.96",
         "256.97"
        ],
        [
         "NORTH_AMERICA",
         1761449720,
         "a0e250",
         "AAL903  ",
         "United States",
         "-77.0549",
         "38.6334",
         "632.46",
         "94.32"
        ],
        [
         "NORTH_AMERICA",
         1761449720,
         "ab0356",
         "ASA9    ",
         "United States",
         "-122.5989",
         "45.5885",
         null,
         "5.14"
        ],
        [
         "NORTH_AMERICA",
         1761449720,
         "e8024d",
         "ARE4280 ",
         "Chile",
         "-81.7172",
         "12.5803",
         "38.1",
         "74.73"
        ],
        [
         "NORTH_AMERICA",
         1761449720,
         "a963f7",
         "FFT1954 ",
         "United States",
         "-80.6936",
         "28.1516",
         "3848.1",
         "215.2"
        ],
        [
         "NORTH_AMERICA",
         1761449720,
         "ac3688",
         "SWA2912 ",
         "United States",
         "-117.1535",
         "37.0582",
         "9753.6",
         "220.22"
        ],
        [
         "NORTH_AMERICA",
         1761449720,
         "3455d5",
         "IBE03HB ",
         "Spain",
         "-80.3287",
         "25.7855",
         "76.2",
         "68.49"
        ],
        [
         "NORTH_AMERICA",
         1761449720,
         "a6f23d",
         "DAL571  ",
         "United States",
         "-117.1537",
         "32.7249",
         "160.02",
         "67.27"
        ],
        [
         "NORTH_AMERICA",
         1761449720,
         "0d11f9",
         "VIV2022 ",
         "Mexico",
         "-87.8301",
         "20.814",
         "6614.16",
         "208.88"
        ],
        [
         "NORTH_AMERICA",
         1761449720,
         "c0226c",
         "WJA204  ",
         "Canada",
         "-99.8267",
         "49.9046",
         "9745.98",
         "218.12"
        ],
        [
         "NORTH_AMERICA",
         1761449720,
         "a5d28c",
         "UAL2360 ",
         "United States",
         "-121.3321",
         "37.5849",
         "4777.74",
         "166.17"
        ],
        [
         "NORTH_AMERICA",
         1761449720,
         "c07bbe",
         "WJA1449 ",
         "Canada",
         "-114.896",
         "36.1997",
         "5455.92",
         "207.37"
        ],
        [
         "NORTH_AMERICA",
         1761449720,
         "a5958c",
         "SWA2783 ",
         "United States",
         "-96.8478",
         "32.8478",
         null,
         "4.89"
        ],
        [
         "NORTH_AMERICA",
         1761449720,
         "a247f0",
         "SKW3729 ",
         "United States",
         "-108.6312",
         "37.0152",
         "10218.42",
         "244.88"
        ],
        [
         "NORTH_AMERICA",
         1761449720,
         "c03517",
         "WJA2157 ",
         "Canada",
         "-121.2788",
         "46.7326",
         "10972.8",
         "223.21"
        ],
        [
         "NORTH_AMERICA",
         1761449720,
         "c0481b",
         "ROU1611 ",
         "Canada",
         "-73.6532",
         "42.6342",
         "11285.22",
         "235.84"
        ],
        [
         "NORTH_AMERICA",
         1761449720,
         "a857ce",
         "N637AS  ",
         "United States",
         "-112.8727",
         "39.0979",
         "12192",
         "164.64"
        ],
        [
         "NORTH_AMERICA",
         1761449720,
         "ab5d4a",
         "AAL1607 ",
         "United States",
         "-97.0353",
         "32.9058",
         null,
         "0"
        ],
        [
         "NORTH_AMERICA",
         1761449720,
         "a63a40",
         "N500DE  ",
         "United States",
         "-82.3249",
         "34.7613",
         "3223.26",
         "196.8"
        ],
        [
         "NORTH_AMERICA",
         1761449720,
         "a88d10",
         "DAL8956 ",
         "United States",
         "-97.2316",
         "49.8925",
         null,
         "1.03"
        ],
        [
         "NORTH_AMERICA",
         1761449720,
         "a1ad5a",
         "SKW5861 ",
         "United States",
         "-104.72",
         "38.8052",
         null,
         "3.09"
        ],
        [
         "NORTH_AMERICA",
         1761449720,
         "a3b7cb",
         "FFT3981 ",
         "United States",
         "-107.0735",
         "40.0378",
         "11574.78",
         "202.44"
        ],
        [
         "NORTH_AMERICA",
         1761449720,
         "ac21af",
         "AAL6    ",
         "United States",
         "-157.8734",
         "21.1944",
         "1341.12",
         "134.92"
        ],
        [
         "NORTH_AMERICA",
         1761449720,
         "c04825",
         "CGBII   ",
         "Canada",
         "-75.8469",
         "44.7395",
         "8229.6",
         "162.63"
        ],
        [
         "NORTH_AMERICA",
         1761449720,
         "a5d1f7",
         "SWA492  ",
         "United States",
         "-122.5662",
         "39.0815",
         "12275.82",
         "248.61"
        ],
        [
         "NORTH_AMERICA",
         1761449720,
         "a88d49",
         "TCF650  ",
         "United States",
         "-80.7377",
         "28.1063",
         "373.38",
         "46.55"
        ],
        [
         "NORTH_AMERICA",
         1761449720,
         "c020a9",
         "CFMJO   ",
         "Canada",
         "-123.6418",
         "48.7603",
         "1379.22",
         "69.18"
        ],
        [
         "NORTH_AMERICA",
         1761449720,
         "a88d70",
         "N650HG  ",
         "United States",
         "-80.9785",
         "32.3131",
         "11574.78",
         "228.53"
        ],
        [
         "NORTH_AMERICA",
         1761449720,
         "a88d55",
         "EJM132  ",
         "United States",
         "-76.5754",
         "39.5856",
         "11574.78",
         "200.96"
        ],
        [
         "NORTH_AMERICA",
         1761449720,
         "c07e2c",
         "ACA510  ",
         "Canada",
         "-79.8733",
         "43.4865",
         "1386.84",
         "111.05"
        ],
        [
         "NORTH_AMERICA",
         1761449720,
         "a46345",
         "FFT1439 ",
         "United States",
         "-112.0426",
         "33.4408",
         "419.1",
         "65.33"
        ],
        [
         "NORTH_AMERICA",
         1761449720,
         "ac2412",
         "SWA746  ",
         "United States",
         "-114.2983",
         "38.6991",
         "10972.8",
         "207.7"
        ],
        [
         "NORTH_AMERICA",
         1761449720,
         "ad9db0",
         "ASA1050 ",
         "United States",
         "-122.8496",
         "47.1532",
         "4968.24",
         "160.64"
        ],
        [
         "NORTH_AMERICA",
         1761449720,
         "a3a67b",
         "UPS985  ",
         "United States",
         "-122.312",
         "47.5401",
         null,
         "3.6"
        ],
        [
         "NORTH_AMERICA",
         1761449720,
         "a40cd9",
         "FFT2779 ",
         "United States",
         "-87.7424",
         "41.7897",
         null,
         "0.32"
        ],
        [
         "NORTH_AMERICA",
         1761449720,
         "a59689",
         "N45941  ",
         "United States",
         "-104.5782",
         "38.9614",
         "2103.12",
         "32.22"
        ],
        [
         "NORTH_AMERICA",
         1761449720,
         "c07e59",
         "WJA722  ",
         "Canada",
         "-89.1472",
         "45.6156",
         "10668",
         "250.84"
        ],
        [
         "NORTH_AMERICA",
         1761449720,
         "ad9dac",
         "SJE97   ",
         "United States",
         "-105.2028",
         "38.8041",
         "13708.38",
         "242.46"
        ],
        [
         "NORTH_AMERICA",
         1761449720,
         "a46310",
         "DAL453  ",
         "United States",
         "-89.2591",
         "37.2685",
         "10370.82",
         "233.35"
        ],
        [
         "NORTH_AMERICA",
         1761449720,
         "aae44c",
         "N8000Y  ",
         "United States",
         "-114.5195",
         "36.5826",
         "2606.04",
         "59.36"
        ],
        [
         "NORTH_AMERICA",
         1761449720,
         "ac377b",
         "SWA2446 ",
         "United States",
         "-114.9047",
         "36.0736",
         "1668.78",
         "92.09"
        ],
        [
         "NORTH_AMERICA",
         1761449720,
         "0d10e4",
         "VOI3293 ",
         "Mexico",
         "-116.5306",
         "32.3993",
         "2316.48",
         "115.92"
        ],
        [
         "NORTH_AMERICA",
         1761449720,
         "a5f938",
         "UAL465  ",
         "United States",
         "-87.2785",
         "38.6429",
         "6591.3",
         "214.31"
        ],
        [
         "NORTH_AMERICA",
         1761449720,
         "a45051",
         "DAL614  ",
         "United States",
         "-115.2592",
         "34.0953",
         "10363.2",
         "225.1"
        ],
        [
         "NORTH_AMERICA",
         1761449720,
         "0d10f8",
         "VIV546  ",
         "Mexico",
         "-100.1167",
         "25.7807",
         null,
         "0"
        ],
        [
         "NORTH_AMERICA",
         1761449720,
         "a8dd7b",
         "UAL940  ",
         "United States",
         "-74.0618",
         "40.8381",
         "1386.84",
         "134.54"
        ],
        [
         "NORTH_AMERICA",
         1761449720,
         "a85931",
         "QXE2323 ",
         "United States",
         "-122.1954",
         "45.7252",
         "5676.9",
         "206.14"
        ],
        [
         "NORTH_AMERICA",
         1761449720,
         "c048b6",
         "KEW504  ",
         "Canada",
         "-96.8284",
         "50.7002",
         "5608.32",
         "163.09"
        ],
        [
         "NORTH_AMERICA",
         1761449720,
         "a3fffc",
         "DAL2512 ",
         "United States",
         "-116.6362",
         "43.9867",
         "10972.8",
         "216.07"
        ],
        [
         "NORTH_AMERICA",
         1761449720,
         "c0104f",
         "ACA50   ",
         "Canada",
         "-73.8413",
         "45.3979",
         "975.36",
         "109.42"
        ],
        [
         "NORTH_AMERICA",
         1761449720,
         "a8dcee",
         "NKS1480 ",
         "United States",
         "-92.3165",
         "42.7272",
         "9144",
         "214.16"
        ],
        [
         "NORTH_AMERICA",
         1761449720,
         "a45091",
         "DAL1199 ",
         "United States",
         "-84.7692",
         "36.8144",
         "10363.2",
         "251.12"
        ],
        [
         "NORTH_AMERICA",
         1761449720,
         "c01040",
         "ACA810  ",
         "Canada",
         "-74.3107",
         "45.1469",
         "11277.6",
         "269.3"
        ],
        [
         "NORTH_AMERICA",
         1761449720,
         "a2ce05",
         "ASA1455 ",
         "United States",
         "-143.1098",
         "59.5308",
         "10972.8",
         "225.7"
        ],
        [
         "NORTH_AMERICA",
         1761449720,
         "c0103a",
         "ACA842  ",
         "Canada",
         "-73.4674",
         "46.354",
         "10660.38",
         "264.82"
        ],
        [
         "NORTH_AMERICA",
         1761449720,
         "0d10ac",
         "VIV001  ",
         "Mexico",
         "-100.1187",
         "25.7817",
         null,
         "0"
        ],
        [
         "NORTH_AMERICA",
         1761449720,
         "a235b7",
         "SWA1644 ",
         "United States",
         "-116.4381",
         "33.8677",
         "5410.2",
         "184.6"
        ],
        [
         "NORTH_AMERICA",
         1761449720,
         "0d10bd",
         "VOI5575 ",
         "Mexico",
         "-105.8939",
         "28.6924",
         "11277.6",
         "266.36"
        ],
        [
         "NORTH_AMERICA",
         1761449720,
         "a3b8e1",
         "AAL2426 ",
         "United States",
         "-105.1509",
         "37.671",
         "10363.2",
         "224.63"
        ],
        [
         "NORTH_AMERICA",
         1761449720,
         "0d10e0",
         "XBDSC   ",
         "Mexico",
         "-98.3469",
         "25.65",
         "6294.12",
         "136.74"
        ],
        [
         "NORTH_AMERICA",
         1761449720,
         "4aca64",
         "SAS6926 ",
         "Sweden",
         "-68.5439",
         "44.0705",
         "11887.2",
         "269.68"
        ],
        [
         "NORTH_AMERICA",
         1761449720,
         "a15e7d",
         "ECJ88   ",
         "United States",
         "-74.0809",
         "40.9192",
         "769.62",
         "121.96"
        ],
        [
         "NORTH_AMERICA",
         1761449720,
         "a6f326",
         "JIA5309 ",
         "United States",
         "-95.1776",
         "33.2672",
         "9403.08",
         "245.96"
        ],
        [
         "NORTH_AMERICA",
         1761449720,
         "a9b62a",
         "ASA19   ",
         "United States",
         "-122.3669",
         "45.4961",
         "815.34",
         "82.61"
        ],
        [
         "NORTH_AMERICA",
         1761449720,
         "a7cfe3",
         "NKS1359 ",
         "United States",
         "-86.9439",
         "28.8845",
         "10972.8",
         "204.3"
        ],
        [
         "NORTH_AMERICA",
         1761449720,
         "ab5db8",
         "SCX8657 ",
         "United States",
         "-92.9397",
         "43.4946",
         "9144",
         "224.94"
        ],
        [
         "NORTH_AMERICA",
         1761449720,
         "a355b1",
         "ENY3503 ",
         "United States",
         "-98.3508",
         "30.7893",
         "9448.8",
         "251.85"
        ],
        [
         "NORTH_AMERICA",
         1761449720,
         "a368d3",
         "LXJ319  ",
         "United States",
         "-96.0622",
         "33.3597",
         "4122.42",
         "162.33"
        ],
        [
         "NORTH_AMERICA",
         1761449720,
         "a02b77",
         "N11SN   ",
         "United States",
         "-119.5582",
         "36.0116",
         "4297.68",
         "141.31"
        ],
        [
         "NORTH_AMERICA",
         1761449720,
         "ac7e1c",
         "TAI590  ",
         "United States",
         "-86.8511",
         "21.3761",
         "11277.6",
         "240.69"
        ],
        [
         "NORTH_AMERICA",
         1761449720,
         "a8de10",
         "DAL1162 ",
         "United States",
         "-81.4239",
         "28.5133",
         "1714.5",
         "113.18"
        ],
        [
         "NORTH_AMERICA",
         1761449720,
         "c0360e",
         "WJA124  ",
         "Canada",
         "-113.9931",
         "51.1191",
         null,
         "7.72"
        ],
        [
         "NORTH_AMERICA",
         1761449720,
         "ab4b34",
         "DAL2854 ",
         "United States",
         "-120.9404",
         "41.1285",
         "11887.2",
         "248.1"
        ],
        [
         "NORTH_AMERICA",
         1761449720,
         "8015a5",
         "AIC179  ",
         "India",
         "-122.3835",
         "37.6094",
         null,
         "2.83"
        ],
        [
         "NORTH_AMERICA",
         1761449720,
         "a88e2e",
         "QXE2116 ",
         "United States",
         "-118.5624",
         "34.3336",
         "8122.92",
         "200.52"
        ],
        [
         "NORTH_AMERICA",
         1761449720,
         "ac22c5",
         "AAL3188 ",
         "United States",
         "-84.1069",
         "38.3508",
         "9144",
         "223.84"
        ],
        [
         "NORTH_AMERICA",
         1761449720,
         "ad8b20",
         "AAL983  ",
         "United States",
         "-77.2762",
         "37.4575",
         "198.12",
         "78.91"
        ],
        [
         "NORTH_AMERICA",
         1761449720,
         "a2bb89",
         "UAL1032 ",
         "United States",
         "-93.7594",
         "35.8754",
         "7315.2",
         "193.13"
        ],
        [
         "NORTH_AMERICA",
         1761449720,
         "a52e54",
         "ASA326  ",
         "United States",
         "-114.6346",
         "44.7254",
         "10363.2",
         "204.83"
        ],
        [
         "NORTH_AMERICA",
         1761449720,
         "a63b0a",
         "N500MG  ",
         "United States",
         "-117.5693",
         "33.3706",
         "1501.14",
         "128.06"
        ],
        [
         "NORTH_AMERICA",
         1761449720,
         "a4c5d8",
         "JBU7    ",
         "United States",
         "-64.3515",
         "46.9943",
         "10073.64",
         "249.84"
        ],
        [
         "NORTH_AMERICA",
         1761449720,
         "0d118c",
         "VIV1188 ",
         "Mexico",
         "-98.3909",
         "17.7601",
         "9441.18",
         "231.04"
        ],
        [
         "NORTH_AMERICA",
         1761449720,
         "a99b5f",
         "SKW5010 ",
         "United States",
         "-93.989",
         "40.1256",
         "10934.7",
         "230.5"
        ],
        [
         "NORTH_AMERICA",
         1761449720,
         "c021f6",
         "WJA154  ",
         "Canada",
         "-120.2194",
         "49.3278",
         "11277.6",
         "242.64"
        ],
        [
         "NORTH_AMERICA",
         1761449720,
         "a0e431",
         "AAL1207 ",
         "United States",
         "-106.9432",
         "32.1695",
         "9144",
         "236.75"
        ],
        [
         "NORTH_AMERICA",
         1761449720,
         "0d111b",
         "VOI1814 ",
         "Mexico",
         "-115.3225",
         "32.3939",
         "10355.58",
         "214.75"
        ],
        [
         "NORTH_AMERICA",
         1761449720,
         "0d1138",
         "VIV632  ",
         "Mexico",
         "-91.0237",
         "38.5298",
         "11894.82",
         "242.43"
        ],
        [
         "NORTH_AMERICA",
         1761449720,
         "ada64d",
         "AAL3037 ",
         "United States",
         "-88.3878",
         "35.1099",
         "11277.6",
         "250.37"
        ],
        [
         "NORTH_AMERICA",
         1761449720,
         "aa92fb",
         "UAL927  ",
         "United States",
         "-122.3917",
         "37.6175",
         null,
         "0.9"
        ],
        [
         "NORTH_AMERICA",
         1761449720,
         "a0f71a",
         "N161TM  ",
         "United States",
         "-80.7053",
         "37.8024",
         "7932.42",
         "190.37"
        ],
        [
         "NORTH_AMERICA",
         1761449720,
         "0d1140",
         "VOI3085 ",
         "Mexico",
         "-98.4456",
         "25.0183",
         "10370.82",
         "212.59"
        ],
        [
         "NORTH_AMERICA",
         1761449720,
         "ad4390",
         "AAL1049 ",
         "United States",
         "-80.1611",
         "36.8869",
         "7292.34",
         "237.83"
        ],
        [
         "NORTH_AMERICA",
         1761449720,
         "0d1151",
         "VOI1870 ",
         "Mexico",
         "-118.9202",
         "44.2805",
         "10965.18",
         "198.84"
        ],
        [
         "NORTH_AMERICA",
         1761449720,
         "aa92f8",
         "UAL932  ",
         "United States",
         "-75.2268",
         "39.9077",
         "9395.46",
         "289.53"
        ],
        [
         "NORTH_AMERICA",
         1761449720,
         "a8de56",
         "DAL1234 ",
         "United States",
         "-82.9679",
         "28.4486",
         "10058.4",
         "249.14"
        ],
        [
         "NORTH_AMERICA",
         1761449720,
         "a832b6",
         "N62707  ",
         "United States",
         "-80.4989",
         "37.1141",
         "2286",
         "74.71"
        ],
        [
         "NORTH_AMERICA",
         1761449720,
         "ac7e09",
         "AAL3063 ",
         "United States",
         "-108.1682",
         "36.7357",
         "10972.8",
         "217.9"
        ],
        [
         "NORTH_AMERICA",
         1761449720,
         "a39dca",
         "FFT1832 ",
         "United States",
         "-82.5419",
         "31.4138",
         "10660.38",
         "251.3"
        ],
        [
         "NORTH_AMERICA",
         1761449720,
         "ac48d3",
         "SWA657  ",
         "United States",
         "-91.2254",
         "42.6709",
         "8839.2",
         "243.41"
        ],
        [
         "NORTH_AMERICA",
         1761449720,
         "aaf5a9",
         "AAL1818 ",
         "United States",
         "-87.8981",
         "41.9725",
         null,
         "4.89"
        ],
        [
         "NORTH_AMERICA",
         1761449720,
         "a14ad1",
         "UAL781  ",
         "United States",
         "-112.5275",
         "33.2218",
         "10363.2",
         "229.37"
        ],
        [
         "NORTH_AMERICA",
         1761449720,
         "a6bfa6",
         "DAL9964 ",
         "United States",
         "-85.9561",
         "35.1135",
         "9357.36",
         "242.34"
        ],
        [
         "NORTH_AMERICA",
         1761449720,
         "c058b4",
         "ROU1813 ",
         "Canada",
         "-82.2239",
         "33.3263",
         "10668",
         "246.06"
        ],
        [
         "NORTH_AMERICA",
         1761449720,
         "c058c0",
         "ACA187  ",
         "Canada",
         "-93.9826",
         "47.1517",
         "12184.38",
         "230.52"
        ],
        [
         "NORTH_AMERICA",
         1761449720,
         "a8690a",
         "ATN3366 ",
         "United States",
         "-104.8242",
         "38.3734",
         "10980.42",
         "234.22"
        ],
        [
         "NORTH_AMERICA",
         1761449720,
         "a66fbc",
         "N51358  ",
         "United States",
         "-78.8844",
         "35.0319",
         "1242.06",
         "48.02"
        ],
        [
         "NORTH_AMERICA",
         1761449720,
         "a16ce9",
         "N191LN  ",
         "United States",
         "-84.7678",
         "43.5371",
         "1828.8",
         "64.67"
        ],
        [
         "NORTH_AMERICA",
         1761449720,
         "c058cd",
         "ROU1820 ",
         "Canada",
         "-85.6181",
         "23.6174",
         "10370.82",
         "237.7"
        ],
        [
         "NORTH_AMERICA",
         1761449720,
         "ac340a",
         "SWA2472 ",
         "United States",
         "-114.8438",
         "40.8671",
         "10965.18",
         "207.01"
        ],
        [
         "NORTH_AMERICA",
         1761449720,
         "a22003",
         "ENY3611 ",
         "United States",
         "-98.2003",
         "32.7009",
         "4876.8",
         "178.9"
        ],
        [
         "NORTH_AMERICA",
         1761449720,
         "a4c327",
         "KII406  ",
         "United States",
         "-83.5421",
         "42.2737",
         "777.24",
         "100.73"
        ],
        [
         "NORTH_AMERICA",
         1761449720,
         "a4992f",
         "N396BC  ",
         "United States",
         "-95.4162",
         "36.1959",
         "13098.78",
         "225.41"
        ],
        [
         "NORTH_AMERICA",
         1761449720,
         "4bb46f",
         "MNB1547 ",
         "Turkey",
         "-64.1575",
         "44.0184",
         "11582.4",
         "216.28"
        ],
        [
         "NORTH_AMERICA",
         1761449720,
         "ad5416",
         "N958TP  ",
         "United States",
         "-98.3868",
         "29.5936",
         "1386.84",
         "100.6"
        ],
        [
         "NORTH_AMERICA",
         1761449720,
         "adb723",
         "JBU923  ",
         "United States",
         "-77.5155",
         "40.1148",
         "10363.2",
         "176.09"
        ],
        [
         "NORTH_AMERICA",
         1761449720,
         "c0205c",
         "SPR755  ",
         "Canada",
         "-69.348",
         "46.0417",
         "6096",
         "143.13"
        ],
        [
         "NORTH_AMERICA",
         1761449720,
         "a04e00",
         "DAL1304 ",
         "United States",
         "-111.9604",
         "40.1246",
         "6637.02",
         "194.52"
        ],
        [
         "NORTH_AMERICA",
         1761449720,
         "ac7aa9",
         "DAL2281 ",
         "United States",
         "-82.243",
         "34.8641",
         "304.8",
         "70.51"
        ],
        [
         "NORTH_AMERICA",
         1761449720,
         "a86904",
         "N641AT  ",
         "United States",
         "-150.3451",
         "61.4603",
         "1470.66",
         "111.42"
        ],
        [
         "NORTH_AMERICA",
         1761449720,
         "ac3448",
         "AAL722  ",
         "United States",
         "-63.9941",
         "47.157",
         "12489.18",
         "269.67"
        ],
        [
         "NORTH_AMERICA",
         1761449720,
         "ad6755",
         "ASA1163 ",
         "United States",
         "-104.6843",
         "40.122",
         "2903.22",
         "118.85"
        ],
        [
         "NORTH_AMERICA",
         1761449720,
         "a2dce1",
         "ASA134  ",
         "United States",
         "-122.8465",
         "48.0306",
         "4107.18",
         "146.91"
        ],
        [
         "NORTH_AMERICA",
         1761449720,
         "a841f5",
         "FDX3954 ",
         "United States",
         "-120.7638",
         "39.0213",
         "10668",
         "256.66"
        ],
        [
         "NORTH_AMERICA",
         1761449720,
         "a9fa0c",
         "TAI570  ",
         "United States",
         "-83.557",
         "29.0236",
         "10668",
         "248.81"
        ],
        [
         "NORTH_AMERICA",
         1761449720,
         "a84343",
         "UPS61   ",
         "United States",
         "-149.9792",
         "61.1694",
         null,
         "6.94"
        ],
        [
         "NORTH_AMERICA",
         1761449720,
         "c0466c",
         "ROU1937 ",
         "Canada",
         "-88.4099",
         "47.913",
         "9144",
         "238.58"
        ],
        [
         "NORTH_AMERICA",
         1761449720,
         "a3539d",
         "SKW3617 ",
         "United States",
         "-104.5869",
         "38.6808",
         "11277.6",
         "238.59"
        ],
        [
         "NORTH_AMERICA",
         1761449720,
         "a8697f",
         "FFT1595 ",
         "United States",
         "-87.3886",
         "41.5362",
         "3230.88",
         "177.64"
        ],
        [
         "NORTH_AMERICA",
         1761449720,
         "a0e086",
         "AAL3005 ",
         "United States",
         "-106.0655",
         "39.5362",
         "10363.2",
         "224.59"
        ],
        [
         "NORTH_AMERICA",
         1761449720,
         "a5939c",
         "ASA372  ",
         "United States",
         "-107.5907",
         "37.6092",
         "10668",
         "240.1"
        ],
        [
         "NORTH_AMERICA",
         1761449720,
         "aa9136",
         "HAL22   ",
         "United States",
         "-128.8331",
         "44.579",
         "12192",
         "299.11"
        ],
        [
         "NORTH_AMERICA",
         1761449720,
         "a03b67",
         "DAL2309 ",
         "United States",
         "-88.1637",
         "38.7926",
         "9448.8",
         "244.51"
        ],
        [
         "NORTH_AMERICA",
         1761449720,
         "a4c34c",
         "DAL227  ",
         "United States",
         "-73.5955",
         "40.0743",
         "4434.84",
         "190.5"
        ],
        [
         "NORTH_AMERICA",
         1761449720,
         "a8b920",
         "NDU661  ",
         "United States",
         "-111.6173",
         "32.7241",
         "1981.2",
         "53.65"
        ],
        [
         "NORTH_AMERICA",
         1761449720,
         "a15b05",
         "DAL991  ",
         "United States",
         "-73.6551",
         "40.5964",
         "472.44",
         "86.99"
        ],
        [
         "NORTH_AMERICA",
         1761449720,
         "ad9b94",
         "SKW5454 ",
         "United States",
         "-93.2735",
         "38.0149",
         "9753.6",
         "210.92"
        ],
        [
         "NORTH_AMERICA",
         1761449720,
         "a1be79",
         "AAY734  ",
         "United States",
         "-96.1891",
         "39.4868",
         "11582.4",
         "240.88"
        ],
        [
         "NORTH_AMERICA",
         1761449720,
         "a2cb12",
         "UAL358  ",
         "United States",
         "-115.1087",
         "34.947",
         "8404.86",
         "244.88"
        ],
        [
         "NORTH_AMERICA",
         1761449720,
         "a39b19",
         "ENY3427 ",
         "United States",
         "-83.2975",
         "29.5495",
         "10363.2",
         "234.31"
        ],
        [
         "NORTH_AMERICA",
         1761449720,
         "a125f9",
         "SKW3495 ",
         "United States",
         "-121.3006",
         "43.6409",
         "11277.6",
         "247.47"
        ],
        [
         "NORTH_AMERICA",
         1761449720,
         "a7ce03",
         "N6015F  ",
         "United States",
         "-96.0648",
         "33.1122",
         "358.14",
         "44.76"
        ],
        [
         "NORTH_AMERICA",
         1761449720,
         "a1be3a",
         "N211LG  ",
         "United States",
         "-104.7197",
         "38.8086",
         null,
         "3.86"
        ],
        [
         "NORTH_AMERICA",
         1761449720,
         "a41e29",
         "UAL1995 ",
         "United States",
         "-116.4914",
         "36.6556",
         "8481.06",
         "231.07"
        ],
        [
         "NORTH_AMERICA",
         1761449720,
         "89610f",
         "UAE220  ",
         "United Arab Emirates",
         "-71.702",
         "43.2319",
         "9448.8",
         "271.51"
        ],
        [
         "NORTH_AMERICA",
         1761449720,
         "abbe23",
         "FDX9084 ",
         "United States",
         "-101.4654",
         "38.1294",
         "10668",
         "240.3"
        ],
        [
         "NORTH_AMERICA",
         1761449720,
         "a16e7d",
         "UAL228  ",
         "United States",
         "-77.4749",
         "38.9392",
         "-22.86",
         "83.03"
        ],
        [
         "NORTH_AMERICA",
         1761449720,
         "ac45ac",
         "DAL2488 ",
         "United States",
         "-97.9603",
         "43.6258",
         "9753.6",
         "239.42"
        ],
        [
         "NORTH_AMERICA",
         1761449720,
         "ac45d5",
         "FDX90   ",
         "United States",
         "-119.8338",
         "54.3289",
         "10058.4",
         "230.8"
        ],
        [
         "NORTH_AMERICA",
         1761449720,
         "a2de7e",
         "SKW4027 ",
         "United States",
         "-121.5763",
         "45.3285",
         "10668",
         "230.17"
        ],
        [
         "NORTH_AMERICA",
         1761449720,
         "c07a7c",
         "JZA7958 ",
         "Canada",
         "-73.7175",
         "45.4778",
         null,
         "2.83"
        ],
        [
         "NORTH_AMERICA",
         1761449720,
         "a77e97",
         "DAL763  ",
         "United States",
         "-108.7184",
         "35.4974",
         "10363.2",
         "230.04"
        ],
        [
         "NORTH_AMERICA",
         1761449720,
         "a12735",
         "UAL2008 ",
         "United States",
         "-119.794",
         "37.7751",
         "7315.2",
         "193.61"
        ],
        [
         "NORTH_AMERICA",
         1761449720,
         "ac8cf1",
         "AAL2176 ",
         "United States",
         "-85.9112",
         "39.8913",
         "11582.4",
         "203.06"
        ],
        [
         "NORTH_AMERICA",
         1761449720,
         "aa3b84",
         "AMX664  ",
         "United States",
         "-121.6956",
         "36.4736",
         "6400.8",
         "170.25"
        ],
        [
         "NORTH_AMERICA",
         1761449720,
         "aca99c",
         "DAL2839 ",
         "United States",
         "-80.8702",
         "40.1379",
         "7620",
         "243.47"
        ],
        [
         "NORTH_AMERICA",
         1761449720,
         "a12712",
         "UAL2211 ",
         "United States",
         "-108.9527",
         "45.7835",
         "10363.2",
         "212.86"
        ],
        [
         "NORTH_AMERICA",
         1761449720,
         "ada336",
         "AAL1771 ",
         "United States",
         "-111.5286",
         "35.4355",
         "9593.58",
         "208.96"
        ],
        [
         "NORTH_AMERICA",
         1761449720,
         "738100",
         "ELY022  ",
         "Israel",
         "-79.0747",
         "27.0143",
         "6035.04",
         "223.99"
        ],
        [
         "NORTH_AMERICA",
         1761449720,
         "ac335b",
         "SWA4706 ",
         "United States",
         "-88.37",
         "41.8828",
         "1424.94",
         "117.55"
        ],
        [
         "NORTH_AMERICA",
         1761449720,
         "adb656",
         "AAL961  ",
         "United States",
         "-80.926",
         "35.2744",
         "777.24",
         "118.07"
        ],
        [
         "NORTH_AMERICA",
         1761449720,
         "c031c9",
         "WEN3264 ",
         "Canada",
         "-105.1384",
         "50.4061",
         "3505.2",
         "143.18"
        ],
        [
         "NORTH_AMERICA",
         1761449720,
         "a1270a",
         "UAL498  ",
         "United States",
         "-118.4856",
         "45.1112",
         "10965.18",
         "207.95"
        ],
        [
         "NORTH_AMERICA",
         1761449720,
         "a89e2f",
         "N65415  ",
         "United States",
         "-121.1564",
         "37.9116",
         "861.06",
         "38.56"
        ],
        [
         "NORTH_AMERICA",
         1761449720,
         "896175",
         "UAE256  ",
         "United Arab Emirates",
         "-79.4453",
         "30.1809",
         "10668",
         "258.48"
        ],
        [
         "NORTH_AMERICA",
         1761449720,
         "a988cc",
         "SKW6191 ",
         "United States",
         "-94.3858",
         "33.696",
         "10401.3",
         "269"
        ],
        [
         "NORTH_AMERICA",
         1761449720,
         "a4870d",
         "FFT1810 ",
         "United States",
         "-77.6366",
         "32.6914",
         "11277.6",
         "235.79"
        ],
        [
         "NORTH_AMERICA",
         1761449720,
         "a04dff",
         "N119DT  ",
         "United States",
         "-88.2658",
         "35.0624",
         "10340.34",
         "263.01"
        ],
        [
         "NORTH_AMERICA",
         1761449720,
         "896187",
         "UAE8UW  ",
         "United Arab Emirates",
         "-73.835",
         "40.5592",
         "1272.54",
         "134.67"
        ],
        [
         "NORTH_AMERICA",
         1761449720,
         "a9b39e",
         "NKS2535 ",
         "United States",
         "-85.7622",
         "35.4376",
         "6240.78",
         "195.42"
        ],
        [
         "NORTH_AMERICA",
         1761449720,
         "a12755",
         "UAL1104 ",
         "United States",
         "-115.3631",
         "32.498",
         "10972.8",
         "216.38"
        ],
        [
         "NORTH_AMERICA",
         1761449720,
         "a12756",
         "UAL1425 ",
         "United States",
         "-87.5332",
         "17.5989",
         "10363.2",
         "240.68"
        ],
        [
         "NORTH_AMERICA",
         1761449720,
         "a12758",
         "UAL2656 ",
         "United States",
         "-104.6943",
         "39.8659",
         null,
         "15.43"
        ],
        [
         "NORTH_AMERICA",
         1761449720,
         "abbeb6",
         "N856MA  ",
         "United States",
         "-157.8019",
         "21.2533",
         "1333.5",
         "54.58"
        ],
        [
         "NORTH_AMERICA",
         1761449720,
         "a12798",
         "UAL2633 ",
         "United States",
         "-117.0383",
         "32.7726",
         "1714.5",
         "129.4"
        ],
        [
         "NORTH_AMERICA",
         1761449720,
         "a1277b",
         "UAL2059 ",
         "United States",
         "-107.73",
         "45.1907",
         "10972.8",
         "202.41"
        ],
        [
         "NORTH_AMERICA",
         1761449720,
         "a3b796",
         "DAL2123 ",
         "United States",
         "-77.5198",
         "42.1014",
         "9547.86",
         "243.1"
        ],
        [
         "NORTH_AMERICA",
         1761449720,
         "a1bdcc",
         "N211FX  ",
         "United States",
         "-77.3896",
         "38.9203",
         "259.08",
         "66.44"
        ],
        [
         "NORTH_AMERICA",
         1761449720,
         "ab6efc",
         "DAL2132 ",
         "United States",
         "-99.3552",
         "29.9183",
         "10668",
         "274.95"
        ],
        [
         "NORTH_AMERICA",
         1761449720,
         "acded6",
         "N9284R  ",
         "United States",
         "-87.9109",
         "42.9427",
         "4457.7",
         "81.7"
        ],
        [
         "NORTH_AMERICA",
         1761449720,
         "a9b2e0",
         "SKW4234 ",
         "United States",
         "-111.979",
         "40.8048",
         null,
         "0"
        ],
        [
         "NORTH_AMERICA",
         1761449720,
         "abbedb",
         "AAL1563 ",
         "United States",
         "-87.965",
         "42.9275",
         "320.04",
         "69.47"
        ],
        [
         "NORTH_AMERICA",
         1761449720,
         "ad6884",
         "AAL2772 ",
         "United States",
         "-73.7739",
         "40.6327",
         null,
         "0"
        ],
        [
         "NORTH_AMERICA",
         1761449720,
         "ada51e",
         "ASA485  ",
         "United States",
         "-113.0873",
         "46.9176",
         "10203.18",
         "225.64"
        ],
        [
         "NORTH_AMERICA",
         1761449720,
         "a2ddef",
         "N284ME  ",
         "United States",
         "-86.2198",
         "36.0135",
         "1112.52",
         "59.16"
        ],
        [
         "NORTH_AMERICA",
         1761449720,
         "a7bb93",
         "ERU98   ",
         "United States",
         "-112.1503",
         "34.7608",
         "3291.84",
         "73.45"
        ],
        [
         "NORTH_AMERICA",
         1761449720,
         "a97797",
         "SKW6241 ",
         "United States",
         "-95.8264",
         "29.2516",
         "6438.9",
         "163.41"
        ],
        [
         "NORTH_AMERICA",
         1761449720,
         "a126c5",
         "UAL1976 ",
         "United States",
         "-87.8186",
         "30.7607",
         "3307.08",
         "188.8"
        ],
        [
         "NORTH_AMERICA",
         1761449720,
         "ad40c7",
         "N953LA  ",
         "United States",
         "-118.1654",
         "33.9014",
         "190.5",
         "39.62"
        ],
        [
         "NORTH_AMERICA",
         1761449720,
         "a04f40",
         "N119SP  ",
         "United States",
         "-93.1091",
         "44.9914",
         "533.4",
         "9.26"
        ],
        [
         "NORTH_AMERICA",
         1761449720,
         "a126eb",
         "UAL1112 ",
         "United States",
         "-122.6117",
         "37.3164",
         "2987.04",
         "166.21"
        ],
        [
         "NORTH_AMERICA",
         1761449720,
         "a126ed",
         "UAL1534 ",
         "United States",
         "-77.2846",
         "37.4678",
         "129.54",
         "77.77"
        ],
        [
         "NORTH_AMERICA",
         1761449720,
         "a61797",
         "ASA478  ",
         "United States",
         "-118.7844",
         "38.8367",
         "11269.98",
         "268.12"
        ],
        [
         "NORTH_AMERICA",
         1761449720,
         "a379d3",
         "DAL928  ",
         "United States",
         "-122.3165",
         "47.6061",
         "1082.04",
         "68.94"
        ],
        [
         "NORTH_AMERICA",
         1761449720,
         "a1ac11",
         "ENY4151 ",
         "United States",
         "-90.8926",
         "44.2517",
         "9753.6",
         "221.63"
        ],
        [
         "NORTH_AMERICA",
         1761449720,
         "ab6eb9",
         "AAL647  ",
         "United States",
         "-83.7257",
         "34.9369",
         "10668",
         "234.65"
        ],
        [
         "NORTH_AMERICA",
         1761449720,
         "a4c47f",
         "N406SD  ",
         "United States",
         "-77.8253",
         "37.6121",
         "2987.04",
         "77.21"
        ],
        [
         "NORTH_AMERICA",
         1761449720,
         "a259ec",
         "N2500X  ",
         "United States",
         "-80.9747",
         "28.9363",
         "708.66",
         "48.53"
        ],
        [
         "NORTH_AMERICA",
         1761449720,
         "a6179a",
         "VAR492  ",
         "United States",
         "-112.3632",
         "33.4346",
         null,
         "0"
        ],
        [
         "NORTH_AMERICA",
         1761449720,
         "a4c3a0",
         "N406HF  ",
         "United States",
         "-107.5573",
         "44.2041",
         "7620",
         "133.52"
        ],
        [
         "NORTH_AMERICA",
         1761449720,
         "a8b9b3",
         "UAL54   ",
         "United States",
         "-70.3072",
         "42.8178",
         "10668",
         "270.57"
        ],
        [
         "NORTH_AMERICA",
         1761449720,
         "ab6f3d",
         "N836GC  ",
         "United States",
         "-115.1543",
         "36.1621",
         "922.02",
         "35.23"
        ],
        [
         "NORTH_AMERICA",
         1761449720,
         "a353c8",
         "AAL2667 ",
         "United States",
         "-80.7605",
         "27.0697",
         "7010.4",
         "233.61"
        ],
        [
         "NORTH_AMERICA",
         1761449720,
         "a593af",
         "N459BL  ",
         "United States",
         "-122.2096",
         "37.7274",
         null,
         "6.43"
        ],
        [
         "NORTH_AMERICA",
         1761449720,
         "c0473b",
         "CJT2384 ",
         "Canada",
         "-93.5662",
         "46.2453",
         "9761.22",
         "232.57"
        ],
        [
         "NORTH_AMERICA",
         1761449720,
         "a603b0",
         "GTI8523 ",
         "United States",
         "-154.8295",
         "60.3151",
         "11269.98",
         "256.28"
        ],
        [
         "NORTH_AMERICA",
         1761449720,
         "adc9b6",
         "JBU615  ",
         "United States",
         "-90.9835",
         "42.7457",
         "10370.82",
         "232.55"
        ],
        [
         "NORTH_AMERICA",
         1761449720,
         "a736c1",
         "LCO3607 ",
         "United States",
         "-77.2203",
         "34.3321",
         "9448.8",
         "252.02"
        ],
        [
         "NORTH_AMERICA",
         1761449720,
         "c04738",
         "CJT2389 ",
         "Canada",
         "-114.0319",
         "51.1284",
         null,
         "0.77"
        ],
        [
         "NORTH_AMERICA",
         1761449720,
         "a83174",
         "NKS3998 ",
         "United States",
         "-80.1694",
         "32.4878",
         "11285.22",
         "249.84"
        ],
        [
         "NORTH_AMERICA",
         1761449720,
         "c07b8c",
         "WJA1425 ",
         "Canada",
         "-116.877",
         "43.8306",
         "11582.4",
         "249.09"
        ],
        [
         "NORTH_AMERICA",
         1761449720,
         "ab5c69",
         "DAL1373 ",
         "United States",
         "-111.9777",
         "40.7951",
         null,
         "9.26"
        ],
        [
         "NORTH_AMERICA",
         1761449720,
         "7380c3",
         "ELY026  ",
         "Israel",
         "-74.1722",
         "40.6927",
         null,
         "0"
        ],
        [
         "NORTH_AMERICA",
         1761449720,
         "7380c7",
         "ELY008  ",
         "Israel",
         "-73.1903",
         "41.5791",
         "6347.46",
         "233.9"
        ],
        [
         "NORTH_AMERICA",
         1761449720,
         "ac7c52",
         "SWA4186 ",
         "United States",
         "-98.9259",
         "29.7876",
         "11887.2",
         "269.92"
        ],
        [
         "NORTH_AMERICA",
         1761449720,
         "ae1f60",
         "00172081",
         "United States",
         "-85.5906",
         "31.2839",
         "563.88",
         "77.41"
        ],
        [
         "NORTH_AMERICA",
         1761449720,
         "ad9ac9",
         "JBU607  ",
         "United States",
         "-104.8727",
         "35.6618",
         "10980.42",
         "223.42"
        ],
        [
         "NORTH_AMERICA",
         1761449720,
         "a36825",
         "JBU2483 ",
         "United States",
         "-78.8902",
         "35.7607",
         "571.5",
         "92.97"
        ],
        [
         "NORTH_AMERICA",
         1761449720,
         "a03baa",
         "XAA2459 ",
         "United States",
         "-85.8113",
         "37.0837",
         "13106.4",
         "253.07"
        ],
        [
         "NORTH_AMERICA",
         1761449720,
         "ab1496",
         "AAL2384 ",
         "United States",
         "-81.7322",
         "35.3125",
         "2926.08",
         "187.27"
        ],
        [
         "NORTH_AMERICA",
         1761449720,
         "ab5afe",
         "SWA2535 ",
         "United States",
         "-97.0565",
         "39.7044",
         "10668",
         "217.9"
        ],
        [
         "NORTH_AMERICA",
         1761449720,
         "ab148b",
         "ASA9671 ",
         "United States",
         "-149.9848",
         "61.1761",
         null,
         "0"
        ],
        [
         "NORTH_AMERICA",
         1761449720,
         "ab148d",
         "N813AM  ",
         "United States",
         "-89.6526",
         "39.7898",
         "487.68",
         "39.1"
        ],
        [
         "NORTH_AMERICA",
         1761449720,
         "aaf47a",
         "ASA1401 ",
         "United States",
         "-122.1482",
         "47.7055",
         "2125.98",
         "122.91"
        ],
        [
         "NORTH_AMERICA",
         1761449720,
         "a9d9f2",
         "ASA462  ",
         "United States",
         "-120.6107",
         "47.8145",
         "8100.06",
         "203.27"
        ],
        [
         "NORTH_AMERICA",
         1761449720,
         "a0e220",
         "SKW4727 ",
         "United States",
         "-98.5976",
         "36.2254",
         "6918.96",
         "201.53"
        ],
        [
         "NORTH_AMERICA",
         1761449720,
         "a8b9e8",
         "N661WD  ",
         "United States",
         "-96.2395",
         "35.3928",
         "11887.2",
         "228.09"
        ],
        [
         "NORTH_AMERICA",
         1761449720,
         "a0f566",
         "AAL3001 ",
         "United States",
         "-106.6685",
         "41.5552",
         "10355.58",
         "213.06"
        ],
        [
         "NORTH_AMERICA",
         1761449720,
         "a7cf40",
         "LXJ602  ",
         "United States",
         "-120.5389",
         "36.2135",
         "13418.82",
         "269.6"
        ],
        [
         "NORTH_AMERICA",
         1761449720,
         "c045f1",
         "WJA2021 ",
         "Canada",
         "-101.0598",
         "39.969",
         "11582.4",
         "225.61"
        ],
        [
         "NORTH_AMERICA",
         1761449720,
         "c07b42",
         "WJA80   ",
         "Canada",
         "-161.4566",
         "61.1774",
         "10972.8",
         "243.45"
        ],
        [
         "NORTH_AMERICA",
         1761449720,
         "a09237",
         "N136HN  ",
         "United States",
         "-79.6746",
         "39.6193",
         "1028.7",
         "56.24"
        ],
        [
         "NORTH_AMERICA",
         1761449720,
         "a736ff",
         "JIA5288 ",
         "United States",
         "-89.4512",
         "35.3195",
         "8229.6",
         "231.46"
        ],
        [
         "NORTH_AMERICA",
         1761449720,
         "abe105",
         "ASI155  ",
         "United States",
         "-111.8219",
         "33.0874",
         "1341.12",
         "56.52"
        ],
        [
         "NORTH_AMERICA",
         1761449720,
         "a7032e",
         "N551AM  ",
         "United States",
         "-111.7118",
         "33.3011",
         "579.12",
         "65.95"
        ],
        [
         "NORTH_AMERICA",
         1761449720,
         "a44031",
         "DAL1508 ",
         "United States",
         "-87.615",
         "31.4411",
         "10370.82",
         "191.08"
        ],
        [
         "NORTH_AMERICA",
         1761449720,
         "a32056",
         "ENY4109 ",
         "United States",
         "-81.5909",
         "27.4462",
         "10363.2",
         "216.31"
        ],
        [
         "NORTH_AMERICA",
         1761449720,
         "ad7ab8",
         "JBU333  ",
         "United States",
         "-101.825",
         "41.9891",
         "10363.2",
         "240.5"
        ],
        [
         "NORTH_AMERICA",
         1761449720,
         "a82332",
         "UPS197  ",
         "United States",
         "-98.8617",
         "48.5907",
         "11277.6",
         "259.53"
        ],
        [
         "NORTH_AMERICA",
         1761449720,
         "a81005",
         "UAL2627 ",
         "United States",
         "-92.4413",
         "44.8671",
         "5494.02",
         "188.76"
        ],
        [
         "NORTH_AMERICA",
         1761449720,
         "ac0143",
         "SWA2608 ",
         "United States",
         "-114.628",
         "35.3396",
         "8534.4",
         "220.96"
        ],
        [
         "NORTH_AMERICA",
         1761449720,
         "a81006",
         "UAL2132 ",
         "United States",
         "-120.3872",
         "39.0166",
         "6286.5",
         "156.46"
        ],
        [
         "NORTH_AMERICA",
         1761449720,
         "a70356",
         "N551CB  ",
         "United States",
         "-94.7151",
         "29.4213",
         "3756.66",
         "152.6"
        ],
        [
         "NORTH_AMERICA",
         1761449720,
         "ac5ada",
         "",
         "United States",
         "-115.3773",
         "38.4424",
         "11582.4",
         "185.46"
        ],
        [
         "NORTH_AMERICA",
         1761449720,
         "a2be06",
         "AAY681  ",
         "United States",
         "-109.1609",
         "36.0996",
         "10370.82",
         "220.6"
        ],
        [
         "NORTH_AMERICA",
         1761449720,
         "a7bfa0",
         "JBU539  ",
         "United States",
         "-71.7825",
         "37.5894",
         "10652.76",
         "258.9"
        ],
        [
         "NORTH_AMERICA",
         1761449720,
         "a5d623",
         "UAL2332 ",
         "United States",
         "-105.8878",
         "35.0357",
         "10226.04",
         "253.28"
        ],
        [
         "NORTH_AMERICA",
         1761449720,
         "a5d62f",
         "N4751G  ",
         "United States",
         "-85.8821",
         "39.8296",
         "487.68",
         "45.84"
        ],
        [
         "NORTH_AMERICA",
         1761449720,
         "a5d643",
         "UAL3789 ",
         "United States",
         "-97.8924",
         "34.7712",
         "8534.4",
         "256.02"
        ],
        [
         "NORTH_AMERICA",
         1761449720,
         "ab4f07",
         "ERU828  ",
         "United States",
         "-81.2507",
         "29.1024",
         "457.2",
         "38.98"
        ],
        [
         "NORTH_AMERICA",
         1761449720,
         "3c5b31",
         "OCN691  ",
         "Germany",
         "-70.8282",
         "43.3676",
         "10668",
         "260.75"
        ],
        [
         "NORTH_AMERICA",
         1761449720,
         "896408",
         "ETD8NY  ",
         "United Arab Emirates",
         "-71.6086",
         "42.743",
         "10287",
         "277.94"
        ],
        [
         "NORTH_AMERICA",
         1761449720,
         "a37b0c",
         "AAL1815 ",
         "United States",
         "-116.49",
         "34.0913",
         "8587.74",
         "224.54"
        ],
        [
         "NORTH_AMERICA",
         1761449720,
         "a728c1",
         "AAL2568 ",
         "United States",
         "-97.0377",
         "32.9091",
         null,
         "10.29"
        ],
        [
         "NORTH_AMERICA",
         1761449720,
         "a082ac",
         "AAL2069 ",
         "United States",
         "-107.8442",
         "38.4027",
         "10363.2",
         "217.67"
        ],
        [
         "NORTH_AMERICA",
         1761449720,
         "a105e8",
         "SKW5327 ",
         "United States",
         "-86.6675",
         "36.1233",
         null,
         "6.17"
        ],
        [
         "NORTH_AMERICA",
         1761449720,
         "a0e5d7",
         "SKW4672 ",
         "United States",
         "-119.0531",
         "35.4313",
         "137.16",
         "66.57"
        ],
        [
         "NORTH_AMERICA",
         1761449720,
         "ac6db1",
         "N90JX   ",
         "United States",
         "-103.1072",
         "33.4779",
         "4564.38",
         "113.42"
        ],
        [
         "NORTH_AMERICA",
         1761449720,
         "020121",
         "RAM209M ",
         "Morocco",
         "-65.907",
         "45.5305",
         "11887.2",
         "274.65"
        ],
        [
         "NORTH_AMERICA",
         1761449720,
         "4bb1a4",
         "THY5YR  ",
         "Turkey",
         "-92.1882",
         "37.1329",
         "11269.98",
         "267.63"
        ],
        [
         "NORTH_AMERICA",
         1761449720,
         "a37b1c",
         "SKW4087 ",
         "United States",
         "-118.4112",
         "33.9481",
         null,
         "7.72"
        ],
        [
         "NORTH_AMERICA",
         1761449720,
         "aa8481",
         "N777RB  ",
         "United States",
         "-81.9327",
         "31.4995",
         "12192",
         "202.03"
        ],
        [
         "NORTH_AMERICA",
         1761449720,
         "a082fd",
         "DAL869  ",
         "United States",
         "-73.8585",
         "40.769",
         null,
         "0.06"
        ],
        [
         "NORTH_AMERICA",
         1761449720,
         "a81045",
         "ATN3364 ",
         "United States",
         "-103.1155",
         "36.7854",
         "11590.02",
         "228.51"
        ],
        [
         "NORTH_AMERICA",
         1761449720,
         "02013e",
         "RAM7201 ",
         "Morocco",
         "-73.2134",
         "40.5756",
         "4213.86",
         "214.9"
        ],
        [
         "NORTH_AMERICA",
         1761449720,
         "ad4744",
         "ASA287  ",
         "United States",
         "-95.994",
         "40.0027",
         "10363.2",
         "246.47"
        ],
        [
         "NORTH_AMERICA",
         1761449720,
         "a968f8",
         "AAL1654 ",
         "United States",
         "-109.3403",
         "32.637",
         "11277.6",
         "232.58"
        ],
        [
         "NORTH_AMERICA",
         1761449720,
         "a62b51",
         "N497NM  ",
         "United States",
         "-85.289",
         "32.7762",
         "13106.4",
         "211.81"
        ],
        [
         "NORTH_AMERICA",
         1761449720,
         "a51e9b",
         "N429RX  ",
         "United States",
         "-112.3587",
         "33.448",
         "434.34",
         "47.29"
        ],
        [
         "NORTH_AMERICA",
         1761449720,
         "c06cc3",
         "CGPEW   ",
         "Canada",
         "-114.2778",
         "51.6439",
         "2118.36",
         "43.22"
        ],
        [
         "NORTH_AMERICA",
         1761449720,
         "780a89",
         "CPA880  ",
         "China",
         "-121.484",
         "37.0226",
         "11277.6",
         "286.72"
        ],
        [
         "NORTH_AMERICA",
         1761449720,
         "aa1b39",
         "NDU750  ",
         "United States",
         "-111.6404",
         "33.2957",
         "449.58",
         "41.47"
        ],
        [
         "NORTH_AMERICA",
         1761449720,
         "a452c4",
         "DAL2213 ",
         "United States",
         "-84.5335",
         "37.3587",
         "3977.64",
         "187.94"
        ],
        [
         "NORTH_AMERICA",
         1761449720,
         "a7f08e",
         "UPS77   ",
         "United States",
         "-150.9413",
         "61.03",
         "2026.92",
         "138.01"
        ],
        [
         "NORTH_AMERICA",
         1761449720,
         "a34729",
         "DAL2276 ",
         "United States",
         "-82.5782",
         "31.2978",
         "5334",
         "211.89"
        ],
        [
         "NORTH_AMERICA",
         1761449720,
         "4bb0ed",
         "THY9WC  ",
         "Turkey",
         "-119.8969",
         "39.4325",
         "10134.6",
         "274.41"
        ],
        [
         "NORTH_AMERICA",
         1761449720,
         "4bb0eb",
         "THY1RT  ",
         "Turkey",
         "-63.0808",
         "46.036",
         "11582.4",
         "274.92"
        ],
        [
         "NORTH_AMERICA",
         1761449720,
         "a0e751",
         "UAL1553 ",
         "United States",
         "-79.6619",
         "33.2253",
         "2804.16",
         "138.29"
        ],
        [
         "NORTH_AMERICA",
         1761449720,
         "c07fb0",
         "WJA374  ",
         "Canada",
         "-79.3466",
         "43.7775",
         "3764.28",
         "173.4"
        ],
        [
         "NORTH_AMERICA",
         1761449720,
         "c07fe9",
         "WJA2065 ",
         "Canada",
         "-117.4746",
         "44.9324",
         "10980.42",
         "223.4"
        ],
        [
         "NORTH_AMERICA",
         1761449720,
         "aa2e0b",
         "N755QS  ",
         "United States",
         "-110.6999",
         "30.2547",
         "12496.8",
         "252.73"
        ],
        [
         "NORTH_AMERICA",
         1761449720,
         "a6f5b5",
         "ASA1131 ",
         "United States",
         "-122.2693",
         "45.4901",
         "1120.14",
         "72.99"
        ],
        [
         "NORTH_AMERICA",
         1761449720,
         "a34764",
         "LXJ310  ",
         "United States",
         "-84.4237",
         "39.0977",
         null,
         "8.75"
        ],
        [
         "NORTH_AMERICA",
         1761449720,
         "ab18ac",
         "ERU814  ",
         "United States",
         "-81.3738",
         "29.3577",
         "548.64",
         "56.96"
        ],
        [
         "NORTH_AMERICA",
         1761449720,
         "ac0094",
         "SWA3792 ",
         "United States",
         "-123.2406",
         "37.6301",
         "7505.7",
         "231.13"
        ],
        [
         "NORTH_AMERICA",
         1761449720,
         "a3472f",
         "DAL2749 ",
         "United States",
         "-97.673",
         "30.1989",
         null,
         "9.26"
        ],
        [
         "NORTH_AMERICA",
         1761449720,
         "a98b76",
         "FFT2886 ",
         "United States",
         "-82.4622",
         "30.453",
         "8839.2",
         "249.42"
        ],
        [
         "NORTH_AMERICA",
         1761449720,
         "a75da2",
         "DAL684  ",
         "United States",
         "-122.0203",
         "45.5139",
         "2179.32",
         "96.33"
        ],
        [
         "NORTH_AMERICA",
         1761449720,
         "ad2095",
         "JBU211  ",
         "United States",
         "-76.0629",
         "42.128",
         "9761.22",
         "198.47"
        ],
        [
         "NORTH_AMERICA",
         1761449720,
         "a2bdff",
         "ENY4101 ",
         "United States",
         "-96.5107",
         "33.7554",
         "5173.98",
         "190.33"
        ],
        [
         "NORTH_AMERICA",
         1761449720,
         "abe09a",
         "SWA2678 ",
         "United States",
         "-79.1496",
         "36.4759",
         "4251.96",
         "198.28"
        ],
        [
         "NORTH_AMERICA",
         1761449720,
         "a822d6",
         "QXE2421 ",
         "United States",
         "-119.0984",
         "36.1996",
         "10363.2",
         "192.41"
        ],
        [
         "NORTH_AMERICA",
         1761449720,
         "780a3d",
         "CPA087  ",
         "China",
         "-129.4981",
         "55.1232",
         "13106.4",
         "246.33"
        ],
        [
         "NORTH_AMERICA",
         1761449720,
         "a07177",
         "AAL711  ",
         "United States",
         "-101.1784",
         "33.5487",
         "10363.2",
         "218.98"
        ],
        [
         "NORTH_AMERICA",
         1761449720,
         "a44166",
         "UAL1798 ",
         "United States",
         "-83.302",
         "41.9337",
         "10668",
         "290.15"
        ],
        [
         "NORTH_AMERICA",
         1761449720,
         "a6946b",
         "DAL210  ",
         "United States",
         "-78.3547",
         "31.984",
         "10058.4",
         "267"
        ],
        [
         "NORTH_AMERICA",
         1761449720,
         "a4414a",
         "DAL1713 ",
         "United States",
         "-104.074",
         "32.0597",
         "10972.8",
         "208.62"
        ],
        [
         "NORTH_AMERICA",
         1761449720,
         "c013d0",
         "ACA1030 ",
         "Canada",
         "-85.8239",
         "40.2493",
         "11277.6",
         "252.85"
        ],
        [
         "NORTH_AMERICA",
         1761449720,
         "4bb145",
         "THY6    ",
         "Turkey",
         "-78.4768",
         "45.0169",
         "10058.4",
         "259.99"
        ],
        [
         "NORTH_AMERICA",
         1761449720,
         "4bb107",
         "THY8JK  ",
         "Turkey",
         "-122.1024",
         "47.6596",
         "5021.58",
         "207.41"
        ],
        [
         "NORTH_AMERICA",
         1761449720,
         "a3a9a3",
         "DAL1320 ",
         "United States",
         "-82.9801",
         "37.3301",
         "8839.2",
         "231.02"
        ],
        [
         "NORTH_AMERICA",
         1761449720,
         "a83781",
         "UAL1453 ",
         "United States",
         "-85.7658",
         "40.7059",
         "10668",
         "264.85"
        ],
        [
         "NORTH_AMERICA",
         1761449720,
         "aa1be0",
         "AAL2556 ",
         "United States",
         "-86.9331",
         "37.0956",
         "5943.6",
         "200.88"
        ],
        [
         "NORTH_AMERICA",
         1761449720,
         "a5617a",
         "LXJ446  ",
         "United States",
         "-109.8332",
         "33.7326",
         "13106.4",
         "203.16"
        ],
        [
         "NORTH_AMERICA",
         1761449720,
         "4bb188",
         "THY32G  ",
         "Turkey",
         "-81.8885",
         "35.0582",
         "10424.16",
         "275.24"
        ],
        [
         "NORTH_AMERICA",
         1761449720,
         "4bb184",
         "THY6936 ",
         "Turkey",
         "-83.2462",
         "34.2469",
         "7223.76",
         "240.25"
        ],
        [
         "NORTH_AMERICA",
         1761449720,
         "a359bc",
         "DAL1256 ",
         "United States",
         "-99.0625",
         "42.2078",
         "11582.4",
         "227.71"
        ],
        [
         "NORTH_AMERICA",
         1761449720,
         "a44187",
         "UAL280  ",
         "United States",
         "-115.6917",
         "54.0196",
         "11582.4",
         "232.77"
        ],
        [
         "NORTH_AMERICA",
         1761449720,
         "a01c37",
         "AAL4    ",
         "United States",
         "-73.7907",
         "40.6498",
         null,
         "4.12"
        ],
        [
         "NORTH_AMERICA",
         1761449720,
         "a50adc",
         "DAL32   ",
         "United States",
         "-62.079",
         "47.9948",
         "11277.6",
         "263.77"
        ],
        [
         "NORTH_AMERICA",
         1761449720,
         "a4ec00",
         "N416SF  ",
         "United States",
         "-84.3849",
         "33.8102",
         "541.02",
         "66.01"
        ],
        [
         "NORTH_AMERICA",
         1761449720,
         "a4b6b6",
         "JBU1523 ",
         "United States",
         "-118.4145",
         "33.9381",
         null,
         "6.94"
        ],
        [
         "NORTH_AMERICA",
         1761449720,
         "a466c7",
         "DAL2395 ",
         "United States",
         "-84.6468",
         "39.0193",
         "228.6",
         "78.2"
        ],
        [
         "NORTH_AMERICA",
         1761449720,
         "a609d4",
         "UAL1135 ",
         "United States",
         "-97.3235",
         "32.6085",
         "11277.6",
         "253.8"
        ],
        [
         "NORTH_AMERICA",
         1761449720,
         "a070d7",
         "UAL2856 ",
         "United States",
         "-92.9797",
         "35.8756",
         "7315.2",
         "227.69"
        ],
        [
         "NORTH_AMERICA",
         1761449720,
         "a3df4a",
         "FFT4036 ",
         "United States",
         "-83.0765",
         "37.1917",
         "11262.36",
         "257.89"
        ],
        [
         "NORTH_AMERICA",
         1761449720,
         "adcc95",
         "N989AB  ",
         "United States",
         "-90.8848",
         "38.0894",
         "10660.38",
         "197.86"
        ],
        [
         "NORTH_AMERICA",
         1761449720,
         "4bb196",
         "THY3CM  ",
         "Turkey",
         "-64.1088",
         "48.248",
         "11277.6",
         "264.67"
        ],
        [
         "NORTH_AMERICA",
         1761449720,
         "ac2836",
         "SWA3196 ",
         "United States",
         "-95.1495",
         "35.5206",
         "11887.2",
         "247.52"
        ],
        [
         "NORTH_AMERICA",
         1761449720,
         "a63f4e",
         "SKW6510 ",
         "United States",
         "-122.2629",
         "47.7915",
         "1638.3",
         "84.76"
        ],
        [
         "NORTH_AMERICA",
         1761449720,
         "a213b9",
         "N233AV  ",
         "United States",
         "-112.4467",
         "33.9617",
         "2667",
         "81.19"
        ],
        [
         "NORTH_AMERICA",
         1761449720,
         "a599a8",
         "AAL695  ",
         "United States",
         "-101.5343",
         "39.4974",
         "11277.6",
         "230.54"
        ],
        [
         "NORTH_AMERICA",
         1761449720,
         "a466fc",
         "FFT2112 ",
         "United States",
         "-78.6952",
         "40.4538",
         "10058.4",
         "298.51"
        ],
        [
         "NORTH_AMERICA",
         1761449720,
         "ad8ed7",
         "AAL2474 ",
         "United States",
         "-89.675",
         "33.1097",
         "10058.4",
         "246.85"
        ],
        [
         "NORTH_AMERICA",
         1761449720,
         "a3df1e",
         "DAL1268 ",
         "United States",
         "-85.611",
         "37.5939",
         "11574.78",
         "232.8"
        ],
        [
         "NORTH_AMERICA",
         1761449720,
         "ac5bb9",
         "DOW896  ",
         "United States",
         "-81.3186",
         "37.6295",
         "9144",
         "224.04"
        ],
        [
         "NORTH_AMERICA",
         1761449720,
         "a9a750",
         "AAL135  ",
         "United States",
         "-117.7617",
         "33.9993",
         "2705.1",
         "135.67"
        ],
        [
         "NORTH_AMERICA",
         1761449720,
         "a200ba",
         "SWA1595 ",
         "United States",
         "-118.3539",
         "34.1977",
         null,
         "7.72"
        ],
        [
         "NORTH_AMERICA",
         1761449720,
         "a25c75",
         "AAY4913 ",
         "United States",
         "-82.3119",
         "38.2245",
         "3429",
         "182.49"
        ],
        [
         "NORTH_AMERICA",
         1761449720,
         "ac13d6",
         "SWA2857 ",
         "United States",
         "-114.7954",
         "35.6687",
         "9151.62",
         "220.09"
        ],
        [
         "NORTH_AMERICA",
         1761449720,
         "acbf5e",
         "N920NH  ",
         "United States",
         "-78.5803",
         "34.9785",
         "647.7",
         "66.43"
        ],
        [
         "NORTH_AMERICA",
         1761449720,
         "a01ba4",
         "N106GR  ",
         "United States",
         "-84.1439",
         "35.907",
         "335.28",
         "30.42"
        ],
        [
         "NORTH_AMERICA",
         1761449720,
         "c05aac",
         "CGIIT   ",
         "Canada",
         "-73.738",
         "45.4635",
         null,
         "7.72"
        ],
        [
         "NORTH_AMERICA",
         1761449720,
         "a8cf3a",
         "N667LF  ",
         "United States",
         "-117.3895",
         "47.5601",
         "2819.4",
         "81.81"
        ],
        [
         "NORTH_AMERICA",
         1761449720,
         "a9b9e3",
         "AAL56   ",
         "United States",
         "-79.9012",
         "25.8998",
         "3528.06",
         "198.37"
        ],
        [
         "NORTH_AMERICA",
         1761449720,
         "89644c",
         "UAE238  ",
         "United Arab Emirates",
         "-69.1541",
         "44.1259",
         "9448.8",
         "272.77"
        ],
        [
         "NORTH_AMERICA",
         1761449720,
         "896458",
         "UAE5RQ  ",
         "United Arab Emirates",
         "-67.6391",
         "44.122",
         "11277.6",
         "278.68"
        ],
        [
         "NORTH_AMERICA",
         1761449720,
         "406890",
         "BAW120  ",
         "United Kingdom",
         "-78.097",
         "43.3733",
         "11887.2",
         "264.53"
        ],
        [
         "NORTH_AMERICA",
         1761449720,
         "ac018c",
         "SKW5124 ",
         "United States",
         "-90.9045",
         "44.6808",
         "2674.62",
         "145.57"
        ],
        [
         "NORTH_AMERICA",
         1761449720,
         "aa9830",
         "CKS218  ",
         "United States",
         "-154.764",
         "61.3721",
         "10363.2",
         "244.26"
        ],
        [
         "NORTH_AMERICA",
         1761449720,
         "a3484e",
         "AAL2875 ",
         "United States",
         "-98.3255",
         "36.0858",
         "12496.8",
         "241.69"
        ],
        [
         "NORTH_AMERICA",
         1761449720,
         "a9dc5e",
         "UAL2674 ",
         "United States",
         "-106.3134",
         "32.4982",
         "10363.2",
         "224.87"
        ],
        [
         "NORTH_AMERICA",
         1761449720,
         "a5753e",
         "N45052  ",
         "United States",
         "-152.0631",
         "62.0376",
         "3261.36",
         "94.18"
        ],
        [
         "NORTH_AMERICA",
         1761449720,
         "aa9800",
         "AMX026  ",
         "United States",
         "-80.6554",
         "48.7239",
         "11582.4",
         "268.47"
        ],
        [
         "NORTH_AMERICA",
         1761449720,
         "addf01",
         "AAL3271 ",
         "United States",
         "-97.032",
         "32.8816",
         null,
         "0"
        ],
        [
         "NORTH_AMERICA",
         1761449720,
         "a9a6ee",
         "N7207W  ",
         "United States",
         "-81.9061",
         "28.4922",
         "1005.84",
         "51.56"
        ],
        [
         "NORTH_AMERICA",
         1761449720,
         "a20288",
         "ATN3588 ",
         "United States",
         "-96.5935",
         "36.9687",
         "10972.8",
         "226.65"
        ],
        [
         "NORTH_AMERICA",
         1761449720,
         "a51ea9",
         "N429SL  ",
         "United States",
         "-116.447",
         "43.872",
         "1097.28",
         "48"
        ],
        [
         "NORTH_AMERICA",
         1761449720,
         "a3488b",
         "WIS700  ",
         "United States",
         "-92.3968",
         "44.666",
         "2042.16",
         "87.5"
        ],
        [
         "NORTH_AMERICA",
         1761449720,
         "ac5c1f",
         "FDX6011 ",
         "United States",
         "-142.917",
         "60.4684",
         "10972.8",
         "259.32"
        ],
        [
         "NORTH_AMERICA",
         1761449720,
         "acceab",
         "SKW382H ",
         "United States",
         "-97.6459",
         "38.7496",
         "541.02",
         "72.02"
        ],
        [
         "NORTH_AMERICA",
         1761449720,
         "ac252a",
         "SWA1314 ",
         "United States",
         "-112.0241",
         "33.4322",
         null,
         "9.77"
        ],
        [
         "NORTH_AMERICA",
         1761449720,
         "a5844a",
         "N4547E  ",
         "United States",
         "-105.1562",
         "39.7921",
         "2804.16",
         "51.3"
        ],
        [
         "NORTH_AMERICA",
         1761449720,
         "ab1890",
         "DAL1531 ",
         "United States",
         "-101.5503",
         "36.8528",
         "11582.4",
         "232.92"
        ],
        [
         "NORTH_AMERICA",
         1761449720,
         "a72764",
         "N560EX  ",
         "United States",
         "-91.202",
         "30.5066",
         "1699.26",
         "114.4"
        ],
        [
         "NORTH_AMERICA",
         1761449720,
         "e48f4e",
         "PTMTP   ",
         "Brazil",
         "-62.3031",
         "12.6537",
         "13708.38",
         "227.19"
        ],
        [
         "NORTH_AMERICA",
         1761449720,
         "a9672c",
         "ASA1031 ",
         "United States",
         "-119.1026",
         "47.6986",
         "12192",
         "211.53"
        ],
        [
         "NORTH_AMERICA",
         1761449720,
         "a76df1",
         "UPS81   ",
         "United States",
         "-154.7008",
         "60.4965",
         "10058.4",
         "256.19"
        ],
        [
         "NORTH_AMERICA",
         1761449720,
         "aa2bc1",
         "UAL2610 ",
         "United States",
         "-106.0237",
         "39.1989",
         "8145.78",
         "219.82"
        ],
        [
         "NORTH_AMERICA",
         1761449720,
         "c023c9",
         "ACA90   ",
         "Canada",
         "-72.748",
         "39.8655",
         "10668",
         "291.22"
        ],
        [
         "NORTH_AMERICA",
         1761449720,
         "a75ac7",
         "JIA5391 ",
         "United States",
         "-85.3934",
         "33.6508",
         "10668",
         "254.2"
        ],
        [
         "NORTH_AMERICA",
         1761449720,
         "846333",
         "NCA173  ",
         "Japan",
         "-146.473",
         "58.3015",
         "10363.2",
         "247.39"
        ],
        [
         "NORTH_AMERICA",
         1761449720,
         "ab4bf7",
         "DAL266  ",
         "United States",
         "-73.779",
         "40.6335",
         null,
         "3.86"
        ],
        [
         "NORTH_AMERICA",
         1761449720,
         "a1f11d",
         "AAY2260 ",
         "United States",
         "-107.0763",
         "38.2828",
         "10972.8",
         "227.1"
        ],
        [
         "NORTH_AMERICA",
         1761449720,
         "a0817c",
         "UAL526  ",
         "United States",
         "-112.5295",
         "36.8056",
         "11887.2",
         "246.32"
        ],
        [
         "NORTH_AMERICA",
         1761449720,
         "a22482",
         "SWA2180 ",
         "United States",
         "-102.6177",
         "37.1853",
         "11277.6",
         "217.25"
        ],
        [
         "NORTH_AMERICA",
         1761449720,
         "3475d3",
         "IBE26VE ",
         "Spain",
         "-122.3884",
         "37.6113",
         null,
         "0.26"
        ],
        [
         "NORTH_AMERICA",
         1761449720,
         "a0817f",
         "UAL1340 ",
         "United States",
         "-118.8921",
         "37.8812",
         "7315.2",
         "179.77"
        ],
        [
         "NORTH_AMERICA",
         1761449720,
         "c023ae",
         "",
         "Canada",
         "-67.5774",
         "48.5115",
         "11277.6",
         "261.85"
        ],
        [
         "NORTH_AMERICA",
         1761449720,
         "aae597",
         "AAL240  ",
         "United States",
         "-82.3336",
         "40.9439",
         "11277.6",
         "288.42"
        ],
        [
         "NORTH_AMERICA",
         1761449720,
         "a129dc",
         "AAL3158 ",
         "United States",
         "-104.2952",
         "40.1702",
         "3215.64",
         "146.15"
        ],
        [
         "NORTH_AMERICA",
         1761449720,
         "a03f24",
         "DAL2608 ",
         "United States",
         "-112.1683",
         "40.9511",
         "4107.18",
         "149.09"
        ],
        [
         "NORTH_AMERICA",
         1761449720,
         "c07f39",
         "WEN3384 ",
         "Canada",
         "-114.0096",
         "51.1196",
         null,
         "10.8"
        ],
        [
         "NORTH_AMERICA",
         1761449720,
         "4077d3",
         "VIR138M ",
         "United Kingdom",
         "-73.3503",
         "41.0098",
         "5059.68",
         "201.4"
        ],
        [
         "NORTH_AMERICA",
         1761449720,
         "a4c754",
         "N407HC  ",
         "United States",
         "-82.6732",
         "28.4562",
         "586.74",
         "58.66"
        ],
        [
         "NORTH_AMERICA",
         1761449720,
         "781dac",
         "CSN8031 ",
         "China",
         "-99.2337",
         "19.4268",
         "3291.84",
         "108.58"
        ],
        [
         "NORTH_AMERICA",
         1761449720,
         "a9b78e",
         "EJA725  ",
         "United States",
         "-90.5946",
         "33.7076",
         "10668",
         "239.95"
        ],
        [
         "NORTH_AMERICA",
         1761449720,
         "a99afb",
         "NKS2608 ",
         "United States",
         "-84.1689",
         "33.5423",
         "11399.52",
         "262.65"
        ],
        [
         "NORTH_AMERICA",
         1761449720,
         "c07f02",
         "WJA1285 ",
         "Canada",
         "-115.2451",
         "48.4776",
         "12184.38",
         "219.19"
        ],
        [
         "NORTH_AMERICA",
         1761449720,
         "a369be",
         "ENY3671 ",
         "United States",
         "-96.3562",
         "35.832",
         "8122.92",
         "219.87"
        ],
        [
         "NORTH_AMERICA",
         1761449720,
         "a03f84",
         "RPA4344 ",
         "United States",
         "-91.7774",
         "34.3954",
         "2080.26",
         "143.99"
        ],
        [
         "NORTH_AMERICA",
         1761449720,
         "e8040f",
         "LAN501  ",
         "Chile",
         "-79.3707",
         "13.9132",
         "11277.6",
         "253.81"
        ],
        [
         "NORTH_AMERICA",
         1761449720,
         "ac382e",
         "DAL903  ",
         "United States",
         "-98.2689",
         "42.1881",
         "10363.2",
         "239.63"
        ],
        [
         "NORTH_AMERICA",
         1761449720,
         "e8040c",
         "LPE2483 ",
         "Chile",
         "-84.4338",
         "33.6358",
         null,
         "4.12"
        ],
        [
         "NORTH_AMERICA",
         1761449720,
         "a356db",
         "DAL374  ",
         "United States",
         "-85.0975",
         "34.0625",
         "3733.8",
         "163.51"
        ],
        [
         "NORTH_AMERICA",
         1761449720,
         "ac250b",
         "SWA2708 ",
         "United States",
         "-119.8229",
         "38.3713",
         "8801.1",
         "270.91"
        ],
        [
         "NORTH_AMERICA",
         1761449720,
         "abaeb2",
         "SWA3467 ",
         "United States",
         "-97.6774",
         "32.4079",
         "3771.9",
         "201.69"
        ],
        [
         "NORTH_AMERICA",
         1761449720,
         "aaf83c",
         "AAL416  ",
         "United States",
         "-81.8113",
         "30.2245",
         "2072.64",
         "142.86"
        ],
        [
         "NORTH_AMERICA",
         1761449720,
         "347691",
         "AEA092  ",
         "Spain",
         "-73.4954",
         "40.562",
         "3284.22",
         "189.32"
        ],
        [
         "NORTH_AMERICA",
         1761449720,
         "a2bc12",
         "UAL2044 ",
         "United States",
         "-90.9294",
         "45.7756",
         "10972.8",
         "223.72"
        ],
        [
         "NORTH_AMERICA",
         1761449720,
         "a14c70",
         "EDV5209 ",
         "United States",
         "-97.3812",
         "44.7037",
         "9144",
         "233.86"
        ],
        [
         "NORTH_AMERICA",
         1761449720,
         "a223ba",
         "ENY3349 ",
         "United States",
         "-97.1137",
         "32.1258",
         "2910.84",
         "146.12"
        ],
        [
         "NORTH_AMERICA",
         1761449720,
         "a369ee",
         "AAL1179 ",
         "United States",
         "-113.9576",
         "35.556",
         "9753.6",
         "222.98"
        ],
        [
         "NORTH_AMERICA",
         1761449720,
         "a76f66",
         "UAL3908 ",
         "United States",
         "-87.71",
         "41.6068",
         "4792.98",
         "198.28"
        ],
        [
         "NORTH_AMERICA",
         1761449720,
         "a3dc75",
         "EJA348  ",
         "United States",
         "-81.5957",
         "33.6207",
         "12207.24",
         "249.45"
        ],
        [
         "NORTH_AMERICA",
         1761449720,
         "0d1083",
         "VIV7381 ",
         "Mexico",
         "-100.1462",
         "25.8001",
         "571.5",
         "68.99"
        ],
        [
         "NORTH_AMERICA",
         1761449720,
         "a87c12",
         "FFT3261 ",
         "United States",
         "-81.2054",
         "29.8365",
         "10850.88",
         "221.1"
        ],
        [
         "NORTH_AMERICA",
         1761449720,
         "abaf47",
         "FDX5035 ",
         "United States",
         "-68.9698",
         "45.8396",
         "10363.2",
         "219.26"
        ],
        [
         "NORTH_AMERICA",
         1761449720,
         "ab5f6a",
         "SWA661  ",
         "United States",
         "-120.747",
         "39.0596",
         "4236.72",
         "159.27"
        ],
        [
         "NORTH_AMERICA",
         1761449720,
         "a8df2c",
         "DAL1137 ",
         "United States",
         "-83.8318",
         "30.0929",
         "10058.4",
         "239.48"
        ],
        [
         "NORTH_AMERICA",
         1761449720,
         "ab5f87",
         "SWA4283 ",
         "United States",
         "-100.4333",
         "35.4441",
         "11269.98",
         "246.88"
        ],
        [
         "NORTH_AMERICA",
         1761449720,
         "ab5f98",
         "N8318Y  ",
         "United States",
         "-87.9258",
         "41.3115",
         "944.88",
         "56.81"
        ],
        [
         "NORTH_AMERICA",
         1761449720,
         "ada6b9",
         "SKW5034 ",
         "United States",
         "-104.9453",
         "41.5709",
         "8534.4",
         "228.96"
        ],
        [
         "NORTH_AMERICA",
         1761449720,
         "740826",
         "RJA262G ",
         "Jordan",
         "-64.1659",
         "46.2712",
         "11269.98",
         "268.35"
        ],
        [
         "NORTH_AMERICA",
         1761449720,
         "740825",
         "RJA264  ",
         "Jordan",
         "-63.2189",
         "46.6748",
         "11277.6",
         "275.89"
        ],
        [
         "NORTH_AMERICA",
         1761449720,
         "c06aa4",
         "JZA816  ",
         "Canada",
         "-112.7806",
         "36.6884",
         "10172.7",
         "252.85"
        ],
        [
         "NORTH_AMERICA",
         1761449720,
         "a223fa",
         "N237RB  ",
         "United States",
         "-93.927",
         "36.6076",
         "937.26",
         "94.11"
        ],
        [
         "NORTH_AMERICA",
         1761449720,
         "89655f",
         "UAE2VL  ",
         "United Arab Emirates",
         "-79.5654",
         "41.2953",
         "10668",
         "278.87"
        ],
        [
         "NORTH_AMERICA",
         1761449720,
         "a4c6af",
         "AAL399  ",
         "United States",
         "-149.9841",
         "61.1731",
         null,
         "0"
        ],
        [
         "NORTH_AMERICA",
         1761449720,
         "a606c5",
         "ERU488  ",
         "United States",
         "-81.0482",
         "29.1264",
         "541.02",
         "65.4"
        ],
        [
         "NORTH_AMERICA",
         1761449720,
         "aa818d",
         "RPA3694 ",
         "United States",
         "-86.3119",
         "39.6078",
         "9144",
         "209.68"
        ],
        [
         "NORTH_AMERICA",
         1761449720,
         "0d1078",
         "VOI105  ",
         "Mexico",
         "-90.2849",
         "20.8321",
         "10972.8",
         "224.82"
        ],
        [
         "NORTH_AMERICA",
         1761449720,
         "0d1079",
         "VOI1001 ",
         "Mexico",
         "-116.0253",
         "31.792",
         "7825.74",
         "218.02"
        ],
        [
         "NORTH_AMERICA",
         1761449720,
         "4063e6",
         "VIR12E  ",
         "United Kingdom",
         "-71.0138",
         "42.3623",
         null,
         "6.94"
        ],
        [
         "NORTH_AMERICA",
         1761449720,
         "ad447e",
         "N954LA  ",
         "United States",
         "-118.3654",
         "33.9183",
         "152.4",
         "36.54"
        ],
        [
         "NORTH_AMERICA",
         1761449720,
         "adeddd",
         "AAL1372 ",
         "United States",
         "-82.0899",
         "35.1758",
         "7924.8",
         "214.1"
        ],
        [
         "NORTH_AMERICA",
         1761449720,
         "a60814",
         "UAL1673 ",
         "United States",
         "-97.0368",
         "32.893",
         null,
         "0.45"
        ],
        [
         "NORTH_AMERICA",
         1761449720,
         "ac1190",
         "AAL623  ",
         "United States",
         "-102.8458",
         "36.3919",
         "11277.6",
         "231.69"
        ],
        [
         "NORTH_AMERICA",
         1761449720,
         "addadb",
         "JBU1524 ",
         "United States",
         "-118.4028",
         "33.9479",
         null,
         "0.77"
        ],
        [
         "NORTH_AMERICA",
         1761449720,
         "8964a4",
         "UAE5WR  ",
         "United Arab Emirates",
         "-71.7742",
         "45.9768",
         "9448.8",
         "274.52"
        ],
        [
         "NORTH_AMERICA",
         1761449720,
         "a4c849",
         "SKW3426 ",
         "United States",
         "-118.8591",
         "37.0155",
         "10363.2",
         "206.31"
        ],
        [
         "NORTH_AMERICA",
         1761449720,
         "a7ac54",
         "ASA1194 ",
         "United States",
         "-122.1751",
         "46.3",
         "8785.86",
         "230.7"
        ],
        [
         "NORTH_AMERICA",
         1761449720,
         "a2bbc6",
         "UAL2646 ",
         "United States",
         "-122.6063",
         "45.5892",
         null,
         "14.92"
        ],
        [
         "NORTH_AMERICA",
         1761449720,
         "ab5f43",
         "SWA2582 ",
         "United States",
         "-115.8112",
         "43.9861",
         "7924.8",
         "242.62"
        ],
        [
         "NORTH_AMERICA",
         1761449720,
         "ab03a4",
         "DAL1582 ",
         "United States",
         "-115.2342",
         "40.778",
         "9144",
         "193.1"
        ],
        [
         "NORTH_AMERICA",
         1761449720,
         "ac7f41",
         "AAL1018 ",
         "United States",
         "-76.2205",
         "36.8731",
         "0",
         "68.94"
        ],
        [
         "NORTH_AMERICA",
         1761449720,
         "a2bbf2",
         "UAL1696 ",
         "United States",
         "-92.0624",
         "38.5481",
         "10972.8",
         "250.52"
        ],
        [
         "NORTH_AMERICA",
         1761449720,
         "a45233",
         "HAL16   ",
         "United States",
         "-118.2896",
         "33.3574",
         "7711.44",
         "244.34"
        ],
        [
         "NORTH_AMERICA",
         1761449720,
         "abafff",
         "AAL1805 ",
         "United States",
         "-97.0338",
         "32.8842",
         null,
         "0"
        ],
        [
         "NORTH_AMERICA",
         1761449720,
         "ac267c",
         "AAL2260 ",
         "United States",
         "-81.7608",
         "40.6432",
         "6027.42",
         "203.9"
        ],
        [
         "NORTH_AMERICA",
         1761449720,
         "a2bbcc",
         "UAL1759 ",
         "United States",
         "-109.1903",
         "38.1415",
         "10363.2",
         "222.42"
        ],
        [
         "NORTH_AMERICA",
         1761449720,
         "ae5302",
         "SCHNR22 ",
         "United States",
         "-120.4182",
         "38.0847",
         "1005.84",
         "57.5"
        ],
        [
         "NORTH_AMERICA",
         1761449720,
         "a33243",
         "DAL2613 ",
         "United States",
         "-120.0545",
         "40.2375",
         "10972.8",
         "193.27"
        ],
        [
         "NORTH_AMERICA",
         1761449720,
         "4065de",
         "BAW48Q  ",
         "United Kingdom",
         "-122.3062",
         "47.4607",
         null,
         "7.72"
        ],
        [
         "NORTH_AMERICA",
         1761449720,
         "ad8cec",
         "AAL1176 ",
         "United States",
         "-81.6752",
         "27.9392",
         "7376.16",
         "223.4"
        ],
        [
         "NORTH_AMERICA",
         1761449720,
         "ac136d",
         "SWA455  ",
         "United States",
         "-111.916",
         "33.3547",
         "2827.02",
         "130.5"
        ],
        [
         "NORTH_AMERICA",
         1761449720,
         "abe030",
         "SWA1527 ",
         "United States",
         "-120.2812",
         "36.2759",
         "10363.2",
         "190.29"
        ],
        [
         "NORTH_AMERICA",
         1761449720,
         "8965f5",
         "ETD6HZ  ",
         "United Arab Emirates",
         "-68.3368",
         "45.9277",
         "10668",
         "272.67"
        ],
        [
         "NORTH_AMERICA",
         1761449720,
         "4078dd",
         "BAW3GB  ",
         "United Kingdom",
         "-111.9924",
         "33.4384",
         null,
         "0"
        ],
        [
         "NORTH_AMERICA",
         1761449720,
         "a37a02",
         "FFT3015 ",
         "United States",
         "-115.1352",
         "36.0832",
         null,
         "0"
        ],
        [
         "NORTH_AMERICA",
         1761449720,
         "a3a7be",
         "N3345M  ",
         "United States",
         "-98.0341",
         "29.8287",
         "2438.4",
         "78.32"
        ],
        [
         "NORTH_AMERICA",
         1761449720,
         "c81e22",
         "ANZ23   ",
         "New Zealand",
         "-125.7841",
         "47.6793",
         "9144",
         "226.01"
        ],
        [
         "NORTH_AMERICA",
         1761449720,
         "a224f9",
         "UAL675T ",
         "United States",
         "-116.2702",
         "33.9565",
         "8229.6",
         "201.09"
        ],
        [
         "NORTH_AMERICA",
         1761449720,
         "aaf960",
         "AAL2804 ",
         "United States",
         "-81.4684",
         "43.0353",
         "7543.8",
         "229.35"
        ],
        [
         "NORTH_AMERICA",
         1761449720,
         "ab1971",
         "AAL532  ",
         "United States",
         "-75.2031",
         "39.8791",
         "-7.62",
         "75.24"
        ],
        [
         "NORTH_AMERICA",
         1761449720,
         "a9555b",
         "TFF910  ",
         "United States",
         "-74.6166",
         "40.8698",
         "792.48",
         "134.55"
        ],
        [
         "NORTH_AMERICA",
         1761449720,
         "ab1978",
         "AAY2691 ",
         "United States",
         "-82.8166",
         "27.8227",
         "944.88",
         "91.68"
        ],
        [
         "NORTH_AMERICA",
         1761449720,
         "a224fa",
         "UAL2131 ",
         "United States",
         "-81.8448",
         "41.4098",
         null,
         "5.14"
        ],
        [
         "NORTH_AMERICA",
         1761449720,
         "aaf968",
         "DAL90   ",
         "United States",
         "-63.6732",
         "47.3009",
         "11582.4",
         "259.54"
        ],
        [
         "NORTH_AMERICA",
         1761449720,
         "a8ded6",
         "DAL2386 ",
         "United States",
         "-77.3203",
         "36.7949",
         "12496.8",
         "250.19"
        ],
        [
         "NORTH_AMERICA",
         1761449720,
         "a081ca",
         "UAL2328 ",
         "United States",
         "-122.317",
         "37.5218",
         "2606.04",
         "136.67"
        ],
        [
         "NORTH_AMERICA",
         1761449720,
         "a37a25",
         "N323HA  ",
         "United States",
         "-100.1985",
         "43.9",
         "6408.42",
         "111.23"
        ],
        [
         "NORTH_AMERICA",
         1761449720,
         "c07ee8",
         "WJA605  ",
         "Canada",
         "-79.5909",
         "43.7907",
         "1905",
         "130.94"
        ],
        [
         "NORTH_AMERICA",
         1761449720,
         "c07ee6",
         "WJA731  ",
         "Canada",
         "-86.8526",
         "45.7423",
         "10972.8",
         "221.87"
        ],
        [
         "NORTH_AMERICA",
         1761449720,
         "c07ee0",
         "WJA2013 ",
         "Canada",
         "-113.9722",
         "53.4229",
         "2484.12",
         "119.42"
        ],
        [
         "NORTH_AMERICA",
         1761449720,
         "a51d7e",
         "EMD429  ",
         "United States",
         "-112.0165",
         "33.4278",
         null,
         "14.4"
        ],
        [
         "NORTH_AMERICA",
         1761449720,
         "a2bd86",
         "N276HS  ",
         "United States",
         "-74.0602",
         "40.8375",
         "-30.48",
         "34.06"
        ],
        [
         "NORTH_AMERICA",
         1761449720,
         "c07ef2",
         "WJA1524 ",
         "Canada",
         "-112.5051",
         "39.2982",
         "8534.4",
         "200.79"
        ],
        [
         "NORTH_AMERICA",
         1761449720,
         "a50a87",
         "N424AM  ",
         "United States",
         "-87.2311",
         "30.4649",
         "198.12",
         "41.18"
        ],
        [
         "NORTH_AMERICA",
         1761449720,
         "407994",
         "BAW28F  ",
         "United Kingdom",
         "-111.8716",
         "41.0351",
         "10050.78",
         "278.53"
        ],
        [
         "NORTH_AMERICA",
         1761449720,
         "ac5a4a",
         "SWA2491 ",
         "United States",
         "-77.4581",
         "38.9609",
         null,
         "8.75"
        ],
        [
         "NORTH_AMERICA",
         1761449720,
         "adca15",
         "AAL1291 ",
         "United States",
         "-87.7083",
         "37.1461",
         "10904.22",
         "237.41"
        ],
        [
         "NORTH_AMERICA",
         1761449720,
         "a4c7cd",
         "N4O7MZ  ",
         "United States",
         "-106.2968",
         "35.8746",
         "2301.24",
         "41.7"
        ],
        [
         "NORTH_AMERICA",
         1761449720,
         "a584c3",
         "VAR455  ",
         "United States",
         "-114.2813",
         "35.4552",
         "3055.62",
         "81.05"
        ],
        [
         "NORTH_AMERICA",
         1761449720,
         "aa2d14",
         "SKW4817 ",
         "United States",
         "-105.5648",
         "35.5093",
         "10980.42",
         "213.83"
        ],
        [
         "NORTH_AMERICA",
         1761449720,
         "a02cb5",
         "FDX66   ",
         "United States",
         "-90.8076",
         "33.4786",
         "10050.78",
         "250.6"
        ],
        [
         "NORTH_AMERICA",
         1761449720,
         "a0e607",
         "AAL2567 ",
         "United States",
         "-72.4158",
         "42.6583",
         "6797.04",
         "240.28"
        ],
        [
         "NORTH_AMERICA",
         1761449720,
         "a0967f",
         "N137PH  ",
         "United States",
         "-115.1618",
         "36.1505",
         "944.88",
         "45.33"
        ],
        [
         "NORTH_AMERICA",
         1761449720,
         "a0d344",
         "SKW5785 ",
         "United States",
         "-83.3645",
         "42.2287",
         "91.44",
         "68.16"
        ],
        [
         "NORTH_AMERICA",
         1761449720,
         "a0d32e",
         "N152SA  ",
         "United States",
         "-104.9114",
         "39.8413",
         "2263.14",
         "53.35"
        ],
        [
         "NORTH_AMERICA",
         1761449720,
         "c010f6",
         "ACA152  ",
         "Canada",
         "-79.6198",
         "43.6798",
         null,
         "5.66"
        ],
        [
         "NORTH_AMERICA",
         1761449720,
         "a99d87",
         "ASA217  ",
         "United States",
         "-100.6157",
         "42.7117",
         "10668",
         "235.24"
        ],
        [
         "NORTH_AMERICA",
         1761449720,
         "a3dcc2",
         "AAL1363 ",
         "United States",
         "-97.0353",
         "32.9018",
         null,
         "0"
        ],
        [
         "NORTH_AMERICA",
         1761449720,
         "a22642",
         "ASA354  ",
         "United States",
         "-121.9625",
         "36.9756",
         "4053.84",
         "150.17"
        ],
        [
         "NORTH_AMERICA",
         1761449720,
         "a39fb1",
         "UAL1412 ",
         "United States",
         "-104.6855",
         "38.908",
         "2377.44",
         "85.4"
        ],
        [
         "NORTH_AMERICA",
         1761449720,
         "a9ed2c",
         "N739HC  ",
         "United States",
         "-83.1543",
         "41.1525",
         "1874.52",
         "58.34"
        ],
        [
         "NORTH_AMERICA",
         1761449720,
         "a834f0",
         "N628LA  ",
         "United States",
         "-111.6711",
         "32.8666",
         "1043.94",
         "44.31"
        ],
        [
         "NORTH_AMERICA",
         1761449720,
         "a33339",
         "EDV5394 ",
         "United States",
         "-75.5045",
         "41.8252",
         "5326.38",
         "178.99"
        ],
        [
         "NORTH_AMERICA",
         1761449720,
         "a86a66",
         "QXE2381 ",
         "United States",
         "-116.3073",
         "43.8586",
         "10972.8",
         "202.26"
        ],
        [
         "NORTH_AMERICA",
         1761449720,
         "ac37bd",
         "SWA824  ",
         "United States",
         "-95.2505",
         "29.4108",
         "10972.8",
         "197.67"
        ],
        [
         "NORTH_AMERICA",
         1761449720,
         "ab3a0c",
         "UAL2019 ",
         "United States",
         "-122.6799",
         "46.5654",
         "6377.94",
         "203.84"
        ],
        [
         "NORTH_AMERICA",
         1761449720,
         "a7ad84",
         "DAL955  ",
         "United States",
         "-101.2368",
         "37.4463",
         "10972.8",
         "247.02"
        ],
        [
         "NORTH_AMERICA",
         1761449720,
         "ac9b6a",
         "N911LP  ",
         "United States",
         "-84.5139",
         "38.0198",
         "426.72",
         "38.94"
        ],
        [
         "NORTH_AMERICA",
         1761449720,
         "c0669e",
         "WJA598  ",
         "Canada",
         "-77.775",
         "44.0835",
         "10058.4",
         "249.62"
        ],
        [
         "NORTH_AMERICA",
         1761449720,
         "899082",
         "EVA665  ",
         "Taiwan",
         "-92.2838",
         "39.5105",
         "10363.2",
         "248.48"
        ],
        [
         "NORTH_AMERICA",
         1761449720,
         "ade8fa",
         "AAL2791 ",
         "United States",
         "-84.246",
         "30.9695",
         "10058.4",
         "253.58"
        ],
        [
         "NORTH_AMERICA",
         1761449720,
         "a06cd6",
         "N12630  ",
         "United States",
         "-87.2025",
         "30.4702",
         "53.34",
         "28.57"
        ],
        [
         "NORTH_AMERICA",
         1761449720,
         "aa5b92",
         "AAL732  ",
         "United States",
         "-64.896",
         "45.3142",
         "11887.2",
         "270.62"
        ],
        [
         "NORTH_AMERICA",
         1761449720,
         "adc2a7",
         "AAL2230 ",
         "United States",
         "-83.09",
         "26.4986",
         "9753.6",
         "219.48"
        ],
        [
         "NORTH_AMERICA",
         1761449720,
         "c1e985",
         "APT2    ",
         "Canada",
         "-114.0258",
         "51.1017",
         null,
         "15.43"
        ],
        [
         "NORTH_AMERICA",
         1761449720,
         "c04051",
         "ROU1936 ",
         "Canada",
         "-91.2286",
         "49.3139",
         "11277.6",
         "248.8"
        ],
        [
         "NORTH_AMERICA",
         1761449720,
         "a1460a",
         "SKW3103 ",
         "United States",
         "-120.7016",
         "40.8365",
         "11277.6",
         "231.17"
        ],
        [
         "NORTH_AMERICA",
         1761449720,
         "c1e97a",
         "EL31    ",
         "Canada",
         "-113.9975",
         "51.1169",
         null,
         "6.94"
        ],
        [
         "NORTH_AMERICA",
         1761449720,
         "a1a986",
         "ENY3783 ",
         "United States",
         "-98.2607",
         "38.4111",
         "10363.2",
         "224.28"
        ],
        [
         "NORTH_AMERICA",
         1761449720,
         "a55d7b",
         "N445D   ",
         "United States",
         "-75.3772",
         "39.1641",
         "1554.48",
         "55.23"
        ],
        [
         "NORTH_AMERICA",
         1761449720,
         "c07993",
         "TSC122  ",
         "Canada",
         "-73.5154",
         "45.3637",
         "11887.2",
         "259.88"
        ],
        [
         "NORTH_AMERICA",
         1761449720,
         "406ec9",
         "BAW29C  ",
         "United Kingdom",
         "-71.3956",
         "42.7091",
         "11277.6",
         "271.79"
        ],
        [
         "NORTH_AMERICA",
         1761449720,
         "a91a0e",
         "N686FR  ",
         "United States",
         "-83.0774",
         "34.8739",
         "2072.64",
         "95.92"
        ],
        [
         "NORTH_AMERICA",
         1761449720,
         "ab4732",
         "AAL951  ",
         "United States",
         "-60.1299",
         "13.5013",
         "11269.98",
         "279.14"
        ],
        [
         "NORTH_AMERICA",
         1761449720,
         "c1e92a",
         "",
         "Canada",
         "-79.6576",
         "43.6641",
         null,
         "8.75"
        ],
        [
         "NORTH_AMERICA",
         1761449720,
         "c0534e",
         "FLE665  ",
         "Canada",
         "-94.8253",
         "47.6661",
         "10972.8",
         "221.4"
        ],
        [
         "NORTH_AMERICA",
         1761449720,
         "a1463a",
         "AAL2186 ",
         "United States",
         "-83.6325",
         "30.9394",
         "9456.42",
         "241.32"
        ],
        [
         "NORTH_AMERICA",
         1761449720,
         "a1a95c",
         "N206LW  ",
         "United States",
         "-120.9979",
         "37.7152",
         "281.94",
         "46.53"
        ],
        [
         "NORTH_AMERICA",
         1761449720,
         "a32fd5",
         "SKW3609 ",
         "United States",
         "-104.3685",
         "42.4029",
         "11003.28",
         "227.91"
        ],
        [
         "NORTH_AMERICA",
         1761449720,
         "89901f",
         "CAL008  ",
         "Taiwan",
         "-118.4034",
         "33.952",
         "7.62",
         "75.68"
        ],
        [
         "NORTH_AMERICA",
         1761449720,
         "a5297f",
         "N4312M  ",
         "United States",
         "-80.374",
         "26.067",
         "274.32",
         "68.48"
        ],
        [
         "NORTH_AMERICA",
         1761449720,
         "a8d90e",
         "N66970  ",
         "United States",
         "-120.4743",
         "37.1405",
         "1104.9",
         "50.67"
        ],
        [
         "NORTH_AMERICA",
         1761449720,
         "c1e917",
         "PU459   ",
         "Canada",
         "-79.6347",
         "43.68",
         null,
         "7.72"
        ],
        [
         "NORTH_AMERICA",
         1761449720,
         "c06627",
         "CGMRU   ",
         "Canada",
         "-114.3714",
         "51.0973",
         null,
         "0.06"
        ],
        [
         "NORTH_AMERICA",
         1761449720,
         "a3999e",
         "ATN3357 ",
         "United States",
         "-117.389",
         "34.3211",
         "3063.24",
         "157.93"
        ],
        [
         "NORTH_AMERICA",
         1761449720,
         "a2c992",
         "SKW3769 ",
         "United States",
         "-113.3946",
         "46.2426",
         "10340.34",
         "239.95"
        ],
        [
         "NORTH_AMERICA",
         1761449720,
         "a6dfe7",
         "FRG374  ",
         "United States",
         "-94.9519",
         "41.5275",
         "3840.48",
         "173.44"
        ],
        [
         "NORTH_AMERICA",
         1761449720,
         "a24014",
         "ENY3412 ",
         "United States",
         "-99.125",
         "29.5898",
         "10972.8",
         "242.78"
        ],
        [
         "NORTH_AMERICA",
         1761449720,
         "ab7b38",
         "EJA839  ",
         "United States",
         "-70.5841",
         "43.1802",
         "13106.4",
         "257.64"
        ],
        [
         "NORTH_AMERICA",
         1761449720,
         "a5bffe",
         "N47NS   ",
         "United States",
         "-88.1498",
         "36.4853",
         "10980.42",
         "225.49"
        ],
        [
         "NORTH_AMERICA",
         1761449720,
         "a37389",
         "AAL2597 ",
         "United States",
         "-118.5329",
         "34.2001",
         "1005.84",
         "104.59"
        ],
        [
         "NORTH_AMERICA",
         1761449720,
         "a24082",
         "SKW4141 ",
         "United States",
         "-122.3161",
         "47.6683",
         "1455.42",
         "73.05"
        ],
        [
         "NORTH_AMERICA",
         1761449720,
         "a6492f",
         "DAL411  ",
         "United States",
         "-96.172",
         "46.4238",
         "10363.2",
         "222.11"
        ],
        [
         "NORTH_AMERICA",
         1761449720,
         "aca2b4",
         "N913KC  ",
         "United States",
         "-119.033",
         "35.3214",
         "327.66",
         "36.63"
        ],
        [
         "NORTH_AMERICA",
         1761449720,
         "aa2701",
         "AAL2600 ",
         "United States",
         "-84.0122",
         "35.7988",
         "236.22",
         "73.12"
        ],
        [
         "NORTH_AMERICA",
         1761449720,
         "a8a017",
         "JBU369  ",
         "United States",
         "-79.9566",
         "26.4066",
         "2225.04",
         "152.99"
        ],
        [
         "NORTH_AMERICA",
         1761449720,
         "abdcfd",
         "ASH6375 ",
         "United States",
         "-97.002",
         "19.1251",
         "10058.4",
         "237.19"
        ],
        [
         "NORTH_AMERICA",
         1761449720,
         "ad734a",
         "JBU580  ",
         "United States",
         "-77.6433",
         "32.4423",
         "10675.62",
         "235.54"
        ],
        [
         "NORTH_AMERICA",
         1761449720,
         "a97029",
         "SKW6400 ",
         "United States",
         "-109.3798",
         "34.9834",
         "9052.56",
         "216.58"
        ],
        [
         "NORTH_AMERICA",
         1761449720,
         "ad1cf5",
         "JCM944  ",
         "United States",
         "-98.3988",
         "29.7654",
         "3863.34",
         "161.02"
        ],
        [
         "NORTH_AMERICA",
         1761449720,
         "ac536c",
         "SWA3629 ",
         "United States",
         "-97.5158",
         "29.4982",
         "8839.2",
         "273.46"
        ],
        [
         "NORTH_AMERICA",
         1761449720,
         "add66d",
         "AAL1286 ",
         "United States",
         "-81.3269",
         "29.35",
         "11285.22",
         "241.59"
        ],
        [
         "NORTH_AMERICA",
         1761449720,
         "a9e642",
         "NKS2196 ",
         "United States",
         "-80.111",
         "33.9072",
         "11887.2",
         "244.85"
        ],
        [
         "NORTH_AMERICA",
         1761449720,
         "394a14",
         "AFR025  ",
         "France",
         "-108.3215",
         "46.2441",
         "10058.4",
         "297.03"
        ],
        [
         "NORTH_AMERICA",
         1761449720,
         "ab58c1",
         "N830EC  ",
         "United States",
         "-91.4259",
         "30.9769",
         "6294.12",
         "132.01"
        ],
        [
         "NORTH_AMERICA",
         1761449720,
         "ac407d",
         "AAL2682 ",
         "United States",
         "-72.7073",
         "42.6935",
         "7520.94",
         "228.19"
        ],
        [
         "NORTH_AMERICA",
         1761449720,
         "a18e4c",
         "EJM187  ",
         "United States",
         "-79.6247",
         "43.6746",
         null,
         "1.8"
        ],
        [
         "NORTH_AMERICA",
         1761449720,
         "ab7b02",
         "AAL2065 ",
         "United States",
         "-75.0565",
         "39.8901",
         "510.54",
         "78.74"
        ],
        [
         "NORTH_AMERICA",
         1761449720,
         "ac793f",
         "AAL431  ",
         "United States",
         "-97.5828",
         "32.0352",
         "11193.78",
         "209.2"
        ],
        [
         "NORTH_AMERICA",
         1761449720,
         "a7b8ad",
         "N597P   ",
         "United States",
         "-107.1928",
         "35.0521",
         "5486.4",
         "108.21"
        ],
        [
         "NORTH_AMERICA",
         1761449720,
         "a42b45",
         "DAL3074 ",
         "United States",
         "-79.3798",
         "33.8517",
         "2225.04",
         "158.87"
        ],
        [
         "NORTH_AMERICA",
         1761449720,
         "aa38f8",
         "N758NL  ",
         "United States",
         "-117.6612",
         "33.5129",
         "1501.14",
         "59.34"
        ],
        [
         "NORTH_AMERICA",
         1761449720,
         "0d06a7",
         "SLI866  ",
         "Mexico",
         "-97.4808",
         "19.2845",
         "7620",
         "233.99"
        ],
        [
         "NORTH_AMERICA",
         1761449720,
         "78021c",
         "CPA3283 ",
         "China",
         "-109.6846",
         "50.5001",
         "10972.8",
         "261.82"
        ],
        [
         "NORTH_AMERICA",
         1761449720,
         "a7db08",
         "NKS2167 ",
         "United States",
         "-84.9449",
         "33.9512",
         "2994.66",
         "148.04"
        ],
        [
         "NORTH_AMERICA",
         1761449720,
         "a9d37b",
         "SKQ56   ",
         "United States",
         "-88.6238",
         "41.5937",
         "1813.56",
         "124.94"
        ],
        [
         "NORTH_AMERICA",
         1761449720,
         "a29b62",
         "N2670M  ",
         "United States",
         "-76.2101",
         "38.746",
         "1082.04",
         "79.94"
        ],
        [
         "NORTH_AMERICA",
         1761449720,
         "a6bb22",
         "N53264  ",
         "United States",
         "-110.9137",
         "32.9156",
         "3810",
         "75.22"
        ],
        [
         "NORTH_AMERICA",
         1761449720,
         "a42b21",
         "MVK83   ",
         "United States",
         "-92.9063",
         "43.9894",
         "1280.16",
         "62.15"
        ],
        [
         "NORTH_AMERICA",
         1761449720,
         "ab5993",
         "",
         "United States",
         "-97.0486",
         "32.8791",
         null,
         "3.6"
        ],
        [
         "NORTH_AMERICA",
         1761449720,
         "ac0ff9",
         "SWA149  ",
         "United States",
         "-89.2317",
         "37.1416",
         "8839.2",
         "244.48"
        ],
        [
         "NORTH_AMERICA",
         1761449720,
         "a528d6",
         "SWA1519 ",
         "United States",
         "-122.5603",
         "45.6244",
         "11582.4",
         "220.08"
        ],
        [
         "NORTH_AMERICA",
         1761449720,
         "a06db4",
         "AAL1426 ",
         "United States",
         "-83.7791",
         "38.0634",
         "8542.02",
         "226.1"
        ],
        [
         "NORTH_AMERICA",
         1761449720,
         "ab201a",
         "ERU816  ",
         "United States",
         "-82.6125",
         "28.0781",
         "1470.66",
         "50.64"
        ],
        [
         "NORTH_AMERICA",
         1761449720,
         "abdce1",
         "SWA2346 ",
         "United States",
         "-73.089",
         "42.2344",
         "6591.3",
         "222.28"
        ],
        [
         "NORTH_AMERICA",
         1761449720,
         "a9969b",
         "FFT1241 ",
         "United States",
         "-83.1805",
         "32.5761",
         "9921.24",
         "228.23"
        ],
        [
         "NORTH_AMERICA",
         1761449720,
         "a3c2a9",
         "AAL2518 ",
         "United States",
         "-85.428",
         "37.7937",
         "8534.4",
         "229.23"
        ],
        [
         "NORTH_AMERICA",
         1761449720,
         "a2fe8f",
         "SKW3506 ",
         "United States",
         "-115.0705",
         "35.9137",
         "9753.6",
         "219.02"
        ],
        [
         "NORTH_AMERICA",
         1761449720,
         "a43e7f",
         "UAL2197 ",
         "United States",
         "-117.592",
         "44.8011",
         "11582.4",
         "216.51"
        ],
        [
         "NORTH_AMERICA",
         1761449720,
         "a98386",
         "ASA41   ",
         "United States",
         "-97.8266",
         "42.5195",
         "10363.2",
         "239.6"
        ],
        [
         "NORTH_AMERICA",
         1761449720,
         "a55e60",
         "NDU445  ",
         "United States",
         "-111.4293",
         "32.6132",
         "1356.36",
         "55.08"
        ],
        [
         "NORTH_AMERICA",
         1761449720,
         "a0275c",
         "AAL341  ",
         "United States",
         "-118.4066",
         "33.9415",
         null,
         "0"
        ],
        [
         "NORTH_AMERICA",
         1761449720,
         "a29abd",
         "YEL6    ",
         "United States",
         "-90.041",
         "35.0067",
         "12496.8",
         "240.79"
        ],
        [
         "NORTH_AMERICA",
         1761449720,
         "a7db0b",
         "JIA5037 ",
         "United States",
         "-81.0228",
         "32.9251",
         "9144",
         "220.71"
        ],
        [
         "NORTH_AMERICA",
         1761449720,
         "a2b759",
         "SWA249  ",
         "United States",
         "-118.359",
         "34.2115",
         null,
         "1.03"
        ],
        [
         "NORTH_AMERICA",
         1761449720,
         "a91b2b",
         "TAI566  ",
         "United States",
         "-79.52",
         "34.131",
         "10668",
         "254.77"
        ],
        [
         "NORTH_AMERICA",
         1761449720,
         "0d075f",
         "AMX840  ",
         "Mexico",
         "-96.358",
         "19.8399",
         "11887.2",
         "243.07"
        ],
        [
         "NORTH_AMERICA",
         1761449720,
         "ab4866",
         "DAL269  ",
         "United States",
         "-82.2637",
         "33.5481",
         "6797.04",
         "237.2"
        ],
        [
         "NORTH_AMERICA",
         1761449720,
         "a3871e",
         "JBU1186 ",
         "United States",
         "-77.4147",
         "43.1305",
         "1089.66",
         "112.36"
        ],
        [
         "NORTH_AMERICA",
         1761449720,
         "ab485e",
         "AAL3216 ",
         "United States",
         "-76.5787",
         "39.0384",
         "784.86",
         "96.69"
        ],
        [
         "NORTH_AMERICA",
         1761449720,
         "a2b728",
         "UPS401  ",
         "United States",
         "-80.5144",
         "26.2386",
         "6949.44",
         "215.32"
        ],
        [
         "NORTH_AMERICA",
         1761449720,
         "aaac21",
         "SKW4730 ",
         "United States",
         "-107.6145",
         "40.0581",
         "10972.8",
         "204.47"
        ],
        [
         "NORTH_AMERICA",
         1761449720,
         "a3b11e",
         "AAL1758 ",
         "United States",
         "-96.8567",
         "33.1109",
         "5440.68",
         "195.63"
        ],
        [
         "NORTH_AMERICA",
         1761449720,
         "a79dc4",
         "DAL916  ",
         "United States",
         "-108.7885",
         "37.9335",
         "10980.42",
         "204.74"
        ],
        [
         "NORTH_AMERICA",
         1761449720,
         "0d0710",
         "AMX560  ",
         "Mexico",
         "-95.117",
         "19.7002",
         "11277.6",
         "240.82"
        ],
        [
         "NORTH_AMERICA",
         1761449720,
         "c05416",
         "WJA2001 ",
         "Canada",
         "-112.5658",
         "49.4429",
         "11833.86",
         "242.27"
        ],
        [
         "NORTH_AMERICA",
         1761449720,
         "a3d792",
         "N347CS  ",
         "United States",
         "-84.2799",
         "30.4065",
         "708.66",
         "43.24"
        ],
        [
         "NORTH_AMERICA",
         1761449720,
         "ac53b2",
         "SWA900  ",
         "United States",
         "-102.753",
         "37.525",
         "11582.4",
         "230.71"
        ],
        [
         "NORTH_AMERICA",
         1761449720,
         "ad73a6",
         "NKS220  ",
         "United States",
         "-113.2275",
         "34.6137",
         "10363.2",
         "223.65"
        ],
        [
         "NORTH_AMERICA",
         1761449720,
         "ad73a9",
         "AAL2491 ",
         "United States",
         "-90.519",
         "38.8099",
         "678.18",
         "75.11"
        ],
        [
         "NORTH_AMERICA",
         1761449720,
         "a12151",
         "N172HG  ",
         "United States",
         "-87.834",
         "41.3473",
         "792.48",
         "58.44"
        ],
        [
         "NORTH_AMERICA",
         1761449720,
         "ad99f9",
         "ASA1188 ",
         "United States",
         "-91.5051",
         "40.5395",
         "10896.6",
         "241.25"
        ],
        [
         "NORTH_AMERICA",
         1761449720,
         "ac9c50",
         "N911VU  ",
         "United States",
         "-84.055",
         "36.3571",
         "4754.88",
         "115.61"
        ],
        [
         "NORTH_AMERICA",
         1761449720,
         "06a30b",
         "QTR8170 ",
         "Qatar",
         "-76.5419",
         "36.5625",
         "10972.8",
         "208.19"
        ],
        [
         "NORTH_AMERICA",
         1761449720,
         "ac53f8",
         "SWA2759 ",
         "United States",
         "-110.9459",
         "32.1237",
         null,
         "6.17"
        ],
        [
         "NORTH_AMERICA",
         1761449720,
         "ac9c6d",
         "N911WY  ",
         "United States",
         "-114.98",
         "36.0515",
         "670.56",
         "43.07"
        ],
        [
         "NORTH_AMERICA",
         1761449720,
         "ad60b7",
         "JBU1223 ",
         "United States",
         "-90.5489",
         "39.7256",
         "10972.8",
         "222.58"
        ],
        [
         "NORTH_AMERICA",
         1761449720,
         "ab20e6",
         "AAY1312 ",
         "United States",
         "-81.6836",
         "28.8955",
         "1363.98",
         "99.48"
        ],
        [
         "NORTH_AMERICA",
         1761449720,
         "71c046",
         "KAL257  ",
         "Republic of Korea",
         "-74.7849",
         "42.3239",
         "10279.38",
         "266.02"
        ],
        [
         "NORTH_AMERICA",
         1761449720,
         "a266b9",
         "N254DV  ",
         "United States",
         "-82.9017",
         "41.8334",
         "9753.6",
         "187.48"
        ],
        [
         "NORTH_AMERICA",
         1761449720,
         "a399af",
         "N331BR  ",
         "United States",
         "-96.6746",
         "32.6868",
         "5151.12",
         "150.16"
        ],
        [
         "NORTH_AMERICA",
         1761449720,
         "a92dfc",
         "UAL924  ",
         "United States",
         "-77.4567",
         "38.9375",
         null,
         "4.63"
        ],
        [
         "NORTH_AMERICA",
         1761449720,
         "ab8f0d",
         "DAL2151 ",
         "United States",
         "-118.9815",
         "45.6934",
         "9753.6",
         "207.72"
        ],
        [
         "NORTH_AMERICA",
         1761449720,
         "a8c759",
         "FFT3244 ",
         "United States",
         "-96.956",
         "32.7325",
         "2346.96",
         "147.24"
        ],
        [
         "NORTH_AMERICA",
         1761449720,
         "a0bf90",
         "UAL2224 ",
         "United States",
         "-77.2321",
         "38.2813",
         "2926.08",
         "149.48"
        ],
        [
         "NORTH_AMERICA",
         1761449720,
         "a91ab7",
         "NKS1211 ",
         "United States",
         "-80.2833",
         "26.151",
         "883.92",
         "139.93"
        ],
        [
         "NORTH_AMERICA",
         1761449720,
         "c1e8f6",
         "TR443   ",
         "Canada",
         "-79.6203",
         "43.6844",
         null,
         "1.54"
        ],
        [
         "NORTH_AMERICA",
         1761449720,
         "a146f9",
         "UAL978  ",
         "United States",
         "-74.6177",
         "40.1994",
         "10058.4",
         "278.89"
        ],
        [
         "NORTH_AMERICA",
         1761449720,
         "c1e8c0",
         "BLUE341 ",
         "Canada",
         "-79.6135",
         "43.6757",
         null,
         "8.23"
        ],
        [
         "NORTH_AMERICA",
         1761449720,
         "c1e8d3",
         "TR442   ",
         "Canada",
         "-79.6299",
         "43.6827",
         null,
         "4.89"
        ],
        [
         "NORTH_AMERICA",
         1761449720,
         "a17c65",
         "SKW3427 ",
         "United States",
         "-110.9403",
         "32.1201",
         null,
         "1.8"
        ],
        [
         "NORTH_AMERICA",
         1761449720,
         "c052d3",
         "WJA2947 ",
         "Canada",
         "-73.5348",
         "45.6162",
         "784.86",
         "96.26"
        ],
        [
         "NORTH_AMERICA",
         1761449720,
         "aabf50",
         "SCX3093 ",
         "United States",
         "-103.2993",
         "31.2253",
         "12192",
         "204.13"
        ],
        [
         "NORTH_AMERICA",
         1761449720,
         "a373ec",
         "N321VK  ",
         "United States",
         "-107.8722",
         "38.1258",
         "7315.2",
         "127.42"
        ],
        [
         "NORTH_AMERICA",
         1761449720,
         "c1e8a8",
         "BUS821  ",
         "Canada",
         "-79.6346",
         "43.68",
         null,
         "5.92"
        ],
        [
         "NORTH_AMERICA",
         1761449720,
         "a3c3e6",
         "UAL8164 ",
         "United States",
         "-114.2737",
         "36.0917",
         "10972.8",
         "215.58"
        ],
        [
         "NORTH_AMERICA",
         1761449720,
         "a8fc06",
         "UAL2157 ",
         "United States",
         "-107.1695",
         "37.8124",
         "10972.8",
         "217.17"
        ],
        [
         "NORTH_AMERICA",
         1761449720,
         "a2b6ff",
         "SKW3520 ",
         "United States",
         "-106.0663",
         "38.4001",
         "9060.18",
         "233.15"
        ],
        [
         "NORTH_AMERICA",
         1761449720,
         "aa26c8",
         "SKW4927 ",
         "United States",
         "-83.8785",
         "42.6426",
         "2827.02",
         "149.75"
        ],
        [
         "NORTH_AMERICA",
         1761449720,
         "406ecd",
         "VIR166G ",
         "United Kingdom",
         "-77.4981",
         "25.7183",
         "10972.8",
         "245.16"
        ],
        [
         "NORTH_AMERICA",
         1761449720,
         "a31f7f",
         "N300BV  ",
         "United States",
         "-92.0952",
         "34.5108",
         "10668",
         "182.62"
        ],
        [
         "NORTH_AMERICA",
         1761449720,
         "a120da",
         "N172CN  ",
         "United States",
         "-158.7318",
         "21.4743",
         "1653.54",
         "67.46"
        ],
        [
         "NORTH_AMERICA",
         1761449720,
         "a480dc",
         "O29EI1  ",
         "United States",
         "-78.3855",
         "39.9588",
         "3787.14",
         "135.3"
        ],
        [
         "NORTH_AMERICA",
         1761449720,
         "ab7ae4",
         "DAL52   ",
         "United States",
         "-64.5151",
         "46.1187",
         "9448.8",
         "268.46"
        ],
        [
         "NORTH_AMERICA",
         1761449720,
         "add734",
         "JBU277  ",
         "United States",
         "-105.6242",
         "37.4154",
         "10965.18",
         "217.52"
        ],
        [
         "NORTH_AMERICA",
         1761449720,
         "405bfe",
         "BAW22E  ",
         "United Kingdom",
         "-63.8113",
         "47.2397",
         "11277.6",
         "261.39"
        ],
        [
         "NORTH_AMERICA",
         1761449720,
         "405bfc",
         "BAW2LJ  ",
         "United Kingdom",
         "-66.7827",
         "45.082",
         "11277.6",
         "271.29"
        ],
        [
         "NORTH_AMERICA",
         1761449720,
         "ac9acc",
         "N911EF  ",
         "United States",
         "-106.9043",
         "32.2849",
         "1402.08",
         "50.85"
        ],
        [
         "NORTH_AMERICA",
         1761449720,
         "ad6116",
         "AAL2857 ",
         "United States",
         "-98.3423",
         "36.4486",
         "7924.8",
         "192.82"
        ],
        [
         "NORTH_AMERICA",
         1761449720,
         "a6cf20",
         "LAE2524 ",
         "United States",
         "-82.0009",
         "12.7773",
         "9761.22",
         "239.36"
        ],
        [
         "NORTH_AMERICA",
         1761449720,
         "a8d5bd",
         "AAL1513 ",
         "United States",
         "-107.7627",
         "32.67",
         "10347.96",
         "230.79"
        ],
        [
         "NORTH_AMERICA",
         1761449720,
         "a67b76",
         "N517AF  ",
         "United States",
         "-111.8169",
         "32.9303",
         "670.56",
         "45.34"
        ],
        [
         "NORTH_AMERICA",
         1761449720,
         "a43b91",
         "DAL819  ",
         "United States",
         "-113.7383",
         "32.8094",
         "10370.82",
         "225.9"
        ],
        [
         "NORTH_AMERICA",
         1761449720,
         "a92b0c",
         "DAL635  ",
         "United States",
         "-122.3654",
         "37.617",
         "-45.72",
         "61.22"
        ],
        [
         "NORTH_AMERICA",
         1761449720,
         "0d09a2",
         "VTM558  ",
         "Mexico",
         "-91.1474",
         "36.8268",
         "9448.8",
         "236.77"
        ],
        [
         "NORTH_AMERICA",
         1761449720,
         "a81e2a",
         "N622FB  ",
         "United States",
         "-112.1224",
         "33.5833",
         "525.78",
         "28.11"
        ],
        [
         "NORTH_AMERICA",
         1761449720,
         "ac50fa",
         "FDX97   ",
         "United States",
         "-67.8961",
         "46.4263",
         "10363.2",
         "221.13"
        ],
        [
         "NORTH_AMERICA",
         1761449720,
         "a8d5a4",
         "UAL211  ",
         "United States",
         "-99.5196",
         "30.3913",
         "12496.8",
         "253.96"
        ],
        [
         "NORTH_AMERICA",
         1761449720,
         "a1442f",
         "SWA1548 ",
         "United States",
         "-91.4806",
         "34.8443",
         "11879.58",
         "254.59"
        ],
        [
         "NORTH_AMERICA",
         1761449720,
         "a03765",
         "AAL300  ",
         "United States",
         "-75.1098",
         "41.3163",
         "9060.18",
         "192.64"
        ],
        [
         "NORTH_AMERICA",
         1761449720,
         "a27737",
         "SWA4040 ",
         "United States",
         "-117.8631",
         "33.6848",
         "15.24",
         "67.21"
        ],
        [
         "NORTH_AMERICA",
         1761449720,
         "a4f2d3",
         "LNE622  ",
         "United States",
         "-80.9599",
         "25.186",
         "4968.24",
         "190.4"
        ],
        [
         "NORTH_AMERICA",
         1761449720,
         "c00dce",
         "FLE651  ",
         "Canada",
         "-68.4878",
         "45.5838",
         "10751.82",
         "207.14"
        ],
        [
         "NORTH_AMERICA",
         1761449720,
         "a3d425",
         "FFT2632 ",
         "United States",
         "-104.2069",
         "38.6549",
         "9357.36",
         "240.06"
        ],
        [
         "NORTH_AMERICA",
         1761449720,
         "ac0f26",
         "SWA1640 ",
         "United States",
         "-109.3356",
         "36.5624",
         "11582.4",
         "209.96"
        ],
        [
         "NORTH_AMERICA",
         1761449720,
         "abb9b2",
         "SWA2362 ",
         "United States",
         "-110.0019",
         "35.5468",
         "11277.6",
         "235.32"
        ],
        [
         "NORTH_AMERICA",
         1761449720,
         "aa7ebc",
         "UAL1535 ",
         "United States",
         "-122.3809",
         "37.6182",
         null,
         "0.06"
        ],
        [
         "NORTH_AMERICA",
         1761449720,
         "abef16",
         "SWA937  ",
         "United States",
         "-96.6758",
         "44.4896",
         "10172.7",
         "236.18"
        ],
        [
         "NORTH_AMERICA",
         1761449720,
         "8991a4",
         "CAL5234 ",
         "Taiwan",
         "-94.3615",
         "45.6529",
         "10668",
         "263.69"
        ],
        [
         "NORTH_AMERICA",
         1761449720,
         "a0cdf3",
         "AAL1205 ",
         "United States",
         "-108.079",
         "32.327",
         "10363.2",
         "227.5"
        ],
        [
         "NORTH_AMERICA",
         1761449720,
         "a44db3",
         "DAL931  ",
         "United States",
         "-123.7861",
         "48.5531",
         "9570.72",
         "238.1"
        ],
        [
         "NORTH_AMERICA",
         1761449720,
         "abb9df",
         "SWA4059 ",
         "United States",
         "-119.5466",
         "39.4782",
         "3048",
         "145.62"
        ],
        [
         "NORTH_AMERICA",
         1761449720,
         "c00da8",
         "FLE603  ",
         "Canada",
         "-98.3157",
         "48.274",
         "10972.8",
         "219.25"
        ],
        [
         "NORTH_AMERICA",
         1761449720,
         "ab8c37",
         "AAL944  ",
         "United States",
         "-75.6326",
         "37.3122",
         "11887.2",
         "221.65"
        ],
        [
         "NORTH_AMERICA",
         1761449720,
         "ad1c18",
         "TAI450  ",
         "United States",
         "-80.3179",
         "25.786",
         "22.86",
         "63.87"
        ],
        [
         "NORTH_AMERICA",
         1761449720,
         "ac0f4d",
         "SWA478  ",
         "United States",
         "-88.7304",
         "41.4014",
         "2918.46",
         "158.41"
        ],
        [
         "NORTH_AMERICA",
         1761449720,
         "a40797",
         "AAL2545 ",
         "United States",
         "-84.9543",
         "42.8455",
         "9144",
         "215.28"
        ],
        [
         "NORTH_AMERICA",
         1761449720,
         "a2fad8",
         "SKW3557 ",
         "United States",
         "-122.9321",
         "44.1047",
         "10668",
         "220.23"
        ],
        [
         "NORTH_AMERICA",
         1761449720,
         "abef54",
         "SWA2722 ",
         "United States",
         "-114.2085",
         "46.9529",
         "11582.4",
         "214.71"
        ],
        [
         "NORTH_AMERICA",
         1761449720,
         "c1e5dd",
         "SUR8910 ",
         "Canada",
         "-73.748",
         "45.4591",
         null,
         "6.69"
        ],
        [
         "NORTH_AMERICA",
         1761449720,
         "acc6ce",
         "NKS3447 ",
         "United States",
         "-102.9053",
         "33.8707",
         "11285.22",
         "249.02"
        ],
        [
         "NORTH_AMERICA",
         1761449720,
         "ade6b0",
         "N995RC  ",
         "United States",
         "-117.5206",
         "33.8206",
         "563.88",
         "60.54"
        ],
        [
         "NORTH_AMERICA",
         1761449720,
         "aacf7f",
         "NDU796  ",
         "United States",
         "-116.7561",
         "33.1307",
         "2720.34",
         "83.02"
        ],
        [
         "NORTH_AMERICA",
         1761449720,
         "c1e5e1",
         "TOW 902 ",
         "Canada",
         "-123.1719",
         "49.1986",
         null,
         "6.43"
        ],
        [
         "NORTH_AMERICA",
         1761449720,
         "406d4d",
         "VIR48WE ",
         "United Kingdom",
         "-74.4626",
         "46.0657",
         "11879.58",
         "263.95"
        ],
        [
         "NORTH_AMERICA",
         1761449720,
         "c1e5f9",
         "TRU118  ",
         "Canada",
         "-123.1925",
         "49.1994",
         null,
         "0.13"
        ],
        [
         "NORTH_AMERICA",
         1761449720,
         "c1e5f1",
         "WLD65   ",
         "Canada",
         "-123.1552",
         "49.1817",
         null,
         "5.92"
        ],
        [
         "NORTH_AMERICA",
         1761449720,
         "a8c439",
         "PDT6013 ",
         "United States",
         "-84.6919",
         "37.9036",
         "10965.18",
         "205.57"
        ],
        [
         "NORTH_AMERICA",
         1761449720,
         "ad976e",
         "NKS1662 ",
         "United States",
         "-91.7229",
         "41.5055",
         "10980.42",
         "215.33"
        ],
        [
         "NORTH_AMERICA",
         1761449720,
         "a7b779",
         "ASA7    ",
         "United States",
         "-114.2908",
         "38.4376",
         "11590.02",
         "195.64"
        ],
        [
         "NORTH_AMERICA",
         1761449720,
         "4ba94b",
         "THY76Y  ",
         "Turkey",
         "-122.833",
         "49.2423",
         "2453.64",
         "151.35"
        ],
        [
         "NORTH_AMERICA",
         1761449720,
         "c00e6c",
         "FLE2615 ",
         "Canada",
         "-79.3702",
         "43.0874",
         "5059.68",
         "159.75"
        ],
        [
         "NORTH_AMERICA",
         1761449720,
         "c062aa",
         "CGLJL   ",
         "Canada",
         "-114.3418",
         "51.1462",
         "1798.32",
         "37.98"
        ],
        [
         "NORTH_AMERICA",
         1761449720,
         "a20f1a",
         "UCA4321 ",
         "United States",
         "-74.6562",
         "42.4711",
         "5303.52",
         "210.17"
        ],
        [
         "NORTH_AMERICA",
         1761449720,
         "c1e5bf",
         "WLD61   ",
         "Canada",
         "-123.1797",
         "49.1889",
         null,
         "10.8"
        ],
        [
         "NORTH_AMERICA",
         1761449720,
         "c1e5d1",
         "TOW916  ",
         "Canada",
         "-123.1834",
         "49.1943",
         null,
         "1.29"
        ],
        [
         "NORTH_AMERICA",
         1761449720,
         "c1e5a8",
         "WL62    ",
         "Canada",
         "-123.1497",
         "49.1994",
         null,
         "8.23"
        ],
        [
         "NORTH_AMERICA",
         1761449720,
         "a07f1b",
         "N131CA  ",
         "United States",
         "-117.5464",
         "33.9721",
         "731.52",
         "47.32"
        ],
        [
         "NORTH_AMERICA",
         1761449720,
         "4ba947",
         "THY10   ",
         "Turkey",
         "-118.406",
         "33.9486",
         null,
         "7.2"
        ],
        [
         "NORTH_AMERICA",
         1761449720,
         "4ba945",
         "THY8    ",
         "Turkey",
         "-77.4866",
         "39.0562",
         "1173.48",
         "124.37"
        ],
        [
         "NORTH_AMERICA",
         1761449720,
         "a4e119",
         "N413UT  ",
         "United States",
         "-83.8648",
         "36.1231",
         "571.5",
         "61.54"
        ],
        [
         "NORTH_AMERICA",
         1761449720,
         "a1ef41",
         "N2235V  ",
         "United States",
         "-118.3492",
         "33.8614",
         "1653.54",
         "66.24"
        ],
        [
         "NORTH_AMERICA",
         1761449720,
         "acb470",
         "AAL2436 ",
         "United States",
         "-87.7826",
         "32.7447",
         "11582.4",
         "193.95"
        ],
        [
         "NORTH_AMERICA",
         1761449720,
         "a88737",
         "FFT2890 ",
         "United States",
         "-104.5067",
         "38.7476",
         "8077.2",
         "236.62"
        ],
        [
         "NORTH_AMERICA",
         1761449720,
         "a55ada",
         "KPO444  ",
         "United States",
         "-77.8661",
         "37.8347",
         "8831.58",
         "251.3"
        ],
        [
         "NORTH_AMERICA",
         1761449720,
         "a79aae",
         "HAL1615 ",
         "United States",
         "-112.656",
         "37.7994",
         "11582.4",
         "208.56"
        ],
        [
         "NORTH_AMERICA",
         1761449720,
         "a67ad0",
         "N5165R  ",
         "United States",
         "-77.1361",
         "40.3255",
         "1242.06",
         "59.16"
        ],
        [
         "NORTH_AMERICA",
         1761449720,
         "a49197",
         "N3939X  ",
         "United States",
         "-104.5226",
         "39.7996",
         "1737.36",
         "24.4"
        ],
        [
         "NORTH_AMERICA",
         1761449720,
         "aa7f46",
         "UAL1543 ",
         "United States",
         "-66.043",
         "18.4338",
         "167.64",
         "77.7"
        ],
        [
         "NORTH_AMERICA",
         1761449720,
         "a263dc",
         "ENY4065 ",
         "United States",
         "-98.0823",
         "28.9218",
         "6438.9",
         "216.56"
        ],
        [
         "NORTH_AMERICA",
         1761449720,
         "aa7f2b",
         "UAL2426 ",
         "United States",
         "-98.0222",
         "29.6281",
         "10736.58",
         "266.72"
        ],
        [
         "NORTH_AMERICA",
         1761449720,
         "aa7f2a",
         "UAL2693 ",
         "United States",
         "-89.3148",
         "43.3109",
         "792.48",
         "98.84"
        ],
        [
         "NORTH_AMERICA",
         1761449720,
         "a526e2",
         "AAL3124 ",
         "United States",
         "-97.0338",
         "32.8815",
         null,
         "0"
        ],
        [
         "NORTH_AMERICA",
         1761449720,
         "aa7f27",
         "UAL1229 ",
         "United States",
         "-106.7195",
         "39.768",
         "8534.4",
         "213.17"
        ],
        [
         "NORTH_AMERICA",
         1761449720,
         "aa7f25",
         "UAL1326 ",
         "United States",
         "-109.3773",
         "36.6697",
         "10363.2",
         "223.58"
        ],
        [
         "NORTH_AMERICA",
         1761449720,
         "0d08f3",
         "VIV583  ",
         "Mexico",
         "-97.0005",
         "32.6056",
         "3939.54",
         "152.47"
        ],
        [
         "NORTH_AMERICA",
         1761449720,
         "a143e2",
         "CXK699  ",
         "United States",
         "-104.6858",
         "38.8047",
         "1836.42",
         "42.19"
        ],
        [
         "NORTH_AMERICA",
         1761449720,
         "a406c9",
         "FFT4212 ",
         "United States",
         "-84.5345",
         "33.6318",
         "647.7",
         "74.08"
        ],
        [
         "NORTH_AMERICA",
         1761449720,
         "c00e15",
         "ACA1427 ",
         "Canada",
         "-81.3721",
         "31.6366",
         "10668",
         "254.94"
        ],
        [
         "NORTH_AMERICA",
         1761449720,
         "a143e9",
         "",
         "United States",
         "-157.9432",
         "21.3263",
         null,
         "2.31"
        ],
        [
         "NORTH_AMERICA",
         1761449720,
         "a023ff",
         "N108SC  ",
         "United States",
         "-122.7379",
         "38.4697",
         "388.62",
         "55.56"
        ],
        [
         "NORTH_AMERICA",
         1761449720,
         "c05056",
         "ACA745  ",
         "Canada",
         "-120.527",
         "37.6867",
         "7726.68",
         "162.47"
        ],
        [
         "NORTH_AMERICA",
         1761449720,
         "aa7f03",
         "UAL333  ",
         "United States",
         "-114.1438",
         "36.168",
         "10363.2",
         "217.56"
        ],
        [
         "NORTH_AMERICA",
         1761449720,
         "aa7f02",
         "UAL2223 ",
         "United States",
         "-87.9724",
         "41.9689",
         "281.94",
         "69.97"
        ],
        [
         "NORTH_AMERICA",
         1761449720,
         "aa7f01",
         "UAL1972 ",
         "United States",
         "-108.3199",
         "37.5288",
         "10363.2",
         "216.91"
        ],
        [
         "NORTH_AMERICA",
         1761449720,
         "aa7f09",
         "UAL737  ",
         "United States",
         "-123.1643",
         "45.4125",
         "8839.2",
         "227.96"
        ],
        [
         "NORTH_AMERICA",
         1761449720,
         "a8c489",
         "QXE2086 ",
         "United States",
         "-122.2449",
         "37.7215",
         "243.84",
         "74.7"
        ],
        [
         "NORTH_AMERICA",
         1761449720,
         "abdaa4",
         "GTI8559 ",
         "United States",
         "-92.1492",
         "44.0254",
         "9753.6",
         "243.62"
        ],
        [
         "NORTH_AMERICA",
         1761449720,
         "a383f3",
         "JBU820  ",
         "United States",
         "-83.3581",
         "42.2375",
         "160.02",
         "72.96"
        ],
        [
         "NORTH_AMERICA",
         1761449720,
         "c0506b",
         "ACA779  ",
         "Canada",
         "-113.0276",
         "35.6763",
         "10363.2",
         "220.39"
        ],
        [
         "NORTH_AMERICA",
         1761449720,
         "acc757",
         "N922TX  ",
         "United States",
         "-81.7688",
         "40.5971",
         "7010.4",
         "188.8"
        ],
        [
         "NORTH_AMERICA",
         1761449720,
         "c1e672",
         "SWP98   ",
         "Canada",
         "-123.1925",
         "49.2012",
         null,
         "5.92"
        ],
        [
         "NORTH_AMERICA",
         1761449720,
         "ac5121",
         "N893GT  ",
         "United States",
         "-112.2417",
         "33.4638",
         "480.06",
         "66.91"
        ],
        [
         "NORTH_AMERICA",
         1761449720,
         "a9f777",
         "NKS777  ",
         "United States",
         "-112.5539",
         "35.5418",
         "8161.02",
         "201.24"
        ],
        [
         "NORTH_AMERICA",
         1761449720,
         "ac6445",
         "AAL1136 ",
         "United States",
         "-111.0604",
         "34.0774",
         "6850.38",
         "209.47"
        ],
        [
         "NORTH_AMERICA",
         1761449720,
         "a8d6de",
         "NKS2043 ",
         "United States",
         "-82.5568",
         "40.4981",
         "9631.68",
         "226.35"
        ],
        [
         "NORTH_AMERICA",
         1761449720,
         "ab31f7",
         "PCJ20   ",
         "United States",
         "-116.9376",
         "42.0744",
         "12161.52",
         "203.21"
        ],
        [
         "NORTH_AMERICA",
         1761449720,
         "c0524c",
         "WJA214  ",
         "Canada",
         "-81.1059",
         "48.3129",
         "10668",
         "238.27"
        ],
        [
         "NORTH_AMERICA",
         1761449720,
         "a4e0ec",
         "SKW3091 ",
         "United States",
         "-120.2872",
         "47.2212",
         "9113.52",
         "228.27"
        ],
        [
         "NORTH_AMERICA",
         1761449720,
         "c0656f",
         "WJA10   ",
         "Canada",
         "-106.0293",
         "53.3343",
         "11277.6",
         "297.92"
        ],
        [
         "NORTH_AMERICA",
         1761449720,
         "acb4ca",
         "N918EC  ",
         "United States",
         "-78.2673",
         "35.4621",
         "487.68",
         "61.54"
        ],
        [
         "NORTH_AMERICA",
         1761449720,
         "a8c3a2",
         "FFT2638 ",
         "United States",
         "-112.008",
         "33.4342",
         null,
         "0"
        ],
        [
         "NORTH_AMERICA",
         1761449720,
         "a80c87",
         "ASA143  ",
         "United States",
         "-132.6406",
         "55.5707",
         "11887.2",
         "229.75"
        ],
        [
         "NORTH_AMERICA",
         1761449720,
         "a8e9fc",
         "GTX247  ",
         "United States",
         "-77.1433",
         "39.1799",
         "1402.08",
         "81.62"
        ],
        [
         "NORTH_AMERICA",
         1761449720,
         "a7a3e3",
         "N5913D  ",
         "United States",
         "-151.0144",
         "60.4787",
         "518.16",
         "48.38"
        ],
        [
         "NORTH_AMERICA",
         1761449720,
         "a43c7a",
         "DAL2495 ",
         "United States",
         "-88.2603",
         "37.3058",
         "10972.8",
         "227.45"
        ],
        [
         "NORTH_AMERICA",
         1761449720,
         "aa11c1",
         "N748RH  ",
         "United States",
         "-157.6609",
         "21.2919",
         "449.58",
         "43.02"
        ],
        [
         "NORTH_AMERICA",
         1761449720,
         "c05218",
         "ROU1905 ",
         "Canada",
         "-107.6886",
         "49.2406",
         "9745.98",
         "218.84"
        ],
        [
         "NORTH_AMERICA",
         1761449720,
         "ac791d",
         "AAL2741 ",
         "United States",
         "-81.3495",
         "32.1299",
         "518.16",
         "83.34"
        ],
        [
         "NORTH_AMERICA",
         1761449720,
         "a1584a",
         "EDV5264 ",
         "United States",
         "-78.7285",
         "42.9361",
         null,
         "0"
        ],
        [
         "NORTH_AMERICA",
         1761449720,
         "0c6061",
         "BWA526  ",
         "Trinidad and Tobago",
         "-73.7202",
         "40.626",
         "114.3",
         "76.14"
        ],
        [
         "NORTH_AMERICA",
         1761449720,
         "a6cc45",
         "AAL1022 ",
         "United States",
         "-97.039",
         "32.9078",
         null,
         "0"
        ],
        [
         "NORTH_AMERICA",
         1761449720,
         "a44ef8",
         "JTZ377  ",
         "United States",
         "-96.8529",
         "32.8438",
         null,
         "7.72"
        ],
        [
         "NORTH_AMERICA",
         1761449720,
         "a31be9",
         "N3PD    ",
         "United States",
         "-73.2409",
         "40.8763",
         "106.68",
         "44.39"
        ],
        [
         "NORTH_AMERICA",
         1761449720,
         "0d0963",
         "VIV436  ",
         "Mexico",
         "-84.592",
         "18.6302",
         "11277.6",
         "238.39"
        ],
        [
         "NORTH_AMERICA",
         1761449720,
         "a3c235",
         "NDU341  ",
         "United States",
         "-111.9278",
         "32.8598",
         "1066.8",
         "47.37"
        ],
        [
         "NORTH_AMERICA",
         1761449720,
         "acc7ae",
         "EDV5481 ",
         "United States",
         "-73.2232",
         "43.8206",
         "4038.6",
         "173.91"
        ],
        [
         "NORTH_AMERICA",
         1761449720,
         "a3c246",
         "DAL2552 ",
         "United States",
         "-74.1761",
         "40.6832",
         null,
         "7.72"
        ],
        [
         "NORTH_AMERICA",
         1761449720,
         "a44ec6",
         "N377L   ",
         "United States",
         "-112.541",
         "33.2367",
         "2560.32",
         "127.01"
        ],
        [
         "NORTH_AMERICA",
         1761449720,
         "a67bc8",
         "DAL506  ",
         "United States",
         "-119.497",
         "46.238",
         "10972.8",
         "207.57"
        ],
        [
         "NORTH_AMERICA",
         1761449720,
         "a1dbc4",
         "N219JL  ",
         "United States",
         "-93.6901",
         "35.5958",
         "10972.8",
         "214.21"
        ],
        [
         "NORTH_AMERICA",
         1761449720,
         "c00ec2",
         "WJA2719 ",
         "Canada",
         "-81.1251",
         "24.6617",
         "10058.4",
         "229.61"
        ],
        [
         "NORTH_AMERICA",
         1761449720,
         "aa3930",
         "EJA758  ",
         "United States",
         "-103.2477",
         "39.436",
         "11117.58",
         "249.04"
        ],
        [
         "NORTH_AMERICA",
         1761449720,
         "ab44dd",
         "EJA825  ",
         "United States",
         "-105.0926",
         "34.4945",
         "13106.4",
         "226.4"
        ],
        [
         "NORTH_AMERICA",
         1761449720,
         "a037b9",
         "DAL2954 ",
         "United States",
         "-96.9815",
         "45.4162",
         "11582.4",
         "221.61"
        ],
        [
         "NORTH_AMERICA",
         1761449720,
         "abdd4a",
         "SWA1714 ",
         "United States",
         "-117.1661",
         "32.7278",
         "76.2",
         "70.32"
        ],
        [
         "NORTH_AMERICA",
         1761449720,
         "a993f1",
         "SKW6451 ",
         "United States",
         "-111.5575",
         "33.1674",
         "4396.74",
         "196.98"
        ],
        [
         "NORTH_AMERICA",
         1761449720,
         "0d0932",
         "VOI1838 ",
         "Mexico",
         "-118.5352",
         "34.8907",
         "10972.8",
         "202.44"
        ],
        [
         "NORTH_AMERICA",
         1761449720,
         "a2b562",
         "ASA106  ",
         "United States",
         "-122.7018",
         "47.8777",
         "2994.66",
         "129.18"
        ],
        [
         "NORTH_AMERICA",
         1761449720,
         "ad2efa",
         "DAL2425 ",
         "United States",
         "-81.6247",
         "32.3197",
         "1973.58",
         "130.79"
        ],
        [
         "NORTH_AMERICA",
         1761449720,
         "c050c4",
         "ACA159  ",
         "Canada",
         "-82.3536",
         "44.5166",
         "11582.4",
         "212.38"
        ],
        [
         "NORTH_AMERICA",
         1761449720,
         "c050c5",
         "ACA696  ",
         "Canada",
         "-67.4662",
         "45.9084",
         "10668",
         "259.73"
        ],
        [
         "NORTH_AMERICA",
         1761449720,
         "c050c0",
         "ACA558  ",
         "Canada",
         "-119.7113",
         "36.3503",
         "11887.2",
         "239.17"
        ],
        [
         "NORTH_AMERICA",
         1761449720,
         "c063ce",
         "CWA921  ",
         "Canada",
         "-114.7398",
         "54.4889",
         "6400.8",
         "123.52"
        ],
        [
         "NORTH_AMERICA",
         1761449720,
         "ab3282",
         "SCX8438 ",
         "United States",
         "-74.612",
         "42.1609",
         "8229.6",
         "244.52"
        ],
        [
         "NORTH_AMERICA",
         1761449720,
         "a05a01",
         "UAL317  ",
         "United States",
         "-74.1175",
         "40.7455",
         "807.72",
         "111.43"
        ],
        [
         "NORTH_AMERICA",
         1761449720,
         "0d07f0",
         "AMX556  ",
         "Mexico",
         "-99.0229",
         "19.4651",
         "2659.38",
         "106.32"
        ],
        [
         "NORTH_AMERICA",
         1761449720,
         "a0aa26",
         "N142AH  ",
         "United States",
         "-71.7856",
         "42.2896",
         "388.62",
         "40.77"
        ],
        [
         "NORTH_AMERICA",
         1761449720,
         "ad7282",
         "DAL2846 ",
         "United States",
         "-74.2531",
         "40.5572",
         "487.68",
         "90.26"
        ],
        [
         "NORTH_AMERICA",
         1761449720,
         "406e0f",
         "VIR118  ",
         "United Kingdom",
         "-77.4293",
         "27.9968",
         "11879.58",
         "266.07"
        ],
        [
         "NORTH_AMERICA",
         1761449720,
         "a0aa2b",
         "AAL2714 ",
         "United States",
         "-97.0349",
         "32.8972",
         null,
         "0"
        ],
        [
         "NORTH_AMERICA",
         1761449720,
         "aa253b",
         "AAL931  ",
         "United States",
         "-79.4565",
         "13.7354",
         "10668",
         "257.75"
        ],
        [
         "NORTH_AMERICA",
         1761449720,
         "a9d0fe",
         "RPA3538 ",
         "United States",
         "-86.5029",
         "40.0664",
         "7924.8",
         "192.94"
        ],
        [
         "NORTH_AMERICA",
         1761449720,
         "c063c8",
         "CWA927  ",
         "Canada",
         "-114.0098",
         "51.1261",
         null,
         "16.98"
        ],
        [
         "NORTH_AMERICA",
         1761449720,
         "a7fed0",
         "NKS3247 ",
         "United States",
         "-95.2819",
         "29.9776",
         "129.54",
         "77.68"
        ],
        [
         "NORTH_AMERICA",
         1761449720,
         "ab4515",
         "SCX396  ",
         "United States",
         "-105.2864",
         "40.3384",
         "11277.6",
         "235.58"
        ],
        [
         "NORTH_AMERICA",
         1761449720,
         "0d07b3",
         "VOI3282 ",
         "Mexico",
         "-112.0374",
         "31.0267",
         "10066.02",
         "219.63"
        ],
        [
         "NORTH_AMERICA",
         1761449720,
         "aa37ce",
         "AAL134  ",
         "United States",
         "-107.7395",
         "43.2091",
         "9448.8",
         "272.35"
        ],
        [
         "NORTH_AMERICA",
         1761449720,
         "a55d50",
         "N445BG  ",
         "United States",
         "-83.8987",
         "41.5272",
         "739.14",
         "81.63"
        ],
        [
         "NORTH_AMERICA",
         1761449720,
         "a9d284",
         "ASA301  ",
         "United States",
         "-121.8817",
         "45.4876",
         "2621.28",
         "89.73"
        ],
        [
         "NORTH_AMERICA",
         1761449720,
         "a17a5a",
         "N1947F  ",
         "United States",
         "-80.6271",
         "27.9598",
         "716.28",
         "47.16"
        ],
        [
         "NORTH_AMERICA",
         1761449720,
         "a2a1a5",
         "ENY3341 ",
         "United States",
         "-80.8113",
         "35.2493",
         "1760.22",
         "139.73"
        ],
        [
         "NORTH_AMERICA",
         1761449720,
         "ab5867",
         "AAL963  ",
         "United States",
         "-98.215",
         "29.3261",
         "10660.38",
         "253.94"
        ],
        [
         "NORTH_AMERICA",
         1761449720,
         "a2c7f3",
         "LN279AH ",
         "United States",
         "-91.5421",
         "41.6395",
         null,
         "0.45"
        ],
        [
         "NORTH_AMERICA",
         1761449720,
         "a754b5",
         "UAL2681 ",
         "United States",
         "-120.7541",
         "37.6582",
         "7269.48",
         "178.98"
        ],
        [
         "NORTH_AMERICA",
         1761449720,
         "a384d5",
         "ENY3450 ",
         "United States",
         "-97.8647",
         "43.0984",
         "10058.4",
         "211.99"
        ],
        [
         "NORTH_AMERICA",
         1761449720,
         "ad2ea1",
         "ASA369  ",
         "United States",
         "-99.9227",
         "37.6193",
         "10363.2",
         "227.81"
        ],
        [
         "NORTH_AMERICA",
         1761449720,
         "a8b266",
         "N66FJ   ",
         "United States",
         "-86.4819",
         "35.9758",
         "266.7",
         "73.68"
        ],
        [
         "NORTH_AMERICA",
         1761449720,
         "abeeea",
         "SWA1445 ",
         "United States",
         "-120.6846",
         "35.2929",
         "9441.18",
         "260.8"
        ],
        [
         "NORTH_AMERICA",
         1761449720,
         "a2b4ea",
         "UAL2462 ",
         "United States",
         "-111.5719",
         "39.6053",
         "8534.4",
         "212.19"
        ],
        [
         "NORTH_AMERICA",
         1761449720,
         "781941",
         "CSN436  ",
         "China",
         "-91.8293",
         "47.1678",
         "8534.4",
         "237.97"
        ],
        [
         "NORTH_AMERICA",
         1761449720,
         "a1110d",
         "SKW5464 ",
         "United States",
         "-84.6572",
         "37.99",
         "487.68",
         "60.49"
        ],
        [
         "NORTH_AMERICA",
         1761449720,
         "a28ab5",
         "LXJ263  ",
         "United States",
         "-89.7974",
         "31.9832",
         "10576.56",
         "208.15"
        ],
        [
         "NORTH_AMERICA",
         1761449720,
         "a1244d",
         "UAL404  ",
         "United States",
         "-83.1441",
         "34.3087",
         "10668",
         "252.51"
        ],
        [
         "NORTH_AMERICA",
         1761449720,
         "a9c2de",
         "SKW6467 ",
         "United States",
         "-106.7256",
         "40.0686",
         "10980.42",
         "216.98"
        ],
        [
         "NORTH_AMERICA",
         1761449720,
         "a972ee",
         "GTI3510 ",
         "United States",
         "-119.8129",
         "37.6142",
         "10972.8",
         "219.08"
        ],
        [
         "NORTH_AMERICA",
         1761449720,
         "a8fe5d",
         "NKS2053 ",
         "United States",
         "-84.4289",
         "33.6446",
         null,
         "6.69"
        ],
        [
         "NORTH_AMERICA",
         1761449720,
         "a9d5e5",
         "UAL720  ",
         "United States",
         "-107.3398",
         "44.1827",
         "10972.8",
         "239"
        ],
        [
         "NORTH_AMERICA",
         1761449720,
         "a8fe57",
         "NDU679  ",
         "United States",
         "-111.6498",
         "33.2979",
         "411.48",
         "35.33"
        ],
        [
         "NORTH_AMERICA",
         1761449720,
         "c03160",
         "CFSSD   ",
         "Canada",
         "-106.6834",
         "52.1704",
         null,
         "4.12"
        ],
        [
         "NORTH_AMERICA",
         1761449720,
         "a23138",
         "ENY3739 ",
         "United States",
         "-84.1839",
         "33.7186",
         "8420.1",
         "209.47"
        ],
        [
         "NORTH_AMERICA",
         1761449720,
         "a3a155",
         "DAL2472 ",
         "United States",
         "-77.678",
         "43.1184",
         "30.48",
         "64.14"
        ],
        [
         "NORTH_AMERICA",
         1761449720,
         "a9873d",
         "ASA1098 ",
         "United States",
         "-117.0959",
         "32.7109",
         "502.92",
         "80.91"
        ],
        [
         "NORTH_AMERICA",
         1761449720,
         "a36493",
         "SVX43   ",
         "United States",
         "-159.4914",
         "59.7275",
         "8534.4",
         "162.4"
        ],
        [
         "NORTH_AMERICA",
         1761449720,
         "a9741d",
         "AAL2903 ",
         "United States",
         "-82.3504",
         "39.856",
         "10972.8",
         "180.9"
        ],
        [
         "NORTH_AMERICA",
         1761449720,
         "ad63a8",
         "TAI520  ",
         "United States",
         "-111.7569",
         "30.0382",
         "10363.2",
         "230.03"
        ],
        [
         "NORTH_AMERICA",
         1761449720,
         "a8540b",
         "PDT6078 ",
         "United States",
         "-81.2302",
         "33.9642",
         "441.96",
         "61.16"
        ],
        [
         "NORTH_AMERICA",
         1761449720,
         "ab10d4",
         "ASA1224 ",
         "United States",
         "-121.8935",
         "46.1688",
         "9044.94",
         "226.7"
        ],
        [
         "NORTH_AMERICA",
         1761449720,
         "a97401",
         "N708TT  ",
         "United States",
         "-80.1862",
         "27.2642",
         "3070.86",
         "151.3"
        ],
        [
         "NORTH_AMERICA",
         1761449720,
         "ab10cb",
         "AAL204  ",
         "United States",
         "-68.213",
         "44.9962",
         "11887.2",
         "269.58"
        ],
        [
         "NORTH_AMERICA",
         1761449720,
         "acdc5a",
         "SKW794U ",
         "United States",
         "-103.2047",
         "39.699",
         "7696.2",
         "187.82"
        ],
        [
         "NORTH_AMERICA",
         1761449720,
         "a42f04",
         "N369PD  ",
         "United States",
         "-84.3345",
         "33.7393",
         "632.46",
         "16.57"
        ],
        [
         "NORTH_AMERICA",
         1761449720,
         "a73410",
         "SWA4708 ",
         "United States",
         "-122.2139",
         "37.7087",
         null,
         "1.54"
        ],
        [
         "NORTH_AMERICA",
         1761449720,
         "abbc75",
         "SWA3494 ",
         "United States",
         "-109.6781",
         "35.1573",
         "11582.4",
         "217.87"
        ],
        [
         "NORTH_AMERICA",
         1761449720,
         "a4d42d",
         "AAL2055 ",
         "United States",
         "-101.7588",
         "37.6163",
         "9753.6",
         "235.54"
        ],
        [
         "NORTH_AMERICA",
         1761449720,
         "a62781",
         "AJT1020 ",
         "United States",
         "-165.9868",
         "58.8811",
         "10675.62",
         "251.51"
        ],
        [
         "NORTH_AMERICA",
         1761449720,
         "a123e2",
         "",
         "United States",
         "-113.2495",
         "38.3572",
         "10972.8",
         "205.29"
        ],
        [
         "NORTH_AMERICA",
         1761449720,
         "ac9f15",
         "N912LB  ",
         "United States",
         "-111.6023",
         "33.2263",
         "1005.84",
         "54.85"
        ],
        [
         "NORTH_AMERICA",
         1761449720,
         "a506d5",
         "ASA16   ",
         "United States",
         "-73.7692",
         "40.647",
         null,
         "2.31"
        ],
        [
         "NORTH_AMERICA",
         1761449720,
         "a1cf48",
         "JBU315  ",
         "United States",
         "-122.125",
         "37.5392",
         "990.6",
         "83.5"
        ],
        [
         "NORTH_AMERICA",
         1761449720,
         "a16c3a",
         "DAL272  ",
         "United States",
         "-68.2287",
         "41.5331",
         "10668",
         "281.1"
        ],
        [
         "NORTH_AMERICA",
         1761449720,
         "ada16f",
         "DAL2083 ",
         "United States",
         "-90.4195",
         "34.4445",
         "9464.04",
         "217.33"
        ],
        [
         "NORTH_AMERICA",
         1761449720,
         "ab23b5",
         "DAL1934 ",
         "United States",
         "-111.9769",
         "40.8069",
         null,
         "1.8"
        ],
        [
         "NORTH_AMERICA",
         1761449720,
         "a519b8",
         "DAL74   ",
         "United States",
         "-67.274",
         "45.5792",
         "11277.6",
         "260.03"
        ],
        [
         "NORTH_AMERICA",
         1761449720,
         "a90aaa",
         "PDT6051 ",
         "United States",
         "-83.4733",
         "35.0821",
         "7315.2",
         "200.05"
        ],
        [
         "NORTH_AMERICA",
         1761449720,
         "a1cf96",
         "N2158S  ",
         "United States",
         "-75.9865",
         "37.2517",
         "1554.48",
         "50.43"
        ],
        [
         "NORTH_AMERICA",
         1761449720,
         "ac9f52",
         "AAL324P ",
         "United States",
         "-112.9885",
         "37.9491",
         "11277.6",
         "256.18"
        ],
        [
         "NORTH_AMERICA",
         1761449720,
         "a9876e",
         "CKS602  ",
         "United States",
         "-143.5637",
         "57.3301",
         "10972.8",
         "249.62"
        ],
        [
         "NORTH_AMERICA",
         1761449720,
         "a8a43a",
         "NKS949  ",
         "United States",
         "-116.9664",
         "34.6924",
         "7010.4",
         "209.51"
        ],
        [
         "NORTH_AMERICA",
         1761449720,
         "a5f3cf",
         "ASA381  ",
         "United States",
         "-121.4498",
         "36.1776",
         "9144",
         "181.26"
        ],
        [
         "NORTH_AMERICA",
         1761449720,
         "aaf111",
         "DAL858  ",
         "United States",
         "-93.0633",
         "37.5463",
         "11277.6",
         "237.29"
        ],
        [
         "NORTH_AMERICA",
         1761449720,
         "3949eb",
         "AFR651  ",
         "France",
         "-80.0484",
         "34.4753",
         "10668",
         "269.18"
        ],
        [
         "NORTH_AMERICA",
         1761449720,
         "a7df61",
         "SKW5864 ",
         "United States",
         "-118.421",
         "33.947",
         null,
         "8.75"
        ],
        [
         "NORTH_AMERICA",
         1761449720,
         "ad7760",
         "AAL1732 ",
         "United States",
         "-82.5838",
         "36.1966",
         "10309.86",
         "211.36"
        ],
        [
         "NORTH_AMERICA",
         1761449720,
         "a6bf5a",
         "ASA1085 ",
         "United States",
         "-122.6053",
         "45.4057",
         "1851.66",
         "101.66"
        ],
        [
         "NORTH_AMERICA",
         1761449720,
         "c055d6",
         "JZA655  ",
         "Canada",
         "-123.2487",
         "49.2106",
         "365.76",
         "59.04"
        ],
        [
         "NORTH_AMERICA",
         1761449720,
         "a89c23",
         "FFT1949 ",
         "United States",
         "-121.6861",
         "37.536",
         "3086.1",
         "133.84"
        ],
        [
         "NORTH_AMERICA",
         1761449720,
         "a01820",
         "AMX322  ",
         "United States",
         "-96.178",
         "18.6639",
         "11277.6",
         "239.71"
        ],
        [
         "NORTH_AMERICA",
         1761449720,
         "3949e9",
         "AFR501  ",
         "France",
         "-61.5373",
         "12.7218",
         "10058.4",
         "251.18"
        ],
        [
         "NORTH_AMERICA",
         1761449720,
         "a733e6",
         "AAL2507 ",
         "United States",
         "-107.3128",
         "38.1484",
         "9761.22",
         "221.3"
        ],
        [
         "NORTH_AMERICA",
         1761449720,
         "39cf12",
         "AFR012  ",
         "France",
         "-73.7917",
         "40.6428",
         null,
         "0"
        ],
        [
         "NORTH_AMERICA",
         1761449720,
         "39cf13",
         "AFR93M  ",
         "France",
         "-78.3455",
         "27.7864",
         "10515.6",
         "263.49"
        ],
        [
         "NORTH_AMERICA",
         1761449720,
         "a1bc8f",
         "C6015   ",
         "United States",
         "-117.4868",
         "32.5094",
         "198.12",
         "40.29"
        ],
        [
         "NORTH_AMERICA",
         1761449720,
         "ab6afa",
         "AAL258  ",
         "United States",
         "-67.576",
         "44.1272",
         "11887.2",
         "272.05"
        ],
        [
         "NORTH_AMERICA",
         1761449720,
         "ab2496",
         "AAL703  ",
         "United States",
         "-79.2944",
         "41.4129",
         "9723.12",
         "232.96"
        ],
        [
         "NORTH_AMERICA",
         1761449720,
         "7c806e",
         "QFA8    ",
         "Australia",
         "-100.6664",
         "32.2626",
         "9745.98",
         "229.39"
        ],
        [
         "NORTH_AMERICA",
         1761449720,
         "7c8066",
         "QFA4    ",
         "Australia",
         "-105.6121",
         "32.5825",
         "10363.2",
         "254.53"
        ],
        [
         "NORTH_AMERICA",
         1761449720,
         "a24529",
         "UAL212  ",
         "United States",
         "-88.5605",
         "42.3663",
         "2506.98",
         "148.62"
        ],
        [
         "NORTH_AMERICA",
         1761449720,
         "aa4c1a",
         "UAL1729 ",
         "United States",
         "-118.77",
         "45.6371",
         "10972.8",
         "209.39"
        ],
        [
         "NORTH_AMERICA",
         1761449720,
         "407cd1",
         "BAW21ML ",
         "United Kingdom",
         "-78.0926",
         "46.4062",
         "11887.2",
         "260.82"
        ],
        [
         "NORTH_AMERICA",
         1761449720,
         "4ca15e",
         "EIN9CX  ",
         "Ireland",
         "-98.3592",
         "50.7843",
         "11277.6",
         "255.29"
        ],
        [
         "NORTH_AMERICA",
         1761449720,
         "a3fc5c",
         "N356P   ",
         "United States",
         "-111.9208",
         "33.4878",
         "403.86",
         "8.62"
        ],
        [
         "NORTH_AMERICA",
         1761449720,
         "a9618a",
         "AAL1246 ",
         "United States",
         "-79.6244",
         "43.684",
         null,
         "2.57"
        ],
        [
         "NORTH_AMERICA",
         1761449720,
         "a24508",
         "UAL1967 ",
         "United States",
         "-118.4088",
         "33.9379",
         null,
         "11.83"
        ],
        [
         "NORTH_AMERICA",
         1761449720,
         "a1256a",
         "N173ME  ",
         "United States",
         "-84.6076",
         "33.4853",
         "1310.64",
         "52.89"
        ],
        [
         "NORTH_AMERICA",
         1761449720,
         "a1388c",
         "SKW3354 ",
         "United States",
         "-121.1092",
         "36.3315",
         "8610.6",
         "260.51"
        ],
        [
         "NORTH_AMERICA",
         1761449720,
         "a28bc9",
         "SKW120W ",
         "United States",
         "-113.6234",
         "37.0225",
         "8534.4",
         "220.78"
        ],
        [
         "NORTH_AMERICA",
         1761449720,
         "a2454f",
         "UAL2215 ",
         "United States",
         "-103.9851",
         "39.1627",
         "6507.48",
         "203.7"
        ],
        [
         "NORTH_AMERICA",
         1761449720,
         "adc913",
         "N988CE  ",
         "United States",
         "-92.891",
         "48.2153",
         "11887.2",
         "234.81"
        ],
        [
         "NORTH_AMERICA",
         1761449720,
         "a3a222",
         "DAL2686 ",
         "United States",
         "-105.0762",
         "31.5127",
         "11277.6",
         "255.19"
        ],
        [
         "NORTH_AMERICA",
         1761449720,
         "a960e9",
         "NKS2593 ",
         "United States",
         "-116.4403",
         "34.4454",
         "7940.04",
         "218.68"
        ],
        [
         "NORTH_AMERICA",
         1761449720,
         "a2452f",
         "UAL787  ",
         "United States",
         "-87.9146",
         "41.9744",
         null,
         "7.72"
        ],
        [
         "NORTH_AMERICA",
         1761449720,
         "a35254",
         "DAL2108 ",
         "United States",
         "-95.8266",
         "44.3177",
         "11887.2",
         "229.72"
        ],
        [
         "NORTH_AMERICA",
         1761449720,
         "a89c6e",
         "N654JR  ",
         "United States",
         "-119.0471",
         "35.7217",
         "1950.72",
         "89.5"
        ],
        [
         "NORTH_AMERICA",
         1761449720,
         "a24591",
         "UAL1236 ",
         "United States",
         "-107.2106",
         "37.032",
         "10744.2",
         "230.41"
        ],
        [
         "NORTH_AMERICA",
         1761449720,
         "a973de",
         "N708SH  ",
         "United States",
         "-115.1643",
         "36.1004",
         "762",
         "44.45"
        ],
        [
         "NORTH_AMERICA",
         1761449720,
         "a47227",
         "LXJ386  ",
         "United States",
         "-86.4538",
         "30.3803",
         "76.2",
         "61.54"
        ],
        [
         "NORTH_AMERICA",
         1761449720,
         "ac9ff2",
         "AAL2810 ",
         "United States",
         "-99.3373",
         "33.4068",
         "9029.7",
         "219.29"
        ],
        [
         "NORTH_AMERICA",
         1761449720,
         "aca941",
         "N915AC  ",
         "United States",
         "-81.4341",
         "28.4073",
         "167.64",
         "67.44"
        ],
        [
         "NORTH_AMERICA",
         1761449720,
         "a24573",
         "UAL2117 ",
         "United States",
         "-105.9949",
         "42.0369",
         "11285.22",
         "248.51"
        ],
        [
         "NORTH_AMERICA",
         1761449720,
         "ab399c",
         "N822PP  ",
         "United States",
         "-71.0281",
         "42.216",
         "213.36",
         "20.38"
        ],
        [
         "NORTH_AMERICA",
         1761449720,
         "ac8ce5",
         "AAL3245 ",
         "United States",
         "-111.6101",
         "33.7724",
         "3962.4",
         "151.98"
        ],
        [
         "NORTH_AMERICA",
         1761449720,
         "aca94b",
         "AAL1236 ",
         "United States",
         "-76.8781",
         "42.8444",
         "3733.8",
         "177.98"
        ],
        [
         "NORTH_AMERICA",
         1761449720,
         "a90bb9",
         "N682MA  ",
         "United States",
         "-75.2731",
         "38.4182",
         "1546.86",
         "49.24"
        ],
        [
         "NORTH_AMERICA",
         1761449720,
         "ac8d5c",
         "SKW452Z ",
         "United States",
         "-100.2962",
         "44.3834",
         null,
         "0.9"
        ],
        [
         "NORTH_AMERICA",
         1761449720,
         "a61592",
         "UAL2275 ",
         "United States",
         "-82.1354",
         "35.4821",
         "10965.18",
         "206.22"
        ],
        [
         "NORTH_AMERICA",
         1761449720,
         "a35283",
         "FFT1727 ",
         "United States",
         "-91.5324",
         "34.735",
         "10980.42",
         "222.86"
        ],
        [
         "NORTH_AMERICA",
         1761449720,
         "a3a27a",
         "ENY4262 ",
         "United States",
         "-93.3717",
         "34.7335",
         "10058.4",
         "233.27"
        ],
        [
         "NORTH_AMERICA",
         1761449720,
         "a017a8",
         "DAL896  ",
         "United States",
         "-97.9336",
         "37.6779",
         "9738.36",
         "246.06"
        ],
        [
         "NORTH_AMERICA",
         1761449720,
         "ac7a52",
         "AAL844  ",
         "United States",
         "-86.6986",
         "31.8734",
         "10683.24",
         "242.27"
        ],
        [
         "NORTH_AMERICA",
         1761449720,
         "a9c506",
         "ASA397  ",
         "United States",
         "-110.5773",
         "32.4317",
         "10972.8",
         "227.68"
        ],
        [
         "NORTH_AMERICA",
         1761449720,
         "ac7a5b",
         "ASA529  ",
         "United States",
         "-119.0188",
         "35.2476",
         "8900.16",
         "217.35"
        ],
        [
         "NORTH_AMERICA",
         1761449720,
         "ac7a61",
         "KYE4874 ",
         "United States",
         "-127.1043",
         "44.0977",
         "10668",
         "279.99"
        ],
        [
         "NORTH_AMERICA",
         1761449720,
         "c05840",
         "ACA327  ",
         "Canada",
         "-103.565",
         "50.5024",
         "12192",
         "220.55"
        ],
        [
         "NORTH_AMERICA",
         1761449720,
         "aa064d",
         "NDU745  ",
         "United States",
         "-111.6646",
         "33.1862",
         "1043.94",
         "39.63"
        ],
        [
         "NORTH_AMERICA",
         1761449720,
         "c0583a",
         "ACA808  ",
         "Canada",
         "-65.754",
         "47.497",
         "10668",
         "257.72"
        ],
        [
         "NORTH_AMERICA",
         1761449720,
         "adea26",
         "AAL494  ",
         "United States",
         "-79.0413",
         "35.6901",
         "1341.12",
         "90.7"
        ],
        [
         "NORTH_AMERICA",
         1761449720,
         "a86861",
         "N64056  ",
         "United States",
         "-111.6164",
         "33.3089",
         "784.86",
         "42.64"
        ],
        [
         "NORTH_AMERICA",
         1761449720,
         "c03210",
         "ASP844  ",
         "Canada",
         "-79.6507",
         "43.6874",
         null,
         "9.77"
        ],
        [
         "NORTH_AMERICA",
         1761449720,
         "a9b0ed",
         "RPA3585 ",
         "United States",
         "-74.1721",
         "40.6808",
         "-106.68",
         "69.49"
        ],
        [
         "NORTH_AMERICA",
         1761449720,
         "c030fd",
         "ACA792  ",
         "Canada",
         "-82.2804",
         "42.7685",
         "10035.54",
         "269.41"
        ],
        [
         "NORTH_AMERICA",
         1761449720,
         "a39a13",
         "FFT3311 ",
         "United States",
         "-98.3284",
         "36.5574",
         "10980.42",
         "230.77"
        ],
        [
         "NORTH_AMERICA",
         1761449720,
         "a3ea15",
         "N351SA  ",
         "United States",
         "-142.11",
         "59.3314",
         "6400.8",
         "130.88"
        ],
        [
         "NORTH_AMERICA",
         1761449720,
         "a3b4d6",
         "AAL1273 ",
         "United States",
         "-100.7765",
         "34.0332",
         "10363.2",
         "218.13"
        ],
        [
         "NORTH_AMERICA",
         1761449720,
         "ac57d2",
         "SWA265  ",
         "United States",
         "-114.2727",
         "33.7598",
         "7924.8",
         "237.16"
        ],
        [
         "NORTH_AMERICA",
         1761449720,
         "a5e295",
         "AMX198  ",
         "United States",
         "-111.0041",
         "29.7564",
         "10972.8",
         "221.38"
        ],
        [
         "NORTH_AMERICA",
         1761449720,
         "acdd18",
         "NKS797  ",
         "United States",
         "-83.322",
         "42.391",
         "1043.94",
         "113.51"
        ],
        [
         "NORTH_AMERICA",
         1761449720,
         "ab11c9",
         "FOX1    ",
         "United States",
         "-111.3804",
         "33.6226",
         "1226.82",
         "64.11"
        ],
        [
         "NORTH_AMERICA",
         1761449720,
         "a5e29a",
         "ASA141  ",
         "United States",
         "-114.0403",
         "42.5569",
         "10363.2",
         "233.49"
        ],
        [
         "NORTH_AMERICA",
         1761449720,
         "a1bd6a",
         "MXY819  ",
         "United States",
         "-81.2814",
         "30.7036",
         "9144",
         "228.93"
        ],
        [
         "NORTH_AMERICA",
         1761449720,
         "a76a3a",
         "UPS109  ",
         "United States",
         "-86.9066",
         "39.0232",
         "6339.84",
         "233.18"
        ],
        [
         "NORTH_AMERICA",
         1761449720,
         "a471ec",
         "DAL2077 ",
         "United States",
         "-83.3114",
         "28.9091",
         "6301.74",
         "233.5"
        ],
        [
         "NORTH_AMERICA",
         1761449720,
         "abbbae",
         "UAL1563 ",
         "United States",
         "-111.3726",
         "32.9684",
         "10363.2",
         "224.55"
        ],
        [
         "NORTH_AMERICA",
         1761449720,
         "a734e0",
         "N5633R  ",
         "United States",
         "-112.0619",
         "41.5474",
         "1417.32",
         "51.96"
        ],
        [
         "NORTH_AMERICA",
         1761449720,
         "c043b7",
         "ACA158  ",
         "Canada",
         "-85.3107",
         "46.9807",
         "11879.58",
         "242.04"
        ],
        [
         "NORTH_AMERICA",
         1761449720,
         "a52a99",
         "AAL2529 ",
         "United States",
         "-115.1357",
         "36.08",
         null,
         "0"
        ],
        [
         "NORTH_AMERICA",
         1761449720,
         "a27a94",
         "SKW3825 ",
         "United States",
         "-96.9664",
         "46.6268",
         "10363.2",
         "225.6"
        ],
        [
         "NORTH_AMERICA",
         1761449720,
         "c056c2",
         "NRL819  ",
         "Canada",
         "-74.0212",
         "45.6708",
         null,
         "5.14"
        ],
        [
         "NORTH_AMERICA",
         1761449720,
         "acdbec",
         "ASA331  ",
         "United States",
         "-121.9632",
         "37.4468",
         "1226.82",
         "117.15"
        ],
        [
         "NORTH_AMERICA",
         1761449720,
         "ad6595",
         "SWA2122 ",
         "United States",
         "-122.2141",
         "37.7107",
         null,
         "1.29"
        ],
        [
         "NORTH_AMERICA",
         1761449720,
         "acdbef",
         "AAL1427 ",
         "United States",
         "-90.7542",
         "27.4172",
         "10965.18",
         "205.94"
        ],
        [
         "NORTH_AMERICA",
         1761449720,
         "a0afca",
         "N143WA  ",
         "United States",
         "-148.795",
         "65.2554",
         "2202.18",
         "84.8"
        ],
        [
         "NORTH_AMERICA",
         1761449720,
         "a3a1f3",
         "N333LE  ",
         "United States",
         "-87.3089",
         "30.4728",
         "22.86",
         "17.83"
        ],
        [
         "NORTH_AMERICA",
         1761449720,
         "a43ea6",
         "UAL1928 ",
         "United States",
         "-110.7003",
         "39.4037",
         "11277.6",
         "238.77"
        ],
        [
         "NORTH_AMERICA",
         1761449720,
         "abba93",
         "GTI8052 ",
         "United States",
         "-73.2451",
         "21.9068",
         "10058.4",
         "272.73"
        ],
        [
         "NORTH_AMERICA",
         1761449720,
         "a2551a",
         "UAL760  ",
         "United States",
         "-104.3909",
         "40.1631",
         "4442.46",
         "194.79"
        ],
        [
         "NORTH_AMERICA",
         1761449720,
         "ad8901",
         "SKW5047 ",
         "United States",
         "-107.8435",
         "39.0447",
         "9715.5",
         "196.87"
        ],
        [
         "NORTH_AMERICA",
         1761449720,
         "ab3628",
         "AIP1074 ",
         "United States",
         "-115.3183",
         "47.7309",
         "7345.68",
         "131.47"
        ],
        [
         "NORTH_AMERICA",
         1761449720,
         "a43ee5",
         "UAL742  ",
         "United States",
         "-107.1588",
         "33.6479",
         "10370.82",
         "241.11"
        ],
        [
         "NORTH_AMERICA",
         1761449720,
         "a25565",
         "N25CP   ",
         "United States",
         "-96.2084",
         "33.0422",
         "6606.54",
         "232.85"
        ],
        [
         "NORTH_AMERICA",
         1761449720,
         "ab8fcb",
         "AAL98   ",
         "United States",
         "-85.8334",
         "42.2227",
         "8755.38",
         "276.42"
        ],
        [
         "NORTH_AMERICA",
         1761449720,
         "a9d3a9",
         "NDU732  ",
         "United States",
         "-111.3363",
         "32.5868",
         "1409.7",
         "55.8"
        ],
        [
         "NORTH_AMERICA",
         1761449720,
         "ab3639",
         "SCX506  ",
         "United States",
         "-95.2566",
         "40.1511",
         "12496.8",
         "221.47"
        ],
        [
         "NORTH_AMERICA",
         1761449720,
         "a8fc2e",
         "UAL484  ",
         "United States",
         "-104.7526",
         "39.366",
         "6278.88",
         "199.84"
        ],
        [
         "NORTH_AMERICA",
         1761449720,
         "a2b866",
         "N2745G  ",
         "United States",
         "-97.244",
         "44.19",
         "1767.84",
         "85.08"
        ],
        [
         "NORTH_AMERICA",
         1761449720,
         "a7ef4b",
         "FFT2996 ",
         "United States",
         "-98.9815",
         "31.7003",
         "11285.22",
         "244.4"
        ],
        [
         "NORTH_AMERICA",
         1761449720,
         "a3b0fe",
         "DAL2423 ",
         "United States",
         "-90.0428",
         "34.398",
         "11582.4",
         "212.37"
        ],
        [
         "NORTH_AMERICA",
         1761449720,
         "a36200",
         "DAL1049 ",
         "United States",
         "-118.4772",
         "33.9415",
         "647.7",
         "108.74"
        ],
        [
         "NORTH_AMERICA",
         1761449720,
         "a17bd2",
         "ASI963  ",
         "United States",
         "-111.2186",
         "32.3638",
         "2286",
         "61.2"
        ],
        [
         "NORTH_AMERICA",
         1761449720,
         "acffb4",
         "ASA1421 ",
         "United States",
         "-120.3987",
         "45.1356",
         "10340.34",
         "199.37"
        ],
        [
         "NORTH_AMERICA",
         1761449720,
         "ac9cb1",
         "N911ZR  ",
         "United States",
         "-87.6775",
         "41.7906",
         "312.42",
         "38.19"
        ],
        [
         "NORTH_AMERICA",
         1761449720,
         "71c560",
         "TWB532  ",
         "Republic of Korea",
         "-154.7504",
         "59.0153",
         "11582.4",
         "234.36"
        ],
        [
         "NORTH_AMERICA",
         1761449720,
         "a98515",
         "SKW4058 ",
         "United States",
         "-91.5084",
         "32.852",
         "9883.14",
         "190.69"
        ],
        [
         "NORTH_AMERICA",
         1761449720,
         "adb29f",
         "AAL1173 ",
         "United States",
         "-81.9986",
         "39.6885",
         "10408.92",
         "223.1"
        ],
        [
         "NORTH_AMERICA",
         1761449720,
         "a62577",
         "N4953L  ",
         "United States",
         "-78.6283",
         "34.567",
         "327.66",
         "53.2"
        ],
        [
         "NORTH_AMERICA",
         1761449720,
         "a1226e",
         "AAL2003 ",
         "United States",
         "-113.5616",
         "43.2441",
         "10363.2",
         "211.79"
        ],
        [
         "NORTH_AMERICA",
         1761449720,
         "a8785b",
         "FFT4928 ",
         "United States",
         "-104.6648",
         "39.8558",
         null,
         "0.9"
        ],
        [
         "NORTH_AMERICA",
         1761449720,
         "a2ebbd",
         "ASA632  ",
         "United States",
         "-113.3316",
         "37.6566",
         "11277.6",
         "239.29"
        ],
        [
         "NORTH_AMERICA",
         1761449720,
         "aced21",
         "ASA1269 ",
         "United States",
         "-121.2516",
         "45.4796",
         "5372.1",
         "160.52"
        ],
        [
         "NORTH_AMERICA",
         1761449720,
         "ad0d3c",
         "GLG7396 ",
         "United States",
         "-76.2657",
         "36.1476",
         "11277.6",
         "234.83"
        ],
        [
         "NORTH_AMERICA",
         1761449720,
         "abba43",
         "DAL2640 ",
         "United States",
         "-122.311",
         "47.4462",
         null,
         "10.8"
        ],
        [
         "NORTH_AMERICA",
         1761449720,
         "aa0300",
         "SKW4961 ",
         "United States",
         "-97.1486",
         "33.6314",
         "7604.76",
         "211.47"
        ],
        [
         "NORTH_AMERICA",
         1761449720,
         "aa6fca",
         "SWA1848 ",
         "United States",
         "-117.0572",
         "34.2941",
         "9448.8",
         "246.98"
        ],
        [
         "NORTH_AMERICA",
         1761449720,
         "a55ed5",
         "SKW5824 ",
         "United States",
         "-97.9727",
         "40.8014",
         "6789.42",
         "216.08"
        ],
        [
         "NORTH_AMERICA",
         1761449720,
         "a3c549",
         "FFT3097 ",
         "United States",
         "-94.6647",
         "33.9596",
         "8534.4",
         "220.43"
        ],
        [
         "NORTH_AMERICA",
         1761449720,
         "aaad8f",
         "SWA2443 ",
         "United States",
         "-116.1934",
         "34.9316",
         "7437.12",
         "197.46"
        ],
        [
         "NORTH_AMERICA",
         1761449720,
         "a4e538",
         "RPA4573 ",
         "United States",
         "-77.1317",
         "36.8506",
         "7010.4",
         "186.16"
        ],
        [
         "NORTH_AMERICA",
         1761449720,
         "a3d890",
         "DAL436  ",
         "United States",
         "-86.4681",
         "34.4212",
         "8648.7",
         "238.67"
        ],
        [
         "NORTH_AMERICA",
         1761449720,
         "ac8a66",
         "AAL2628 ",
         "United States",
         "-97.1963",
         "36.1834",
         "11582.4",
         "240.59"
        ],
        [
         "NORTH_AMERICA",
         1761449720,
         "acda2c",
         "SWA3995 ",
         "United States",
         "-110.8427",
         "35.136",
         "10972.8",
         "216.77"
        ],
        [
         "NORTH_AMERICA",
         1761449720,
         "ac41f3",
         "SWA2435 ",
         "United States",
         "-121.9264",
         "37.366",
         null,
         "0"
        ],
        [
         "NORTH_AMERICA",
         1761449720,
         "a36279",
         "SKW135K ",
         "United States",
         "-95.0549",
         "48.355",
         "10363.2",
         "222.37"
        ],
        [
         "NORTH_AMERICA",
         1761449720,
         "ac4279",
         "SWA3039 ",
         "United States",
         "-122.671",
         "42.9646",
         "10363.2",
         "219.42"
        ],
        [
         "NORTH_AMERICA",
         1761449720,
         "a001af",
         "N1TD    ",
         "United States",
         "-98.1063",
         "43.1491",
         "6888.48",
         "229.15"
        ],
        [
         "NORTH_AMERICA",
         1761449720,
         "aca594",
         "AAL708  ",
         "United States",
         "-97.032",
         "32.8878",
         null,
         "0"
        ],
        [
         "NORTH_AMERICA",
         1761449720,
         "a134d5",
         "SKW3292 ",
         "United States",
         "-97.6749",
         "30.0472",
         "868.68",
         "108.06"
        ],
        [
         "NORTH_AMERICA",
         1761449720,
         "06a1ea",
         "QTR86W  ",
         "Qatar",
         "-73.5284",
         "46.8563",
         "10363.2",
         "239.23"
        ],
        [
         "NORTH_AMERICA",
         1761449720,
         "ab34a7",
         "AAL899  ",
         "United States",
         "-100.637",
         "40.1854",
         "10668",
         "227.42"
        ],
        [
         "NORTH_AMERICA",
         1761449720,
         "a2b7cd",
         "UAL8148 ",
         "United States",
         "-108.7334",
         "37.3979",
         "10363.2",
         "222.7"
        ],
        [
         "NORTH_AMERICA",
         1761449720,
         "a387f0",
         "JBU1318 ",
         "United States",
         "-71.8448",
         "41.602",
         "5135.88",
         "214.27"
        ],
        [
         "NORTH_AMERICA",
         1761449720,
         "a1ba23",
         "AIP513  ",
         "United States",
         "-116.9896",
         "46.2799",
         "7642.86",
         "116.55"
        ],
        [
         "NORTH_AMERICA",
         1761449720,
         "407af2",
         "BAW51B  ",
         "United Kingdom",
         "-64.076",
         "47.3453",
         "11887.2",
         "267.04"
        ],
        [
         "NORTH_AMERICA",
         1761449720,
         "a6bbef",
         "DAL604  ",
         "United States",
         "-122.3175",
         "47.4996",
         "472.44",
         "57.62"
        ],
        [
         "NORTH_AMERICA",
         1761449720,
         "a254d8",
         "UAL101  ",
         "United States",
         "-101.5345",
         "30.5688",
         "10363.2",
         "220.88"
        ],
        [
         "NORTH_AMERICA",
         1761449720,
         "a254d7",
         "UAL188  ",
         "United States",
         "-74.1773",
         "40.6981",
         null,
         "1.29"
        ],
        [
         "NORTH_AMERICA",
         1761449720,
         "a877d2",
         "N645AD  ",
         "United States",
         "-75.4763",
         "40.3977",
         "1097.28",
         "85.07"
        ],
        [
         "NORTH_AMERICA",
         1761449720,
         "a361f1",
         "PRD3    ",
         "United States",
         "-78.2079",
         "30.5682",
         "12496.8",
         "221.82"
        ],
        [
         "NORTH_AMERICA",
         1761449720,
         "ab486e",
         "N826PD  ",
         "United States",
         "-117.8628",
         "33.8416",
         "289.56",
         "33.85"
        ],
        [
         "NORTH_AMERICA",
         1761449720,
         "a2da60",
         "AAY692  ",
         "United States",
         "-111.6683",
         "33.3067",
         null,
         "0.06"
        ],
        [
         "NORTH_AMERICA",
         1761449720,
         "ad8836",
         "JBU2637 ",
         "United States",
         "-73.8144",
         "39.2145",
         "9669.78",
         "232.54"
        ],
        [
         "NORTH_AMERICA",
         1761449720,
         "aa4a1b",
         "N762MT  ",
         "United States",
         "-87.1534",
         "30.5526",
         "335.28",
         "53.82"
        ],
        [
         "NORTH_AMERICA",
         1761449720,
         "c066b6",
         "WJA463  ",
         "Canada",
         "-114.0126",
         "51.1315",
         null,
         "0"
        ],
        [
         "NORTH_AMERICA",
         1761449720,
         "a78d73",
         "DAL2940 ",
         "United States",
         "-84.111",
         "35.4864",
         "9677.4",
         "249.3"
        ],
        [
         "NORTH_AMERICA",
         1761449720,
         "4cc510",
         "",
         "Iceland",
         "-117.2395",
         "53.8281",
         "11277.6",
         "255.19"
        ],
        [
         "NORTH_AMERICA",
         1761449720,
         "adc532",
         "AAL3307 ",
         "United States",
         "-107.4144",
         "44.4814",
         "11582.4",
         "234.33"
        ],
        [
         "NORTH_AMERICA",
         1761449720,
         "a9d59f",
         "",
         "United States",
         "-118.4163",
         "33.9371",
         null,
         "7.72"
        ],
        [
         "NORTH_AMERICA",
         1761449720,
         "adc531",
         "AAL1323 ",
         "United States",
         "-108.0848",
         "36.8559",
         "10370.82",
         "217.72"
        ],
        [
         "NORTH_AMERICA",
         1761449720,
         "aa5d23",
         "SKW4653 ",
         "United States",
         "-84.1503",
         "43.4831",
         "457.2",
         "65.12"
        ],
        [
         "NORTH_AMERICA",
         1761449720,
         "4cc581",
         "ICE680  ",
         "Iceland",
         "-64.489",
         "68.0525",
         "10675.62",
         "240.8"
        ],
        [
         "NORTH_AMERICA",
         1761449720,
         "a481fd",
         "REH043  ",
         "United States",
         "-117.2544",
         "34.3203",
         "1859.28",
         "66.91"
        ],
        [
         "NORTH_AMERICA",
         1761449720,
         "a757ae",
         "AAL3333 ",
         "United States",
         "-95.6511",
         "35.366",
         "8534.4",
         "247.14"
        ],
        [
         "NORTH_AMERICA",
         1761449720,
         "4cc578",
         "ICE12E  ",
         "Iceland",
         "-117.602",
         "51.8863",
         "10066.02",
         "265.36"
        ],
        [
         "NORTH_AMERICA",
         1761449720,
         "c079a6",
         "TSC815  ",
         "Canada",
         "-74.6486",
         "41.629",
         "12496.8",
         "240.95"
        ],
        [
         "NORTH_AMERICA",
         1761449720,
         "4cc57a",
         "ICE604  ",
         "Iceland",
         "-79.6636",
         "43.6739",
         null,
         "5.14"
        ],
        [
         "NORTH_AMERICA",
         1761449720,
         "c066b0",
         "WJA2711 ",
         "Canada",
         "-80.0758",
         "38.9574",
         "11277.6",
         "233.26"
        ],
        [
         "NORTH_AMERICA",
         1761449720,
         "ac9bef",
         "CMD70   ",
         "United States",
         "-123.0718",
         "40.4518",
         "5486.4",
         "104.01"
        ],
        [
         "NORTH_AMERICA",
         1761449720,
         "4cc573",
         "ICE686  ",
         "Iceland",
         "-76.8475",
         "37.7189",
         "10668",
         "259.13"
        ],
        [
         "NORTH_AMERICA",
         1761449720,
         "a9727f",
         "N708CG  ",
         "United States",
         "-86.821",
         "36.9263",
         "2278.38",
         "118.59"
        ],
        [
         "NORTH_AMERICA",
         1761449720,
         "4cc570",
         "ICE11P  ",
         "Iceland",
         "-120.8312",
         "48.8791",
         "10690.86",
         "219.86"
        ],
        [
         "NORTH_AMERICA",
         1761449720,
         "acb892",
         "SKW362G ",
         "United States",
         "-103.1357",
         "45.6119",
         "7132.32",
         "233.11"
        ],
        [
         "NORTH_AMERICA",
         1761449720,
         "a37630",
         "EPI322  ",
         "United States",
         "-81.1351",
         "29.1499",
         "289.56",
         "34.05"
        ],
        [
         "NORTH_AMERICA",
         1761449720,
         "a0acbb",
         "UAL2168 ",
         "United States",
         "-77.4544",
         "41.1282",
         "10058.4",
         "301.17"
        ],
        [
         "NORTH_AMERICA",
         1761449720,
         "a05cf3",
         "AAL2839 ",
         "United States",
         "-77.0432",
         "38.8554",
         null,
         "0.19"
        ],
        [
         "NORTH_AMERICA",
         1761449720,
         "a9d4da",
         "N7320J  ",
         "United States",
         "-118.6208",
         "34.1589",
         "1371.6",
         "44.83"
        ],
        [
         "NORTH_AMERICA",
         1761449720,
         "a3c60d",
         "AAL2188 ",
         "United States",
         "-75.2212",
         "38.6692",
         "7840.98",
         "244.24"
        ],
        [
         "NORTH_AMERICA",
         1761449720,
         "c03064",
         "ACA363  ",
         "Canada",
         "-115.6897",
         "50.7498",
         "10972.8",
         "224.38"
        ],
        [
         "NORTH_AMERICA",
         1761449720,
         "a37616",
         "DAL1251 ",
         "United States",
         "-97.8418",
         "35.0418",
         "10355.58",
         "220.91"
        ],
        [
         "NORTH_AMERICA",
         1761449720,
         "a87904",
         "NKS1810 ",
         "United States",
         "-97.0322",
         "32.8716",
         null,
         "6.94"
        ],
        [
         "NORTH_AMERICA",
         1761449720,
         "a3c649",
         "AAL2799 ",
         "United States",
         "-79.7709",
         "35.5477",
         "6781.8",
         "255.48"
        ],
        [
         "NORTH_AMERICA",
         1761449720,
         "06a12a",
         "QTR5K   ",
         "Qatar",
         "-68.3312",
         "46.9343",
         "10668",
         "272.88"
        ],
        [
         "NORTH_AMERICA",
         1761449720,
         "c0307a",
         "ACA226  ",
         "Canada",
         "-114.0117",
         "51.1281",
         null,
         "6.69"
        ],
        [
         "NORTH_AMERICA",
         1761449720,
         "c0307c",
         "ACA337  ",
         "Canada",
         "-113.2461",
         "53.2186",
         "4091.94",
         "149.92"
        ],
        [
         "NORTH_AMERICA",
         1761449720,
         "a13650",
         "UAL303  ",
         "United States",
         "-106.277",
         "41.9344",
         "9144",
         "220.41"
        ],
        [
         "NORTH_AMERICA",
         1761449720,
         "406a9d",
         "BAW9EW  ",
         "United Kingdom",
         "-62.4513",
         "49.7552",
         "11887.2",
         "265.25"
        ],
        [
         "NORTH_AMERICA",
         1761449720,
         "a3899d",
         "ENY3937 ",
         "United States",
         "-101.5679",
         "37.9418",
         "10363.2",
         "221.86"
        ],
        [
         "NORTH_AMERICA",
         1761449720,
         "a3d90a",
         "AAL2897 ",
         "United States",
         "-77.1054",
         "38.5056",
         "1943.1",
         "105.79"
        ],
        [
         "NORTH_AMERICA",
         1761449720,
         "a997e5",
         "AAL3106 ",
         "United States",
         "-96.6362",
         "32.8789",
         "3954.78",
         "210.12"
        ],
        [
         "NORTH_AMERICA",
         1761449720,
         "a8b4c6",
         "FFT1784 ",
         "United States",
         "-95.1058",
         "38.554",
         "11871.96",
         "219.94"
        ],
        [
         "NORTH_AMERICA",
         1761449720,
         "a851c3",
         "QXE2269 ",
         "United States",
         "-121.7208",
         "45.5299",
         "3078.48",
         "105.07"
        ],
        [
         "NORTH_AMERICA",
         1761449720,
         "a80ff0",
         "N6188K  ",
         "United States",
         "-101.5733",
         "33.4324",
         "1432.56",
         "39.53"
        ],
        [
         "NORTH_AMERICA",
         1761449720,
         "a5902a",
         "N458DL  ",
         "United States",
         "-107.0116",
         "35.0145",
         "4815.84",
         "119.25"
        ],
        [
         "NORTH_AMERICA",
         1761449720,
         "a2ecec",
         "ENY3702 ",
         "United States",
         "-99.4624",
         "28.732",
         "5394.96",
         "207.32"
        ],
        [
         "NORTH_AMERICA",
         1761449720,
         "ad88ef",
         "N971SC  ",
         "United States",
         "-121.8047",
         "39.7048",
         "929.64",
         "110.17"
        ],
        [
         "NORTH_AMERICA",
         1761449720,
         "a1239d",
         "UAL1076 ",
         "United States",
         "-71.0131",
         "42.3638",
         null,
         "6.43"
        ],
        [
         "NORTH_AMERICA",
         1761449720,
         "aca5e5",
         "DAL3022 ",
         "United States",
         "-86.6757",
         "34.715",
         "1143",
         "108.62"
        ],
        [
         "NORTH_AMERICA",
         1761449720,
         "ad62c9",
         "N9614H  ",
         "United States",
         "-104.6468",
         "40.4474",
         "1706.88",
         "52.18"
        ],
        [
         "NORTH_AMERICA",
         1761449720,
         "a89a9f",
         "N65329  ",
         "United States",
         "-76.9678",
         "39.5107",
         "792.48",
         "50.11"
        ],
        [
         "NORTH_AMERICA",
         1761449720,
         "a87942",
         "QXE2063 ",
         "United States",
         "-123.3325",
         "44.6201",
         "10668",
         "220.75"
        ],
        [
         "NORTH_AMERICA",
         1761449720,
         "a54cf9",
         "OXF1010 ",
         "United States",
         "-110.9317",
         "32.0557",
         "982.98",
         "51.26"
        ],
        [
         "NORTH_AMERICA",
         1761449720,
         "ad504d",
         "SKW475F ",
         "United States",
         "-104.6643",
         "40.7422",
         "3627.12",
         "156.36"
        ],
        [
         "NORTH_AMERICA",
         1761449720,
         "a002cb",
         "N10EM   ",
         "United States",
         "-81.466",
         "25.7776",
         "7559.04",
         "149.43"
        ],
        [
         "NORTH_AMERICA",
         1761449720,
         "a9737c",
         "NKS2    ",
         "United States",
         "-84.824",
         "37.5491",
         "10957.56",
         "236.09"
        ],
        [
         "NORTH_AMERICA",
         1761449720,
         "a242a4",
         "",
         "United States",
         "-120.0148",
         "37.074",
         "1798.32",
         "68.32"
        ],
        [
         "NORTH_AMERICA",
         1761449720,
         "ad639e",
         "ASA167  ",
         "United States",
         "-129.5521",
         "54.1571",
         "10363.2",
         "241.61"
        ],
        [
         "NORTH_AMERICA",
         1761449720,
         "c041bc",
         "ROU1647 ",
         "Canada",
         "-81.3575",
         "29.8518",
         "10675.62",
         "236.43"
        ]
       ],
       "datasetInfos": [],
       "dbfsResultPath": null,
       "isJsonSchema": true,
       "metadata": {},
       "overflow": true,
       "plotOptions": {
        "customPlotOptions": {},
        "displayType": "table",
        "pivotAggregation": null,
        "pivotColumns": null,
        "xColumns": null,
        "yColumns": null
       },
       "removedWidgets": [],
       "schema": [
        {
         "metadata": "{}",
         "name": "region",
         "type": "\"string\""
        },
        {
         "metadata": "{}",
         "name": "time",
         "type": "\"long\""
        },
        {
         "metadata": "{}",
         "name": "icao24",
         "type": "\"string\""
        },
        {
         "metadata": "{}",
         "name": "callsign",
         "type": "\"string\""
        },
        {
         "metadata": "{}",
         "name": "origin_country",
         "type": "\"string\""
        },
        {
         "metadata": "{}",
         "name": "longitude",
         "type": "\"string\""
        },
        {
         "metadata": "{}",
         "name": "latitude",
         "type": "\"string\""
        },
        {
         "metadata": "{}",
         "name": "geo_altitude",
         "type": "\"string\""
        },
        {
         "metadata": "{}",
         "name": "velocity",
         "type": "\"string\""
        }
       ],
       "type": "table"
      }
     },
     "output_type": "display_data"
    }
   ],
   "source": [
    "# Register REST data source\n",
    "spark.dataSource.register(RestDataSource)\n",
    "\n",
    "# Choose region\n",
    "region = \"NORTH_AMERICA\"\n",
    "bbox = regions[region]\n",
    "\n",
    "# Create input DataFrame\n",
    "input_df = spark.createDataFrame([{\"region\": region, **bbox}])\n",
    "input_json = json.dumps([{\"region\": region, **bbox}])\n",
    "\n",
    "print(f\"Setting up streaming for region: {region}\")\n",
    "print(f\"Bounding box: {bbox}\\n\")\n",
    "\n",
    "# Configure streaming\n",
    "# IMPORTANT: Set dataField=\"\" to return the whole response as JSON string\n",
    "url = \"https://opensky-network.org/api/states/all?lamin={lamin}&lamax={lamax}&lomin={lomin}&lomax={lomax}\"\n",
    "\n",
    "print(\"Creating streaming DataFrame...\")\n",
    "stream_df = spark.readStream.format(\"rest\") \\\n",
    "    .option(\"url\", url) \\\n",
    "    .option(\"method\", \"GET\") \\\n",
    "    .option(\"streaming\", \"true\") \\\n",
    "    .option(\"inputData\", input_json) \\\n",
    "    .option(\"queryType\", \"querystring\") \\\n",
    "    .option(\"streamingInterval\", \"10\") \\\n",
    "    .option(\"offsetType\", \"timestamp\") \\\n",
    "    .option(\"offsetField\", \"time\") \\\n",
    "    .option(\"initialOffset\", \"0\") \\\n",
    "    .option(\"dataField\", \"\") \\\n",
    "    .load()\n",
    "\n",
    "print(f\"✓ Stream DataFrame created\")\n",
    "print(f\"Schema: {stream_df.schema}\\n\")\n",
    "\n",
    "# Parse array response using helper function\n",
    "print(\"Parsing array response using parse_array_response_streaming...\")\n",
    "flights = parse_array_response_streaming(\n",
    "    stream_df, \n",
    "    array_path=\"states\", \n",
    "    column_names=column_names, \n",
    "    timestamp_field=\"time\"\n",
    ")\n",
    "\n",
    "print(f\"✓ Flights DataFrame created\")\n",
    "print(f\"Schema: {flights.schema}\\n\")\n",
    "\n",
    "# Select columns to display\n",
    "flights_display = flights.select(\n",
    "    \"region\", \"time\", \"icao24\", \"callsign\", \"origin_country\", \n",
    "    \"longitude\", \"latitude\", \"geo_altitude\", \"velocity\"\n",
    ")\n",
    "\n",
    "print(\"Starting streaming query...\")\n",
    "print(\"Polling every 10 seconds. Use 'Stop' button to stop.\\n\")\n",
    "\n",
    "# Start streaming\n",
    "display(flights_display, streamName=\"opensky_flights\")"
   ]
  }
 ],
 "metadata": {
  "application/vnd.databricks.v1+notebook": {
   "computePreferences": null,
   "dashboards": [],
   "environmentMetadata": {
    "base_environment": "",
    "environment_version": "4"
   },
   "inputWidgetPreferences": null,
   "language": "python",
   "notebookMetadata": {
    "pythonIndentUnit": 4
   },
   "notebookName": "opensky demo",
   "widgets": {}
  },
  "language_info": {
   "name": "python"
  }
 },
 "nbformat": 4,
 "nbformat_minor": 0
}