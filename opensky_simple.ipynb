{
 "cells": [
  {
   "cell_type": "markdown",
   "metadata": {},
   "source": [
    "# OpenSky Network - Flight Tracker\n",
    "\n",
    "Fetch real-time flight data using REST data source.\n",
    "\n",
    "**Available Regions:**\n",
    "- `EUROPE`, `NORTH_AMERICA`, `SOUTH_AMERICA`, `ASIA`, `AUSTRALIA`, `AFRICA`, `GLOBAL`"
   ]
  },
  {
   "cell_type": "code",
   "execution_count": null,
   "metadata": {},
   "source": "# Setup\nfrom pyspark.sql import SparkSession\nfrom pyspark_datasources import rest_api_call, parse_array_response, parse_array_response_streaming, RestDataSource\nimport json\n\nspark = SparkSession.builder.appName(\"OpenSky\").master(\"local[*]\").getOrCreate()\n\n# Define regions (from opensky.py)\nregions = {\n    \"EUROPE\": {\"lamin\": 35.0, \"lamax\": 72.0, \"lomin\": -25.0, \"lomax\": 45.0},\n    \"NORTH_AMERICA\": {\"lamin\": 7.0, \"lamax\": 72.0, \"lomin\": -168.0, \"lomax\": -60.0},\n    \"SOUTH_AMERICA\": {\"lamin\": -56.0, \"lamax\": 15.0, \"lomin\": -90.0, \"lomax\": -30.0},\n    \"ASIA\": {\"lamin\": -10.0, \"lamax\": 82.0, \"lomin\": 45.0, \"lomax\": 180.0},\n    \"AUSTRALIA\": {\"lamin\": -50.0, \"lamax\": -10.0, \"lomin\": 110.0, \"lomax\": 180.0},\n    \"AFRICA\": {\"lamin\": -35.0, \"lamax\": 37.0, \"lomin\": -20.0, \"lomax\": 52.0},\n}\n\n# Column names for OpenSky flight arrays\ncolumn_names = [\n    \"icao24\", \"callsign\", \"origin_country\", \"time_position\", \"last_contact\",\n    \"longitude\", \"latitude\", \"geo_altitude\", \"on_ground\", \"velocity\",\n    \"true_track\", \"vertical_rate\", \"sensors\", \"baro_altitude\",\n    \"squawk\", \"spi\", \"category\"\n]\n\nprint(\"✓ Ready!\")",
   "outputs": []
  },
  {
   "cell_type": "markdown",
   "metadata": {},
   "source": [
    "## Batch Example - One-Time Fetch"
   ]
  },
  {
   "cell_type": "code",
   "execution_count": null,
   "metadata": {},
   "source": [
    "# Choose region\n",
    "region = \"NORTH_AMERICA\"\n",
    "bbox = regions[region]\n",
    "\n",
    "# Create input DataFrame\n",
    "input_df = spark.createDataFrame([{\"region\": region, **bbox}])\n",
    "input_df.show()\n",
    "\n",
    "# Fetch flights\n",
    "url = f\"https://opensky-network.org/api/states/all?lamin={{lamin}}&lamax={{lamax}}&lomin={{lomin}}&lomax={{lomax}}\"\n",
    "response = rest_api_call(input_df, url=url, method=\"GET\", queryType=\"querystring\", partitions=\"1\")\n",
    "\n",
    "# Parse to individual flights\n",
    "flights = parse_array_response(response, array_path=\"states\", column_names=column_names, timestamp_field=\"time\")\n",
    "\n",
    "print(f\"\\n✓ Found {flights.count()} flights\")\n",
    "flights.select(\"region\", \"time\", \"icao24\", \"callsign\", \"origin_country\", \"latitude\", \"longitude\").show(20)"
   ]
  },
  {
   "cell_type": "markdown",
   "metadata": {},
   "source": [
    "## Streaming Example - Continuous Monitoring\n",
    "\n",
    "Polls API every 10 seconds, shows individual flights, runs for 5 minutes."
   ]
  },
  {
   "cell_type": "code",
   "execution_count": null,
   "metadata": {},
   "source": "import time\n\n# Choose region\nregion = \"NORTH_AMERICA\"\nbbox = regions[region]\n\n# Create input DataFrame\ninput_df = spark.createDataFrame([{\"region\": region, **bbox}])\ninput_json = json.dumps(input_df.toPandas().to_dict(orient='records'))\n\n# Register data source\nspark.dataSource.register(RestDataSource)\n\n# Configure streaming\nurl = \"https://opensky-network.org/api/states/all?lamin={lamin}&lamax={lamax}&lomin={lomin}&lomax={lomax}\"\nstream_df = spark.readStream.format(\"rest\") \\\n    .option(\"url\", url) \\\n    .option(\"method\", \"GET\") \\\n    .option(\"streaming\", \"true\") \\\n    .option(\"inputData\", input_json) \\\n    .option(\"queryType\", \"querystring\") \\\n    .option(\"streamingInterval\", \"10\") \\\n    .option(\"offsetType\", \"timestamp\") \\\n    .option(\"offsetField\", \"time\") \\\n    .option(\"initialOffset\", \"0\") \\\n    .load()\n\n# Parse to individual flights using helper\nflights = parse_array_response_streaming(stream_df, array_path=\"states\", column_names=column_names, timestamp_field=\"time\")\n\n# Select columns to display\nflights_display = flights.select(\"region\", \"time\", \"icao24\", \"callsign\", \"origin_country\", \"latitude\", \"longitude\")\n\n# Start streaming\nquery = flights_display.writeStream.outputMode(\"append\").format(\"console\").option(\"numRows\", 20).start()\n\nprint(\"✓ Streaming... (5 minutes)\")\ntry:\n    time.sleep(300)\nexcept KeyboardInterrupt:\n    pass\n\nquery.stop()\nprint(\"✓ Stopped\")",
   "outputs": []
  }
 ],
 "metadata": {
  "kernelspec": {
   "display_name": "Python 3",
   "language": "python",
   "name": "python3"
  },
  "language_info": {
   "name": "python",
   "version": "3.10.0"
  }
 },
 "nbformat": 4,
 "nbformat_minor": 4
}